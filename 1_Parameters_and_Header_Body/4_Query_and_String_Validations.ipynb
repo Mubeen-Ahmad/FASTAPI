{
 "cells": [
  {
   "cell_type": "markdown",
   "id": "a1951dc5-b878-4c9e-93e9-8cf0691564ae",
   "metadata": {},
   "source": [
    "<h1 style=\"text-align:center; color:#005bbd; font-size:30px; font-family:Sans-serif; font-style: oblique; text-shadow: 0 0 3px white, 0 0 1px Black;\">Query and String Validations</h1>"
   ]
  },
  {
   "cell_type": "markdown",
   "id": "87b9379f-0ae3-4652-abae-203d66e7d50c",
   "metadata": {},
   "source": [
    "<div style=\"text-align:justify; color:black; font-size:20px; font-family:Sans-serif; font-style: oblique; text-shadow: 0 0 3px white, 0 0 1px black;\"><p>FastAPI aapko query parameters aur unki validation ke liye additional information declare karne ki facility deta hai<br><br>Annotated aur Query FastAPI mein advanced type hinting aur parameter validation ke liye use hote hain</p>\n",
    "</div>\n",
    "\n",
    "\n"
   ]
  },
  {
   "cell_type": "code",
   "execution_count": 61,
   "id": "46527daa-957f-4cf5-9140-5351d4a39e55",
   "metadata": {},
   "outputs": [],
   "source": [
    "from typing import Annotated\n",
    "from fastapi import FastAPI, Query\n",
    "\n",
    "import requests\n",
    "import uvicorn\n",
    "import nest_asyncio\n",
    "import json"
   ]
  },
  {
   "cell_type": "code",
   "execution_count": 1,
   "id": "bc9cede3-01c4-483f-9ea5-83733c5e84f6",
   "metadata": {},
   "outputs": [],
   "source": [
    "app = FastAPI()\n",
    "@app.get(\"/items/\")\n",
    "\n",
    "async def read_items(query_param: Annotated[str | None, Query(max_length=3)]):\n",
    "    return {\"query_param\": query_param}\n",
    "\n",
    "\n",
    "if __name__ == \"__main__\":\n",
    "    nest_asyncio.apply() \n",
    "    uvicorn.run(app,port=4444)"
   ]
  },
  {
   "cell_type": "code",
   "execution_count": 58,
   "id": "ab55a358-2a78-4397-a700-ed970e07440b",
   "metadata": {},
   "outputs": [
    {
     "data": {
      "text/plain": [
       "'{\"query_param\":\"123\"}'"
      ]
     },
     "execution_count": 58,
     "metadata": {},
     "output_type": "execute_result"
    }
   ],
   "source": [
    "req = requests.get('http://127.0.0.1:4444/items/?query_param=123')\n",
    "req.content.decode('utf-8')"
   ]
  },
  {
   "cell_type": "code",
   "execution_count": 59,
   "id": "ef96e8c2-4250-43cb-8f6a-3e90c1c09222",
   "metadata": {},
   "outputs": [
    {
     "data": {
      "text/plain": [
       "'{\"detail\":[{\"type\":\"string_too_long\",\"loc\":[\"query\",\"query_param\"],\"msg\":\"String should have at most 3 characters\",\"input\":\"1234\",\"ctx\":{\"max_length\":3},\"url\":\"https://errors.pydantic.dev/2.5/v/string_too_long\"}]}'"
      ]
     },
     "execution_count": 59,
     "metadata": {},
     "output_type": "execute_result"
    }
   ],
   "source": [
    "req = requests.get('http://127.0.0.1:4444/items/?query_param=1234')\n",
    "req.content.decode('utf-8')"
   ]
  },
  {
   "cell_type": "markdown",
   "id": "d6c4e5c8-52b0-4d85-a408-3730c07b5966",
   "metadata": {},
   "source": [
    "<!DOCTYPE html>\n",
    "<html lang=\"en\">\n",
    "<head>\n",
    "    <meta charset=\"UTF-8\">\n",
    "    <meta name=\"viewport\" content=\"width=device-width, initial-scale=1.0\">\n",
    "</head>\n",
    "<body style=\"font-family: Sans-serif;\">\n",
    "    <div style=\"color: green; font-size: 18px; font-style: oblique; text-shadow: 0 0 3px white, 0 0 1px black; border: 8px double black; padding: 20px;\">\n",
    "        <ul>\n",
    "            <h3><li><code>@app.get(\"/items/\")</code></li></h3>\n",
    "            <h4 style=\"color: red;\">Explanation: Yeh ek decorator hai jo define karta hai ke jab GET request <code>\"/items/\"</code> path par aayegi to kaunsa function call hoga.</h4>\n",
    "        </ul>\n",
    "        <hr style=\"margin: 20px 0;\">\n",
    "        <ul>\n",
    "            <h3><li><code>async def read_items(query_param: Annotated[str | None, Query(max_length=3)]):</code></li></h3>\n",
    "            <h4 style=\"color: red;\">Explanation: Yeh ek asynchronous function hai jo <code>\"/items/\"</code> path par GET request aane par call hota hai. Is function mein ek query parameter <code>query_param</code> define kiya gaya hai jo optional hai aur string type ka hai jiska maximum length 3 characters hai.</h4>\n",
    "        </ul>\n",
    "    <hr style=\"margin: 20px 0;\">\n",
    "        <ul>\n",
    "            <h3><li><code>return {\"query_param\": query_param}</code></li></h3>\n",
    "            <h4 style=\"color: red;\">Explanation: Yeh function query parameter ka value return karta hai ek JSON response ke roop mein.</h4>\n",
    "        </ul>\n",
    "        <hr style=\"margin: 20px 0;\">\n",
    "        <ul>\n",
    "            <h3><li><code>req = requests.get('http://127.0.0.1:4444/items/?query_param=123')</code></li></h3>\n",
    "            <h4 style=\"color: red;\">Explanation: Yeh HTTP GET request karta hai <code>http://127.0.0.1:4444/items/</code> endpoint par query parameter <code>query_param</code> ke value \"123\" ke saath. Response ko retrieve kar ke decode kiya jata hai UTF-8 encoding ke saath.</h4>\n",
    "        </ul>\n",
    "        <hr style=\"margin: 20px 0;\">\n",
    "        <ul>\n",
    "            <h3><li><code>req = requests.get('http://127.0.0.1:4444/items/?query_param=1234')</code></li></h3>\n",
    "            <h4 style=\"color: red;\">Explanation: Yeh HTTP GET request karta hai <code>http://127.0.0.1:4444/items/</code> endpoint par query parameter <code>query_param</code> ke value \"1234\" ke saath. Kyunki query parameter ki maximum length 3 characters hai, yeh request error throw karega. Response ko retrieve kar ke decode kiya jata hai UTF-8 encoding ke saath.</h4>\n",
    "        </ul>\n",
    "    </div>\n",
    "</body>\n",
    "</html>\n"
   ]
  }
 ],
 "metadata": {
  "kernelspec": {
   "display_name": "Python 3 (ipykernel)",
   "language": "python",
   "name": "python3"
  },
  "language_info": {
   "codemirror_mode": {
    "name": "ipython",
    "version": 3
   },
   "file_extension": ".py",
   "mimetype": "text/x-python",
   "name": "python",
   "nbconvert_exporter": "python",
   "pygments_lexer": "ipython3",
   "version": "3.12.1"
  }
 },
 "nbformat": 4,
 "nbformat_minor": 5
}
