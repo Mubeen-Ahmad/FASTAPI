{
 "cells": [
  {
   "cell_type": "markdown",
   "id": "a1951dc5-b878-4c9e-93e9-8cf0691564ae",
   "metadata": {},
   "source": [
    "<h1 style=\"text-align:center; color:#005bbd; font-size:30px; font-family:Sans-serif; font-style: oblique; text-shadow: 0 0 3px white, 0 0 1px Black;\">Query and String Validations</h1>"
   ]
  },
  {
   "cell_type": "markdown",
   "id": "87b9379f-0ae3-4652-abae-203d66e7d50c",
   "metadata": {},
   "source": [
    "<div style=\"text-align:justify; color:black; font-size:20px; font-family:Sans-serif; font-style: oblique; text-shadow: 0 0 3px white, 0 0 1px black;\"><p>FastAPI aapko query parameters aur unki validation ke liye additional information declare karne ki facility deta hai<br><br>Annotated aur Query FastAPI mein advanced type hinting aur parameter validation ke liye use hote hain</p>\n",
    "</div>\n",
    "\n",
    "\n"
   ]
  },
  {
   "cell_type": "code",
   "execution_count": 1,
   "id": "46527daa-957f-4cf5-9140-5351d4a39e55",
   "metadata": {},
   "outputs": [],
   "source": [
    "import json\n",
    "from typing import Annotated\n",
    "\n",
    "import nest_asyncio\n",
    "import requests\n",
    "import uvicorn\n",
    "from fastapi import FastAPI, Query"
   ]
  },
  {
   "cell_type": "code",
   "execution_count": 1,
   "id": "bc9cede3-01c4-483f-9ea5-83733c5e84f6",
   "metadata": {},
   "outputs": [],
   "source": [
    "app = FastAPI()\n",
    "\n",
    "\n",
    "@app.get(\"/items/\")\n",
    "async def read_items(query_param: Annotated[str | None, Query(max_length=3)]):\n",
    "    return {\"query_param\": query_param}\n",
    "\n",
    "\n",
    "if __name__ == \"__main__\":\n",
    "    nest_asyncio.apply()\n",
    "    uvicorn.run(app, port=4444)"
   ]
  },
  {
   "cell_type": "code",
   "execution_count": 58,
   "id": "ab55a358-2a78-4397-a700-ed970e07440b",
   "metadata": {},
   "outputs": [
    {
     "data": {
      "text/plain": [
       "'{\"query_param\":\"123\"}'"
      ]
     },
     "execution_count": 58,
     "metadata": {},
     "output_type": "execute_result"
    }
   ],
   "source": [
    "req = requests.get(\"http://127.0.0.1:4444/items/?query_param=123\")\n",
    "req.content.decode(\"utf-8\")"
   ]
  },
  {
   "cell_type": "code",
   "execution_count": 59,
   "id": "ef96e8c2-4250-43cb-8f6a-3e90c1c09222",
   "metadata": {},
   "outputs": [
    {
     "data": {
      "text/plain": [
       "'{\"detail\":[{\"type\":\"string_too_long\",\"loc\":[\"query\",\"query_param\"],\"msg\":\"String should have at most 3 characters\",\"input\":\"1234\",\"ctx\":{\"max_length\":3},\"url\":\"https://errors.pydantic.dev/2.5/v/string_too_long\"}]}'"
      ]
     },
     "execution_count": 59,
     "metadata": {},
     "output_type": "execute_result"
    }
   ],
   "source": [
    "req = requests.get(\"http://127.0.0.1:4444/items/?query_param=1234\")\n",
    "req.content.decode(\"utf-8\")"
   ]
  },
  {
   "cell_type": "markdown",
   "id": "d6c4e5c8-52b0-4d85-a408-3730c07b5966",
   "metadata": {},
   "source": [
    "<!DOCTYPE html>\n",
    "<html lang=\"en\">\n",
    "<head>\n",
    "    <meta charset=\"UTF-8\">\n",
    "    <meta name=\"viewport\" content=\"width=device-width, initial-scale=1.0\">\n",
    "</head>\n",
    "<body style=\"font-family: Sans-serif;\">\n",
    "    <div style=\"color: green; font-size: 18px; font-style: oblique; text-shadow: 0 0 3px white, 0 0 1px black; border: 8px double black; padding: 20px;\">\n",
    "        <ul>\n",
    "            <h3><li><code>@app.get(\"/items/\")</code></li></h3>\n",
    "            <h4 style=\"color: red;\">Explanation: Yeh ek decorator hai jo define karta hai ke jab GET request <code>\"/items/\"</code> path par aayegi to kaunsa function call hoga.</h4>\n",
    "        </ul>\n",
    "        <hr style=\"margin: 20px 0;\">\n",
    "        <ul>\n",
    "            <h3><li><code>async def read_items(query_param: Annotated[str | None, Query(max_length=3)]):</code></li></h3>\n",
    "            <h4 style=\"color: red;\">Explanation: Yeh ek asynchronous function hai jo <code>\"/items/\"</code> path par GET request aane par call hota hai. Is function mein ek query parameter <code>query_param</code> define kiya gaya hai jo optional hai aur string type ka hai jiska maximum length 3 characters hai.</h4>\n",
    "        </ul>\n",
    "    <hr style=\"margin: 20px 0;\">\n",
    "        <ul>\n",
    "            <h3><li><code>return {\"query_param\": query_param}</code></li></h3>\n",
    "            <h4 style=\"color: red;\">Explanation: Yeh function query parameter ka value return karta hai ek JSON response ke roop mein.</h4>\n",
    "        </ul>\n",
    "        <hr style=\"margin: 20px 0;\">\n",
    "        <ul>\n",
    "            <h3><li><code>req = requests.get('http://127.0.0.1:4444/items/?query_param=123')</code></li></h3>\n",
    "            <h4 style=\"color: red;\">Explanation: Yeh HTTP GET request karta hai <code>http://127.0.0.1:4444/items/</code> endpoint par query parameter <code>query_param</code> ke value \"123\" ke saath. Response ko retrieve kar ke decode kiya jata hai UTF-8 encoding ke saath.</h4>\n",
    "        </ul>\n",
    "        <hr style=\"margin: 20px 0;\">\n",
    "        <ul>\n",
    "            <h3><li><code>req = requests.get('http://127.0.0.1:4444/items/?query_param=1234')</code></li></h3>\n",
    "            <h4 style=\"color: red;\">Explanation: Yeh HTTP GET request karta hai <code>http://127.0.0.1:4444/items/</code> endpoint par query parameter <code>query_param</code> ke value \"1234\" ke saath. Kyunki query parameter ki maximum length 3 characters hai, yeh request error throw karega. Response ko retrieve kar ke decode kiya jata hai UTF-8 encoding ke saath.</h4>\n",
    "        </ul>\n",
    "    </div>\n",
    "</body>\n",
    "</html>\n"
   ]
  },
  {
   "cell_type": "markdown",
   "id": "30b6f779-fa52-420c-b8fe-8bda1226c292",
   "metadata": {},
   "source": [
    "<h1 style=\"text-align:center; color:#005bbd; font-size:30px; font-family:Sans-serif; font-style: oblique; text-shadow: 0 0 3px white, 0 0 1px Black;\">Validations Set Default Value</h1>"
   ]
  },
  {
   "cell_type": "code",
   "execution_count": 19,
   "id": "123cc5b3-2a30-4bb1-895b-69d0709e4600",
   "metadata": {},
   "outputs": [],
   "source": [
    "app = FastAPI()\n",
    "\n",
    "\n",
    "@app.get(\"/items/\")\n",
    "async def read_items(query_param: Annotated[str | None, Query(max_length=3)] = None):\n",
    "    return {\"query_param\": query_param}\n",
    "\n",
    "\n",
    "if __name__ == \"__main__\":\n",
    "    nest_asyncio.apply()\n",
    "    uvicorn.run(app, port=4444)"
   ]
  },
  {
   "cell_type": "code",
   "execution_count": 18,
   "id": "804f7faf-50a7-4191-9892-9ef868135dcf",
   "metadata": {},
   "outputs": [
    {
     "data": {
      "text/plain": [
       "'{\"query_param\":null}'"
      ]
     },
     "execution_count": 18,
     "metadata": {},
     "output_type": "execute_result"
    }
   ],
   "source": [
    "req = requests.get(\"http://127.0.0.1:4444/items\")\n",
    "req.content.decode(\"utf-8\")"
   ]
  },
  {
   "cell_type": "markdown",
   "id": "2f542b6d-c6ff-4b41-8e86-9db250ae1e42",
   "metadata": {},
   "source": [
    "<!DOCTYPE html>\n",
    "<html lang=\"en\">\n",
    "<head>\n",
    "    <meta charset=\"UTF-8\">\n",
    "    <meta name=\"viewport\" content=\"width=device-width, initial-scale=1.0\">\n",
    "</head>\n",
    "<body style=\"font-family: Sans-serif;\">\n",
    "    <div style=\"color: green; font-size: 18px; font-style: oblique; text-shadow: 0 0 3px white, 0 0 1px black; border: 8px double black; padding: 20px;\">\n",
    "        <ul>\n",
    "            <h3><li><code>@app.get(\"/items/\")</code></li></h3>\n",
    "            <h4 style=\"color: red;\">Explanation: Yeh ek decorator hai jo define karta hai ke jab GET request <code>\"/items/\"</code> path par aayegi to kaunsa function call hoga.</h4>\n",
    "        </ul>\n",
    "        <hr style=\"margin: 20px 0;\">\n",
    "        <ul>\n",
    "            <h3><li><code>async def read_items(query_param: Annotated[str | None, Query(max_length=3)] = None):</code></li></h3>\n",
    "            <h4 style=\"color: red;\">Explanation: Yeh ek asynchronous function hai jo <code>\"/items/\"</code> path par GET request aane par call hota hai. Is function mein ek query parameter <code>query_param</code> define kiya gaya hai jo optional hai aur string type ka hai jiska maximum length 3 characters hai. Iska default value None hai.</h4>\n",
    "        </ul>\n",
    "     </div>\n",
    "</body>\n",
    "</html>\n"
   ]
  },
  {
   "cell_type": "markdown",
   "id": "f07f5bc3-f86d-43fe-affe-1b0e67674150",
   "metadata": {},
   "source": [
    "<h1 style=\"text-align:center; color:#005bbd; font-size:30px; font-family:Sans-serif; font-style: oblique; text-shadow: 0 0 3px white, 0 0 1px Black;\">Validation min_length,max_length, regex_pattern</h1>"
   ]
  },
  {
   "cell_type": "code",
   "execution_count": null,
   "id": "184bee4b-4054-45c8-8e6f-0664f6f25707",
   "metadata": {},
   "outputs": [],
   "source": [
    "app = FastAPI()\n",
    "\n",
    "\n",
    "@app.get(\"/phone/\")\n",
    "async def user_phone(\n",
    "    phone_no: Annotated[\n",
    "        str | None, Query(min_length=12, max_length=12, pattern=\"\\d{4}-\\d+\")\n",
    "    ]\n",
    "):\n",
    "    return {\"user_phone\": phone_no}\n",
    "\n",
    "\n",
    "if __name__ == \"__main__\":\n",
    "    nest_asyncio.apply()\n",
    "    uvicorn.run(app, port=4444)"
   ]
  },
  {
   "cell_type": "code",
   "execution_count": 35,
   "id": "d4025af3-bdd5-4690-90ef-079d63ff718c",
   "metadata": {},
   "outputs": [
    {
     "data": {
      "text/plain": [
       "'{\"user_phone\":\"0123-4567891\"}'"
      ]
     },
     "execution_count": 35,
     "metadata": {},
     "output_type": "execute_result"
    }
   ],
   "source": [
    "req = requests.get(\"http://127.0.0.1:4444/phone/?phone_no=0123-4567891\")\n",
    "req.content.decode(\"utf-8\")"
   ]
  },
  {
   "cell_type": "code",
   "execution_count": 37,
   "id": "645743cc-eb8b-4232-9d35-25121abedcfc",
   "metadata": {},
   "outputs": [
    {
     "data": {
      "text/plain": [
       "'{\"detail\":[{\"type\":\"string_pattern_mismatch\",\"loc\":[\"query\",\"phone_no\"],\"msg\":\"String should match pattern \\'\\\\\\\\d{4}-\\\\\\\\d+\\'\",\"input\":\"0123 4567891\",\"ctx\":{\"pattern\":\"\\\\\\\\d{4}-\\\\\\\\d+\"},\"url\":\"https://errors.pydantic.dev/2.6/v/string_pattern_mismatch\"}]}'"
      ]
     },
     "execution_count": 37,
     "metadata": {},
     "output_type": "execute_result"
    }
   ],
   "source": [
    "req = requests.get(\"http://127.0.0.1:4444/phone/?phone_no=0123+4567891\")\n",
    "req.content.decode(\"utf-8\")"
   ]
  },
  {
   "cell_type": "markdown",
   "id": "44fd5888-b788-4baa-b5c5-94cd3a3a36ee",
   "metadata": {},
   "source": [
    "<!DOCTYPE html>\n",
    "<html lang=\"en\">\n",
    "<head>\n",
    "    <meta charset=\"UTF-8\">\n",
    "    <meta name=\"viewport\" content=\"width=device-width, initial-scale=1.0\">\n",
    "</head>\n",
    "<body style=\"font-family: Sans-serif;\">\n",
    "    <div style=\"color: green; font-size: 18px; font-style: oblique; text-shadow: 0 0 3px white, 0 0 1px black; border: 8px double black; padding: 20px;\">\n",
    "        <ul>\n",
    "            <h3><li><code>@app.get('/phone/')</code></li></h3>\n",
    "            <h4 style=\"color: red;\">Explanation: Yeh ek decorator hai jo define karta hai ke jab GET request <code>\"/phone/\"</code> path par aayegi to kaunsa function call hoga.</h4>\n",
    "        </ul>\n",
    "        <hr style=\"margin: 20px 0;\">\n",
    "        <ul>\n",
    "            <h3><li><code>async def user_phone(phone_no:Annotated[str | None,Query(min_length=12,max_length=12,pattern=\"\\d{4}-\\d+\")]):</code></li></h3>\n",
    "            <h4 style=\"color: red;\">Explanation: Yeh ek asynchronous function hai jo <code>\"/phone/\"</code> path par GET request aane par call hota hai. Is function mein ek query parameter <code>phone_no</code> define kiya gaya hai jo optional hai aur string type ka hai. Iska minimum length aur maximum length dono 12 characters hai, aur iska format specified pattern ke mutabiq hona chahiye. </h4>\n",
    "        </ul>\n",
    "    <hr style=\"margin: 20px 0;\">\n",
    "        <ul>\n",
    "            <h3><li><code>return {\"user_phone\":phone_no}</code></li></h3>\n",
    "            <h4 style=\"color: red;\">Explanation: Yeh function query parameter ka value return karta hai ek JSON response ke roop mein.</h4>\n",
    "        </ul>\n",
    "        <hr style=\"margin: 20px 0;\">\n",
    "        <ul>\n",
    "            <h3><li><code>req = requests.get('http://127.0.0.1:4444/phone/?phone_no=0123-4567891')</code></li></h3>\n",
    "            <h4 style=\"color: red;\">Explanation: Yeh HTTP GET request karta hai <code>http://127.0.0.1:4444/phone/</code> endpoint par query parameter <code>phone_no</code> ke value \"0123-4567891\" ke saath. Response ko retrieve kar ke decode kiya jata hai UTF-8 encoding ke saath.</h4>\n",
    "        </ul>\n",
    "    </div>\n",
    "</body>\n",
    "</html>\n"
   ]
  },
  {
   "cell_type": "markdown",
   "id": "a4a20527-5d6a-40b1-9c37-acc543a7f79a",
   "metadata": {},
   "source": [
    "<h1 style=\"text-align:center; color:#005bbd; font-size:30px; font-family:Sans-serif; font-style: oblique; text-shadow: 0 0 3px white, 0 0 1px Black;\">Query parameter list / multiple values</h1>"
   ]
  },
  {
   "cell_type": "code",
   "execution_count": 46,
   "id": "a5bb04d3-70f9-46ef-a8cd-ab6301664347",
   "metadata": {},
   "outputs": [],
   "source": [
    "app = FastAPI()\n",
    "\n",
    "\n",
    "@app.get(\"/index/\")\n",
    "async def index(data: Annotated[list[str] | None, Query()]):\n",
    "    return data\n",
    "\n",
    "\n",
    "if __name__ == \"__main__\":\n",
    "    nest_asyncio.apply()\n",
    "    uvicorn.run(app, port=4444)"
   ]
  },
  {
   "cell_type": "code",
   "execution_count": 60,
   "id": "c0a36882-e2c7-43eb-b32b-841379ca698d",
   "metadata": {},
   "outputs": [
    {
     "data": {
      "text/plain": [
       "'[\"abc\",\"def\"]'"
      ]
     },
     "execution_count": 60,
     "metadata": {},
     "output_type": "execute_result"
    }
   ],
   "source": [
    "req = requests.get(\"http://127.0.0.1:4444/index/?data=abc&data=def\")\n",
    "req.content.decode(\"utf-8\")"
   ]
  },
  {
   "cell_type": "markdown",
   "id": "5c97680a-64f1-4c5c-b821-82ec2bdb0f4f",
   "metadata": {},
   "source": [
    "<!DOCTYPE html>\n",
    "<html lang=\"en\">\n",
    "<head>\n",
    "    <meta charset=\"UTF-8\">\n",
    "    <meta name=\"viewport\" content=\"width=device-width, initial-scale=1.0\">\n",
    "</head>\n",
    "<body style=\"font-family: Sans-serif;\">\n",
    "    <div style=\"color: green; font-size: 18px; font-style: oblique; text-shadow: 0 0 3px white, 0 0 1px black; border: 8px double black; padding: 20px;\">\n",
    "        <ul>\n",
    "            <h3><li><code>@app.get('/index/')</code></li></h3>\n",
    "            <h4 style=\"color: red;\">Explanation: Yeh ek decorator hai jo define karta hai ke jab GET request <code>\"/index/\"</code> path par aayegi to kaunsa function call hoga.</h4>\n",
    "        </ul>\n",
    "        <hr style=\"margin: 20px 0;\">\n",
    "        <ul>\n",
    "            <h3><li><code>async def index(data:Annotated[list[str] | None, Query()]):</code></li></h3>\n",
    "            <h4 style=\"color: red;\">Explanation: Yeh ek asynchronous function hai jo <code>\"/index/\"</code> path par GET request aane par call hota hai. Is function mein ek query parameter <code>data</code> define kiya gaya hai jo optional hai aur list of strings hai. </h4>\n",
    "        </ul>\n",
    "    <hr style=\"margin: 20px 0;\">\n",
    "        <ul>\n",
    "            <h3><li><code>return data</code></li></h3>\n",
    "            <h4 style=\"color: red;\">Explanation: Yeh function query parameter <code>data</code> ki value ko return karta hai.</h4>\n",
    "        </ul>\n",
    "        <hr style=\"margin: 20px 0;\">\n",
    "        <ul>\n",
    "            <h3><li><code>req = requests.get('http://127.0.0.1:4444/index/?data=abc&data=def')</code></li></h3>\n",
    "            <h4 style=\"color: red;\">Explanation: Yeh HTTP GET request karta hai <code>http://127.0.0.1:4444/index/</code> endpoint par, jismein query parameter <code>data</code> ki value \"abc\" aur \"def\" hai.</h4>\n",
    "        </ul>\n",
    "    </div>\n",
    "</body>\n",
    "</html>\n"
   ]
  },
  {
   "cell_type": "markdown",
   "id": "0c41b680-da4f-45b2-9e76-9be62e794d45",
   "metadata": {},
   "source": [
    "<h1 style=\"text-align:center; color:#005bbd; font-size:30px; font-family:Sans-serif; font-style: oblique; text-shadow: 0 0 3px white, 0 0 1px Black;\">What Happend if we not use Query() with List</h1>"
   ]
  },
  {
   "cell_type": "code",
   "execution_count": null,
   "id": "10223317-e32d-47e4-82fd-595018c9fb93",
   "metadata": {},
   "outputs": [],
   "source": [
    "app = FastAPI()\n",
    "\n",
    "\n",
    "@app.get(\"/index/\")\n",
    "async def index(data: Annotated[list[str] | None, None]):\n",
    "    return data\n",
    "\n",
    "\n",
    "if __name__ == \"__main__\":\n",
    "    nest_asyncio.apply()\n",
    "    uvicorn.run(app, port=4444)"
   ]
  },
  {
   "cell_type": "code",
   "execution_count": 73,
   "id": "5a45e920-802c-4f1e-9511-45b407bf762a",
   "metadata": {},
   "outputs": [
    {
     "data": {
      "text/plain": [
       "'{\"detail\":[{\"type\":\"missing\",\"loc\":[\"body\"],\"msg\":\"Field required\",\"input\":null,\"url\":\"https://errors.pydantic.dev/2.6/v/missing\"}]}'"
      ]
     },
     "execution_count": 73,
     "metadata": {},
     "output_type": "execute_result"
    }
   ],
   "source": [
    "req = requests.get(\"http://127.0.0.1:4444/index/?data=123\")\n",
    "req.content.decode(\"utf-8\")"
   ]
  },
  {
   "cell_type": "code",
   "execution_count": 82,
   "id": "aa9a8c2e-07c2-4547-81b3-07f79ace0a98",
   "metadata": {},
   "outputs": [
    {
     "data": {
      "text/plain": [
       "'[\"123\"]'"
      ]
     },
     "execution_count": 82,
     "metadata": {},
     "output_type": "execute_result"
    }
   ],
   "source": [
    "req = requests.get(\"http://127.0.0.1:4444/index/\", json=[\"123\"])\n",
    "req.content.decode(\"utf-8\")"
   ]
  },
  {
   "cell_type": "markdown",
   "id": "cb38a7a5-a0a2-4639-849f-41d2ea737175",
   "metadata": {},
   "source": [
    "<!DOCTYPE html>\n",
    "<html lang=\"en\">\n",
    "<head>\n",
    "    <meta charset=\"UTF-8\">\n",
    "    <meta name=\"viewport\" content=\"width=device-width, initial-scale=1.0\">\n",
    "</head>\n",
    "<body style=\"font-family: Sans-serif;\">\n",
    "    <div style=\"color: green; font-size: 18px; font-style: oblique; text-shadow: 0 0 3px white, 0 0 1px black; border: 8px double black; padding: 20px;\">\n",
    "        <ul>\n",
    "            <h3><li><code>@app.get('/index/')</code></li></h3>\n",
    "            <h4 style=\"color: red;\">Explanation: Yeh ek decorator hai jo define karta hai ke jab GET request <code>\"/index/\"</code> path par aayegi to kaunsa function call hoga.</h4>\n",
    "        </ul>\n",
    "        <hr style=\"margin: 20px 0;\">\n",
    "        <ul>\n",
    "            <h3><li><code>async def index(data:Annotated[list[str] | None, None]):</code></li></h3>\n",
    "            <h4 style=\"color: red;\">Explanation: Yeh ek asynchronous function hai jo <code>\"/index/\"</code> path par GET request aane par call hota hai. Is function mein ek query parameter <code>data</code> define kiya gaya hai jo optional hai aur list of strings hai. Agar Query() ka istemal nahi kiya gaya hai, to FastAPI yeh data request body ke roop mein consider karega.</h4>\n",
    "        </ul>\n",
    "    <hr style=\"margin: 20px 0;\">\n",
    "        <ul>\n",
    "            <h3><li><code>return data</code></li></h3>\n",
    "            <h4 style=\"color: red;\">Explanation: Yeh function query parameter <code>data</code> ki value ko return karta hai.</h4>\n",
    "        </ul>\n",
    "        <hr style=\"margin: 20px 0;\">\n",
    "        <ul>\n",
    "            <h3><li><code>req = requests.get('http://127.0.0.1:4444/index/', json={\"data\": [\"abc\", \"def\"]})</code></li></h3>\n",
    "            <h4 style=\"color: red;\">Explanation: Yeh HTTP GET request karta hai <code>http://127.0.0.1:4444/index/</code> endpoint par, jismein query parameter <code>data</code> ki value \"abc\" aur \"def\" hai, lekin yeh data request body ke roop mein hai.</h4>\n",
    "        </ul>\n",
    "    </div>\n",
    "</body>\n",
    "</html>\n"
   ]
  },
  {
   "cell_type": "markdown",
   "id": "615bf0db-3f28-4ef0-a921-9bff7719aa07",
   "metadata": {},
   "source": [
    "<h1 style=\"text-align:center; color:#005bbd; font-size:30px; font-family:Sans-serif; font-style: oblique; text-shadow: 0 0 3px white, 0 0 1px Black;\">Set List defaults Values\n",
    "</h1>"
   ]
  },
  {
   "cell_type": "code",
   "execution_count": null,
   "id": "95a7ba5d-5319-4ef1-b078-7c76cd3c305f",
   "metadata": {},
   "outputs": [],
   "source": [
    "app = FastAPI()\n",
    "\n",
    "\n",
    "@app.get(\"/index/\")\n",
    "async def index(data: Annotated[list[str] | None, Query()] = [\"abc\", \"def\"]):\n",
    "    return data\n",
    "\n",
    "\n",
    "if __name__ == \"__main__\":\n",
    "    nest_asyncio.apply()\n",
    "    uvicorn.run(app, port=4444)"
   ]
  },
  {
   "cell_type": "code",
   "execution_count": 87,
   "id": "2f17ff19-76a6-44dc-a649-cf0ebe3d506f",
   "metadata": {},
   "outputs": [
    {
     "data": {
      "text/plain": [
       "'[\"abc\",\"def\"]'"
      ]
     },
     "execution_count": 87,
     "metadata": {},
     "output_type": "execute_result"
    }
   ],
   "source": [
    "req = requests.get(\"http://127.0.0.1:4444/index/\")\n",
    "req.content.decode(\"utf-8\")"
   ]
  },
  {
   "cell_type": "markdown",
   "id": "3221af64-aa94-45b1-aff4-369c602099c8",
   "metadata": {},
   "source": [
    "<h1 style=\"text-align:center; color:#005bbd; font-size:30px; font-family:Sans-serif; font-style: oblique; text-shadow: 0 0 3px white, 0 0 1px Black;\">alias</h1>"
   ]
  },
  {
   "cell_type": "markdown",
   "id": "bab909ee-6d8d-4568-a78f-87f2b94cb85e",
   "metadata": {},
   "source": [
    "<div style=\"text-align:justify; color:black; font-size:20px; font-family:Sans-serif; font-style: oblique; text-shadow: 0 0 3px white, 0 0 1px black;\"><p>Jab aap FastAPI me ek route define karte hain, to aap parameters ko specify karte hain jo route ke endpoint ke saath associated hote hain.<br> Lekin kai baar aisa hota hai ki aap URL me parameter ka naam specify karna chahte hain jo Python variable name ke rules ko follow nahi karta, <br>jaise ki kebab-case (item-query), jo valid Python variable name nahi hai.<br><br> So is ky lye alias ka use kia jata hn</p>\n",
    "</div>\n",
    "\n",
    "\n"
   ]
  },
  {
   "cell_type": "code",
   "execution_count": 115,
   "id": "be4bb09e-b8c9-4464-8c70-69309ce45bfd",
   "metadata": {},
   "outputs": [
    {
     "ename": "SyntaxError",
     "evalue": "invalid syntax (1645026928.py, line 5)",
     "output_type": "error",
     "traceback": [
      "\u001b[0;36m  Cell \u001b[0;32mIn[115], line 5\u001b[0;36m\u001b[0m\n\u001b[0;31m    async def index(query-data: Annotated[str | None, Query()]):\u001b[0m\n\u001b[0m                         ^\u001b[0m\n\u001b[0;31mSyntaxError\u001b[0m\u001b[0;31m:\u001b[0m invalid syntax\n"
     ]
    }
   ],
   "source": [
    "app = FastAPI()\n",
    "\n",
    "\n",
    "@app.get(\"/index/\")\n",
    "async def index(query-data: Annotated[str | None, Query()]):\n",
    "    return data\n",
    "\n",
    "\n",
    "if __name__ == \"__main__\":\n",
    "    nest_asyncio.apply()\n",
    "    uvicorn.run(app, port=4444)"
   ]
  },
  {
   "cell_type": "code",
   "execution_count": 116,
   "id": "94e89cdb-3714-4e54-883f-f7b829bff6b8",
   "metadata": {},
   "outputs": [],
   "source": [
    "app = FastAPI()\n",
    "\n",
    "\n",
    "@app.get(\"/index/\")\n",
    "async def index(data: Annotated[str | None, Query(alias=\"query-data\")]):\n",
    "    return data\n",
    "\n",
    "\n",
    "if __name__ == \"__main__\":\n",
    "    nest_asyncio.apply()\n",
    "    uvicorn.run(app, port=4444)"
   ]
  },
  {
   "cell_type": "code",
   "execution_count": 117,
   "id": "a3a16ae2-4ace-4428-9ef9-a5935d34336b",
   "metadata": {},
   "outputs": [
    {
     "data": {
      "text/plain": [
       "'\"123\"'"
      ]
     },
     "execution_count": 117,
     "metadata": {},
     "output_type": "execute_result"
    }
   ],
   "source": [
    "req = requests.get(\"http://127.0.0.1:4444/index/?query-data=123\")\n",
    "req.content.decode(\"utf-8\")"
   ]
  },
  {
   "cell_type": "markdown",
   "id": "064e1ecb-b73b-4dca-85ec-fd10f00119a9",
   "metadata": {},
   "source": [
    "<!DOCTYPE html>\n",
    "<html lang=\"en\">\n",
    "<head>\n",
    "    <meta charset=\"UTF-8\">\n",
    "    <meta name=\"viewport\" content=\"width=device-width, initial-scale=1.0\">\n",
    "</head>\n",
    "<body style=\"font-family: Sans-serif;\">\n",
    "    <div style=\"color: green; font-size: 18px; font-style: oblique; text-shadow: 0 0 3px white, 0 0 1px black; border: 8px double black; padding: 20px;\">\n",
    "        <ul>\n",
    "            <h3><li><code>@app.get(\"/index/\")</code></li></h3>\n",
    "            <h4 style=\"color: red;\">Explanation: Yeh ek decorator hai jo define karta hai ke jab GET request <code>\"/index/\"</code> path par aayegi to kaunsa function call hoga.</h4>\n",
    "        </ul>\n",
    "        <hr style=\"margin: 20px 0;\">\n",
    "        <ul>\n",
    "            <h3><li><code>async def index(data: Annotated[str | None, Query(alias=\"query-data\")]):</code></li></h3>\n",
    "            <h4 style=\"color: red;\">Explanation: Yeh ek asynchronous function hai jo <code>\"/index/\"</code> path par GET request aane par call hota hai. Is function mein ek query parameter <code>data</code> define kiya gaya hai jiska alias <code>query-data</code> hai. </h4>\n",
    "        </ul>\n",
    "    <hr style=\"margin: 20px 0;\">\n",
    "        <ul>\n",
    "            <h3><li><code>return data</code></li></h3>\n",
    "            <h4 style=\"color: red;\">Explanation: Yeh function query parameter <code>data</code> ki value ko return karta hai.</h4>\n",
    "        </ul>\n",
    "        <hr style=\"margin: 20px 0;\">\n",
    "        <ul>\n",
    "            <h3><li><code>req = requests.get('http://127.0.0.1:4444/index/?query-data=abc')</code></li></h3>\n",
    "            <h4 style=\"color: red;\">Explanation: Yeh HTTP GET request karta hai <code>http://127.0.0.1:4444/index/</code> endpoint par, jismein query parameter ka naam <code>query-data</code> hai aur uski value \"abc\" hai.</h4>\n",
    "        </ul>\n",
    "    </div>\n",
    "</body>\n",
    "</html>\n"
   ]
  }
 ],
 "metadata": {
  "kernelspec": {
   "display_name": "Python 3 (ipykernel)",
   "language": "python",
   "name": "python3"
  },
  "language_info": {
   "codemirror_mode": {
    "name": "ipython",
    "version": 3
   },
   "file_extension": ".py",
   "mimetype": "text/x-python",
   "name": "python",
   "nbconvert_exporter": "python",
   "pygments_lexer": "ipython3",
   "version": "3.10.12"
  }
 },
 "nbformat": 4,
 "nbformat_minor": 5
}
