{
 "cells": [
  {
   "cell_type": "markdown",
   "id": "ebb5653f-9467-4a6d-aa9f-d9908c95671b",
   "metadata": {},
   "source": [
    "<h1 style=\"text-align:center; color:#005bbd; font-size:30px; font-family:Sans-serif; font-style: oblique; text-shadow: 0 0 3px white, 0 0 1px Black;\">Request Body </h1>"
   ]
  },
  {
   "cell_type": "markdown",
   "id": "81b6b96c-b0f4-4c3c-a6c2-8ab9ea83ad4e",
   "metadata": {},
   "source": [
    "<div style=\"text-align:justify; color:black; font-size:20px; font-family:Sans-serif; font-style: oblique; text-shadow: 0 0 3px white, 0 0 1px black;\"><p>Request Body wo data hota hai jo client (jaise browser, mobile app, etc.) API ko bhejta hai. jaise ke result ya confirmation message.<br><br>Yeh data API endpoint pe post, put, patch, etc. request ke through bheja jata hai.<br>FastAPI mein request body ko declare karne ke liye Pydantic models ka use hota hai.\n",
    "</p>\n",
    "</div>\n",
    "\n"
   ]
  },
  {
   "cell_type": "markdown",
   "id": "f23dc618-9611-4a54-8027-21b333411f83",
   "metadata": {},
   "source": [
    "<div style=\"text-align:justify; color:black; font-size:20px; font-family:Sans-serif; font-style: oblique; text-shadow: 0 0 3px white, 0 0 1px black;\">Pehle humein Pydantic model banani hogi jo request body ko represent karegi. <br>Pydantic model Python classes hoti hain jo data validation aur serialization ke liye use hoti hain.\n",
    "\n",
    "</div>\n",
    "\n"
   ]
  },
  {
   "cell_type": "code",
   "execution_count": 2,
   "id": "bb0ec26c-b005-4d0b-b8a6-0db73573237f",
   "metadata": {},
   "outputs": [],
   "source": [
    "from fastapi import FastAPI\n",
    "from pydantic import BaseModel\n",
    "\n",
    "import requests\n",
    "import uvicorn\n",
    "import nest_asyncio\n",
    "import json"
   ]
  },
  {
   "cell_type": "code",
   "execution_count": 3,
   "id": "0f2250d8-afdb-42bf-91b6-4fe751e54b70",
   "metadata": {},
   "outputs": [],
   "source": [
    "class Item(BaseModel):\n",
    "    name: str\n",
    "    description: str | None = None\n",
    "    price: float\n",
    "    tax: float | None = None\n",
    "\n",
    "\n",
    "app = FastAPI()\n",
    "\n",
    "@app.post(\"/items/\")\n",
    "async def create_item(item: Item):\n",
    "    return item\n",
    "\n",
    "\n",
    "if __name__ == \"__main__\":\n",
    "    nest_asyncio.apply()\n",
    "    uvicorn.run(app,port=4444)"
   ]
  },
  {
   "cell_type": "code",
   "execution_count": 23,
   "id": "5a63481f-ab6a-47cb-989f-00a4a94c42ab",
   "metadata": {},
   "outputs": [],
   "source": [
    "json_data = {\n",
    "    \"name\": \"Foo\",\n",
    "    \"description\": \"An optional description\",\n",
    "    \"price\": 45.2,\n",
    "    \"tax\": 3.5\n",
    "}"
   ]
  },
  {
   "cell_type": "code",
   "execution_count": 54,
   "id": "72c3a76f-dbe0-4a75-9e66-96f6cb3dfafe",
   "metadata": {},
   "outputs": [
    {
     "data": {
      "text/plain": [
       "'{\"detail\":[{\"type\":\"model_attributes_type\",\"loc\":[\"body\"],\"msg\":\"Input should be a valid dictionary or object to extract fields from\",\"input\":\"name=Foo&description=An+optional+description&price=45.2&tax=3.5\",\"url\":\"https://errors.pydantic.dev/2.5/v/model_attributes_type\"}]}'"
      ]
     },
     "execution_count": 54,
     "metadata": {},
     "output_type": "execute_result"
    }
   ],
   "source": [
    "req = requests.post('http://127.0.0.1:4444/items/',json_data)\n",
    "req.content.decode('utf-8')"
   ]
  },
  {
   "cell_type": "markdown",
   "id": "4d77f51b-1429-4864-a304-572e45c62c3c",
   "metadata": {},
   "source": [
    "<div style=\"text-align:justify; color:black; font-size:20px; font-family:Sans-serif; font-style: oblique; text-shadow: 0 0 3px white, 0 0 1px black;\">Note yahan par POST requests ka use kiya gaya hai. <br>BaseModel mein dictionary data type pass kiya gaya hai. <br>\n",
    "To POST request mein same data structure pass karna hoga jaisa BaseModel mein define kiya gaya hai.<br><br>\n",
    "\n",
    "Yahan direct dictionary pass nahi kar sakte kyunke browser mein dictionary ko JSON object ke taur par consider kiya jata hai.<br>To hamein dictionary ko JSON mein convert karna hoga.\n",
    "\n",
    "</div>"
   ]
  },
  {
   "cell_type": "code",
   "execution_count": 49,
   "id": "78f04d39-3260-4cd8-9afd-8eccdd0fd9b4",
   "metadata": {},
   "outputs": [
    {
     "data": {
      "text/plain": [
       "'{\"name\": \"Foo\", \"description\": \"An optional description\", \"price\": 45.2, \"tax\": 3.5}'"
      ]
     },
     "execution_count": 49,
     "metadata": {},
     "output_type": "execute_result"
    }
   ],
   "source": [
    "json.dumps(json_data)"
   ]
  },
  {
   "cell_type": "code",
   "execution_count": 50,
   "id": "9d5d12a1-db1d-4b5b-a607-b9894448a35b",
   "metadata": {},
   "outputs": [
    {
     "data": {
      "text/plain": [
       "'{\"name\":\"Foo\",\"description\":\"An optional description\",\"price\":45.2,\"tax\":3.5}'"
      ]
     },
     "execution_count": 50,
     "metadata": {},
     "output_type": "execute_result"
    }
   ],
   "source": [
    "req = requests.post('http://127.0.0.1:4444/items/',json.dumps(json_data))\n",
    "req.content.decode('utf-8')"
   ]
  },
  {
   "cell_type": "markdown",
   "id": "186ec28d-749e-49e1-b774-e4436a8e073a",
   "metadata": {},
   "source": [
    "<h1 style=\"text-align:center; color:green; font-size:30px; font-family:Sans-serif; font-style: oblique; text-shadow: 0 0 3px white, 0 0 1px Black;\">Summary Request Body BaseModel</h1><hr>"
   ]
  },
  {
   "cell_type": "markdown",
   "id": "017dcf66-1ef8-4b01-bfdd-0e3f8add6916",
   "metadata": {},
   "source": [
    "<!DOCTYPE html>\n",
    "<html lang=\"en\">\n",
    "<head>\n",
    "    <meta charset=\"UTF-8\">\n",
    "    <meta name=\"viewport\" content=\"width=device-width, initial-scale=1.0\">\n",
    "</head>\n",
    "<body style=\"font-family: Sans-serif;\">\n",
    "    <div style=\"color: green; font-size: 18px; font-style: oblique; text-shadow: 0 0 3px white, 0 0 1px black; border: 8px double black; padding: 20px;\">\n",
    "        <ul>\n",
    "            <h3><li><code>class Item(BaseModel)</code></li></h3>\n",
    "            <h4 style=\"color: red;\">Explanation: Ye class ek model define karti hai jo data ka structure batati hai jo hamein POST request mein dena hoga. <code>Item</code> class <code>BaseModel</code> se inherit karti hai. Is model mein chaar fields hain: <code>name</code> (string), <code>description</code> (optional string), <code>price</code> (float), aur <code>tax</code> (optional float).</h4>\n",
    "        </ul>\n",
    "        <hr style=\"margin: 20px 0;\">\n",
    "        <ul>\n",
    "            <h3><li><code>app = FastAPI()</code></li></h3>\n",
    "            <h4 style=\"color: red;\">Explanation: Ye line FastAPI ka ek instance create karti hai jo hamari web application ko represent karta hai.</h4>\n",
    "        </ul>\n",
    "        <hr style=\"margin: 20px 0;\">\n",
    "        <ul>\n",
    "            <h3><li><code>@app.post(\"/items/\")</code></li></h3>\n",
    "            <h4 style=\"color: red;\">Explanation: Ye decorator define karta hai ke jab POST request <code>\"/items/\"</code> path par aayegi to kaunsa function call hoga. Yahan <code>create_item</code> function ko call kiya jayega.</h4>\n",
    "        </ul>\n",
    "        <hr style=\"margin: 20px 0;\">\n",
    "        <ul>\n",
    "            <h3><li><code>async def create_item(item: Item):</code></li></h3>\n",
    "            <h4 style=\"color: red;\">Explanation: Ye asynchronous function hai jo <code>\"/items/\"</code> path par POST request aane par call hota hai. Is function ka parameter <code>item</code> hai jo <code>Item</code> model ka instance hai. POST request mein ye data body ke andar JSON format mein aana chahiye.</h4>\n",
    "        </ul>\n",
    "        <hr style=\"margin: 20px 0;\">\n",
    "        <ul>\n",
    "            <h3><li><code>return item</code></li></h3>\n",
    "            <h4 style=\"color: red;\">Explanation: Ye function received item ko wapas JSON response ke taur par return karta hai.</h4>\n",
    "        </ul>\n",
    "        <hr style=\"margin: 20px 0;\">\n",
    "        <ul>\n",
    "            <h3><li><code>if __name__ == \"__main__\":</code></li></h3>\n",
    "            <h4 style=\"color: red;\">Explanation: Ye block check karta hai agar script direct run ki gayi hai to <code>uvicorn</code> server ko start karna hai. <code>nest_asyncio.apply()</code> ko call kiya jata hai taake async functions theek se kaam kar sakein.</h4>\n",
    "        </ul>\n",
    "        <hr style=\"margin: 20px 0;\">\n",
    "        <ul>\n",
    "            <h3><li>Note:</li></h3>\n",
    "            <h4 style=\"color: red;\">Explanation: Yahaan par POST request ka use kiya gaya hai. <code>BaseModel</code> mein dictionary data type define kiya gaya hai jo hamare POST request ke data ka structure batata hai. Browser mein direct dictionary pass nahi ki ja sakti, isliye dictionary ko JSON object mein convert karna hoga.</h4>\n",
    "        </ul>\n",
    "    </div>\n",
    "</body>\n",
    "</html>\n"
   ]
  },
  {
   "cell_type": "markdown",
   "id": "7c5fd9ce-9ec5-4357-b893-9620bfeb533a",
   "metadata": {},
   "source": [
    "\n",
    "<h1 style=\"text-align:center; color:#005bbd; font-size:30px; font-family:Sans-serif; font-style: oblique; text-shadow: 0 0 3px white, 0 0 1px Black;\">Acess attributes of the model object directly\n",
    "</h1>"
   ]
  },
  {
   "cell_type": "code",
   "execution_count": 62,
   "id": "0ad4df66-adf3-44ab-adae-02b4cb56adf4",
   "metadata": {},
   "outputs": [],
   "source": [
    "class Item(BaseModel):\n",
    "    name: str\n",
    "    description: str | None = None\n",
    "    price: float\n",
    "    tax: float | None = None\n",
    "\n",
    "\n",
    "app = FastAPI()\n",
    "\n",
    "@app.post(\"/items/\")\n",
    "async def create_item(item: Item):\n",
    "    item.update({item.price:(item.tax + item.price)}) \n",
    "    return item\n",
    "\n",
    "\n",
    "if __name__ == \"__main__\":\n",
    "    nest_asyncio.apply()\n",
    "    uvicorn.run(app,port=4444)"
   ]
  },
  {
   "cell_type": "code",
   "execution_count": 61,
   "id": "eafd815e-a5d8-4c8a-a165-d05d520d38fc",
   "metadata": {},
   "outputs": [
    {
     "data": {
      "text/plain": [
       "'{\"name\":\"Foo\",\"description\":\"An optional description\",\"price\":45.2,\"tax\":3.5,\"extra_price\":48.7}'"
      ]
     },
     "execution_count": 61,
     "metadata": {},
     "output_type": "execute_result"
    }
   ],
   "source": [
    "json_data = {\n",
    "    \"name\": \"Foo\",\n",
    "    \"description\": \"An optional description\",\n",
    "    \"price\": 45.2,\n",
    "    \"tax\": 3.5\n",
    "}\n",
    "\n",
    "req = requests.post('http://127.0.0.1:4444/items/',json.dumps(json_data))\n",
    "req.content.decode('utf-8')"
   ]
  },
  {
   "cell_type": "markdown",
   "id": "71e38079-6390-4a16-83f8-c45ae443b4d3",
   "metadata": {},
   "source": [
    "<h1 style=\"text-align:center; color:green; font-size:30px; font-family:Sans-serif; font-style: oblique; text-shadow: 0 0 3px white, 0 0 1px Black;\">Summary Acess attributes of the model</h1><hr>"
   ]
  },
  {
   "cell_type": "markdown",
   "id": "3096ee39-64be-4104-adad-ad28683dad8f",
   "metadata": {},
   "source": [
    "<!DOCTYPE html>\n",
    "<html lang=\"en\">\n",
    "<head>\n",
    "    <meta charset=\"UTF-8\">\n",
    "    <meta name=\"viewport\" content=\"width=device-width, initial-scale=1.0\">\n",
    "</head>\n",
    "<body style=\"font-family: Sans-serif;\">\n",
    "    <div style=\"color: green; font-size: 18px; font-style: oblique; text-shadow: 0 0 3px white, 0 0 1px black; border: 8px double black; padding: 20px;\">\n",
    "        <ul>\n",
    "            <h3><li><code>class Item(BaseModel)</code></li></h3>\n",
    "            <h4 style=\"color: red;\">Explanation: Yeh class ek model define karti hai jo data ka structure batati hai jo POST request mein dena hota hai. <code>Item</code> class <code>BaseModel</code> se inherit karti hai. Is model mein chaar fields hain: <code>name</code> (string), <code>description</code> (optional string), <code>price</code> (float), aur <code>tax</code> (optional float).</h4>\n",
    "        </ul>\n",
    "        <hr style=\"margin: 20px 0;\">\n",
    "        <ul>\n",
    "            <h3><li><code>app = FastAPI()</code></li></h3>\n",
    "            <h4 style=\"color: red;\">Explanation: Yeh line FastAPI ka ek instance create karti hai jo hamari web application ko represent karta hai.</h4>\n",
    "        </ul>\n",
    "        <hr style=\"margin: 20px 0;\">\n",
    "        <ul>\n",
    "            <h3><li><code>@app.post(\"/items/\")</code></li></h3>\n",
    "            <h4 style=\"color: red;\">Explanation: Yeh decorator define karta hai ke jab POST request <code>\"/items/\"</code> path par aayegi to kaunsa function call hoga. Yahan <code>create_item</code> function ko call kiya jayega.</h4>\n",
    "        </ul>\n",
    "        <hr style=\"margin: 20px 0;\">\n",
    "        <ul>\n",
    "            <h3><li><code>async def create_item(item: Item):</code></li></h3>\n",
    "            <h4 style=\"color: red;\">Explanation: Yeh asynchronous function hai jo <code>\"/items/\"</code> path par POST request aane par call hota hai. Is function ka parameter <code>item</code> hai jo <code>Item</code> model ka instance hai. POST request mein ye data body ke andar JSON format mein aana chahiye.</h4>\n",
    "        </ul>\n",
    "        <hr style=\"margin: 20px 0;\">\n",
    "        <ul>\n",
    "            <h3><li><code>data = item.model_dump()</code></li></h3>\n",
    "            <h4 style=\"color: red;\">Explanation: Yeh line <code>item</code> object ko dictionary mein convert karti hai. <code>model_dump()</code> method use kiya gaya hai jo model instance ko dictionary mein dump karta hai.</h4>\n",
    "        </ul>\n",
    "        <hr style=\"margin: 20px 0;\">\n",
    "        <ul>\n",
    "            <h3><li><code>data.update({'extra_price': (item.tax + item.price) })</code></li></h3>\n",
    "            <h4 style=\"color: red;\">Explanation: Yeh line dictionary <code>data</code> mein ek naya key-value pair add karti hai jahan <code>extra_price</code> ke key ke sath tax aur price ka total store hota hai. Agar <code>item.tax</code> <code>None</code> nahi hai to is value ko <code>item.price</code> ke sath add kiya jata hai.</h4>\n",
    "        </ul>\n",
    "        <hr style=\"margin: 20px 0;\">\n",
    "        <ul>\n",
    "            <h3><li><code>return data</code></li></h3>\n",
    "            <h4 style=\"color: red;\">Explanation: Yeh function updated dictionary <code>data</code> ko JSON response ke taur par return karta hai.</h4>\n",
    "        </ul>\n",
    "    </div>\n",
    "</body>\n",
    "</html>\n"
   ]
  },
  {
   "cell_type": "markdown",
   "id": "8015f8e8-be20-4cc9-958d-c34e377338e3",
   "metadata": {},
   "source": [
    "<h1 style=\"text-align:center; color:#005bbd; font-size:30px; font-family:Sans-serif; font-style: oblique; text-shadow: 0 0 3px white, 0 0 1px Black;\">Request body + path + query parameters\n",
    "</h1>"
   ]
  },
  {
   "cell_type": "code",
   "execution_count": 91,
   "id": "7456ff18-5d19-448d-b756-6298704126f9",
   "metadata": {},
   "outputs": [],
   "source": [
    "class required_data(BaseModel):\n",
    "    name: str | None = None\n",
    "    description : str | None = None\n",
    "    price : int \n",
    "    tax : int"
   ]
  },
  {
   "cell_type": "code",
   "execution_count": 89,
   "id": "72b739f7-5030-4d1d-b232-6331d1c0cb75",
   "metadata": {},
   "outputs": [],
   "source": [
    "app = FastAPI()\n",
    "\n",
    "@app.post(\"/pth/{path_param}\")\n",
    "async def data(path_param:int, body_req:required_data,    query_param : int | None = None):\n",
    "    data = body_req.model_dump()\n",
    "    data.update({'path_parm':path_param,'query_parms':query_param})\n",
    "    \n",
    "    return data\n",
    "\n",
    "if __name__ == \"__main__\":\n",
    "    nest_asyncio.apply()\n",
    "    uvicorn.run(app,port=4444)"
   ]
  },
  {
   "cell_type": "code",
   "execution_count": 94,
   "id": "5c732124-9f96-4804-bd31-ceead8ccd687",
   "metadata": {},
   "outputs": [],
   "source": [
    "json_data = {\n",
    "    \"name\": \"Foo\",\n",
    "    \"description\": \"An optional description\",\n",
    "    \"price\": 45,\n",
    "    \"tax\": 3\n",
    "}"
   ]
  },
  {
   "cell_type": "code",
   "execution_count": 103,
   "id": "d32c6604-6454-44bd-8278-ec9a4d7beae9",
   "metadata": {},
   "outputs": [
    {
     "data": {
      "text/plain": [
       "'{\"name\":\"Foo\",\"description\":\"An optional description\",\"price\":45,\"tax\":3,\"path_parm\":1,\"query_parms\":123}'"
      ]
     },
     "execution_count": 103,
     "metadata": {},
     "output_type": "execute_result"
    }
   ],
   "source": [
    "req = requests.post('http://127.0.0.1:4444/pth/1?query_param=123',json.dumps(json_data))\n",
    "req.content.decode('utf-8')"
   ]
  },
  {
   "cell_type": "markdown",
   "id": "af0d8050-48b1-47f5-b716-d84b92a94f71",
   "metadata": {},
   "source": [
    "<h1 style=\"text-align:center; color:green; font-size:30px; font-family:Sans-serif; font-style: oblique; text-shadow: 0 0 3px white, 0 0 1px Black;\">Summary Request body + path + query parameters</h1><hr>"
   ]
  },
  {
   "cell_type": "markdown",
   "id": "0cd197a7-9fa6-4e47-bdd7-2340f13689c9",
   "metadata": {},
   "source": [
    "<!DOCTYPE html>\n",
    "<html lang=\"en\">\n",
    "<head>\n",
    "    <meta charset=\"UTF-8\">\n",
    "    <meta name=\"viewport\" content=\"width=device-width, initial-scale=1.0\">\n",
    "</head>\n",
    "<body style=\"font-family: Sans-serif;\">\n",
    "    <div style=\"color: green; font-size: 18px; font-style: oblique; text-shadow: 0 0 3px white, 0 0 1px black; border: 8px double black; padding: 20px;\">\n",
    "        <ul>\n",
    "            <h3><li><code>app = FastAPI()</code></li></h3>\n",
    "            <h4 style=\"color: red;\">Explanation: Ye line FastAPI ka ek instance create karti hai jo hamari web application ko represent karta hai.</h4>\n",
    "        </ul>\n",
    "        <hr style=\"margin: 20px 0;\">\n",
    "        <ul>\n",
    "            <h3><li><code>@app.post(\"/pth/{path_param}\")</code></li></h3>\n",
    "            <h4 style=\"color: red;\">Explanation: Ye decorator define karta hai ke jab POST request <code>\"/pth/{path_param}\"</code> path par aayegi to kaunsa function call hoga. Yahan <code>data</code> function ko call kiya jayega.</h4>\n",
    "        </ul>\n",
    "        <hr style=\"margin: 20px 0;\">\n",
    "        <ul>\n",
    "            <h3><li><code>async def data(path_param: int, body_req: required_data, query_param: int | None = None):</code></li></h3>\n",
    "            <h4 style=\"color: red;\">Explanation: Ye asynchronous function hai jo <code>\"/pth/{path_param}\"</code> path par POST request aane par call hota hai. Is function ke teen parameters hain:</h4>\n",
    "            <h4 style=\"color: blue;\">\n",
    "                <ul>\n",
    "                    <li><code>path_param: int</code> - Yeh ek path parameter hai jo integer type ka hai. Yeh URL se value leta hai.</li>\n",
    "                    <li><code>body_req: required_data</code> - Yeh request body ka parameter hai jo <code>required_data</code> model ka instance hai. POST request ke body mein yeh data JSON format mein hona chahiye.</li>\n",
    "                    <li><code>query_param: int | None = None</code> - Yeh ek optional query parameter hai jo integer type ka hai. Iski default value <code>None</code> set ki gayi hai.</li>\n",
    "                </ul>\n",
    "            </h4>\n",
    "            <h4 style=\"color: red;\">\n",
    "                <ul>\n",
    "                    <li><code>path_param</code> - Pehla parameter hona chahiye, jo path se value ko extract karega.</li>\n",
    "                    <li><code>body_req</code> - Dusra parameter hona chahiye, jo body ke data ko represent karega.</li>\n",
    "                    <li><code>query_param</code> - Teesra parameter hona chahiye, jo optional query parameter hai.</li>\n",
    "                </ul>\n",
    "            </h4>\n",
    "        </ul>\n",
    "        <hr style=\"margin: 20px 0;\">\n",
    "        <ul>\n",
    "            <h3><li><code>data = body_req.model_dump()</code></li></h3>\n",
    "            <h4 style=\"color: red;\">Explanation: Yeh line <code>body_req</code> object ko dictionary mein convert karti hai. <code>model_dump()</code> method use kiya gaya hai jo model instance ko dictionary mein dump karta hai.</h4>\n",
    "        </ul>\n",
    "        <hr style=\"margin: 20px 0;\">\n",
    "        <ul>\n",
    "            <h3><li><code>data.update({'path_param': path_param, 'query_param': query_param})</code></li></h3>\n",
    "            <h4 style=\"color: red;\">Explanation: Yeh line dictionary <code>data</code> mein nayi key-value pairs add karti hai jahan <code>path_param</code> aur <code>query_param</code> ke values ko store kiya jata hai.</h4>\n",
    "        </ul>\n",
    "        <hr style=\"margin: 20px 0;\">\n",
    "        <ul>\n",
    "            <h3><li><code>return data</code></li></h3>\n",
    "            <h4 style=\"color: red;\">Explanation: Yeh function updated dictionary <code>data</code> ko JSON response ke taur par return karta hai.</h4>\n",
    "        </ul>\n",
    "    </div>\n",
    "</body>\n",
    "</html>\n"
   ]
  }
 ],
 "metadata": {
  "kernelspec": {
   "display_name": "Python 3 (ipykernel)",
   "language": "python",
   "name": "python3"
  },
  "language_info": {
   "codemirror_mode": {
    "name": "ipython",
    "version": 3
   },
   "file_extension": ".py",
   "mimetype": "text/x-python",
   "name": "python",
   "nbconvert_exporter": "python",
   "pygments_lexer": "ipython3",
   "version": "3.12.1"
  }
 },
 "nbformat": 4,
 "nbformat_minor": 5
}
