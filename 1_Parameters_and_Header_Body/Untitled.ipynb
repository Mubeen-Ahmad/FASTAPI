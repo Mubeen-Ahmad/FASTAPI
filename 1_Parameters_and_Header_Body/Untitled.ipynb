{
 "cells": [
  {
   "cell_type": "code",
   "execution_count": 2,
   "id": "9373d2d5-d0bf-4922-9dbf-9346c5549436",
   "metadata": {},
   "outputs": [],
   "source": [
    "from fastapi import FastAPI\n",
    "import uvicorn\n",
    "import nest_asyncio\n",
    "import requests"
   ]
  },
  {
   "cell_type": "code",
   "execution_count": 17,
   "id": "a84ae9c7-8d09-4c45-b998-80877de38022",
   "metadata": {},
   "outputs": [
    {
     "name": "stderr",
     "output_type": "stream",
     "text": [
      "INFO:     Started server process [5660]\n",
      "INFO:     Waiting for application startup.\n",
      "INFO:     Application startup complete.\n",
      "INFO:     Uvicorn running on http://127.0.0.1:4444 (Press CTRL+C to quit)\n"
     ]
    },
    {
     "name": "stdout",
     "output_type": "stream",
     "text": [
      "INFO:     127.0.0.1:54160 - \"GET /furits/data/?filter_=category&by=fruits HTTP/1.1\" 200 OK\n",
      "INFO:     127.0.0.1:54161 - \"GET /furits/data/?filter_=category&by=vegetables HTTP/1.1\" 200 OK\n",
      "INFO:     127.0.0.1:54162 - \"GET /furits/data/?filter_=item_name&by=Carrot HTTP/1.1\" 200 OK\n"
     ]
    },
    {
     "name": "stderr",
     "output_type": "stream",
     "text": [
      "INFO:     Shutting down\n",
      "INFO:     Waiting for application shutdown.\n",
      "INFO:     Application shutdown complete.\n",
      "INFO:     Finished server process [5660]\n"
     ]
    }
   ],
   "source": [
    "app = FastAPI()\n",
    "\n",
    "fake_items_db = [\n",
    "    {\"item_name\": \"Apple\", \"price\": 10, \"category\": \"fruits\"},\n",
    "    {\"item_name\": \"Banana\", \"price\": 5, \"category\": \"fruits\"},\n",
    "    {\"item_name\": \"Carrot\", \"price\": 3, \"category\": \"vegetables\"},\n",
    "    {\"item_name\": \"Broccoli\", \"price\": 4, \"category\": \"vegetables\"},\n",
    "]\n",
    "\n",
    "\n",
    "@app.get(\"/furits/data/\")\n",
    "async def read_item(filter_: str = None,by : str = None):\n",
    "\n",
    "    items = fake_items_db.copy()\n",
    "    \n",
    "    if filter_:\n",
    "        items = [i for i in items if i.get(filter_) == by]\n",
    "    \n",
    "    return items\n",
    "\n",
    "\n",
    "if __name__ == \"__main__\":\n",
    "    nest_asyncio.apply()\n",
    "    uvicorn.run(app,port=4444)"
   ]
  }
 ],
 "metadata": {
  "kernelspec": {
   "display_name": "Python 3 (ipykernel)",
   "language": "python",
   "name": "python3"
  },
  "language_info": {
   "codemirror_mode": {
    "name": "ipython",
    "version": 3
   },
   "file_extension": ".py",
   "mimetype": "text/x-python",
   "name": "python",
   "nbconvert_exporter": "python",
   "pygments_lexer": "ipython3",
   "version": "3.12.1"
  }
 },
 "nbformat": 4,
 "nbformat_minor": 5
}
