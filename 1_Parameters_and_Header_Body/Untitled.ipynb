{
 "cells": [
  {
   "cell_type": "code",
   "execution_count": 4,
   "id": "153a0f69-d284-4ffc-af15-28cbf0eeaf51",
   "metadata": {
    "tags": []
   },
   "outputs": [],
   "source": [
    "import json\n",
    "from typing import Annotated\n",
    "\n",
    "import nest_asyncio\n",
    "import requests\n",
    "import uvicorn\n",
    "from fastapi import FastAPI, Query,Path"
   ]
  },
  {
   "cell_type": "code",
   "execution_count": 67,
   "id": "cd64a532-e586-4c7b-9270-34c6c1a32516",
   "metadata": {
    "tags": []
   },
   "outputs": [
    {
     "name": "stderr",
     "output_type": "stream",
     "text": [
      "INFO:     Started server process [89962]\n",
      "INFO:     Waiting for application startup.\n",
      "INFO:     Application startup complete.\n",
      "INFO:     Uvicorn running on http://127.0.0.1:4444 (Press CTRL+C to quit)\n"
     ]
    },
    {
     "name": "stdout",
     "output_type": "stream",
     "text": [
      "INFO:     127.0.0.1:41888 - \"GET /simple_query/?query_params=123 HTTP/1.1\" 307 Temporary Redirect\n",
      "INFO:     127.0.0.1:41888 - \"GET /simple_query?query_params=123 HTTP/1.1\" 200 OK\n",
      "INFO:     127.0.0.1:42172 - \"GET /validate_query/?query_params=123 HTTP/1.1\" 307 Temporary Redirect\n",
      "INFO:     127.0.0.1:42172 - \"GET /validate_query?query_params=123 HTTP/1.1\" 200 OK\n",
      "INFO:     127.0.0.1:42178 - \"GET /validate_query/?query_params=123w HTTP/1.1\" 307 Temporary Redirect\n",
      "INFO:     127.0.0.1:42178 - \"GET /validate_query?query_params=123w HTTP/1.1\" 200 OK\n",
      "INFO:     127.0.0.1:42190 - \"GET /validate_query/?query_params=12 HTTP/1.1\" 307 Temporary Redirect\n",
      "INFO:     127.0.0.1:42190 - \"GET /validate_query?query_params=12 HTTP/1.1\" 422 Unprocessable Entity\n",
      "INFO:     127.0.0.1:42954 - \"GET /validate_query/?query_params=123 HTTP/1.1\" 307 Temporary Redirect\n",
      "INFO:     127.0.0.1:42954 - \"GET /validate_query?query_params=123 HTTP/1.1\" 200 OK\n",
      "INFO:     127.0.0.1:42968 - \"GET /simple_query/?query_params=12 HTTP/1.1\" 307 Temporary Redirect\n",
      "INFO:     127.0.0.1:42968 - \"GET /simple_query?query_params=12 HTTP/1.1\" 200 OK\n",
      "INFO:     127.0.0.1:41634 - \"GET /readable_validate_path/?query_params=123 HTTP/1.1\" 307 Temporary Redirect\n",
      "INFO:     127.0.0.1:41634 - \"GET /readable_validate_path?query_params=123 HTTP/1.1\" 200 OK\n"
     ]
    },
    {
     "name": "stderr",
     "output_type": "stream",
     "text": [
      "INFO:     Shutting down\n",
      "INFO:     Waiting for application shutdown.\n",
      "INFO:     Application shutdown complete.\n",
      "INFO:     Finished server process [89962]\n"
     ]
    }
   ],
   "source": [
    "app = FastAPI()\n",
    "\n",
    "\n",
    "@app.get(\"/simple_path/{params}\")\n",
    "async def exp1(params: str):\n",
    "    return {\"params\": params}\n",
    "\n",
    "\n",
    "@app.get(\"/validate_path/{params}\")\n",
    "async def exp2(params: str = Path(min_length=3)):\n",
    "    return {\"params\": params}\n",
    "\n",
    "\n",
    "@app.get(\"/readable_validate_path/{params}\")\n",
    "async def exp3(params: Annotated[str , Path(min_length=3)]):\n",
    "    return {\"params\": params}\n",
    "\n",
    "# ----------------------------------------------------------------\n",
    "\n",
    "@app.get(\"/simple_query\")\n",
    "async def exp4(query_params: str):\n",
    "    return {\"params\": query_params}\n",
    "\n",
    "@app.get(\"/validate_query\")\n",
    "async def exp5(query_params: str = Query(min_length=3)):\n",
    "    return {\"params\": query_params}\n",
    "\n",
    "@app.get(\"/readable_validate_path\")\n",
    "async def exp6(query_params: Annotated[str , Query(min_length=3)]):\n",
    "    return {\"params\": query_params}\n",
    "\n",
    "\n",
    "\n",
    "if __name__ == \"__main__\":\n",
    "    nest_asyncio.apply()\n",
    "    uvicorn.run(app, port=4444)"
   ]
  },
  {
   "cell_type": "code",
   "execution_count": null,
   "id": "55d652bb-bd55-49b9-a82c-f33197d2a6ce",
   "metadata": {},
   "outputs": [],
   "source": []
  }
 ],
 "metadata": {
  "kernelspec": {
   "display_name": "Python 3 (ipykernel)",
   "language": "python",
   "name": "python3"
  },
  "language_info": {
   "codemirror_mode": {
    "name": "ipython",
    "version": 3
   },
   "file_extension": ".py",
   "mimetype": "text/x-python",
   "name": "python",
   "nbconvert_exporter": "python",
   "pygments_lexer": "ipython3",
   "version": "3.10.12"
  }
 },
 "nbformat": 4,
 "nbformat_minor": 5
}
