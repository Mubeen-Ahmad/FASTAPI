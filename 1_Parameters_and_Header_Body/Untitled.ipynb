{
 "cells": [
  {
   "cell_type": "code",
   "execution_count": 23,
   "id": "4b9bcfa4-903f-42ef-a7d5-11772e1e7f59",
   "metadata": {
    "tags": []
   },
   "outputs": [],
   "source": [
    "import requests\n",
    "from fastapi import FastAPI\n",
    "from pydantic import BaseModel\n",
    "from nest_asyncio import apply\n",
    "import uvicorn\n",
    "\n",
    "from typing import Any\n",
    "from fastapi.responses import RedirectResponse"
   ]
  },
  {
   "cell_type": "code",
   "execution_count": 31,
   "id": "1ec72da0-a4ab-4854-922c-bd25d00c97eb",
   "metadata": {
    "tags": []
   },
   "outputs": [],
   "source": [
    "from fastapi.encoders import jsonable_encoder\n",
    "fake_db = {}"
   ]
  },
  {
   "cell_type": "code",
   "execution_count": 37,
   "id": "6331ece8-2d0b-4d17-9715-f65f95b13164",
   "metadata": {
    "tags": []
   },
   "outputs": [
    {
     "name": "stderr",
     "output_type": "stream",
     "text": [
      "INFO:     Started server process [102663]\n",
      "INFO:     Waiting for application startup.\n",
      "INFO:     Application startup complete.\n",
      "INFO:     Uvicorn running on http://127.0.0.1:4444 (Press CTRL+C to quit)\n"
     ]
    },
    {
     "name": "stdout",
     "output_type": "stream",
     "text": [
      "INFO:     127.0.0.1:39326 - \"POST /items/1 HTTP/1.1\" 200 OK\n"
     ]
    },
    {
     "name": "stderr",
     "output_type": "stream",
     "text": [
      "INFO:     Shutting down\n",
      "INFO:     Waiting for application shutdown.\n",
      "INFO:     Application shutdown complete.\n",
      "INFO:     Finished server process [102663]\n"
     ]
    }
   ],
   "source": [
    "app = FastAPI()\n",
    "\n",
    "class Item(BaseModel):\n",
    "    title: str\n",
    "    description: str | None = None\n",
    "\n",
    "\n",
    "app = FastAPI()\n",
    "@app.post(\"/items/{id}\")\n",
    "def update_item(id: str, item: Item):\n",
    "    json_compatible_item_data = jsonable_encoder(item)\n",
    "    fake_db[id] = json_compatible_item_data\n",
    "    \n",
    "    return JSONResponse(content={'message':'database updated'})\n",
    "\n",
    "\n",
    "if __name__ == \"__main__\":\n",
    "    apply()\n",
    "    uvicorn.run(app,port=4444)"
   ]
  },
  {
   "cell_type": "code",
   "execution_count": 34,
   "id": "c2b56308-c69a-4b76-bfa0-6d227f5f0726",
   "metadata": {
    "tags": []
   },
   "outputs": [
    {
     "data": {
      "text/plain": [
       "'{\"message\":\"database updated\"}'"
      ]
     },
     "execution_count": 34,
     "metadata": {},
     "output_type": "execute_result"
    }
   ],
   "source": [
    "data = {'title':'test','description':'this is a test'}\n",
    "res = requests.post(\"http://127.0.0.1:4444/items/1\",json=data)\n",
    "res.content.decode('utf-8')"
   ]
  }
 ],
 "metadata": {
  "kernelspec": {
   "display_name": "Python 3 (ipykernel)",
   "language": "python",
   "name": "python3"
  },
  "language_info": {
   "codemirror_mode": {
    "name": "ipython",
    "version": 3
   },
   "file_extension": ".py",
   "mimetype": "text/x-python",
   "name": "python",
   "nbconvert_exporter": "python",
   "pygments_lexer": "ipython3",
   "version": "3.10.12"
  }
 },
 "nbformat": 4,
 "nbformat_minor": 5
}
