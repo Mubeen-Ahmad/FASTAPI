{
 "cells": [
  {
   "cell_type": "code",
   "execution_count": 33,
   "id": "4b9bcfa4-903f-42ef-a7d5-11772e1e7f59",
   "metadata": {
    "tags": []
   },
   "outputs": [],
   "source": [
    "import requests\n",
    "from fastapi import FastAPI,Header\n",
    "from pydantic import BaseModel\n",
    "from nest_asyncio import apply\n",
    "import uvicorn\n",
    "\n",
    "from typing import Any\n",
    "from fastapi.responses import RedirectResponse\n",
    "from fastapi.responses import ORJSONResponse"
   ]
  },
  {
   "cell_type": "code",
   "execution_count": 13,
   "id": "1ec72da0-a4ab-4854-922c-bd25d00c97eb",
   "metadata": {
    "tags": []
   },
   "outputs": [],
   "source": [
    "from fastapi.encoders import jsonable_encoder\n",
    "from fastapi.responses import HTMLResponse,PlainTextResponse\n",
    "from fastapi.responses import Response,PlainTextResponse\n",
    "from fastapi.responses import StreamingResponse"
   ]
  },
  {
   "cell_type": "code",
   "execution_count": 16,
   "id": "2c1c6b3c-6094-4a88-ae6a-aada80afbe8e",
   "metadata": {
    "tags": []
   },
   "outputs": [],
   "source": []
  },
  {
   "cell_type": "code",
   "execution_count": null,
   "id": "86323197-0d0d-4204-8926-59e58f60b2a6",
   "metadata": {},
   "outputs": [],
   "source": []
  },
  {
   "cell_type": "code",
   "execution_count": null,
   "id": "6331ece8-2d0b-4d17-9715-f65f95b13164",
   "metadata": {
    "tags": []
   },
   "outputs": [
    {
     "name": "stderr",
     "output_type": "stream",
     "text": [
      "INFO:     Started server process [788506]\n",
      "INFO:     Waiting for application startup.\n",
      "INFO:     Application startup complete.\n",
      "INFO:     Uvicorn running on http://127.0.0.1:4444 (Press CTRL+C to quit)\n"
     ]
    },
    {
     "name": "stdout",
     "output_type": "stream",
     "text": [
      "INFO:     127.0.0.1:52840 - \"GET /index/ HTTP/1.1\" 404 Not Found\n",
      "INFO:     127.0.0.1:52846 - \"GET / HTTP/1.1\" 200 OK\n",
      "INFO:     127.0.0.1:52848 - \"GET / HTTP/1.1\" 200 OK\n",
      "INFO:     127.0.0.1:59754 - \"GET / HTTP/1.1\" 200 OK\n",
      "INFO:     127.0.0.1:59768 - \"GET / HTTP/1.1\" 200 OK\n",
      "INFO:     127.0.0.1:34198 - \"GET / HTTP/1.1\" 200 OK\n"
     ]
    }
   ],
   "source": [
    "app = FastAPI()\n",
    "\n",
    "CHUNK_SIZE = 1024*1024 # 1 Mb per chunk\n",
    "path = '../temp/sample.mp4'\n",
    "\n",
    "async def read_video_chunks(file_path):\n",
    "    with open(file_path, \"rb\") as video_file:\n",
    "        while True:\n",
    "            chunk = video_file.read(CHUNK_SIZE)\n",
    "            if not chunk:\n",
    "                break\n",
    "            yield chunk\n",
    "        \n",
    "@app.get(\"/\")\n",
    "async def main():\n",
    "    return StreamingResponse(read_video_chunks(path) ,media_type=\"video/mp4\")\n",
    "\n",
    "if __name__ == \"__main__\":\n",
    "    apply()\n",
    "    uvicorn.run(app,port=4444)"
   ]
  },
  {
   "cell_type": "code",
   "execution_count": null,
   "id": "5722b3b6-437e-4ff6-803b-2b8f4422c657",
   "metadata": {
    "tags": []
   },
   "outputs": [],
   "source": []
  },
  {
   "cell_type": "code",
   "execution_count": 39,
   "id": "0e4c8aaf-9daf-4f16-8d57-56dcce560f0d",
   "metadata": {
    "tags": []
   },
   "outputs": [
    {
     "name": "stderr",
     "output_type": "stream",
     "text": [
      "INFO:     Started server process [788506]\n",
      "INFO:     Waiting for application startup.\n",
      "INFO:     Application startup complete.\n",
      "INFO:     Uvicorn running on http://127.0.0.1:4444 (Press CTRL+C to quit)\n"
     ]
    },
    {
     "name": "stdout",
     "output_type": "stream",
     "text": [
      "INFO:     127.0.0.1:57434 - \"GET / HTTP/1.1\" 200 OK\n",
      "INFO:     127.0.0.1:34618 - \"GET / HTTP/1.1\" 200 OK\n",
      "INFO:     127.0.0.1:46526 - \"GET / HTTP/1.1\" 200 OK\n",
      "INFO:     127.0.0.1:46540 - \"GET / HTTP/1.1\" 200 OK\n",
      "INFO:     127.0.0.1:47694 - \"GET / HTTP/1.1\" 200 OK\n",
      "INFO:     127.0.0.1:56136 - \"GET / HTTP/1.1\" 200 OK\n",
      "INFO:     127.0.0.1:56144 - \"GET / HTTP/1.1\" 200 OK\n",
      "INFO:     127.0.0.1:56148 - \"GET / HTTP/1.1\" 200 OK\n",
      "INFO:     127.0.0.1:56162 - \"GET / HTTP/1.1\" 200 OK\n",
      "INFO:     127.0.0.1:56174 - \"GET / HTTP/1.1\" 200 OK\n",
      "INFO:     127.0.0.1:56190 - \"GET / HTTP/1.1\" 200 OK\n",
      "INFO:     127.0.0.1:56192 - \"GET / HTTP/1.1\" 200 OK\n",
      "INFO:     127.0.0.1:56208 - \"GET / HTTP/1.1\" 200 OK\n"
     ]
    },
    {
     "name": "stderr",
     "output_type": "stream",
     "text": [
      "INFO:     Shutting down\n",
      "INFO:     Waiting for application shutdown.\n",
      "INFO:     Application shutdown complete.\n",
      "INFO:     Finished server process [788506]\n"
     ]
    }
   ],
   "source": [
    "video_path = '../temp/sample.mp4'\n",
    "\n",
    "CHUNK_SIZE = 1048 * 1048   # 1 MB chunk size\n",
    "\n",
    "@app.get(\"/video\")\n",
    "async def video_endpoint(range: str = Header(None)):\n",
    "    start, end = range.replace(\"bytes=\", \"\").split(\"-\")\n",
    "    start = int(start)\n",
    "    end = int(end) if end else start + CHUNK_SIZE\n",
    "    filesize = str(video_path.stat().st_size)\n",
    "    print(filesize)\n",
    "    headers = {\n",
    "        'Content-Range': f'bytes {start}-{end-1}/{filesize}',\n",
    "        'Accept-Ranges': 'bytes'\n",
    "    }\n",
    "\n",
    "    def video_stream():\n",
    "        with open(video_path, \"rb\") as video:\n",
    "            video.seek(start)\n",
    "            while True:\n",
    "                chunk = video.read(CHUNK_SIZE)\n",
    "                if not chunk:\n",
    "                    break\n",
    "                yield chunk\n",
    "\n",
    "    return StreamingResponse(video_stream(), media_type=\"video/mp4\", status_code=206, headers=headers)\n",
    "\n",
    "if __name__ == \"__main__\":\n",
    "    apply()\n",
    "    uvicorn.run(app,port=4444)"
   ]
  }
 ],
 "metadata": {
  "kernelspec": {
   "display_name": "Python 3 (ipykernel)",
   "language": "python",
   "name": "python3"
  },
  "language_info": {
   "codemirror_mode": {
    "name": "ipython",
    "version": 3
   },
   "file_extension": ".py",
   "mimetype": "text/x-python",
   "name": "python",
   "nbconvert_exporter": "python",
   "pygments_lexer": "ipython3",
   "version": "3.10.12"
  }
 },
 "nbformat": 4,
 "nbformat_minor": 5
}
