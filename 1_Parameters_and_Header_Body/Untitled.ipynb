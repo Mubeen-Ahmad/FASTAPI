{
 "cells": [
  {
   "cell_type": "code",
   "execution_count": 8,
   "id": "153a0f69-d284-4ffc-af15-28cbf0eeaf51",
   "metadata": {
    "tags": []
   },
   "outputs": [],
   "source": [
    "import json\n",
    "from typing import Annotated\n",
    "\n",
    "import nest_asyncio\n",
    "import requests\n",
    "import uvicorn\n",
    "from fastapi import FastAPI, Query,Path,Body\n",
    "from pydantic import BaseModel\n",
    "from typing import Any\n"
   ]
  },
  {
   "cell_type": "code",
   "execution_count": null,
   "id": "91b6bc50-0375-4562-8a26-e9c7fd339e82",
   "metadata": {
    "tags": []
   },
   "outputs": [
    {
     "name": "stderr",
     "output_type": "stream",
     "text": [
      "INFO:     Started server process [5080]\n",
      "INFO:     Waiting for application startup.\n",
      "INFO:     Application startup complete.\n",
      "INFO:     Uvicorn running on http://127.0.0.1:4444 (Press CTRL+C to quit)\n"
     ]
    },
    {
     "name": "stdout",
     "output_type": "stream",
     "text": [
      "INFO:     127.0.0.1:55144 - \"POST /notsecure/ HTTP/1.1\" 200 OK\n",
      "INFO:     127.0.0.1:55145 - \"POST /secure/ HTTP/1.1\" 200 OK\n"
     ]
    }
   ],
   "source": [
    "app = FastAPI()\n",
    "\n",
    "class UserInput(BaseModel):\n",
    "    username: str\n",
    "    password: str  # Sensitive field\n",
    "\n",
    "class UserOutput(BaseModel):\n",
    "    username: str\n",
    "\n",
    "\n",
    "@app.post(\"/notsecure/\")\n",
    "async def create_user(user: UserInput):\n",
    "    return user  \n",
    "\n",
    "\n",
    "@app.post(\"/secure/\", response_model=UserOutput)\n",
    "async def create_user(user: UserInput):\n",
    "    return user\n",
    "    \n",
    "\n",
    "if __name__ == \"__main__\":\n",
    "    nest_asyncio.apply()\n",
    "    uvicorn.run(app, port=4444)"
   ]
  },
  {
   "cell_type": "code",
   "execution_count": null,
   "id": "55d652bb-bd55-49b9-a82c-f33197d2a6ce",
   "metadata": {},
   "outputs": [],
   "source": []
  }
 ],
 "metadata": {
  "kernelspec": {
   "display_name": "Python 3 (ipykernel)",
   "language": "python",
   "name": "python3"
  },
  "language_info": {
   "codemirror_mode": {
    "name": "ipython",
    "version": 3
   },
   "file_extension": ".py",
   "mimetype": "text/x-python",
   "name": "python",
   "nbconvert_exporter": "python",
   "pygments_lexer": "ipython3",
   "version": "3.12.1"
  }
 },
 "nbformat": 4,
 "nbformat_minor": 5
}
