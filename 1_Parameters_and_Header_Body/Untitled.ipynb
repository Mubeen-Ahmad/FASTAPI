{
 "cells": [
  {
   "cell_type": "code",
   "execution_count": 4,
   "id": "153a0f69-d284-4ffc-af15-28cbf0eeaf51",
   "metadata": {
    "tags": []
   },
   "outputs": [],
   "source": [
    "import json\n",
    "from typing import Annotated\n",
    "\n",
    "import nest_asyncio\n",
    "import requests\n",
    "import uvicorn\n",
    "from fastapi import FastAPI, Query,Path,Body\n",
    "from pydantic import BaseModel"
   ]
  },
  {
   "cell_type": "code",
   "execution_count": 5,
   "id": "91b6bc50-0375-4562-8a26-e9c7fd339e82",
   "metadata": {
    "tags": []
   },
   "outputs": [],
   "source": [
    "class Item(BaseModel):\n",
    "    name: str\n",
    "    description: str | None = None\n",
    "    price: float\n",
    "    tax: float | None = None\n",
    "\n",
    "\n",
    "class User(BaseModel):\n",
    "    username: str\n",
    "    full_name: str | None = None"
   ]
  },
  {
   "cell_type": "code",
   "execution_count": 28,
   "id": "840c4c04-4e44-4f09-8f8c-05ac7f6015bc",
   "metadata": {
    "tags": []
   },
   "outputs": [
    {
     "data": {
      "text/plain": [
       "'Query'"
      ]
     },
     "execution_count": 28,
     "metadata": {},
     "output_type": "execute_result"
    }
   ],
   "source": [
    "importance = 1\n",
    "#isinstance(Query())\n",
    "type(Query()).__name__"
   ]
  },
  {
   "cell_type": "code",
   "execution_count": null,
   "id": "cd64a532-e586-4c7b-9270-34c6c1a32516",
   "metadata": {
    "tags": []
   },
   "outputs": [
    {
     "name": "stderr",
     "output_type": "stream",
     "text": [
      "INFO:     Started server process [5536]\n",
      "INFO:     Waiting for application startup.\n",
      "INFO:     Application startup complete.\n",
      "INFO:     Uvicorn running on http://127.0.0.1:4444 (Press CTRL+C to quit)\n"
     ]
    },
    {
     "name": "stdout",
     "output_type": "stream",
     "text": [
      "INFO:     127.0.0.1:51107 - \"POST /index/ HTTP/1.1\" 200 OK\n",
      "INFO:     127.0.0.1:51108 - \"POST /index/ HTTP/1.1\" 200 OK\n",
      "INFO:     127.0.0.1:51109 - \"POST /index/ HTTP/1.1\" 422 Unprocessable Entity\n",
      "INFO:     127.0.0.1:51110 - \"POST /index/ HTTP/1.1\" 200 OK\n"
     ]
    }
   ],
   "source": [
    "class Item(BaseModel):\n",
    "    tags: list = []\n",
    "\n",
    "app = FastAPI()\n",
    "\n",
    "@app.post('/index/')\n",
    "async def index(item:Item):\n",
    "    return item\n",
    "\n",
    "if __name__ == \"__main__\":\n",
    "    nest_asyncio.apply()\n",
    "    uvicorn.run(app, port=4444)"
   ]
  },
  {
   "cell_type": "code",
   "execution_count": null,
   "id": "55d652bb-bd55-49b9-a82c-f33197d2a6ce",
   "metadata": {},
   "outputs": [],
   "source": []
  }
 ],
 "metadata": {
  "kernelspec": {
   "display_name": "Python 3 (ipykernel)",
   "language": "python",
   "name": "python3"
  },
  "language_info": {
   "codemirror_mode": {
    "name": "ipython",
    "version": 3
   },
   "file_extension": ".py",
   "mimetype": "text/x-python",
   "name": "python",
   "nbconvert_exporter": "python",
   "pygments_lexer": "ipython3",
   "version": "3.12.1"
  }
 },
 "nbformat": 4,
 "nbformat_minor": 5
}
