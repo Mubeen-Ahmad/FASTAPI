{
 "cells": [
  {
   "cell_type": "code",
   "execution_count": 4,
   "id": "153a0f69-d284-4ffc-af15-28cbf0eeaf51",
   "metadata": {
    "tags": []
   },
   "outputs": [],
   "source": [
    "import json\n",
    "from typing import Annotated\n",
    "\n",
    "import nest_asyncio\n",
    "import requests\n",
    "import uvicorn\n",
    "from fastapi import FastAPI, Query,Path\n",
    "from pydantic import BaseModel"
   ]
  },
  {
   "cell_type": "code",
   "execution_count": 12,
   "id": "cd64a532-e586-4c7b-9270-34c6c1a32516",
   "metadata": {
    "tags": []
   },
   "outputs": [
    {
     "name": "stdout",
     "output_type": "stream",
     "text": [
      "Path parameters cannot have default values\n"
     ]
    },
    {
     "name": "stderr",
     "output_type": "stream",
     "text": [
      "INFO:     Started server process [8232]\n",
      "INFO:     Waiting for application startup.\n",
      "INFO:     Application startup complete.\n",
      "INFO:     Uvicorn running on http://127.0.0.1:4444 (Press CTRL+C to quit)\n"
     ]
    },
    {
     "name": "stdout",
     "output_type": "stream",
     "text": [
      "INFO:     127.0.0.1:61525 - \"GET /index/ HTTP/1.1\" 200 OK\n",
      "INFO:     127.0.0.1:61526 - \"GET /query/ HTTP/1.1\" 200 OK\n",
      "INFO:     127.0.0.1:61527 - \"GET /params/ HTTP/1.1\" 404 Not Found\n"
     ]
    },
    {
     "name": "stderr",
     "output_type": "stream",
     "text": [
      "INFO:     Shutting down\n",
      "INFO:     Waiting for application shutdown.\n",
      "INFO:     Application shutdown complete.\n",
      "INFO:     Finished server process [8232]\n"
     ]
    }
   ],
   "source": [
    "app = FastAPI()\n",
    "\n",
    "class form_data(BaseModel):\n",
    "    name : str | None\n",
    "\n",
    "@app.get(\"/index/\")\n",
    "async def reponse_data(data:form_data = None):\n",
    "    return data\n",
    "\n",
    "@app.get('/query/')\n",
    "async def marks(param:Annotated[int,Query(...)] = None):\n",
    "    return {\"marks\":param}\n",
    "\n",
    "\n",
    "try:\n",
    "    @app.get('/path_parameter/{params}')\n",
    "    async def path_(params:Annotated[int,Query(...)] = None):\n",
    "        return {\"params\":params}\n",
    "except Exception as e:\n",
    "    print(e)\n",
    "\n",
    "if __name__ == \"__main__\":\n",
    "    nest_asyncio.apply()\n",
    "    uvicorn.run(app, port=4444)"
   ]
  },
  {
   "cell_type": "code",
   "execution_count": null,
   "id": "55d652bb-bd55-49b9-a82c-f33197d2a6ce",
   "metadata": {},
   "outputs": [],
   "source": []
  }
 ],
 "metadata": {
  "kernelspec": {
   "display_name": "Python 3 (ipykernel)",
   "language": "python",
   "name": "python3"
  },
  "language_info": {
   "codemirror_mode": {
    "name": "ipython",
    "version": 3
   },
   "file_extension": ".py",
   "mimetype": "text/x-python",
   "name": "python",
   "nbconvert_exporter": "python",
   "pygments_lexer": "ipython3",
   "version": "3.12.1"
  }
 },
 "nbformat": 4,
 "nbformat_minor": 5
}
