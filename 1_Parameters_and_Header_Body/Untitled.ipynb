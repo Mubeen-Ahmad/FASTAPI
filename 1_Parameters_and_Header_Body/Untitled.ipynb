{
 "cells": [
  {
   "cell_type": "code",
   "execution_count": 2,
   "id": "153a0f69-d284-4ffc-af15-28cbf0eeaf51",
   "metadata": {
    "tags": []
   },
   "outputs": [],
   "source": [
    "import json\n",
    "from typing import Annotated\n",
    "\n",
    "import nest_asyncio\n",
    "import requests\n",
    "import uvicorn\n",
    "from fastapi import FastAPI, Query,Path\n",
    "from pydantic import BaseModel"
   ]
  },
  {
   "cell_type": "code",
   "execution_count": null,
   "id": "cd64a532-e586-4c7b-9270-34c6c1a32516",
   "metadata": {
    "tags": []
   },
   "outputs": [
    {
     "name": "stderr",
     "output_type": "stream",
     "text": [
      "INFO:     Started server process [109236]\n",
      "INFO:     Waiting for application startup.\n",
      "INFO:     Application startup complete.\n",
      "INFO:     Uvicorn running on http://127.0.0.1:4444 (Press CTRL+C to quit)\n"
     ]
    },
    {
     "name": "stdout",
     "output_type": "stream",
     "text": [
      "INFO:     127.0.0.1:57708 - \"GET /page1/12 HTTP/1.1\" 404 Not Found\n",
      "INFO:     127.0.0.1:46818 - \"GET /page1/?age=12 HTTP/1.1\" 200 OK\n",
      "INFO:     127.0.0.1:42382 - \"GET /page1/?age=1 HTTP/1.1\" 422 Unprocessable Entity\n",
      "INFO:     127.0.0.1:47934 - \"GET /page1/?age=11 HTTP/1.1\" 422 Unprocessable Entity\n",
      "INFO:     127.0.0.1:38316 - \"GET /page1/?age=11 HTTP/1.1\" 422 Unprocessable Entity\n",
      "INFO:     127.0.0.1:38322 - \"GET /page1/?age=12 HTTP/1.1\" 200 OK\n",
      "INFO:     127.0.0.1:36594 - \"GET /page1/?age=12 HTTP/1.1\" 200 OK\n",
      "INFO:     127.0.0.1:36604 - \"GET /page1/?age=12 HTTP/1.1\" 200 OK\n",
      "INFO:     127.0.0.1:36614 - \"GET /page1/?age=12 HTTP/1.1\" 200 OK\n",
      "INFO:     127.0.0.1:36628 - \"GET /page1/?age=11 HTTP/1.1\" 422 Unprocessable Entity\n",
      "INFO:     127.0.0.1:43472 - \"GET /page2/?age=12 HTTP/1.1\" 200 OK\n",
      "INFO:     127.0.0.1:43474 - \"GET /page2/?age=11 HTTP/1.1\" 200 OK\n",
      "INFO:     127.0.0.1:41030 - \"GET /page2/?age=13 HTTP/1.1\" 200 OK\n",
      "INFO:     127.0.0.1:41034 - \"GET /page2/?age=11 HTTP/1.1\" 200 OK\n",
      "INFO:     127.0.0.1:54912 - \"GET /page2/?age=13 HTTP/1.1\" 200 OK\n",
      "INFO:     127.0.0.1:54928 - \"GET /page2/?age=115 HTTP/1.1\" 200 OK\n",
      "INFO:     127.0.0.1:54936 - \"GET /page2/?age=13 HTTP/1.1\" 200 OK\n",
      "INFO:     127.0.0.1:54952 - \"GET /page2/?age=0 HTTP/1.1\" 200 OK\n",
      "INFO:     127.0.0.1:57994 - \"GET /page1/?age=13 HTTP/1.1\" 200 OK\n",
      "INFO:     127.0.0.1:58010 - \"GET /page2/?age=0 HTTP/1.1\" 200 OK\n",
      "INFO:     127.0.0.1:58022 - \"GET /page1/?age=13 HTTP/1.1\" 200 OK\n",
      "INFO:     127.0.0.1:42156 - \"GET /page1/?age=11 HTTP/1.1\" 422 Unprocessable Entity\n",
      "INFO:     127.0.0.1:34412 - \"GET /page1/?age=12 HTTP/1.1\" 200 OK\n",
      "INFO:     127.0.0.1:34416 - \"GET /page1/?age=12 HTTP/1.1\" 200 OK\n",
      "INFO:     127.0.0.1:34422 - \"GET /page1/?age=12 HTTP/1.1\" 200 OK\n",
      "INFO:     127.0.0.1:34430 - \"GET /page1/?age=12 HTTP/1.1\" 200 OK\n",
      "INFO:     127.0.0.1:34436 - \"GET /page1/?age=12 HTTP/1.1\" 200 OK\n",
      "INFO:     127.0.0.1:34446 - \"GET /page1/?age=11 HTTP/1.1\" 422 Unprocessable Entity\n",
      "INFO:     127.0.0.1:60234 - \"GET /page3/?age=12 HTTP/1.1\" 422 Unprocessable Entity\n",
      "INFO:     127.0.0.1:60246 - \"GET /page3/?age=11 HTTP/1.1\" 422 Unprocessable Entity\n",
      "INFO:     127.0.0.1:60250 - \"GET /page3/?age=11 HTTP/1.1\" 422 Unprocessable Entity\n",
      "INFO:     127.0.0.1:60264 - \"GET /page3/?age=11 HTTP/1.1\" 422 Unprocessable Entity\n",
      "INFO:     127.0.0.1:34396 - \"GET /page3/?age=8 HTTP/1.1\" 200 OK\n",
      "INFO:     127.0.0.1:34408 - \"GET /page3/?age=11 HTTP/1.1\" 422 Unprocessable Entity\n",
      "INFO:     127.0.0.1:57542 - \"GET /page3/?age=8 HTTP/1.1\" 200 OK\n",
      "INFO:     127.0.0.1:57552 - \"GET /page3/?age=9 HTTP/1.1\" 422 Unprocessable Entity\n",
      "INFO:     127.0.0.1:36530 - \"GET /page4/?age=8 HTTP/1.1\" 422 Unprocessable Entity\n",
      "INFO:     127.0.0.1:36532 - \"GET /page4/?age=9 HTTP/1.1\" 422 Unprocessable Entity\n",
      "INFO:     127.0.0.1:36546 - \"GET /page4/?age=7 HTTP/1.1\" 200 OK\n",
      "INFO:     127.0.0.1:36548 - \"GET /page4/?age=9 HTTP/1.1\" 422 Unprocessable Entity\n",
      "INFO:     127.0.0.1:48668 - \"GET /page4/?age=7 HTTP/1.1\" 200 OK\n",
      "INFO:     127.0.0.1:48674 - \"GET /page4/?age=8 HTTP/1.1\" 422 Unprocessable Entity\n"
     ]
    }
   ],
   "source": [
    "app = FastAPI()\n",
    "\n",
    "@app.get('/page1/')\n",
    "def gre(age:Annotated[int,Query(ge=12)]):\n",
    "    return {'age':age}\n",
    "\n",
    "@app.get('/page2/')\n",
    "def gr(age:Annotated[int,Query(gr=12)]):\n",
    "    return {'age':age}\n",
    "\n",
    "@app.get('/page3/')\n",
    "def less_eq(age:Annotated[int,Query(le=8)]):\n",
    "    return {'age':age}\n",
    "\n",
    "@app.get('/page4/')\n",
    "def less(age:Annotated[int,Query(lt=8)]):\n",
    "    return {'age':age}\n",
    "\n",
    "\n",
    "if __name__ == \"__main__\":\n",
    "    nest_asyncio.apply()\n",
    "    uvicorn.run(app, port=4444)"
   ]
  },
  {
   "cell_type": "code",
   "execution_count": null,
   "id": "55d652bb-bd55-49b9-a82c-f33197d2a6ce",
   "metadata": {},
   "outputs": [],
   "source": []
  }
 ],
 "metadata": {
  "kernelspec": {
   "display_name": "Python 3 (ipykernel)",
   "language": "python",
   "name": "python3"
  },
  "language_info": {
   "codemirror_mode": {
    "name": "ipython",
    "version": 3
   },
   "file_extension": ".py",
   "mimetype": "text/x-python",
   "name": "python",
   "nbconvert_exporter": "python",
   "pygments_lexer": "ipython3",
   "version": "3.10.12"
  }
 },
 "nbformat": 4,
 "nbformat_minor": 5
}
