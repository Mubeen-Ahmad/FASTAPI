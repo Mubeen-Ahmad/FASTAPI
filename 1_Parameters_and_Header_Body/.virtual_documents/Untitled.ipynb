from fastapi import FastAPI
import uvicorn
import nest_asyncio
import requests


app = FastAPI()

fake_items_db = [
    {"item_name": "Apple", "price": 10, "category": "fruits"},
    {"item_name": "Banana", "price": 5, "category": "fruits"},
    {"item_name": "Carrot", "price": 3, "category": "vegetables"},
    {"item_name": "Broccoli", "price": 4, "category": "vegetables"},
]


@app.get("/furits/data/")
async def read_item(filter_: str = None,by : str = None):

    items = fake_items_db.copy()
    
    if filter_:
        items = [i for i in items if i.get(filter_) == by]
    
    return items


if __name__ == "__main__":
    nest_asyncio.apply()
    uvicorn.run(app,port=4444)
