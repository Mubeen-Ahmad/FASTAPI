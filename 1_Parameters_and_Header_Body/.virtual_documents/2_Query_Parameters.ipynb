





from fastapi import FastAPI
import requests
import uvicorn
import nest_asyncio
import json





app = FastAPI()

fake_items_db = [
    {"item_name": "Apple", "price": 10, "category": "fruits"},
    {"item_name": "Banana", "price": 5, "category": "fruits"},
    {"item_name": "Carrot", "price": 3, "category": "vegetables"},
    {"item_name": "Broccoli", "price": 4, "category": "vegetables"},
]


@app.get("/furits/data/")
async def read_item():
    return fake_items_db


if __name__ == "__main__":
    nest_asyncio.apply()
    uvicorn.run(app)


req = requests.get('http://127.0.0.1:4444/furits/data/')
response = req.content.decode('utf-8')

json.loads(response)








app = FastAPI()

fake_items_db = [
    {"item_name": "Apple", "price": 10, "category": "fruits"},
    {"item_name": "Banana", "price": 5, "category": "fruits"},
    {"item_name": "Carrot", "price": 3, "category": "vegetables"},
    {"item_name": "Broccoli", "price": 4, "category": "vegetables"},
]


@app.get("/furits/data/")
async def read_item(filter_: str = None,by : str = None):

    items = fake_items_db.copy()
    
    if filter_:
        items = [i for i in items if i.get(filter_) == by]
    
    return items


if __name__ == "__main__":
    nest_asyncio.apply()
    uvicorn.run(app,port=4444)


req = requests.get('http://127.0.0.1:4444/furits/data/?filter_=category&by=fruits')
response = req.content.decode('utf-8')

json.loads(response)


req = requests.get('http://127.0.0.1:4444/furits/data/?filter_=category&by=vegetables')
response = req.content.decode('utf-8')

json.loads(response)






