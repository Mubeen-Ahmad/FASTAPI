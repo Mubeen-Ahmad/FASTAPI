{
 "cells": [
  {
   "cell_type": "markdown",
   "id": "09fc77a9-570f-4b82-8747-f013ad0c7ed9",
   "metadata": {},
   "source": [
    "\n",
    "<h1 style=\"text-align:center; color:#005bbd; font-size:30px; font-family:Sans-serif; font-style: oblique; text-shadow: 0 0 3px white, 0 0 1px Black;\">Numeric Validations \n",
    "</h1>"
   ]
  },
  {
   "cell_type": "code",
   "execution_count": 3,
   "id": "c9829f31-00d4-44c8-a427-8e05d7b5b61e",
   "metadata": {
    "tags": []
   },
   "outputs": [],
   "source": [
    "app = FastAPI()\n",
    "\n",
    "@app.get('/page1/')\n",
    "def gre(age:Annotated[int,Query(ge=12)]):\n",
    "    return {'age':age}\n",
    "\n",
    "@app.get('/page2/')\n",
    "def gr(age:Annotated[int,Query(gt=12)]):\n",
    "    return {'age':age}\n",
    "\n",
    "@app.get('/page3/')\n",
    "def less_eq(age:Annotated[int,Query(le=8)]):\n",
    "    return {'age':age}\n",
    "\n",
    "@app.get('/page4/')\n",
    "def less(age:Annotated[int,Query(lt=8)]):\n",
    "    return {'age':age}\n",
    "\n",
    "\n",
    "if __name__ == \"__main__\":\n",
    "    nest_asyncio.apply()\n",
    "    uvicorn.run(app, port=4444)"
   ]
  },
  {
   "cell_type": "markdown",
   "id": "c88604bc-a028-49b6-b0b0-c8a9d065fb47",
   "metadata": {},
   "source": [
    "<div style=\"text-align:justify; color:black; font-size:20px; font-family:Sans-serif; font-style: oblique; text-shadow: 0 0 3px white, 0 0 1px black;\">greater than or equal\n",
    "</div>\n",
    "\n",
    "\n"
   ]
  },
  {
   "cell_type": "code",
   "execution_count": 10,
   "id": "e353ec38-2235-4799-ba4b-2fc8bd5ba03a",
   "metadata": {
    "tags": []
   },
   "outputs": [
    {
     "name": "stdout",
     "output_type": "stream",
     "text": [
      "{\"age\":12}\n",
      "{\"detail\":[{\"type\":\"greater_than_equal\",\"loc\":[\"query\",\"age\"],\"msg\":\"Input should be greater than or equal to 12\",\"input\":\"11\",\"ctx\":{\"ge\":12},\"url\":\"https://errors.pydantic.dev/2.6/v/greater_than_equal\"}]}\n"
     ]
    }
   ],
   "source": [
    "req = requests.get(\"http://127.0.0.1:4444/page1/?age=12\")\n",
    "print(req.content.decode(\"utf-8\"))\n",
    "\n",
    "req = requests.get(\"http://127.0.0.1:4444/page1/?age=11\")\n",
    "print(req.content.decode(\"utf-8\"))"
   ]
  },
  {
   "cell_type": "markdown",
   "id": "31ff68f4-132a-4054-bf24-3d0c580f0e70",
   "metadata": {},
   "source": [
    "<div style=\"text-align:justify; color:black; font-size:20px; font-family:Sans-serif; font-style: oblique; text-shadow: 0 0 3px white, 0 0 1px black;\">greater than\n",
    "</div>\n",
    "\n",
    "\n"
   ]
  },
  {
   "cell_type": "code",
   "execution_count": 20,
   "id": "4b1baf16-a0bf-4571-ae6b-b0f05b093d1c",
   "metadata": {
    "tags": []
   },
   "outputs": [
    {
     "name": "stdout",
     "output_type": "stream",
     "text": [
      "{\"age\":12}\n",
      "{\"detail\":[{\"type\":\"greater_than_equal\",\"loc\":[\"query\",\"age\"],\"msg\":\"Input should be greater than or equal to 12\",\"input\":\"11\",\"ctx\":{\"ge\":12},\"url\":\"https://errors.pydantic.dev/2.6/v/greater_than_equal\"}]}\n"
     ]
    }
   ],
   "source": [
    "req = requests.get(\"http://127.0.0.1:4444/page1/?age=12\")\n",
    "print(req.content.decode(\"utf-8\"))\n",
    "\n",
    "req = requests.get(\"http://127.0.0.1:4444/page1/?age=11\")\n",
    "print(req.content.decode(\"utf-8\"))"
   ]
  },
  {
   "cell_type": "markdown",
   "id": "60dbb983-fb6a-430d-ace5-849a18637a38",
   "metadata": {},
   "source": [
    "<div style=\"text-align:justify; color:black; font-size:20px; font-family:Sans-serif; font-style: oblique; text-shadow: 0 0 3px white, 0 0 1px black;\">Less than Equal to\n",
    "</div>\n",
    "\n",
    "\n"
   ]
  },
  {
   "cell_type": "code",
   "execution_count": 24,
   "id": "755ac44d-3a61-400e-aa10-344b42f84bc3",
   "metadata": {
    "tags": []
   },
   "outputs": [
    {
     "name": "stdout",
     "output_type": "stream",
     "text": [
      "{\"age\":8}\n",
      "{\"detail\":[{\"type\":\"less_than_equal\",\"loc\":[\"query\",\"age\"],\"msg\":\"Input should be less than or equal to 8\",\"input\":\"9\",\"ctx\":{\"le\":8},\"url\":\"https://errors.pydantic.dev/2.6/v/less_than_equal\"}]}\n"
     ]
    }
   ],
   "source": [
    "req = requests.get(\"http://127.0.0.1:4444/page3/?age=8\")\n",
    "print(req.content.decode(\"utf-8\"))\n",
    "\n",
    "req = requests.get(\"http://127.0.0.1:4444/page3/?age=9\")\n",
    "print(req.content.decode(\"utf-8\"))"
   ]
  },
  {
   "cell_type": "markdown",
   "id": "0929d5ad-e3d2-48b6-a265-bb836580c8d2",
   "metadata": {},
   "source": [
    "<div style=\"text-align:justify; color:black; font-size:20px; font-family:Sans-serif; font-style: oblique; text-shadow: 0 0 3px white, 0 0 1px black;\">Less than\n",
    "</div>\n",
    "\n",
    "\n"
   ]
  },
  {
   "cell_type": "code",
   "execution_count": 27,
   "id": "eca8ae5e-dc3f-4748-bbb8-fa64b9d7c251",
   "metadata": {
    "tags": []
   },
   "outputs": [
    {
     "name": "stdout",
     "output_type": "stream",
     "text": [
      "{\"age\":7}\n",
      "{\"detail\":[{\"type\":\"less_than\",\"loc\":[\"query\",\"age\"],\"msg\":\"Input should be less than 8\",\"input\":\"8\",\"ctx\":{\"lt\":8},\"url\":\"https://errors.pydantic.dev/2.6/v/less_than\"}]}\n"
     ]
    }
   ],
   "source": [
    "req = requests.get(\"http://127.0.0.1:4444/page4/?age=7\")\n",
    "print(req.content.decode(\"utf-8\"))\n",
    "\n",
    "req = requests.get(\"http://127.0.0.1:4444/page4/?age=8\")\n",
    "print(req.content.decode(\"utf-8\"))"
   ]
  },
  {
   "cell_type": "markdown",
   "id": "118d4758-6921-401c-92d3-7375bec58d8c",
   "metadata": {},
   "source": [
    "<!DOCTYPE html>\n",
    "<html lang=\"en\">\n",
    "<head>\n",
    "    <meta charset=\"UTF-8\">\n",
    "    <meta name=\"viewport\" content=\"width=device-width, initial-scale=1.0\">\n",
    "</head>\n",
    "<body style=\"font-family: Sans-serif;\">\n",
    "    <div style=\"color: green; font-size: 18px; font-style: oblique; text-shadow: 0 0 3px white, 0 0 1px black; border: 8px double black; padding: 20px;\">\n",
    "        <h2>Numeric Validations in FastAPI</h2>\n",
    "        <p>Yeh endpoints demonstrate karte hain kaise alag-alag numeric validations ko query parameters par apply kiya jata hai FastAPI mein.</p>\n",
    "        <ul>\n",
    "            <h3><li><code>@app.get('/page1/')</code></li></h3>\n",
    "            <h4 style=\"color: red;\">Explanation: Is endpoint mein <code>age</code> query parameter ke liye <code>ge=12</code> ka constraint lagaya gaya hai. Matlab, age ki value 12 ya us se badi honi chahiye.</h4>\n",
    "            <p><strong>Example:</strong> <code>/page1/?age=12</code> or <code>/page1/?age=15</code></p>\n",
    "        </ul>\n",
    "        <hr style=\"margin: 20px 0;\">\n",
    "        <ul>\n",
    "            <h3><li><code>@app.get('/page2/')</code></li></h3>\n",
    "            <h4 style=\"color: red;\">Explanation: Is endpoint mein <code>age</code> query parameter ke liye <code>gt=12</code> ka constraint lagaya gaya hai. Matlab, age ki value 12 se badi honi chahiye.</h4>\n",
    "            <p><strong>Example:</strong> <code>/page2/?age=13</code> or <code>/page2/?age=20</code></p>\n",
    "        </ul>\n",
    "        <hr style=\"margin: 20px 0;\">\n",
    "        <ul>\n",
    "            <h3><li><code>@app.get('/page3/')</code></li></h3>\n",
    "            <h4 style=\"color: red;\">Explanation: Is endpoint mein <code>age</code> query parameter ke liye <code>le=8</code> ka constraint lagaya gaya hai. Matlab, age ki value 8 ya us se choti honi chahiye.</h4>\n",
    "            <p><strong>Example:</strong> <code>/page3/?age=8</code> or <code>/page3/?age=5</code></p>\n",
    "        </ul>\n",
    "        <hr style=\"margin: 20px 0;\">\n",
    "        <ul>\n",
    "            <h3><li><code>@app.get('/page4/')</code></li></h3>\n",
    "            <h4 style=\"color: red;\">Explanation: Is endpoint mein <code>age</code> query parameter ke liye <code>lt=8</code> ka constraint lagaya gaya hai. Matlab, age ki value 8 se choti honi chahiye.</h4>\n",
    "            <p><strong>Example:</strong> <code>/page4/?age=7</code> or <code>/page4/?age=3</code></p>\n",
    "        </ul>\n",
    "    </div>\n",
    "</body>\n",
    "</html>\n"
   ]
  },
  {
   "cell_type": "markdown",
   "id": "a5d8a910-8677-475c-88ed-cf37d4a2bea0",
   "metadata": {},
   "source": [
    "<hr>\n",
    "<h1 style=\"text-align:center; color:#005bbd; font-size:30px; font-family:Sans-serif; font-style: oblique; text-shadow: 0 0 3px white, 0 0 1px Black;\">Path() VS /{params}</h1>"
   ]
  },
  {
   "cell_type": "code",
   "execution_count": 74,
   "id": "d0978660-cac7-49b1-8583-5cfab109c14f",
   "metadata": {
    "tags": []
   },
   "outputs": [],
   "source": [
    "app = FastAPI()\n",
    "\n",
    "@app.get(\"/exp1/{params}\")\n",
    "async def exp1(params: str = None):\n",
    "    return {\"params\": params}\n",
    "\n",
    "\n",
    "@app.get(\"/exp2/{params}\")\n",
    "async def exp2(params: str = Path(min_length=3)):\n",
    "    return {\"params\": params}\n",
    "\n",
    "\n",
    "if __name__ == \"__main__\":\n",
    "    nest_asyncio.apply()\n",
    "    uvicorn.run(app, port=4444)"
   ]
  },
  {
   "cell_type": "code",
   "execution_count": 72,
   "id": "09418398-15c4-4162-b575-317b5bf7a12c",
   "metadata": {
    "tags": []
   },
   "outputs": [
    {
     "data": {
      "text/plain": [
       "'{\"params\":\"12\"}'"
      ]
     },
     "execution_count": 72,
     "metadata": {},
     "output_type": "execute_result"
    }
   ],
   "source": [
    "req = requests.get(\"http://127.0.0.1:4444/exp1/12\")\n",
    "req.content.decode(\"utf-8\")"
   ]
  },
  {
   "cell_type": "code",
   "execution_count": 73,
   "id": "26d43f35-ed64-4ef4-bd04-f44bcd213199",
   "metadata": {
    "tags": []
   },
   "outputs": [
    {
     "data": {
      "text/plain": [
       "'{\"detail\":[{\"type\":\"string_too_short\",\"loc\":[\"path\",\"params\"],\"msg\":\"String should have at least 3 characters\",\"input\":\"12\",\"ctx\":{\"min_length\":3},\"url\":\"https://errors.pydantic.dev/2.6/v/string_too_short\"}]}'"
      ]
     },
     "execution_count": 73,
     "metadata": {},
     "output_type": "execute_result"
    }
   ],
   "source": [
    "req = requests.get(\"http://127.0.0.1:4444/exp2/12\")\n",
    "req.content.decode(\"utf-8\")"
   ]
  },
  {
   "cell_type": "code",
   "execution_count": 75,
   "id": "bc759396-2ee7-4de7-b9ce-6a7ba4f2f928",
   "metadata": {
    "tags": []
   },
   "outputs": [
    {
     "data": {
      "text/plain": [
       "'{\"params\":\"123\"}'"
      ]
     },
     "execution_count": 75,
     "metadata": {},
     "output_type": "execute_result"
    }
   ],
   "source": [
    "req = requests.get(\"http://127.0.0.1:4444/exp2/123\")\n",
    "req.content.decode(\"utf-8\")"
   ]
  },
  {
   "cell_type": "markdown",
   "id": "e7951fe9-31cd-49be-a86d-64ef4378366d",
   "metadata": {},
   "source": [
    "<!DOCTYPE html>\n",
    "<html lang=\"en\">\n",
    "<head>\n",
    "    <meta charset=\"UTF-8\">\n",
    "    <meta name=\"viewport\" content=\"width=device-width, initial-scale=1.0\">\n",
    "</head>\n",
    "<body style=\"font-family: Sans-serif;\">\n",
    "    <div style=\"color: green; font-size: 18px; font-style: oblique; text-shadow: 0 0 3px white, 0 0 1px black; border: 8px double black; padding: 20px;\">\n",
    "        <ul>\n",
    "            <h3><li><code>@app.get(\"/exp1/{params}\")</code></li></h3>\n",
    "            <h4 style=\"color: red;\">Explanation: Yeh ek decorator hai jo define karta hai ke jab GET request <code>\"/exp1/{params}\"</code> path par aayegi to kaunsa function call hoga. Is function mein koi validation nahi ki gayi hai.</h4>\n",
    "        </ul>\n",
    "        <hr style=\"margin: 20px 0;\">\n",
    "        <ul>\n",
    "            <h3><li><code>@app.get(\"/exp2/{params}\")</code></li></h3>\n",
    "            <h4 style=\"color: red;\">Explanation: Yeh ek decorator hai jo define karta hai ke jab GET request <code>\"/exp2/{params}\"</code> path par aayegi to kaunsa function call hoga. Is function mein Path ki help sy parameter ki validation ki gayi hai <code>Path(min_length=3)</code> ke zariye.</h4>\n",
    "        </ul>\n",
    "    </div>\n",
    "</body>\n",
    "</html>\n"
   ]
  },
  {
   "cell_type": "markdown",
   "id": "bb99bfaa-6712-401c-8f98-ae330ba3855b",
   "metadata": {},
   "source": [
    "<h1 style=\"text-align:center; color:#005bbd; font-size:30px; font-family:Sans-serif; font-style: oblique; text-shadow: 0 0 3px white, 0 0 1px Black;\">{params} VS {params:path} In Path()\n",
    "</h1>"
   ]
  },
  {
   "cell_type": "code",
   "execution_count": null,
   "id": "9a2ef431-8881-4eb2-82c7-88bbc395bb2e",
   "metadata": {},
   "outputs": [],
   "source": [
    "app = FastAPI()\n",
    "\n",
    "\n",
    "@app.get(\"/exp1/{params}\")\n",
    "async def exp1(params: str):\n",
    "    return {\"params\": params}\n",
    "\n",
    "\n",
    "@app.get(\"/exp2/{params:path}\")\n",
    "async def exp2(params:str = Path()):\n",
    "    return {\"params\": params}\n",
    "\n",
    "\n",
    "if __name__ == \"__main__\":\n",
    "    nest_asyncio.apply()\n",
    "    uvicorn.run(app, port=4444)"
   ]
  },
  {
   "cell_type": "code",
   "execution_count": 83,
   "id": "ad102fc0-ef1c-43c6-859b-c1e6e91dea9d",
   "metadata": {
    "tags": []
   },
   "outputs": [
    {
     "data": {
      "text/plain": [
       "'{\"detail\":\"Not Found\"}'"
      ]
     },
     "execution_count": 83,
     "metadata": {},
     "output_type": "execute_result"
    }
   ],
   "source": [
    "req = requests.get(\"http://127.0.0.1:4444/exp1/folder/file.txt\")\n",
    "req.content.decode(\"utf-8\")"
   ]
  },
  {
   "cell_type": "code",
   "execution_count": 84,
   "id": "9211aab6-bcc0-4133-9239-48b7b5f7c285",
   "metadata": {
    "tags": []
   },
   "outputs": [
    {
     "data": {
      "text/plain": [
       "'{\"params\":\"folder/file.txt\"}'"
      ]
     },
     "execution_count": 84,
     "metadata": {},
     "output_type": "execute_result"
    }
   ],
   "source": [
    "req = requests.get(\"http://127.0.0.1:4444/exp2/folder/file.txt\")\n",
    "req.content.decode(\"utf-8\")"
   ]
  },
  {
   "cell_type": "markdown",
   "id": "0ed80835-f18f-449a-9979-0182c15c36ad",
   "metadata": {
    "tags": []
   },
   "source": [
    "<!DOCTYPE html>\n",
    "<html lang=\"en\">\n",
    "<head>\n",
    "    <meta charset=\"UTF-8\">\n",
    "    <meta name=\"viewport\" content=\"width=device-width, initial-scale=1.0\">\n",
    "</head>\n",
    "<body style=\"font-family: Sans-serif;\">\n",
    "    <div style=\"color: green; font-size: 18px; font-style: oblique; text-shadow: 0 0 3px white, 0 0 1px black; border: 8px double black; padding: 20px;\">\n",
    "        <ul>\n",
    "            <h3><li><code>@app.get(\"/exp1/{params}\")</code></li></h3>\n",
    "            <h4 style=\"color: red;\">Explanation: Yeh ek decorator hai jo define karta hai ke jab GET request <code>\"/exp1/{params}\"</code> path par aayegi to kaunsa function call hoga. Is function mein parameter ke liye koi specific path type nahi specify ki gayi hai, isliye agar user extra '/' ka use kare to mismatch ho jayega.</h4>\n",
    "        </ul>\n",
    "        <hr style=\"margin: 20px 0;\">\n",
    "        <ul>\n",
    "            <h3><li><code>@app.get(\"/exp2/{params:path}\")</code></li></h3>\n",
    "            <h4 style=\"color: red;\">Explanation: Yeh ek decorator hai jo define karta hai ke jab GET request <code>\"/exp2/{params:path}\"</code> path par aayegi to kaunsa function call hoga. Is function mein parameter ke liye specific path type <code>path</code> specify ki gayi hai, jis se extra '/' se mismatch nahi hoga.</h4>\n",
    "        </ul>\n",
    "    </div>\n",
    "</body>\n",
    "</html>\n"
   ]
  },
  {
   "cell_type": "markdown",
   "id": "74c75817-19de-4912-80a1-4e9310442060",
   "metadata": {},
   "source": [
    "<h1 style=\"text-align:center; color:#005bbd; font-size:30px; font-family:Sans-serif; font-style: oblique; text-shadow: 0 0 3px white, 0 0 1px Black;\">Differences Path VS Query Parameters\n",
    "</h1>"
   ]
  },
  {
   "cell_type": "code",
   "execution_count": 111,
   "id": "9201c8e9-7882-4423-8cd0-fd13cca67991",
   "metadata": {
    "tags": []
   },
   "outputs": [],
   "source": [
    "app = FastAPI()\n",
    "\n",
    "\n",
    "@app.get(\"/simple_path/{params}\")\n",
    "async def exp1(params: str):\n",
    "    return {\"params\": params}\n",
    "\n",
    "\n",
    "@app.get(\"/validate_path/{params}\")\n",
    "async def exp2(params: str = Path(min_length=3)):\n",
    "    return {\"params\": params}\n",
    "\n",
    "\n",
    "@app.get(\"/readable_validate_path/{params}\")\n",
    "async def exp3(params: Annotated[str , Path(min_length=3)]):\n",
    "    return {\"params\": params}\n",
    "\n",
    "# ----------------------------------------------------------------\n",
    "\n",
    "@app.get(\"/simple_query\")\n",
    "async def exp4(query_params: str):\n",
    "    return {\"params\": query_params}\n",
    "\n",
    "@app.get(\"/validate_query\")\n",
    "async def exp5(query_params: str = Query(min_length=3)):\n",
    "    return {\"params\": query_params}\n",
    "\n",
    "@app.get(\"/readable_validate_path\")\n",
    "async def exp6(query_params: Annotated[str , Query(min_length=3)]):\n",
    "    return {\"params\": query_params}\n",
    "\n",
    "\n",
    "\n",
    "if __name__ == \"__main__\":\n",
    "    nest_asyncio.apply()\n",
    "    uvicorn.run(app, port=4444)"
   ]
  },
  {
   "cell_type": "markdown",
   "id": "27894c7d-2b83-43dc-b0ce-6e1c4490a18d",
   "metadata": {},
   "source": [
    "<div style=\"text-align:justify; color:black; font-size:20px; font-family:Sans-serif; font-style: oblique; text-shadow: 0 0 3px white, 0 0 1px black;\">Path Parameters\n",
    "</div>\n",
    "\n",
    "\n"
   ]
  },
  {
   "cell_type": "code",
   "execution_count": 113,
   "id": "3920b18a-0a74-45e8-aa65-3aec01c8cf5c",
   "metadata": {
    "tags": []
   },
   "outputs": [
    {
     "data": {
      "text/plain": [
       "'{\"params\":\"12\"}'"
      ]
     },
     "execution_count": 113,
     "metadata": {},
     "output_type": "execute_result"
    }
   ],
   "source": [
    "req = requests.get(\"http://127.0.0.1:4444/simple_path/12\")\n",
    "req.content.decode(\"utf-8\")"
   ]
  },
  {
   "cell_type": "code",
   "execution_count": 114,
   "id": "be8a8ebd-ef06-4d55-9543-6cdafa1ddca2",
   "metadata": {
    "tags": []
   },
   "outputs": [
    {
     "data": {
      "text/plain": [
       "'{\"params\":\"1234\"}'"
      ]
     },
     "execution_count": 114,
     "metadata": {},
     "output_type": "execute_result"
    }
   ],
   "source": [
    "req = requests.get(\"http://127.0.0.1:4444/validate_path/1234\")\n",
    "req.content.decode(\"utf-8\")"
   ]
  },
  {
   "cell_type": "code",
   "execution_count": 115,
   "id": "af49607e-c014-4b54-8e69-ffd5363a15d5",
   "metadata": {
    "tags": []
   },
   "outputs": [
    {
     "data": {
      "text/plain": [
       "'{\"params\":\"1234\"}'"
      ]
     },
     "execution_count": 115,
     "metadata": {},
     "output_type": "execute_result"
    }
   ],
   "source": [
    "req = requests.get(\"http://127.0.0.1:4444/readable_validate_path/1234\")\n",
    "req.content.decode(\"utf-8\")"
   ]
  },
  {
   "cell_type": "markdown",
   "id": "2486779f-61b1-4b5b-9957-f7a35e0252f6",
   "metadata": {},
   "source": [
    "<div style=\"text-align:justify; color:black; font-size:20px; font-family:Sans-serif; font-style: oblique; text-shadow: 0 0 3px white, 0 0 1px black;\">Query Parameters\n",
    "</div>\n",
    "\n",
    "\n"
   ]
  },
  {
   "cell_type": "code",
   "execution_count": 122,
   "id": "770f14f8-96cb-45d3-8349-f3719f7e6811",
   "metadata": {
    "tags": []
   },
   "outputs": [
    {
     "data": {
      "text/plain": [
       "'{\"params\":\"12\"}'"
      ]
     },
     "execution_count": 122,
     "metadata": {},
     "output_type": "execute_result"
    }
   ],
   "source": [
    "req = requests.get(\"http://127.0.0.1:4444/simple_query/?query_params=12\")\n",
    "req.content.decode(\"utf-8\")"
   ]
  },
  {
   "cell_type": "code",
   "execution_count": 121,
   "id": "7fe20bcc-20bd-4b1f-bc57-8b0f9ff37fa2",
   "metadata": {
    "tags": []
   },
   "outputs": [
    {
     "data": {
      "text/plain": [
       "'{\"params\":\"123\"}'"
      ]
     },
     "execution_count": 121,
     "metadata": {},
     "output_type": "execute_result"
    }
   ],
   "source": [
    "req = requests.get(\"http://127.0.0.1:4444/validate_query/?query_params=123\")\n",
    "req.content.decode(\"utf-8\")"
   ]
  },
  {
   "cell_type": "code",
   "execution_count": 123,
   "id": "a525a379-469e-4386-b8de-319193809f4d",
   "metadata": {
    "tags": []
   },
   "outputs": [
    {
     "data": {
      "text/plain": [
       "'{\"params\":\"123\"}'"
      ]
     },
     "execution_count": 123,
     "metadata": {},
     "output_type": "execute_result"
    }
   ],
   "source": [
    "req = requests.get(\"http://127.0.0.1:4444/readable_validate_path/?query_params=123\")\n",
    "req.content.decode(\"utf-8\")"
   ]
  },
  {
   "cell_type": "markdown",
   "id": "7d784e80-17b0-4a16-8b86-259679b80be6",
   "metadata": {},
   "source": [
    "<!DOCTYPE html>\n",
    "<html lang=\"en\">\n",
    "<head>\n",
    "    <meta charset=\"UTF-8\">\n",
    "    <meta name=\"viewport\" content=\"width=device-width, initial-scale=1.0\">\n",
    "</head>\n",
    "<body style=\"font-family: Sans-serif;\">\n",
    "    <div style=\"color: green; font-size: 18px; font-style: oblique; text-shadow: 0 0 3px white, 0 0 1px black; border: 8px double black; padding: 20px;\">\n",
    "        <ul>\n",
    "            <h3><li><code>@app.get(\"/simple_path/{params}\")</code></li></h3>\n",
    "            <h4 style=\"color: red;\">Explanation: Yeh ek simple path parameter hai jismein koi validation nahi ki gayi.</h4>\n",
    "        </ul>\n",
    "        <hr style=\"margin: 20px 0;\">\n",
    "        <ul>\n",
    "            <h3><li><code>@app.get(\"/validate_path/{params}\")</code></li></h3>\n",
    "            <h4 style=\"color: red;\">Explanation: Yeh ek path parameter hai jismein `Path()` ka istemal kiya gaya hai jiske liye min_length=3 validation ki gayi hai.</h4>\n",
    "        </ul>\n",
    "        <hr style=\"margin: 20px 0;\">\n",
    "        <ul>\n",
    "            <h3><li><code>@app.get(\"/readable_validate_path/{params}\")</code></li></h3>\n",
    "            <h4 style=\"color: red;\">Explanation: Yeh ek path parameter hai jismein `Path()` ka istemal kiya gaya hai jiske liye min_length=3 validation ki gayi hai. Ismein parameter ko `Annotated[]` ke zariye readable banaya gaya hai.</h4>\n",
    "        </ul>\n",
    "        <hr style=\"margin: 20px 0;\">\n",
    "        <ul>\n",
    "            <h3><li><code>@app.get(\"/simple_query\")</code></li></h3>\n",
    "            <h4 style=\"color: red;\">Explanation: Yeh ek simple query parameter hai jismein koi validation nahi ki gayi.</h4>\n",
    "        </ul>\n",
    "        <hr style=\"margin: 20px 0;\">\n",
    "        <ul>\n",
    "            <h3><li><code>@app.get(\"/validate_query\")</code></li></h3>\n",
    "            <h4 style=\"color: red;\">Explanation: Yeh ek query parameter hai jismein `Query()` ka istemal kiya gaya hai jiske liye min_length=3 validation ki gayi hai.</h4>\n",
    "        </ul>\n",
    "        <hr style=\"margin: 20px 0;\">\n",
    "        <ul>\n",
    "            <h3><li><code>@app.get(\"/readable_validate_query\")</code></li></h3>\n",
    "            <h4 style=\"color: red;\">Explanation: Yeh ek query parameter hai jismein `Query()` ka istemal kiya gaya hai jiske liye min_length=3 validation ki gayi hai. Ismein parameter ko `Annotated[]` ke zariye readable banaya gaya hai.</h4>\n",
    "        </ul>\n",
    "    </div>\n",
    "</body>\n",
    "</html>\n"
   ]
  },
  {
   "cell_type": "markdown",
   "id": "3640beb8-e316-4482-8350-93bce29b3ed2",
   "metadata": {},
   "source": [
    "<h1 style=\"text-align:center; color:#005bbd; font-size:30px; font-family:Sans-serif; font-style: oblique; text-shadow: 0 0 3px white, 0 0 1px Black;\">Body Requests VS Query Parameters\n",
    "</h1>"
   ]
  },
  {
   "cell_type": "code",
   "execution_count": 6,
   "id": "6bc6e2c7-c211-4f0d-bd4c-17b6307940d3",
   "metadata": {},
   "outputs": [],
   "source": [
    "from pydantic import BaseModel"
   ]
  },
  {
   "cell_type": "code",
   "execution_count": null,
   "id": "c1316bc4-e338-474e-b457-951e3310781a",
   "metadata": {},
   "outputs": [],
   "source": [
    "app = FastAPI()\n",
    "\n",
    "class form_data(BaseModel):\n",
    "    name : str\n",
    "    roll_no : int\n",
    "    subject : str\n",
    "\n",
    "@app.post(\"/index/\")\n",
    "async def reponse_data(data:form_data):\n",
    "    return data\n",
    "\n",
    "@app.get('/query/')\n",
    "async def marks(param:Annotated[int,Query(...)]):\n",
    "    return {\"marks\":param}\n",
    "\n",
    "if __name__ == \"__main__\":\n",
    "    nest_asyncio.apply()\n",
    "    uvicorn.run(app, port=4444)"
   ]
  },
  {
   "cell_type": "code",
   "execution_count": 29,
   "id": "d8ae1a8c-e807-4110-86f2-ede3a97f8531",
   "metadata": {
    "tags": []
   },
   "outputs": [
    {
     "data": {
      "text/plain": [
       "'{\"name\":\"Mubeen\",\"roll_no\":5568,\"subject\":\"Cs\"}'"
      ]
     },
     "execution_count": 29,
     "metadata": {},
     "output_type": "execute_result"
    }
   ],
   "source": [
    "req = requests.post(\"http://127.0.0.1:4444/index/\",\n",
    "        json={\n",
    "        'name':'Mubeen',\n",
    "        'roll_no':5568,\n",
    "        'subject':'Cs'\n",
    "        })\n",
    "req.content.decode(\"utf-8\")"
   ]
  },
  {
   "cell_type": "code",
   "execution_count": 17,
   "id": "820cddd0-9829-47a7-a2df-b7bfbfdca042",
   "metadata": {},
   "outputs": [
    {
     "data": {
      "text/plain": [
       "'{\"marks\":123}'"
      ]
     },
     "execution_count": 17,
     "metadata": {},
     "output_type": "execute_result"
    }
   ],
   "source": [
    "req = requests.get(\"http://127.0.0.1:4444/query/?param=123\")\n",
    "req.content.decode(\"utf-8\")"
   ]
  },
  {
   "cell_type": "markdown",
   "id": "a8ab6ba5-5c5a-4d6b-aa60-b52380817b5a",
   "metadata": {},
   "source": [
    "<!DOCTYPE html>\n",
    "<html lang=\"en\">\n",
    "<head>\n",
    "    <meta charset=\"UTF-8\">\n",
    "    <meta name=\"viewport\" content=\"width=device-width, initial-scale=1.0\">\n",
    "</head>\n",
    "<body style=\"font-family: Sans-serif;\">\n",
    "    <div style=\"color: green; font-size: 18px; font-style: oblique; text-shadow: 0 0 3px white, 0 0 1px black; border: 8px double black; padding: 20px;\">\n",
    "        <ul>\n",
    "            <h3><li><code>app = FastAPI()</code></li></h3>\n",
    "            <h4 style=\"color: red;\">Explanation: FastAPI framework ko call kar ke ek application instance <code>app</code> variable mein store kiya gaya hai.</h4>\n",
    "        </ul>\n",
    "        <hr style=\"margin: 20px 0;\">\n",
    "        <ul>\n",
    "            <h3><li><code>class form_data(BaseModel):<br> &nbsp;&nbsp;&nbsp;&nbsp;name: str<br> &nbsp;&nbsp;&nbsp;&nbsp;roll_no: int<br> &nbsp;&nbsp;&nbsp;&nbsp;subject: str</code></li></h3>\n",
    "            <h4 style=\"color: red;\">Explanation: Yeh ek Pydantic model hai jo form data ko validate karne ke liye use hota hai. Isme <code>name</code> (string), <code>roll_no</code> (integer) aur <code>subject</code> (string) fields hain.</h4>\n",
    "        </ul>\n",
    "        <hr style=\"margin: 20px 0;\">\n",
    "        <ul>\n",
    "            <h3><li><code>@app.post(\"/index/\")<br>async def reponse_data(data: form_data):<br>&nbsp;&nbsp;&nbsp;&nbsp;return data</code></li></h3>\n",
    "            <h4 style=\"color: red;\">Explanation: Yeh endpoint <code>/index/</code> par POST request ko handle karta hai. Yeh <code>form_data</code> model ka instance accept karta hai aur wahi data return karta hai.</h4>\n",
    "        </ul>\n",
    "        <hr style=\"margin: 20px 0;\">\n",
    "        <ul>\n",
    "            <h3><li><code>@app.get('/query/')<br>async def marks(param: Annotated[int, Query(...)]):<br>&nbsp;&nbsp;&nbsp;&nbsp;return {\"marks\": param}</code></li></h3>\n",
    "            <h4 style=\"color: red;\">Explanation: Yeh endpoint <code>/query/</code> par GET request ko handle karta hai. Yeh <code>param</code> query parameter ko accept karta hai jo ek integer hai aur required hai. Yeh JSON response mein <code>marks</code> key ke saath return hota hai.</h4>\n",
    "        </ul>\n",
    "        <hr style=\"margin: 20px 0;\">\n",
    "        <ul>\n",
    "            <h3><li><code>req = requests.post(\"http://127.0.0.1:4444/index/\",<br>&nbsp;&nbsp;&nbsp;&nbsp;json={'name':'Mubeen','roll_no':5568,'subject':'Cs'})<br>req.content.decode(\"utf-8\")</code></li></h3>\n",
    "            <h4 style=\"color: red;\">Explanation: Yeh request <code>/index/</code> endpoint ko call karti hai aur ek JSON object send karti hai jisme user ka data hota hai. Response ko decode karke output diya gaya hai.</h4>\n",
    "        </ul>\n",
    "        <hr style=\"margin: 20px 0;\">\n",
    "        <ul>\n",
    "            <h3><li><code>req = requests.get(\"http://127.0.0.1:4444/query/?param=123\")<br>req.content.decode(\"utf-8\")</code></li></h3>\n",
    "            <h4 style=\"color: red;\">Explanation: Yeh request <code>/query/</code> endpoint ko call karti hai aur query parameter <code>param</code> send karti hai. Response ko decode karke output diya gaya hai.</h4>\n",
    "        </ul>\n",
    "        <hr style=\"margin: 20px 0;\">\n",
    "        <ul>\n",
    "            <h3><li><code>Body Request</code></li></h3>\n",
    "            <h4 style=\"color: red;\">Explanation: Body requests mein data HTTP request ke body mein bheja jata hai.</h4>\n",
    "        </ul>\n",
    "        <hr style=\"margin: 20px 0;\">\n",
    "        <ul>\n",
    "            <h3><li><code>Query Parameters</code></li></h3>\n",
    "            <h4 style=\"color: red;\">Explanation: Query parameters mein data URL ka hissa hota hai.</h4>\n",
    "        </ul>\n",
    "        <hr style=\"margin: 20px 0;\">\n",
    "        <ul>\n",
    "            <h3><li><code>Body</code></li></h3>\n",
    "            <h4 style=\"color: red;\"><p>Explanation: Jab aap complex aur large data structures bhejna chahte hain, jise ke ek object ya record create ya update karte hain, to aap body requests ka use karte hain. Ye data HTTP request ke body mein jaata hai aur commonly POST, PUT, aur PATCH methods ke saath use hota hai.<br>Example: Jab aap kisi user ka account create karte hain aur uska poora data bhejna hota hai (name, email, password, etc.), to ye body request mein jaayega.</p></h4>\n",
    "        </ul>\n",
    "        <hr style=\"margin: 20px 0;\"> \n",
    "        <ul>\n",
    "            <h3><li><code>Query</code></li></h3>\n",
    "            <h4 style=\"color: red;\"><p>Explanation: Jab aap simple aur optional data bhejna chahte hain jo ek resource ko fetch karte waqt ya display karte waqt affect karte hain, to aap query parameters ka use karte hain. Ye data URL ke end mein ? ke baad likha jata hai aur commonly GET method ke saath use hota hai.<br>Example: Jab aap kisi list ko filter ya sort karna chahte hain (jaise page number ya search keyword), to ye data query parameters mein jaayega.</p></h4>\n",
    "        </ul>    \n",
    "    </div>\n",
    "</body>\n",
    "</html>\n"
   ]
  },
  {
   "cell_type": "markdown",
   "id": "99bf034a-e798-42fa-838e-a303cfa17b8e",
   "metadata": {},
   "source": [
    "\n",
    "<h1 style=\"text-align:center; color:#005bbd; font-size:30px; font-family:Sans-serif; font-style: oblique; text-shadow: 0 0 3px white, 0 0 1px Black;\">Default Values \n",
    "</h1>"
   ]
  },
  {
   "cell_type": "code",
   "execution_count": 22,
   "id": "a16c142a-bbcc-4b20-bac7-fb17d188b1d6",
   "metadata": {},
   "outputs": [
    {
     "name": "stderr",
     "output_type": "stream",
     "text": [
      "INFO:     Started server process [1052]\n",
      "INFO:     Waiting for application startup.\n",
      "INFO:     Application startup complete.\n",
      "INFO:     Uvicorn running on http://127.0.0.1:4444 (Press CTRL+C to quit)\n"
     ]
    },
    {
     "name": "stdout",
     "output_type": "stream",
     "text": [
      "Path parameters cannot have default values\n"
     ]
    },
    {
     "name": "stderr",
     "output_type": "stream",
     "text": [
      "INFO:     Shutting down\n",
      "INFO:     Waiting for application shutdown.\n",
      "INFO:     Application shutdown complete.\n",
      "INFO:     Finished server process [1052]\n"
     ]
    }
   ],
   "source": [
    "app = FastAPI()\n",
    "\n",
    "class form_data(BaseModel):\n",
    "    name : str | None\n",
    "\n",
    "@app.get(\"/index/\")\n",
    "async def reponse_data(data:form_data = None):\n",
    "    return data\n",
    "\n",
    "@app.get('/query/')\n",
    "async def marks(param:Annotated[int,Query(...)] = None):\n",
    "    return {\"marks\":param}\n",
    "\n",
    "\n",
    "try:\n",
    "    @app.get('/path_parameter/{params}')\n",
    "    async def path_(params:Annotated[int,Query(...)] = None):\n",
    "        return {\"params\":params}\n",
    "except Exception as e:\n",
    "    print(e)\n",
    "\n",
    "if __name__ == \"__main__\":\n",
    "    nest_asyncio.apply()\n",
    "    uvicorn.run(app, port=4444)"
   ]
  },
  {
   "cell_type": "code",
   "execution_count": 19,
   "id": "a2f67350-7ec2-494b-ad83-9f3b7118b45e",
   "metadata": {},
   "outputs": [
    {
     "data": {
      "text/plain": [
       "'null'"
      ]
     },
     "execution_count": 19,
     "metadata": {},
     "output_type": "execute_result"
    }
   ],
   "source": [
    "req = requests.get(\"http://127.0.0.1:4444/index/\")\n",
    "req.content.decode(\"utf-8\")"
   ]
  },
  {
   "cell_type": "code",
   "execution_count": 20,
   "id": "bc1c827e-c90b-4b46-a568-8488acb35e6f",
   "metadata": {},
   "outputs": [
    {
     "data": {
      "text/plain": [
       "'{\"marks\":null}'"
      ]
     },
     "execution_count": 20,
     "metadata": {},
     "output_type": "execute_result"
    }
   ],
   "source": [
    "req = requests.get(\"http://127.0.0.1:4444/query/\")\n",
    "req.content.decode(\"utf-8\")"
   ]
  },
  {
   "cell_type": "markdown",
   "id": "2270cac9-b944-4916-9540-4d310d6b264b",
   "metadata": {},
   "source": [
    "<!DOCTYPE html>\n",
    "<html lang=\"en\">\n",
    "<head>\n",
    "    <meta charset=\"UTF-8\">\n",
    "    <meta name=\"viewport\" content=\"width=device-width, initial-scale=1.0\">\n",
    "</head>\n",
    "<body style=\"font-family: Sans-serif;\">\n",
    "    <div style=\"color: green; font-size: 18px; font-style: oblique; text-shadow: 0 0 3px white, 0 0 1px black; border: 8px double black; padding: 20px;\">\n",
    "        <ul>\n",
    "            <h3><li><code>Path parameters me default values set nahi kr sakhty</code></li></h3>\n",
    "            <h4 style=\"color: red;\">Explanation: Path parameters ko URL ke path mein directly specify kiya jata hai aur inki default values set nahi ki ja sakti. Agar koshish ki jaye to error throw hota hai.</h4>\n",
    "        </ul>\n",
    "        <hr style=\"margin: 20px 0;\">\n",
    "        <ul>\n",
    "            <h3><li><code>Query parameters me default values set kr sakhty hn</code></li></h3>\n",
    "            <h4 style=\"color: red;\">Explanation: Query parameters ko URL mein ? ke baad specify kiya jata hai aur inki default values set ki ja sakti hain. Agar default value set ki jaye to agar user parameter na provide kare to wo default value use hoti hai.</h4>\n",
    "        </ul>\n",
    "        <hr style=\"margin: 20px 0;\">\n",
    "        <ul>\n",
    "            <h3><li><code>Body ki class me bhi default values use kr sakhty hn</code></li></h3>\n",
    "            <h4 style=\"color: red;\">Explanation: Body parameters ko ek Pydantic model ke zariye handle kiya jata hai. In parameters ke default values set ki ja sakti hain, jo tab use hoti hain jab user se value na mile.</h4>\n",
    "        </ul>\n",
    "        <hr style=\"margin: 20px 0;\">\n",
    "        <ul>\n",
    "            <h3><li><code>Example Code Explanation</code></li></h3>\n",
    "            <h4 style=\"color: red;\">\n",
    "                <code>@app.get(\"/index/\")</code><br>\n",
    "                Endpoint jo body parameter <code>data</code> ko handle karta hai jo ek Pydantic model hai. Default value <code>None</code> set ki gayi hai.<br><br>\n",
    "                <code>@app.get('/query/')</code><br>\n",
    "                Endpoint jo query parameter <code>param</code> ko handle karta hai. Default value <code>None</code> set ki gayi hai aur <code>Query(...)</code> ke zariye validation hoti hai.<br><br>\n",
    "                <code>@app.get('/path_parameter/{params}')</code><br>\n",
    "                Endpoint jo path parameter <code>params</code> ko handle karta hai. Isme default value set karne ki koshish ki gayi hai jo error throw karta hai.\n",
    "            </h4>\n",
    "        </ul>\n",
    "    </div>\n",
    "</body>\n",
    "</html>"
   ]
  }
 ],
 "metadata": {
  "kernelspec": {
   "display_name": "Python 3 (ipykernel)",
   "language": "python",
   "name": "python3"
  },
  "language_info": {
   "codemirror_mode": {
    "name": "ipython",
    "version": 3
   },
   "file_extension": ".py",
   "mimetype": "text/x-python",
   "name": "python",
   "nbconvert_exporter": "python",
   "pygments_lexer": "ipython3",
   "version": "3.10.12"
  }
 },
 "nbformat": 4,
 "nbformat_minor": 5
}
