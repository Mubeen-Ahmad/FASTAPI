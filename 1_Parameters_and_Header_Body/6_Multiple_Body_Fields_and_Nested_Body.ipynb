{
 "cells": [
  {
   "cell_type": "code",
   "execution_count": 1,
   "id": "e274c966-28da-44ab-a72c-d2344b865ea7",
   "metadata": {
    "tags": []
   },
   "outputs": [],
   "source": [
    "import json\n",
    "from typing import Annotated\n",
    "\n",
    "import nest_asyncio\n",
    "import requests\n",
    "import uvicorn\n",
    "from fastapi import FastAPI, Path, Query\n",
    "from pydantic import BaseModel"
   ]
  },
  {
   "cell_type": "markdown",
   "id": "5930f61f-d008-40f6-86f1-e13dfb8afe86",
   "metadata": {},
   "source": [
    "<h1 style=\"text-align:center; color:#005bbd; font-size:30px; font-family:Sans-serif; font-style: oblique; text-shadow: 0 0 3px white, 0 0 1px Black;\">Multiple Body</h1>"
   ]
  },
  {
   "cell_type": "code",
   "execution_count": 2,
   "id": "b69026c2-93bd-4d2e-b738-8440999c1a1f",
   "metadata": {
    "tags": []
   },
   "outputs": [],
   "source": [
    "class Item(BaseModel):\n",
    "    name: str\n",
    "    description: str | None = None\n",
    "    price: float\n",
    "    tax: float | None = None\n",
    "\n",
    "\n",
    "class User(BaseModel):\n",
    "    username: str\n",
    "    full_name: str | None = None"
   ]
  },
  {
   "cell_type": "code",
   "execution_count": 6,
   "id": "13e9b35c-1905-4b5b-9877-888eb3567d46",
   "metadata": {
    "tags": []
   },
   "outputs": [],
   "source": [
    "app = FastAPI()\n",
    "\n",
    "\n",
    "@app.get(\"/index/\")\n",
    "async def route(item: Item, user: User):\n",
    "    return {\"item\": item, \"user\": user}\n",
    "\n",
    "\n",
    "if __name__ == \"__main__\":\n",
    "    nest_asyncio.apply()\n",
    "    uvicorn.run(app, port=4444)"
   ]
  },
  {
   "cell_type": "code",
   "execution_count": 8,
   "id": "470e17ad-1d9a-47ba-8521-671d9dc5bb34",
   "metadata": {
    "tags": []
   },
   "outputs": [],
   "source": [
    "item_data = {\"name\": \"Mubeen\", \"description\": \"Hello World\", \"price\": 15.8, \"tax\": 5.8}\n",
    "user_data = {\"username\": \"mubeen123\", \"full_name\": \"Mubeen Ahmad\"}"
   ]
  },
  {
   "cell_type": "code",
   "execution_count": 29,
   "id": "b23cf062-8bce-4fba-9df4-e1aea78efa85",
   "metadata": {
    "tags": []
   },
   "outputs": [
    {
     "data": {
      "text/plain": [
       "{'item': {'name': 'Mubeen',\n",
       "  'description': 'Hello World',\n",
       "  'price': 15.8,\n",
       "  'tax': 5.8},\n",
       " 'user': {'username': 'mubeen123', 'full_name': 'Mubeen Ahmad'}}"
      ]
     },
     "execution_count": 29,
     "metadata": {},
     "output_type": "execute_result"
    }
   ],
   "source": [
    "req = requests.get(\n",
    "    \"http://127.0.0.1:4444/index\", json={\"item\": item_data, \"user\": user_data}\n",
    ")\n",
    "response = req.content.decode(\"utf-8\")\n",
    "json.loads(response)"
   ]
  },
  {
   "cell_type": "markdown",
   "id": "f6b307c2-3d32-44ba-bbbe-575e186bc67b",
   "metadata": {},
   "source": [
    "<!DOCTYPE html>\n",
    "<html lang=\"en\">\n",
    "<head>\n",
    "    <meta charset=\"UTF-8\">\n",
    "    <meta name=\"viewport\" content=\"width=device-width, initial-scale=1.0\">\n",
    "</head>\n",
    "<body style=\"font-family: Sans-serif;\">\n",
    "    <div style=\"color: green; font-size: 18px; font-style: oblique; text-shadow: 0 0 3px white, 0 0 1px black; border: 8px double black; padding: 20px;\">\n",
    "        <h2>Handling Multiple Pydantic Models in FastAPI</h2>\n",
    "        <p>Yeh example demonstrate karta hai kaise multiple Pydantic models ko FastAPI mein body parameters ke roop mein handle kiya jata hai.</p>\n",
    "        <ul> <h3><li><code>class Item(BaseModel)</code></li></h3>\n",
    "            <h4 style=\"color: red;\">\n",
    "                <p>Item model define karta hai:</p>\n",
    "                <ul>\n",
    "                    <li><strong>name</strong>: Required string field</li>\n",
    "                    <li><strong>description</strong>: Optional string field with default value <code>None</code></li>\n",
    "                    <li><strong>price</strong>: Required float field</li>\n",
    "                    <li><strong>tax</strong>: Optional float field with default value <code>None</code></li>\n",
    "                </ul>\n",
    "            </h4>\n",
    "        </ul>\n",
    "        <hr style=\"margin: 20px 0;\">\n",
    "        <ul>\n",
    "            <h3><li><code>class User(BaseModel)</code></li></h3>\n",
    "            <h4 style=\"color: red;\">\n",
    "                <p>User model define karta hai:</p>\n",
    "                <ul>\n",
    "                    <li><strong>username</strong>: Required string field</li>\n",
    "                    <li><strong>full_name</strong>: Optional string field with default value <code>None</code></li></ul>\n",
    "            </h4>\n",
    "        </ul>\n",
    "        <hr style=\"margin: 20px 0;\">\n",
    "        <ul>\n",
    "            <h3><li><code>@app.get(\"/index/\")</code></li></h3>\n",
    "            <h4 style=\"color: red;\">\n",
    "                <p>Yeh endpoint <code>/index/</code> do parameters accept karta hai: <code>item</code> jo <code>Item</code> type ka hai aur <code>user</code> jo <code>User</code> type ka hai.</p>\n",
    "            </h4>\n",
    "        </ul>\n",
    "        <hr style=\"margin: 20px 0;\">\n",
    "        <ul>\n",
    "            <h3><li><code>Making a Request</code></li></h3>\n",
    "            <h4 style=\"color: red;\">\n",
    "                <p>Example request data:</p>\n",
    "                <pre>\n",
    "item_data = {\"name\": 'Mubeen', \"description\": 'Hello World', \"price\": 15.8, \"tax\": 5.8}\n",
    "user_data = {'username': 'mubeen123', 'full_name': 'Mubeen Ahmad'}\n",
    "                </pre>\n",
    "                <p>GET request to the endpoint:</p>\n",
    "                <pre>\n",
    "req = requests.get(\"http://127.0.0.1:4444/index\", json={'item': item_data, 'user': user_data})\n",
    "response = req.content.decode(\"utf-8\")\n",
    "json.loads(response)\n",
    "                </pre>\n",
    "            </h4>\n",
    "        </ul>\n",
    "        <hr style=\"margin: 20px 0;\">\n",
    "        <ul>\n",
    "            <h3><li><code>Note:</code></li></h3>\n",
    "            <h4 style=\"color: red;\">Yahan, <code>item</code> aur <code>user</code> parameters ke names aur structure exactly match hone chahiye jo function <code>route</code> mein pass kiya gaya hai.</h4>\n",
    "        </ul>\n",
    "    </div>\n",
    "</body>\n",
    "</html>\n"
   ]
  },
  {
   "cell_type": "markdown",
   "id": "dce9bb8c-28c5-46ab-afed-ba92f7cb443a",
   "metadata": {},
   "source": [
    "<h1 style=\"text-align:center; color:#005bbd; font-size:30px; font-family:Sans-serif; font-style: oblique; text-shadow: 0 0 3px white, 0 0 1px Black;\">Singular values in body (Body() parameter)</h1>\n"
   ]
  },
  {
   "cell_type": "code",
   "execution_count": 4,
   "id": "81687455-1d0a-4ecb-9fef-e2760016546c",
   "metadata": {
    "tags": []
   },
   "outputs": [],
   "source": [
    "from fastapi import Body"
   ]
  },
  {
   "cell_type": "code",
   "execution_count": null,
   "id": "f5b2eeab-9a28-4a93-9268-eccc024a60eb",
   "metadata": {},
   "outputs": [],
   "source": [
    "app = FastAPI()\n",
    "\n",
    "\n",
    "class User(BaseModel):\n",
    "    username: str\n",
    "    full_name: str | None = None\n",
    "\n",
    "\n",
    "@app.get(\"/query/\")\n",
    "async def query_exp(user: User, importance: int = N):\n",
    "    return (user, importance)\n",
    "\n",
    "\n",
    "@app.get(\"/body/\")\n",
    "async def body_exp(user: User, importance: int = Body()):\n",
    "    return (user, importance)\n",
    "\n",
    "\n",
    "if __name__ == \"__main__\":\n",
    "    nest_asyncio.apply()\n",
    "    uvicorn.run(app, port=4444)"
   ]
  },
  {
   "cell_type": "code",
   "execution_count": 111,
   "id": "f43c7735-8ba2-495b-b1f7-9ac3a09063dc",
   "metadata": {
    "tags": []
   },
   "outputs": [
    {
     "data": {
      "text/plain": [
       "'[{\"username\":\"mubeen\",\"full_name\":\"Mubeen Ahmad\"},\"123\"]'"
      ]
     },
     "execution_count": 111,
     "metadata": {},
     "output_type": "execute_result"
    }
   ],
   "source": [
    "data = {\"username\": \"mubeen\", \"full_name\": \"Mubeen Ahmad\"}\n",
    "\n",
    "req = requests.post(\"http://127.0.0.1:4444/query/?importance=123\", json=data)\n",
    "req.content.decode(\"utf-8\")"
   ]
  },
  {
   "cell_type": "code",
   "execution_count": 117,
   "id": "6f58cf3f-a1f4-4b1a-aca1-4fe03b47381f",
   "metadata": {
    "tags": []
   },
   "outputs": [
    {
     "data": {
      "text/plain": [
       "'[{\"username\":\"mubeen\",\"full_name\":\"Mubeen Ahmad\"},\"123\"]'"
      ]
     },
     "execution_count": 117,
     "metadata": {},
     "output_type": "execute_result"
    }
   ],
   "source": [
    "data = {\n",
    "    \"user\": {\"username\": \"mubeen\", \"full_name\": \"Mubeen Ahmad\"},\n",
    "    \"importance\": \"123\",\n",
    "}\n",
    "req = requests.post(\"http://127.0.0.1:4444/body/\", json=data)\n",
    "req.content.decode(\"utf-8\")"
   ]
  },
  {
   "cell_type": "markdown",
   "id": "0e513b24-b3ea-4d1a-986e-ccb42111938a",
   "metadata": {},
   "source": [
    "<!DOCTYPE html>\n",
    "<html lang=\"en\">\n",
    "<head>\n",
    "    <meta charset=\"UTF-8\">\n",
    "    <meta name=\"viewport\" content=\"width=device-width, initial-scale=1.0\">\n",
    "</head>\n",
    "<body style=\"font-family: Sans-serif;\">\n",
    "    <div style=\"color: green; font-size: 18px; font-style: oblique; text-shadow: 0 0 3px white, 0 0 1px black; border: 8px double black; padding: 20px;\">\n",
    "        <h2>Using Body Class in FastAPI</h2>\n",
    "        <p>Yeh example FastAPI mein query parameters aur request body ke use ko demonstrate karta hai. Saath hi Body class ka istemal singular values ko request body mein pass karne ke liye dikhata hai.</p>\n",
    "        <ul>\n",
    "            <h3><li><code>/query/ Endpoint:</code></li></h3>\n",
    "            <h4 style=\"color: red;\">\n",
    "                <p>Yeh endpoint query parameters aur request body ka istemal karta hai.</p>\n",
    "                <p><strong>Example GET Request:</strong> <code>/query/?importance=123</code></p>\n",
    "            </h4>\n",
    "        </ul>\n",
    "        <hr style=\"margin: 20px 0;\">\n",
    "        <ul>\n",
    "            <h3><li><code>/body/ Endpoint:</code></li></h3>\n",
    "            <h4 style=\"color: red;\">\n",
    "                <p>Yeh endpoint request body ke singular values ko handle karta hai, sath hi Body class ka istemal karta hai.</p>\n",
    "                <p><strong>Example POST Request:</strong></p>\n",
    "                <pre>\n",
    "data = {'user': {'username': 'mubeen', 'full_name': 'Mubeen Ahmad'}, 'importance': '123'}\n",
    "req = requests.post(\"http://127.0.0.1:4444/body/\", json=data)\n",
    "                </pre>\n",
    "            </h4>\n",
    "        </ul>\n",
    "    </div>\n",
    "</body>\n",
    "</html>\n"
   ]
  },
  {
   "cell_type": "markdown",
   "id": "fcc4d483-ab40-4f94-b4a9-9106094c73e3",
   "metadata": {},
   "source": [
    "<h1 style=\"text-align:center; color:#005bbd; font-size:30px; font-family:Sans-serif; font-style: oblique; text-shadow: 0 0 3px white, 0 0 1px Black;\">Also use Validations Parameters in Body</h1>\n"
   ]
  },
  {
   "cell_type": "code",
   "execution_count": 15,
   "id": "9ba99598-ff31-4ac3-af65-da1f4456d0a7",
   "metadata": {
    "tags": []
   },
   "outputs": [],
   "source": [
    "def fun(a,b):\n",
    "    return a,b"
   ]
  },
  {
   "cell_type": "code",
   "execution_count": 19,
   "id": "be81c9ec-1c16-4cd3-9ff0-aba4956d8c06",
   "metadata": {
    "tags": []
   },
   "outputs": [
    {
     "name": "stdout",
     "output_type": "stream",
     "text": [
      "(1, 2)\n",
      "(1, 2)\n",
      "(2, 1)\n"
     ]
    }
   ],
   "source": [
    "print(fun(1,2))\n",
    "print(fun(a=1,b=2))\n",
    "print(fun(b=1,a=2))"
   ]
  },
  {
   "cell_type": "code",
   "execution_count": 20,
   "id": "8e048ce8-51c6-4a3c-9aa6-a766acf5eb9a",
   "metadata": {
    "tags": []
   },
   "outputs": [],
   "source": [
    "def fun(*,a,b):\n",
    "    return a,b"
   ]
  },
  {
   "cell_type": "code",
   "execution_count": 23,
   "id": "3f2a9b86-160c-48e2-82a4-0187df4602cc",
   "metadata": {
    "tags": []
   },
   "outputs": [
    {
     "name": "stdout",
     "output_type": "stream",
     "text": [
      "(1, 2)\n",
      "(2, 1)\n"
     ]
    }
   ],
   "source": [
    "print(fun(a=1,b=2))\n",
    "print(fun(b=1,a=2))"
   ]
  }
 ],
 "metadata": {
  "kernelspec": {
   "display_name": "Python 3 (ipykernel)",
   "language": "python",
   "name": "python3"
  },
  "language_info": {
   "codemirror_mode": {
    "name": "ipython",
    "version": 3
   },
   "file_extension": ".py",
   "mimetype": "text/x-python",
   "name": "python",
   "nbconvert_exporter": "python",
   "pygments_lexer": "ipython3",
   "version": "3.10.12"
  }
 },
 "nbformat": 4,
 "nbformat_minor": 5
}
