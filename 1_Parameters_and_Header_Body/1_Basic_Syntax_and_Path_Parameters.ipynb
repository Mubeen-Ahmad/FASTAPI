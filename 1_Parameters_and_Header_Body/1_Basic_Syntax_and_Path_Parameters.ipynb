{
 "cells": [
  {
   "cell_type": "markdown",
   "id": "27e37ca7-1e6f-4e62-a0b3-0b7c28fdb6a6",
   "metadata": {},
   "source": [
    "<h1 style=\"text-align:center; color:#005bbd; font-size:30px; font-family:Sans-serif; font-style: oblique; text-shadow: 0 0 3px white, 0 0 1px Black;\">FastApi Basic Syntax</h1>"
   ]
  },
  {
   "cell_type": "code",
   "execution_count": 28,
   "id": "3c81793a-9fb0-4a09-90db-1860905c0808",
   "metadata": {},
   "outputs": [],
   "source": [
    "from fastapi import FastAPI\n",
    "import uvicorn\n",
    "import nest_asyncio\n",
    "import requests"
   ]
  },
  {
   "cell_type": "markdown",
   "id": "228c54f1-f95d-4611-83a2-aeac03e7d575",
   "metadata": {},
   "source": [
    "<div style=\"text-align:justify; color:black; font-size:20px; font-family:Sans-serif; font-style: oblique; text-shadow: 0 0 3px white, 0 0 1px black;\">\n",
    "    JupyterLab me nested asynchronous loops handle karne hain, toh nest_asyncio ka use kiya ja sakta hai. <br>Ye tab helpful hota hai jab aap JupyterLab ke andar ek asynchronous server run kar rahe hote hain\n",
    "</div>"
   ]
  },
  {
   "cell_type": "code",
   "execution_count": 1,
   "id": "c1ad4dc4-5308-473a-8192-2fbce9f1a89b",
   "metadata": {},
   "outputs": [],
   "source": [
    "app = FastAPI() # call it\n",
    "\n",
    "\n",
    "@app.get(\"/\") # decoractor   get request on /\\\n",
    "\n",
    "async def root():\n",
    "    return {\"message\": \"Hello World\"}\n",
    "\n",
    "@app.get('/index')\n",
    "async def index():\n",
    "    return {\"message\": \"index page\"}\n",
    "\n",
    "\n",
    "if __name__ == \"__main__\":\n",
    "    nest_asyncio.apply()\n",
    "    uvicorn.run(app)"
   ]
  },
  {
   "cell_type": "markdown",
   "id": "23f1479c-fec8-47a0-9355-d4404ac424ef",
   "metadata": {},
   "source": [
    "<div style=\"text-align:justify; color:black; font-size:20px; font-family:Sans-serif; font-style: oblique; text-shadow: 0 0 3px white, 0 0 1px black;\">\n",
    "    request ka use link pr hit karny k lye hn\n",
    "</div>"
   ]
  },
  {
   "cell_type": "markdown",
   "id": "ed8b4814-3879-4f19-8f78-f0208333e325",
   "metadata": {},
   "source": [
    "<div style=\"text-align:justify; color:black; font-size:20px; font-family:Sans-serif; font-style: oblique; text-shadow: 0 0 3px white, 0 0 1px black;\">\n",
    "    / page\n",
    "</div>"
   ]
  },
  {
   "cell_type": "code",
   "execution_count": 6,
   "id": "1a0e530b-7283-4678-8366-56357e667c81",
   "metadata": {},
   "outputs": [],
   "source": [
    "def check_response(req):\n",
    "    return req.content.decode('utf-8')"
   ]
  },
  {
   "cell_type": "code",
   "execution_count": 8,
   "id": "f8d65e98-cace-4c7c-826a-aa9c1bf13b3a",
   "metadata": {},
   "outputs": [
    {
     "data": {
      "text/plain": [
       "'{\"message\":\"Hello World\"}'"
      ]
     },
     "execution_count": 8,
     "metadata": {},
     "output_type": "execute_result"
    }
   ],
   "source": [
    "req = requests.get('http://127.0.0.1:4444')\n",
    "check_response(req)"
   ]
  },
  {
   "cell_type": "markdown",
   "id": "b819d38e-fddb-4fd5-8f02-cc3f67395d8e",
   "metadata": {},
   "source": [
    "<div style=\"text-align:justify; color:black; font-size:20px; font-family:Sans-serif; font-style: oblique; text-shadow: 0 0 3px white, 0 0 1px black;\">\n",
    "    / index page\n",
    "</div>"
   ]
  },
  {
   "cell_type": "code",
   "execution_count": 9,
   "id": "7e76276f-b423-4371-9b5c-5450406c518c",
   "metadata": {},
   "outputs": [
    {
     "data": {
      "text/plain": [
       "'{\"message\":\"index page\"}'"
      ]
     },
     "execution_count": 9,
     "metadata": {},
     "output_type": "execute_result"
    }
   ],
   "source": [
    "req = requests.get('http://127.0.0.1:4444/index')\n",
    "check_response(req)"
   ]
  },
  {
   "cell_type": "markdown",
   "id": "9a59ab74-3e82-4de4-9513-396976dad5d4",
   "metadata": {},
   "source": [
    "<hr>\n",
    "<h1 style=\"text-align:center; color:green; font-size:30px; font-family:Sans-serif; font-style: oblique; text-shadow: 0 0 3px white, 0 0 1px Black;\">Summary Basic</h1><hr>"
   ]
  },
  {
   "cell_type": "markdown",
   "id": "791a5d07-86f6-4460-8e5d-0d66c09da572",
   "metadata": {},
   "source": [
    "<!DOCTYPE html>\n",
    "<html lang=\"en\">\n",
    "<head>\n",
    "    <meta charset=\"UTF-8\">\n",
    "    <meta name=\"viewport\" content=\"width=device-width, initial-scale=1.0\">\n",
    "</head>\n",
    "<body style=\"font-family: Sans-serif;\">\n",
    "    <div style=\"color: green; font-size: 18px; font-style: oblique; text-shadow: 0 0 3px white, 0 0 1px black; border: 8px double black; padding: 20px;\">\n",
    "        <ul>\n",
    "            <h3><li><code>app = FastAPI()</code></li></h3>\n",
    "            <h4 style=\"color: red;\">Explanation: FastAPI framework ko call kar ke ek application instance <code>app</code> variable mein store kiya gaya hai.</h4>\n",
    "        </ul>\n",
    "        <hr style=\"margin: 20px 0;\">\n",
    "        <ul>\n",
    "            <h3><li><code>@app.get(\"/\")</code></li></h3>\n",
    "            <h4 style=\"color: red;\">Explanation: Yeh ek decorator hai jo define karta hai ke jab GET request <code>\"/\"</code> (root) path par aayegi to kaunsa function call hoga.</h4>\n",
    "        </ul>\n",
    "        <hr style=\"margin: 20px 0;\">\n",
    "        <ul>\n",
    "            <h3><li><code>async def root(): <br>    return {\"message\": \"Hello World\"}</code></li></h3>\n",
    "            <h4 style=\"color: red;\">Explanation: Yeh ek asynchronous function hai jo <code>\"/\"</code> path par GET request aane par call hota hai aur ek JSON response return karta hai jisme message \"Hello World\" hota hai.</h4>\n",
    "        </ul>\n",
    "        <hr style=\"margin: 20px 0;\">\n",
    "        <ul>\n",
    "            <h3><li><code>uvicorn.run(app, port=4444)</code></li></h3>\n",
    "            <h4 style=\"color: red;\">Explanation: Uvicorn ko use kar ke FastAPI app ko run kiya ja raha hai aur yeh server localhost ke port 4444 par listen kar raha hai.</h4>\n",
    "        </ul>\n",
    "    </div>\n",
    "</body>\n",
    "</html>\n"
   ]
  },
  {
   "cell_type": "markdown",
   "id": "f69d1606-e253-4c57-b755-91f2a12ae753",
   "metadata": {},
   "source": [
    "<h1 style=\"text-align:center; color:#005bbd; font-size:30px; font-family:Sans-serif; font-style: oblique; text-shadow: 0 0 3px white, 0 0 1px Black;\">Path Perameters</h1>"
   ]
  },
  {
   "cell_type": "markdown",
   "id": "01e0bda1-32f1-4e1c-bb80-fb4fb76dc7fd",
   "metadata": {},
   "source": [
    "<div style=\"text-align:justify; color:black; font-size:20px; font-family:Sans-serif; font-style: oblique; text-shadow: 0 0 3px white, 0 0 1px black;\">\n",
    "FastAPI path parameters wo parameters hain jo URL path ka hissa hote hain. <br>Ye parameters web applications me specific resources ko access karne ke liye use hote hain. <br>FastAPI automatically in parameters ko extract karke aapki defined functions me pass kar deta hai.</div>\n"
   ]
  },
  {
   "cell_type": "code",
   "execution_count": null,
   "id": "3ce7c067-43c7-4036-99b8-6bba33eadce9",
   "metadata": {},
   "outputs": [],
   "source": [
    "app = FastAPI()\n",
    "\n",
    "@app.get(\"/items/{item_id}\")\n",
    "async def read_item(item_id):\n",
    "    return {\"item_id\": item_id}\n",
    "\n",
    "\n",
    "@app.get(\"/numbers/{selected_number}\")\n",
    "async def read_numbers(selected_number):\n",
    "    return {\"you selected\": selected_number}\n",
    "\n",
    "\n",
    "if __name__ == \"__main__\":\n",
    "    nest_asyncio.apply()\n",
    "    uvicorn.run(app,port=4444)"
   ]
  },
  {
   "cell_type": "code",
   "execution_count": 3,
   "id": "446d4155-ca57-4635-afe8-a7872e716b30",
   "metadata": {},
   "outputs": [],
   "source": [
    "import requests\n",
    "def check_response(req):\n",
    "    return req.content.decode('utf-8')"
   ]
  },
  {
   "cell_type": "code",
   "execution_count": 4,
   "id": "537c08ea-1867-45ac-88d4-259317c130e6",
   "metadata": {},
   "outputs": [
    {
     "data": {
      "text/plain": [
       "'{\"item_id\":\"apple\"}'"
      ]
     },
     "execution_count": 4,
     "metadata": {},
     "output_type": "execute_result"
    }
   ],
   "source": [
    "req = requests.get('http://127.0.0.1:4444/items/apple')\n",
    "check_response(req)"
   ]
  },
  {
   "cell_type": "markdown",
   "id": "749e0c6c-6da6-4caa-9dd1-ba903bbde09f",
   "metadata": {},
   "source": [
    "<div style=\"text-align:justify; color:black; font-size:20px; font-family:Sans-serif; font-style: oblique; text-shadow: 0 0 3px white, 0 0 1px black;\">\n",
    "uper example me /items/ kay baad apple likha to item_id variable me apple store ho gia</div>\n"
   ]
  },
  {
   "cell_type": "code",
   "execution_count": 8,
   "id": "f94d2c30-b1c6-436c-9dda-a7e545118985",
   "metadata": {},
   "outputs": [
    {
     "data": {
      "text/plain": [
       "'{\"you selected\":\"1234\"}'"
      ]
     },
     "execution_count": 8,
     "metadata": {},
     "output_type": "execute_result"
    }
   ],
   "source": [
    "req = requests.get('http://127.0.0.1:4444/numbers/1234')\n",
    "check_response(req)"
   ]
  },
  {
   "cell_type": "markdown",
   "id": "78d1c786-0a33-4d3d-98f9-af98bef36e1b",
   "metadata": {},
   "source": [
    "<div style=\"text-align:justify; color:black; font-size:20px; font-family:Sans-serif; font-style: oblique; text-shadow: 0 0 3px white, 0 0 1px black;\">\n",
    "    is example me numbers/ ky baad 1234 pass kia hn to selected_number variable me 1234 store ho gia\n",
    "</div>\n"
   ]
  },
  {
   "cell_type": "markdown",
   "id": "800cd2d8-a4c8-41bd-a35b-1b8871d56ef6",
   "metadata": {},
   "source": [
    "<hr>\n",
    "<h1 style=\"text-align:center; color:green; font-size:30px; font-family:Sans-serif; font-style: oblique; text-shadow: 0 0 3px white, 0 0 1px Black;\">Summary Path Parameters</h1><hr>"
   ]
  },
  {
   "cell_type": "markdown",
   "id": "ee29f46d-00e3-4d72-bdad-16f67b2f9fa9",
   "metadata": {},
   "source": [
    "<!DOCTYPE html>\n",
    "<html lang=\"en\">\n",
    "<head>\n",
    "    <meta charset=\"UTF-8\">\n",
    "    <meta name=\"viewport\" content=\"width=device-width, initial-scale=1.0\">\n",
    "</head>\n",
    "<body style=\"font-family: Sans-serif;\">\n",
    "    <div style=\"color: green; font-size: 18px; font-style: oblique; text-shadow: 0 0 3px white, 0 0 1px black; border: 8px double black; padding: 20px;\">\n",
    "        <p style=\"color: black;\">\n",
    "            FastAPI path parameters wo parameters hain jo URL path ka hissa hote hain.<br>\n",
    "            Ye parameters web applications me specific resources ko access karne ke liye use hote hain.<br>\n",
    "            FastAPI automatically in parameters ko extract karke aapki defined functions me pass kar deta hai.\n",
    "        </p>\n",
    "        <hr style=\"margin: 20px 0;\">\n",
    "        <ul>\n",
    "            <h3><li><code>@app.get(\"/items/{item_id}\")</code></li></h3>\n",
    "            <h4 style=\"color: red;\">Explanation: Yeh ek decorator hai jo define karta hai ke jab GET request <code>\"/items/{item_id}\"</code> path par aayegi to kaunsa function call hoga.</h4>\n",
    "        </ul>\n",
    "        <ul>\n",
    "            <h3><li><code>async def read_item(item_id): <br>    return {\"item_id\": item_id}</code></li></h3>\n",
    "            <h4 style=\"color: red;\">Explanation: Yeh ek asynchronous function hai jo <code>\"/items/{item_id}\"</code> path par GET request aane par call hota hai aur <code>item_id</code> parameter ko return karta hai.</h4>\n",
    "        </ul>\n",
    "        <hr style=\"margin: 20px 0;\">\n",
    "        <p style=\"color: black;\">\n",
    "            yaha <code>/items/{item_id}</code> pr hit request ki gai hn.<br>\n",
    "            ye assume kr ly ky <code>/items/{userinput}</code> hy means <code>/items/</code> ky baad jo kuch link me ho ga wo <code>read_item</code> me <code>item_id</code> parameter me store ho jai ga <br>aur return kr dy ga.\n",
    "        </p>\n",
    "    </div>\n",
    "</body>\n",
    "</html>\n"
   ]
  },
  {
   "cell_type": "markdown",
   "id": "3a1a3c07-ab93-4915-9939-a62023722cd8",
   "metadata": {},
   "source": [
    "\n",
    "<h1 style=\"text-align:center; color:#005bbd; font-size:30px; font-family:Sans-serif; font-style: oblique; text-shadow: 0 0 3px white, 0 0 1px Black;\">Path parameters with types\n",
    "</h1>"
   ]
  },
  {
   "cell_type": "markdown",
   "id": "3950dbc8-744f-4821-a0e2-0362a6c4cd8c",
   "metadata": {},
   "source": [
    "<div style=\"text-align:justify; color:black; font-size:20px; font-family:Sans-serif; font-style: oblique; text-shadow: 0 0 3px white, 0 0 1px black;\">\n",
    "Path parameters ki types bhi define kr sakhty hn jis sy data type ki validation ho gi\n",
    "</div>\n"
   ]
  },
  {
   "cell_type": "code",
   "execution_count": null,
   "id": "f0237190-1bd2-4bdd-aca8-0da438ff9e52",
   "metadata": {},
   "outputs": [],
   "source": [
    "app = FastAPI()\n",
    "\n",
    "\n",
    "@app.get(\"/numbers/{selected_number}\")\n",
    "async def read_numbers(selected_number:int):\n",
    "    return {\"you selected\": selected_number}\n",
    "\n",
    "\n",
    "if __name__ == \"__main__\":\n",
    "    nest_asyncio.apply()\n",
    "    uvicorn.run(app,port=4444)"
   ]
  },
  {
   "cell_type": "markdown",
   "id": "388f5423-b995-4c14-a830-f5b6c463e8c7",
   "metadata": {},
   "source": [
    "<div style=\"text-align:justify; color:black; font-size:20px; font-family:Sans-serif; font-style: oblique; text-shadow: 0 0 3px white, 0 0 1px black;\">\n",
    "yaha type int pass kia hn lakin me example me string pass kr raha hu to error aye ga</div>"
   ]
  },
  {
   "cell_type": "code",
   "execution_count": 11,
   "id": "f9c6ff3b-04bc-4245-bd68-ac131f1c1f43",
   "metadata": {},
   "outputs": [
    {
     "name": "stdout",
     "output_type": "stream",
     "text": [
      "{\"detail\":[{\"type\":\"int_parsing\",\"loc\":[\"path\",\"selected_number\"],\"msg\":\"Input should be a valid integer, unable to parse string as an integer\",\"input\":\"apple\",\"url\":\"https://errors.pydantic.dev/2.6/v/int_parsing\"}]}\n"
     ]
    }
   ],
   "source": [
    "req = requests.get('http://127.0.0.1:4444/numbers/apple')\n",
    "print(req.content.decode('utf-8'))"
   ]
  },
  {
   "cell_type": "markdown",
   "id": "1d1e94af-a036-456b-8185-eb3cf493af97",
   "metadata": {},
   "source": [
    "<div style=\"text-align:justify; color:black; font-size:20px; font-family:Sans-serif; font-style: oblique; text-shadow: 0 0 3px white, 0 0 1px black;\">\n",
    "yaha type int pass kru ga to error nahi aye ga</div>"
   ]
  },
  {
   "cell_type": "code",
   "execution_count": 12,
   "id": "3a50766f-0dc9-4e32-9cd9-b9c6e045c5ca",
   "metadata": {},
   "outputs": [
    {
     "name": "stdout",
     "output_type": "stream",
     "text": [
      "{\"you selected\":12589}\n"
     ]
    }
   ],
   "source": [
    "req = requests.get('http://127.0.0.1:4444/numbers/12589')\n",
    "print(req.content.decode('utf-8'))"
   ]
  },
  {
   "cell_type": "markdown",
   "id": "4bb80626-e511-4eb8-9fc9-0577d8513017",
   "metadata": {},
   "source": [
    "<div style=\"text-align:justify; color:black; font-size:25px; font-family:Sans-serif; font-style: oblique; text-shadow: 0 0 3px white, 0 0 1px black;\">\n",
    "</div>"
   ]
  },
  {
   "cell_type": "markdown",
   "id": "a44f2ae5-f5f3-42f4-bfb4-026c12189a04",
   "metadata": {},
   "source": [
    "<div style=\"text-align:justify; color:black; font-size:20px; font-family:Sans-serif; font-style: oblique; text-shadow: 0 0 3px white, 0 0 1px black;\">\n",
    "Normal parameters me hamye link me koi additional  value nahi deni hoti<br>\n",
    "lakin path parameters me additional value lazmi deni hoti hn\n",
    "</div>"
   ]
  },
  {
   "cell_type": "markdown",
   "id": "7c9dc654-1e68-463e-bed3-648c8b7961b3",
   "metadata": {},
   "source": [
    "<hr>\n",
    "<h1 style=\"text-align:center; color:green; font-size:30px; font-family:Sans-serif; font-style: oblique; text-shadow: 0 0 3px white, 0 0 1px Black;\">Summary Path Parameters datatype</h1><hr>"
   ]
  },
  {
   "cell_type": "markdown",
   "id": "c2a16d9a-81a5-4667-adb8-f0af64ac60e3",
   "metadata": {},
   "source": [
    "<!DOCTYPE html>\n",
    "<html lang=\"en\">\n",
    "<head>\n",
    "    <meta charset=\"UTF-8\">\n",
    "    <meta name=\"viewport\" content=\"width=device-width, initial-scale=1.0\">\n",
    "</head>\n",
    "<body style=\"font-family: Sans-serif;\">\n",
    "    <div style=\"color: green; font-size: 18px; font-style: oblique; text-shadow: 0 0 3px white, 0 0 1px black; border: 8px double black; padding: 20px;\">\n",
    "        <p style=\"color: black;\">\n",
    "            FastAPI allows you to define data types for path parameters, ensuring strict typing and validation.\n",
    "        </p>\n",
    "        <hr style=\"margin: 20px 0;\">\n",
    "        <ul>\n",
    "            <h3><li><code>@app.get(\"/numbers/{selected_number}\")</code></li></h3>\n",
    "            <h4 style=\"color: red;\">Explanation: Yeh ek decorator hai jo define karta hai ke jab GET request <code>\"/numbers/{selected_number}\"</code> path par aayegi to kaunsa function call hoga.</h4>\n",
    "        </ul>\n",
    "        <ul>\n",
    "            <h3><li><code>async def read_numbers(selected_number:int): <br>    return {\"you selected\": selected_number}</code></li></h3>\n",
    "            <h4 style=\"color: red;\">Explanation: Yeh ek asynchronous function hai jo <code>\"/numbers/{selected_number}\"</code> path par GET request aane par call hota hai aur <code>selected_number</code> parameter ko <code>int</code> data type mein expect karta hai. Agar koi aur data type diya gaya ho, jaise <code>str</code>, to error aayega.</h4>\n",
    "        </ul>\n",
    "        <hr style=\"margin: 20px 0;\">\n",
    "        <p style=\"color: black;\">\n",
    "            yaha <code>/numbers/{selected_number}</code> pr GET request ki ja rahi hai.<br>\n",
    "            Lekin <code>read_numbers(selected_number:int)</code> me <code>int</code> data type di gayi hai, <br>iska matlab sirf integer values ko hi allow kiya jaega. <br>Agar koi aur data type diya jata hai, jaise <code>str</code>, to error aayega.\n",
    "        </p>\n",
    "    </div>\n",
    "</body>\n",
    "</html>\n"
   ]
  },
  {
   "cell_type": "markdown",
   "id": "bad45979-1d3f-4d4d-a68a-531d427db385",
   "metadata": {},
   "source": [
    "<h1 style=\"text-align:center; color:#005bbd; font-size:30px; font-family:Sans-serif; font-style: oblique; text-shadow: 0 0 3px white, 0 0 1px Black;\">Parameter Mismatch Error \n",
    "</h1>"
   ]
  },
  {
   "cell_type": "code",
   "execution_count": 16,
   "id": "8a2ab45d-3396-49fc-ae23-e9bd4124897d",
   "metadata": {},
   "outputs": [],
   "source": [
    "app = FastAPI()\n",
    "\n",
    "@app.get(\"/normal\")\n",
    "async def exp1():\n",
    "    return {\"parameter\":'Normal parameter'}\n",
    "\n",
    "@app.get(\"/normal/{path_parameter}\")\n",
    "async def exp2(parameter:str):\n",
    "    return {\"Path parameter\": parameter}\n",
    "\n",
    "\n",
    "if __name__ == \"__main__\":\n",
    "    nest_asyncio.apply()\n",
    "    uvicorn.run(app,port=4444)"
   ]
  },
  {
   "cell_type": "markdown",
   "id": "62aa4028-cbd4-4bfb-b845-9a1311e537ba",
   "metadata": {
    "editable": true,
    "slideshow": {
     "slide_type": "slide"
    },
    "tags": []
   },
   "source": [
    "<div style=\"text-align:justify; color:black; font-size:20px; font-family:Sans-serif; font-style: oblique; text-shadow: 0 0 3px white, 0 0 1px black;\">\n",
    "Yaha normal link pr bs hit kia gia hn\n",
    "</div>"
   ]
  },
  {
   "cell_type": "code",
   "execution_count": 133,
   "id": "fc93ba6c-cbe9-4955-b278-7e07f4274100",
   "metadata": {},
   "outputs": [
    {
     "name": "stdout",
     "output_type": "stream",
     "text": [
      "{\"parameter\":\"Normal parameter\"}\n"
     ]
    }
   ],
   "source": [
    "req = requests.get('http://127.0.0.1:4444/normal')\n",
    "print(req.content.decode('utf-8'))"
   ]
  },
  {
   "cell_type": "code",
   "execution_count": 134,
   "id": "fda15f52-5cd2-4d27-949c-8c938e54bcd3",
   "metadata": {},
   "outputs": [
    {
     "name": "stdout",
     "output_type": "stream",
     "text": [
      "{\"detail\":[{\"type\":\"missing\",\"loc\":[\"query\",\"parameter\"],\"msg\":\"Field required\",\"input\":null,\"url\":\"https://errors.pydantic.dev/2.6/v/missing\"}]}\n"
     ]
    }
   ],
   "source": [
    "req = requests.get('http://127.0.0.1:4444/normal/hello')\n",
    "print(req.content.decode('utf-8'))"
   ]
  },
  {
   "cell_type": "markdown",
   "id": "020630a6-cf02-43bb-82a6-90ff1c930eae",
   "metadata": {},
   "source": [
    "<div style=\"text-align:justify; color:black; font-size:20px; font-family:Sans-serif; font-style: oblique; text-shadow: 0 0 3px white, 0 0 1px black;\">\n",
    "yaha error is lye a raha hn bcz exp2 function me required parameter hy lakin route me path_parameter dia hn\n",
    "</div>"
   ]
  },
  {
   "cell_type": "markdown",
   "id": "9211917f-afa4-4162-b322-38fd8b1da7a3",
   "metadata": {},
   "source": [
    "<div style=\"text-align:justify; color:black; font-size:20px; font-family:Sans-serif; font-style: oblique; text-shadow: 0 0 3px white, 0 0 1px black;\">\n",
    "isko solve karny k lye {}? variable=value ka use karna ho ga\n",
    "</div>"
   ]
  },
  {
   "cell_type": "code",
   "execution_count": 143,
   "id": "fea38741-778c-4a15-8d7e-44663016b99d",
   "metadata": {},
   "outputs": [
    {
     "name": "stdout",
     "output_type": "stream",
     "text": [
      "{\"Path parameter\":\"1\"}\n"
     ]
    }
   ],
   "source": [
    "req = requests.get('http://127.0.0.1:4444/normal/{}?parameter=1')\n",
    "print(req.content.decode('utf-8'))"
   ]
  },
  {
   "cell_type": "markdown",
   "id": "bc854225-3bab-4029-a819-79ff075676b3",
   "metadata": {},
   "source": [
    "<div style=\"text-align:justify; color:black; font-size:20px; font-family:Sans-serif; font-style: oblique; text-shadow: 0 0 3px white, 0 0 1px black;\">\n",
    "yaha normal ky baad {}?parameter=1 pass kia hn {} me 1 store  ho jai ga <br>aur parameter name sy hi parms dyna ho ga</div>"
   ]
  },
  {
   "cell_type": "code",
   "execution_count": 58,
   "id": "1a28b568-d38b-4415-9d61-1f2eb0b2add7",
   "metadata": {},
   "outputs": [
    {
     "name": "stdout",
     "output_type": "stream",
     "text": [
      "{\"Path parameter\":\"1\"}\n"
     ]
    }
   ],
   "source": [
    "req = requests.get('http://127.0.0.1:4444/normal/{}?parameter=1')\n",
    "print(req.content.decode('utf-8'))"
   ]
  },
  {
   "cell_type": "markdown",
   "id": "09e491cd-f349-47ba-bc0b-12ef9a36af53",
   "metadata": {},
   "source": [
    "<div style=\"text-align:justify; color:black; font-size:20px; font-family:Sans-serif; font-style: oblique; text-shadow: 0 0 3px white, 0 0 1px black;\">\n",
    "1 aur tricka hn type parameter pass karny ka</div>"
   ]
  },
  {
   "cell_type": "code",
   "execution_count": 71,
   "id": "35091280-5266-4d54-a5c2-ce3bd182a871",
   "metadata": {},
   "outputs": [
    {
     "name": "stdout",
     "output_type": "stream",
     "text": [
      "{\"Path parameter\":\"1\"}\n"
     ]
    }
   ],
   "source": [
    "req = requests.get('http://127.0.0.1:4444/normal/{}',params={'parameter':1})\n",
    "print(req.content.decode('utf-8'))"
   ]
  },
  {
   "cell_type": "markdown",
   "id": "844879cd-2af1-4626-b336-375363b3c0de",
   "metadata": {},
   "source": [
    "<div style=\"text-align:justify; color:black; font-size:20px; font-family:Sans-serif; font-style: oblique; text-shadow: 0 0 3px white, 0 0 1px black;\">\n",
    "Note agr same name sy both parameters define kiye hn to <br>phir agr {} ka use nahi ki gia <br>to as default normal parmeter hi consider ho ga</div>\n"
   ]
  },
  {
   "cell_type": "code",
   "execution_count": 70,
   "id": "749d616b-48f1-474e-840d-a55ce918cfde",
   "metadata": {},
   "outputs": [
    {
     "name": "stdout",
     "output_type": "stream",
     "text": [
      "{\"parameter\":\"Normal parameter\"}\n"
     ]
    }
   ],
   "source": [
    "req = requests.get('http://127.0.0.1:4444/normal/',params={'parameter':1})\n",
    "print(req.content.decode('utf-8'))"
   ]
  },
  {
   "cell_type": "markdown",
   "id": "3a7432a0-f60d-4278-86e4-c8ceecc87c8c",
   "metadata": {},
   "source": [
    "<div style=\"text-align:justify; color:black; font-size:20px; font-family:Sans-serif; font-style: oblique; text-shadow: 0 0 3px white, 0 0 1px black;\">\n",
    "SO ye Same name ka perameter use karna chiye but iska solution hy <br>lakin phir bhi same parameter use karna chiye</div>\n"
   ]
  },
  {
   "cell_type": "markdown",
   "id": "1a0240ee-3e11-4f7d-af0a-e2e45c3289d2",
   "metadata": {},
   "source": [
    "<hr>\n",
    "<h1 style=\"text-align:center; color:green; font-size:30px; font-family:Sans-serif; font-style: oblique; text-shadow: 0 0 3px white, 0 0 1px Black;\">Summary Path Parameters Mismatch Error</h1><hr>"
   ]
  },
  {
   "cell_type": "markdown",
   "id": "c362b40c-5762-4864-bcc4-15c5ce9eca63",
   "metadata": {},
   "source": [
    "<!DOCTYPE html>\n",
    "<html lang=\"en\">\n",
    "<head>\n",
    "    <meta charset=\"UTF-8\">\n",
    "    <meta name=\"viewport\" content=\"width=device-width, initial-scale=1.0\">\n",
    "</head>\n",
    "<body style=\"font-family: Sans-serif;\">\n",
    "    <div style=\"color: green; font-size: 18px; font-style: oblique; text-shadow: 0 0 3px white, 0 0 1px black; border: 8px double black; padding: 20px;\">\n",
    "        <p style=\"color: black;\">\n",
    "            FastAPI allows you to define routes with path parameters.<br> However, mismatch between the parameter name in the route and the function definition can lead to errors.\n",
    "        </p>\n",
    "        <hr style=\"margin: 20px 0;\">\n",
    "        <ul>\n",
    "            <h3><li><code>@app.get(\"/normal\")</code></li></h3>\n",
    "            <h4 style=\"color: red;\">Explanation: Jab \"/normal\" path par request aati hai, tab normal parameter wala <code>exp1</code> function chala jata hai.</h4>\n",
    "        </ul>\n",
    "        <ul>\n",
    "            <h3><li><code>@app.get(\"/normal/{path_parameter}\")</code></li></h3>\n",
    "            <h4 style=\"color: red;\">Explanation: Jab \"/normal/{path_parameter}\" path par request aati hai, tab path parameter wala <code>exp2</code> function chala jata hai. Lekin yeh function error dega kyunki route mein path parameter ka naam <code>path_parameter</code> hai, jabki function definition mein <code>parameter</code> hai.</h4>\n",
    "        </ul>\n",
    "        <hr style=\"margin: 20px 0;\">\n",
    "        <p style=\"color: black;\">\n",
    "            Agar route aur function mein parameter ke naam alag hain, to error aata hai.<br> Iska solution hai ki ya to dono jagah ke naam same rakhein ya fir query parameters ka istemal karein, jaise ki <code>/normal/{}</code>?<code>parameter=1</code> ya <code>/normal/{}</code>, params={'parameter':1}. <br> Lekin behtar hai ke aap parameter ke liye <code>{}</code> hi istemal karein.\n",
    "        </p>\n",
    "        <p style=\"color: black;\"><br> \n",
    "            Isliye recommended nahi kiya jata ki route aur function mein parameter ka naam alag ho.\n",
    "        </p>\n",
    "    </div>\n",
    "</body>\n",
    "</html>\n"
   ]
  },
  {
   "cell_type": "markdown",
   "id": "998d6d58-8dcb-47da-8a76-895a9c78d171",
   "metadata": {},
   "source": [
    "<h1 style=\"text-align:center; color:#005bbd; font-size:30px; font-family:Sans-serif; font-style: oblique; text-shadow: 0 0 3px white, 0 0 1px Black;\">Manual Data Type Validation\n",
    "</h1>"
   ]
  },
  {
   "cell_type": "markdown",
   "id": "d73fb23a-d36e-407a-aa3e-de7b7fdcfbae",
   "metadata": {},
   "source": [
    "<div style=\"text-align:justify; color:black; font-size:20px; font-family:Sans-serif; font-style: oblique; text-shadow: 0 0 3px white, 0 0 1px black;\">\n",
    "    path parameters ky datatype me custom validation ka use kr sakhty hn <br> e.g Enum, dict, etc\n",
    "</div>\n"
   ]
  },
  {
   "cell_type": "code",
   "execution_count": 73,
   "id": "81485cf8-c80a-4726-8f8c-b930f172adec",
   "metadata": {},
   "outputs": [],
   "source": [
    "from enum import Enum"
   ]
  },
  {
   "cell_type": "code",
   "execution_count": 74,
   "id": "ae702bf2-8c66-4856-ac7e-4d4bedb3fb8d",
   "metadata": {},
   "outputs": [],
   "source": [
    "class ModelName(str, Enum):\n",
    "    alexnet = \"alexnet\"\n",
    "    resnet = \"resnet\"\n",
    "    lenet = \"lenet\""
   ]
  },
  {
   "cell_type": "markdown",
   "id": "5d5d9ed1-9782-4d1b-aaf3-762af213f053",
   "metadata": {},
   "source": [
    "<div style=\"text-align:justify; color:black; font-size:20px; font-family:Sans-serif; font-style: oblique; text-shadow: 0 0 3px white, 0 0 1px black;\">\n",
    "    example\n",
    "</div>\n"
   ]
  },
  {
   "cell_type": "code",
   "execution_count": 77,
   "id": "14c2d037-42c4-454b-ac4d-39b6d8ebc7d7",
   "metadata": {},
   "outputs": [
    {
     "data": {
      "text/plain": [
       "<ModelName.alexnet: 'alexnet'>"
      ]
     },
     "execution_count": 77,
     "metadata": {},
     "output_type": "execute_result"
    }
   ],
   "source": [
    "ModelName('alexnet')"
   ]
  },
  {
   "cell_type": "code",
   "execution_count": 79,
   "id": "db8959d9-5844-4552-b98c-543f63c39d6e",
   "metadata": {},
   "outputs": [
    {
     "name": "stdout",
     "output_type": "stream",
     "text": [
      "'alexne' is not a valid ModelName\n"
     ]
    }
   ],
   "source": [
    "try:\n",
    "    ModelName('alexne')\n",
    "except Exception as e:\n",
    "    print(e)"
   ]
  },
  {
   "cell_type": "markdown",
   "id": "fac64607-1e46-4327-b5be-9f8f85379c75",
   "metadata": {},
   "source": [
    "<div style=\"text-align:justify; color:black; font-size:20px; font-family:Sans-serif; font-style: oblique; text-shadow: 0 0 3px white, 0 0 1px black;\">\n",
    "    ab is ko path parameters me pass karty hn\n",
    "</div>\n"
   ]
  },
  {
   "cell_type": "code",
   "execution_count": 80,
   "id": "aee62315-9dd8-4942-bd6b-faa07b70a407",
   "metadata": {},
   "outputs": [],
   "source": [
    "app = FastAPI()\n",
    "\n",
    "@app.get(\"/models/{model_name}\")\n",
    "async def get_model(model_name: ModelName):\n",
    "    return {\"model_name\": model_name}\n",
    "\n",
    "if __name__ == \"__main__\":\n",
    "    nest_asyncio.apply()\n",
    "    uvicorn.run(app,port=4444)"
   ]
  },
  {
   "cell_type": "code",
   "execution_count": 84,
   "id": "bde1627a-c882-4959-86e3-f9f081d0aaac",
   "metadata": {},
   "outputs": [
    {
     "name": "stdout",
     "output_type": "stream",
     "text": [
      "{\"model_name\":\"alexnet\"}\n"
     ]
    }
   ],
   "source": [
    "req = requests.get('http://127.0.0.1:4444/models/alexnet')\n",
    "print(req.content.decode('utf-8'))"
   ]
  },
  {
   "cell_type": "markdown",
   "id": "9e31925c-4380-4341-a95d-09a6d56e5ad1",
   "metadata": {},
   "source": [
    "<div style=\"text-align:justify; color:black; font-size:20px; font-family:Sans-serif; font-style: oblique; text-shadow: 0 0 3px white, 0 0 1px black;\">\n",
    "    ab agr me koi aur values pass kru ga jo ModelName me nahi hy<br>to fastapi me bhi error show kary ga\n",
    "</div>\n"
   ]
  },
  {
   "cell_type": "code",
   "execution_count": 85,
   "id": "74c7b3b8-7ea6-44e8-8b2c-6fb2ba574ee4",
   "metadata": {},
   "outputs": [
    {
     "name": "stdout",
     "output_type": "stream",
     "text": [
      "{\"detail\":[{\"type\":\"enum\",\"loc\":[\"path\",\"model_name\"],\"msg\":\"Input should be 'alexnet', 'resnet' or 'lenet'\",\"input\":\"alexne\",\"ctx\":{\"expected\":\"'alexnet', 'resnet' or 'lenet'\"}}]}\n"
     ]
    }
   ],
   "source": [
    "req = requests.get('http://127.0.0.1:4444/models/alexne')\n",
    "print(req.content.decode('utf-8'))"
   ]
  },
  {
   "cell_type": "markdown",
   "id": "a1083723-0d8b-4dde-ba3f-173b32579d27",
   "metadata": {},
   "source": [
    "<div style=\"text-align:justify; color:black; font-size:20px; font-family:Sans-serif; font-style: oblique; text-shadow: 0 0 3px white, 0 0 1px black;\">\n",
    "Compare ModelName\n",
    "</div>"
   ]
  },
  {
   "cell_type": "code",
   "execution_count": 31,
   "id": "2dcb617c-b03d-4a22-bf58-46b7d67c7b9b",
   "metadata": {},
   "outputs": [],
   "source": [
    "app = FastAPI()\n",
    "\n",
    "@app.get(\"/models/{model_name}\")\n",
    "async def get_model(model_name: ModelName):\n",
    "    if model_name == ModelName.alexnet:\n",
    "        return {\"model_name\": model_name,'value':model_name.value}\n",
    "\n",
    "\n",
    "\n",
    "if __name__ == \"__main__\":\n",
    "    nest_asyncio.apply()\n",
    "    uvicorn.run(app,port=4444)"
   ]
  },
  {
   "cell_type": "code",
   "execution_count": 93,
   "id": "98062ab2-365a-4639-9d43-109a7fc8f6cd",
   "metadata": {},
   "outputs": [
    {
     "name": "stdout",
     "output_type": "stream",
     "text": [
      "{\"model_name\":\"alexnet\",\"value\":\"alexnet\"}\n"
     ]
    }
   ],
   "source": [
    "req = requests.get('http://127.0.0.1:4444/models/alexnet')\n",
    "print(req.content.decode('utf-8'))"
   ]
  },
  {
   "cell_type": "markdown",
   "id": "08f6736d-ce8c-401d-a813-558e29b4e244",
   "metadata": {},
   "source": [
    "<hr>\n",
    "<h1 style=\"text-align:center; color:green; font-size:30px; font-family:Sans-serif; font-style: oblique; text-shadow: 0 0 3px white, 0 0 1px Black;\">Summary Manual Data Type Validation</h1><hr>"
   ]
  },
  {
   "cell_type": "markdown",
   "id": "16469637-ba3e-4a64-92ea-5b47419692bb",
   "metadata": {},
   "source": [
    "<!DOCTYPE html>\n",
    "<html lang=\"en\">\n",
    "<head>\n",
    "    <meta charset=\"UTF-8\">\n",
    "    <meta name=\"viewport\" content=\"width=device-width, initial-scale=1.0\">\n",
    "</head>\n",
    "<body style=\"font-family: Sans-serif;\">\n",
    "    <div style=\"color: green; font-size: 18px; font-style: oblique; text-shadow: 0 0 3px white, 0 0 1px black; border: 8px double black; padding: 20px;\">\n",
    "        <p style=\"color: black;\">\n",
    "            FastAPI allows you to define custom data type validations using Python's Enum class. <br>This ensures that only specific values are accepted as input.\n",
    "        </p>\n",
    "        <hr style=\"margin: 20px 0;\">\n",
    "        <ul>\n",
    "            <h3><li><code>class ModelName(str, Enum):</code></li></h3>\n",
    "            <h4 style=\"color: red;\">Explanation: Yeh ek custom data type hai jo Enum class ka use karte hue define kiya gaya hai. Ismein sirf specified values ko accept kiya jata hai.</h4>\n",
    "        </ul>\n",
    "        <ul>\n",
    "            <h3><li><code>@app.get(\"/models/{model_name}\")</code></li></h3>\n",
    "            <h4 style=\"color: red;\">Explanation: Yahaan \"/models/{model_name}\" path par aane wale input ko <code>ModelName</code> class ke according validate kiya jata hai.</h4>\n",
    "        </ul>\n",
    "        <ul>\n",
    "            <h3><li><code>@app.get(\"/models/{model_name}\")</code></li></h3>\n",
    "            <h4 style=\"color: red;\">Explanation: Agar <code>model_name</code> ke value <code>ModelName.alexnet</code> ke barabar hoti hai, tab hi response diya jata hai. Iska use authentication mein bhi kiya ja sakta hai, jahan sirf authenticate users ko hi response diya jata hai.</h4>\n",
    "        </ul>\n",
    "        <hr style=\"margin: 20px 0;\">\n",
    "        <p style=\"color: black;\">\n",
    "            FastAPI mein hum pydantic models ka use karte hain jo ki later padha jaega.<br> Lekin Enum class ka istemal custom data type validation ke liye common hai.\n",
    "        </p>\n",
    "    </div>\n",
    "</body>\n",
    "</html>\n"
   ]
  },
  {
   "cell_type": "markdown",
   "id": "54ac3912-d506-47eb-955e-c496906a65a1",
   "metadata": {},
   "source": [
    "<h1 style=\"text-align:center; color:#005bbd; font-size:30px; font-family:Sans-serif; font-style: oblique; text-shadow: 0 0 3px white, 0 0 1px Black;\">Path Converter\n",
    "</h1>"
   ]
  },
  {
   "cell_type": "markdown",
   "id": "1a5c5207-c672-41c7-989a-3aab0ff2481d",
   "metadata": {},
   "source": [
    "\n",
    "<div style=\"text-align:justify; color:black; font-size:20px; font-family:Sans-serif; font-style: oblique; text-shadow: 0 0 3px white, 0 0 1px black;\">\n",
    "Agar aap chahte hain ke aapka file_path dynamic ho aur usme slashes (/) bhi hoon\n",
    "</div>"
   ]
  },
  {
   "cell_type": "code",
   "execution_count": null,
   "id": "ea117d8e-03bd-4d12-b4ad-e05098edc1a9",
   "metadata": {},
   "outputs": [],
   "source": [
    "app = FastAPI()\n",
    "\n",
    "@app.get(\"/filename/{file_path}\")\n",
    "async def read_item(file_path:str):\n",
    "    return {\"response\": file_path}\n",
    "    \n",
    "if __name__ == \"__main__\":\n",
    "    nest_asyncio.apply()\n",
    "    uvicorn.run(app,port=4444)"
   ]
  },
  {
   "cell_type": "code",
   "execution_count": 163,
   "id": "f81ae39f-734b-4276-b4d2-59c28364e2c4",
   "metadata": {},
   "outputs": [
    {
     "name": "stdout",
     "output_type": "stream",
     "text": [
      "{\"response\":\"myfile.txt\"}\n"
     ]
    }
   ],
   "source": [
    "req = requests.get('http://127.0.0.1:4444/filename/myfile.txt')\n",
    "print(req.content.decode('utf-8'))"
   ]
  },
  {
   "cell_type": "markdown",
   "id": "5b38a115-857b-4035-9b32-b16cbd6c6fbc",
   "metadata": {},
   "source": [
    "\n",
    "<div style=\"text-align:justify; color:black; font-size:20px; font-family:Sans-serif; font-style: oblique; text-shadow: 0 0 3px white, 0 0 1px black;\">\n",
    "E.g myfile.txt folder me hn like folder/myfile.txt</div>"
   ]
  },
  {
   "cell_type": "code",
   "execution_count": 164,
   "id": "22686607-16a5-4649-b92f-c2f6a97d867f",
   "metadata": {},
   "outputs": [
    {
     "name": "stdout",
     "output_type": "stream",
     "text": [
      "{\"detail\":\"Not Found\"}\n"
     ]
    }
   ],
   "source": [
    "req = requests.get('http://127.0.0.1:4444/filename/folder/myfile.txt')\n",
    "print(req.content.decode('utf-8'))"
   ]
  },
  {
   "cell_type": "markdown",
   "id": "038c6039-0f31-4d99-b42e-83a59d33885d",
   "metadata": {},
   "source": [
    "\n",
    "<div style=\"text-align:justify; color:black; font-size:20px; font-family:Sans-serif; font-style: oblique; text-shadow: 0 0 3px white, 0 0 1px black;\">\n",
    "ek tareeqa hai isko handle karne ka lye Path ka use kia jata hn\n",
    "</div>"
   ]
  },
  {
   "cell_type": "code",
   "execution_count": 165,
   "id": "ce110ad1-73b1-4d7a-b12b-5327be3307ce",
   "metadata": {},
   "outputs": [],
   "source": [
    "from fastapi import Path"
   ]
  },
  {
   "cell_type": "code",
   "execution_count": null,
   "id": "b440846e-9b4d-4cc4-8333-29d1e6c2f6f2",
   "metadata": {},
   "outputs": [],
   "source": [
    "app = FastAPI()\n",
    "\n",
    "@app.get(\"/filename/{file_path:path}\")\n",
    "async def read_file(file_path: str = Path(...)):\n",
    "    return {\"file_path\": file_path}\n",
    "\n",
    "if __name__ == \"__main__\":\n",
    "    nest_asyncio.apply()\n",
    "    uvicorn.run(app,port=4444)"
   ]
  },
  {
   "cell_type": "code",
   "execution_count": 182,
   "id": "7ad3da9f-849e-410b-aaa5-d320f7892ca8",
   "metadata": {},
   "outputs": [
    {
     "name": "stdout",
     "output_type": "stream",
     "text": [
      "{\"detail\":\"Not Found\"}\n"
     ]
    }
   ],
   "source": [
    "req = requests.get('http://127.0.0.1:4444/filename/folder/myfile.txt')\n",
    "print(req.content.decode('utf-8'))"
   ]
  },
  {
   "cell_type": "markdown",
   "id": "266e9079-dbff-45ed-b55d-72f8fad1c27c",
   "metadata": {},
   "source": [
    "\n",
    "<div style=\"text-align:justify; color:black; font-size:20px; font-family:Sans-serif; font-style: oblique; text-shadow: 0 0 3px white, 0 0 1px black;\">\n",
    "Note is k lye decoractors me @app.get(\"/filename/{file_path:path}\")<br>\n",
    "    is trha {pathvariable:path} pass karna ho ga<br>\n",
    "    yaha (path) small name sy hi dyna zaroori hn\n",
    "</div>"
   ]
  },
  {
   "cell_type": "markdown",
   "id": "2b4410df-10dd-4c94-9bac-b043a6481229",
   "metadata": {},
   "source": [
    "<hr>\n",
    "<h1 style=\"text-align:center; color:green; font-size:30px; font-family:Sans-serif; font-style: oblique; text-shadow: 0 0 3px white, 0 0 1px Black;\">Summary Path Converter</h1><hr>"
   ]
  },
  {
   "cell_type": "markdown",
   "id": "858786cb-b6b7-4f5c-b8de-4c8379e571ca",
   "metadata": {},
   "source": [
    "<!DOCTYPE html>\n",
    "<html lang=\"en\">\n",
    "<head>\n",
    "    <meta charset=\"UTF-8\">\n",
    "    <meta name=\"viewport\" content=\"width=device-width, initial-scale=1.0\">\n",
    "</head>\n",
    "<body style=\"font-family: Sans-serif;\">\n",
    "    <div style=\"color: green; font-size: 18px; font-style: oblique; text-shadow: 0 0 3px white, 0 0 1px black; border: 8px double black; padding: 20px;\">\n",
    "        <p style=\"color: black;\">\n",
    "            If the user needs to input the full path of a file, there might be an issue where only the filename is extracted while ignoring the rest of the path. To handle this, FastAPI provides the <code>Path</code> class from the <code>fastapi</code> module.\n",
    "        </p>\n",
    "        <hr style=\"margin: 20px 0;\">\n",
    "        <ul>\n",
    "            <h3><li><code>@app.get(\"/filename/{file_path:path}\")</code></li></h3>\n",
    "            <h4 style=\"color: red;\">Explanation: Yahaan \"/filename/{file_path:path}\" path par aane wale input ko complete path ke saath validate kiya jata hai. <code>path</code> parameter ka istemal kiya jata hai taki poora path extract ho sake.</h4>\n",
    "        </ul>\n",
    "        <ul>\n",
    "            <h3><li><code>async def read_file(file_path: str = Path(...)):</code></li></h3>\n",
    "            <h4 style=\"color: red;\">Explanation: Function mein <code>Path(...)</code> ka istemal kiya jata hai, jo complete path ko extract karke <code>file_path</code> mein store karta hai.</h4>\n",
    "        </ul>\n",
    "        <hr style=\"margin: 20px 0;\">\n",
    "        <p style=\"color: black;\">\n",
    "            Note: Route mein parameter ko <code>path (small letter)</code> ke saath specify kiya jata hai aur function mein <code>Path(...)</code> ka use kiya jata hai.\n",
    "        </p>\n",
    "    </div>\n",
    "</body>\n",
    "</html>\n"
   ]
  }
 ],
 "metadata": {
  "kernelspec": {
   "display_name": "Python 3 (ipykernel)",
   "language": "python",
   "name": "python3"
  },
  "language_info": {
   "codemirror_mode": {
    "name": "ipython",
    "version": 3
   },
   "file_extension": ".py",
   "mimetype": "text/x-python",
   "name": "python",
   "nbconvert_exporter": "python",
   "pygments_lexer": "ipython3",
   "version": "3.10.12"
  }
 },
 "nbformat": 4,
 "nbformat_minor": 5
}
