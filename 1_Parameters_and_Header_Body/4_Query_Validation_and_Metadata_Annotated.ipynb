{
 "cells": [
  {
   "cell_type": "markdown",
   "id": "a70296e0-3a89-409c-93ae-edea28e6eda4",
   "metadata": {},
   "source": [
    "<h1 style=\"text-align:center; color:#005bbd; font-size:30px; font-family:Sans-serif; font-style: oblique; text-shadow: 0 0 3px white, 0 0 1px Black;\">Metadata</h1>"
   ]
  },
  {
   "cell_type": "code",
   "execution_count": 6,
   "id": "7fb28292-40a0-466a-a597-7efc35fbc752",
   "metadata": {
    "tags": []
   },
   "outputs": [],
   "source": [
    "class Field:\n",
    "    def __init__(self, field_type, description):\n",
    "        self.field_type = field_type\n",
    "        self.description = description\n",
    "        \n",
    "        \n",
    "class User:\n",
    "    username = Field(str, \"User ka username\")\n",
    "    age = Field(int, \"User ki age (only pass int datatype)\")\n"
   ]
  },
  {
   "cell_type": "code",
   "execution_count": 7,
   "id": "761efe14-3c15-480a-b497-3fd233cd1641",
   "metadata": {
    "tags": []
   },
   "outputs": [
    {
     "name": "stdout",
     "output_type": "stream",
     "text": [
      "User ka username\n",
      "User ki age (only pass int datatype)\n"
     ]
    }
   ],
   "source": [
    "print(User.username.description) \n",
    "print(User.age.description)"
   ]
  },
  {
   "cell_type": "code",
   "execution_count": 8,
   "id": "9fa8ee2c-051c-4cde-87ce-671e2f8eb9d9",
   "metadata": {
    "tags": []
   },
   "outputs": [],
   "source": [
    "class UserInstance:\n",
    "    def __init__(self, username, age):\n",
    "        self.username = username\n",
    "        self.age = age"
   ]
  },
  {
   "cell_type": "code",
   "execution_count": 9,
   "id": "c24fefe2-256a-47e1-a5f8-0a3676f0b806",
   "metadata": {
    "tags": []
   },
   "outputs": [],
   "source": [
    "user = UserInstance(username=\"john\", age=18)"
   ]
  },
  {
   "cell_type": "code",
   "execution_count": 10,
   "id": "e40cf747-3fe9-46f8-bb2e-5607608515fa",
   "metadata": {
    "tags": []
   },
   "outputs": [
    {
     "name": "stdout",
     "output_type": "stream",
     "text": [
      "Username: john (Description: User ka username)\n",
      "Age: 18 (Description: User ki age (only pass int datatype))\n"
     ]
    }
   ],
   "source": [
    "print(f\"Username: {user.username} (Description: {User.username.description})\")\n",
    "print(f\"Age: {user.age} (Description: {User.age.description})\")"
   ]
  },
  {
   "cell_type": "markdown",
   "id": "b9352916-61da-447e-830c-62eba2a4a152",
   "metadata": {},
   "source": [
    "<div style=\"text-align:justify; color:black; font-size:20px; font-family:Sans-serif; font-style: oblique; text-shadow: 0 0 3px white, 0 0 1px black;\">\n",
    "    Use Annotated\n",
    "</div>\n",
    "\n",
    "\n"
   ]
  },
  {
   "cell_type": "code",
   "execution_count": 11,
   "id": "299f744b-0e4b-40ea-9d6f-f905a7b7d23f",
   "metadata": {
    "tags": []
   },
   "outputs": [],
   "source": [
    "def process_user(\n",
    "    username: Annotated[str, \"User ka username\"], \n",
    "    age: Annotated[int, \"User ki age (must be positive)\"]\n",
    "):\n",
    "    print(f\"Username: {username}, Age: {age}\")"
   ]
  },
  {
   "cell_type": "code",
   "execution_count": 16,
   "id": "3cb91ae0-623c-4630-b6bb-024cb17bbe7f",
   "metadata": {
    "tags": []
   },
   "outputs": [
    {
     "name": "stdout",
     "output_type": "stream",
     "text": [
      "Username: John, Age: 18\n"
     ]
    }
   ],
   "source": [
    "process_user(username='John',age=18)"
   ]
  },
  {
   "cell_type": "code",
   "execution_count": 17,
   "id": "f70f9559-4dae-4c86-af5f-46dcd71e3888",
   "metadata": {
    "tags": []
   },
   "outputs": [
    {
     "name": "stdout",
     "output_type": "stream",
     "text": [
      "username typing.Annotated[str, 'User ka username']\n",
      "age typing.Annotated[int, 'User ki age (must be positive)']\n"
     ]
    }
   ],
   "source": [
    "for k,v in process_user.__annotations__.items():\n",
    "    print(k,v)"
   ]
  },
  {
   "cell_type": "markdown",
   "id": "0ec9fdcc-ad6f-4283-8230-380c3ee9b07d",
   "metadata": {},
   "source": [
    "<!DOCTYPE html>\n",
    "<html lang=\"ur\">\n",
    "<head>\n",
    "    <meta charset=\"UTF-8\">\n",
    "    <meta name=\"viewport\" content=\"width=device-width, initial-scale=1.0\">\n",
    "</head>\n",
    "    \n",
    "<body style=\"font-family: Arial, sans-serif; background-color: #f2f2f2; color: #333;\">\n",
    "    <div style=\"color: green; font-size: 18px; font-style: oblique; text-shadow: 0 0 3px white, 0 0 1px black; border: 8px double black; padding: 20px;\">\n",
    "        <h2 style=\"color: red;\">Metadata aur Annotated</h2>\n",
    "        <p style=\"color:green; font-size:20px;\">\n",
    "            Is Example mein, hum dekhein gay kis tarah parameters ke liye metadata ko custom classes aur `Annotated` type hinting se define kiya ja sakta hai.\n",
    "        </p>\n",
    "        <h3 style=\"color: red;\">Custom Metadata Class</h3>\n",
    "        <p>\n",
    "            Sab se pehle, ek custom metadata class `Field` define ki gayi hai jisme ek parameter ka type aur description store hota hai.\n",
    "            Phir hum is metadata ko `User` class mein use karenge taa ke `username` aur `age` parameters ke liye metadata define kiya ja sake.\n",
    "        </p>\n",
    "        <div style=\"font-family: 'Courier New', monospace; background-color: #f9f9f9; padding: 10px; border: 1px solid #ccc; border-radius: 5px; margin-top: 10px;\">\n",
    "            <pre>\n",
    "class Field:\n",
    "    def __init__(self, field_type, description):\n",
    "        self.field_type = field_type\n",
    "        self.description = description\n",
    "        \n",
    "class User:\n",
    "    username = Field(str, \"User ka username\")\n",
    "    age = Field(int, \"User ki age (sirf int datatype pass karein)\")\n",
    "\n",
    "class UserInstance:\n",
    "    def __init__(self, username, age):\n",
    "        self.username = username\n",
    "        self.age = age\n",
    "        \n",
    "user = UserInstance(username=\"john\", age=18)\n",
    "\n",
    "print(f\"Username: {user.username} (Description: {User.username.description})\")\n",
    "print(f\"Age: {user.age} (Description: {User.age.description})\")\n",
    "            </pre>\n",
    "        </div>\n",
    "        <p style=\"color:green; font-size:20px;\">Output: Username: john (Description: User ka username)<br>Age: 18 (Description: User ki age (sirf int datatype pass karein))</p>\n",
    "        <h3 style=\"color: red;\">Annotated Example</h3>\n",
    "        <p>\n",
    "            Ab, hum `Annotated` type hinting ka istemal karke bina custom metadata classes banaye ye kaam karte hain.\n",
    "        </p>\n",
    "        <div style=\"font-family: 'Courier New', monospace; background-color: #f9f9f9; padding: 10px; border: 1px solid #ccc; border-radius: 5px; margin-top: 10px;\">\n",
    "            <pre>\n",
    "from typing import Annotated\n",
    "\n",
    "def process_user(\n",
    "    username: Annotated[str, \"User ka username\"], \n",
    "    age: Annotated[int, \"User ki age (sirf int datatype pass karein)\"]\n",
    "):\n",
    "    print(f\"Username: {username}, Age: {age}\")\n",
    "    \n",
    "process_user(\"john_doe\", 18)\n",
    "            </pre>\n",
    "        </div>\n",
    "        <p style=\"color:green; font-size:20px;\">Output: Username: john_doe, Age: 18</p>\n",
    "        <h3 style=\"color: red;\">Metadata ki Description</h3>\n",
    "        <p>\n",
    "            `Annotated` Example mein metadata ko access karne ke liye, hum function ke `__annotations__` attribute ka istemal kar sakte hain.\n",
    "        </p>\n",
    "        <div style=\"font-family: 'Courier New', monospace; background-color: #f9f9f9; padding: 10px; border: 1px solid #ccc; border-radius: 5px; margin-top: 10px;\">\n",
    "            <pre>\n",
    "for k, v in process_user.__annotations__.items():\n",
    "    print(k, v)\n",
    "            </pre>\n",
    "        </div>\n",
    "        <p style=\"color:green; font-size:20px;\">Output: <br>username typing.Annotated[str, 'User ka username']<br>age typing.Annotated[int, 'User ki age (sirf int datatype pass karein)']</p>\n",
    "    </div>\n",
    "\n",
    "</body>\n",
    "</html>\n"
   ]
  },
  {
   "cell_type": "markdown",
   "id": "0d29fe2f-9bea-4ae3-9165-98d927b4a430",
   "metadata": {},
   "source": [
    "<!DOCTYPE html>\n",
    "<html lang=\"en\">\n",
    "<head>\n",
    "    <meta charset=\"UTF-8\">\n",
    "    <meta name=\"viewport\" content=\"width=device-width, initial-scale=1.0\">\n",
    "</head>\n",
    "<body style=\"font-family: Arial, sans-serif; background-color: #f2f2f2; color: #333; margin: 0; padding: 0;\">\n",
    "    <div style=\"max-width: 800px; margin: 20px auto; background-color: #fff; padding: 20px; border: 5px double #000;\">\n",
    "        <h2 style=\"color: red;\">FastAPI Parameter Decorators</h2>\n",
    "        <p style='font-size:18px;'>\n",
    "            Upar diye gaye custom <code style=\"background-color: #f9f9f9; padding: 2px 4px; border: 1px solid #ccc; border-radius: 3px;\">Field</code> class ki tarah, FastAPI mein <code style=\"background-color: #f9f9f9; padding: 2px 4px; border: 1px solid #ccc; border-radius: 3px;\">Query</code>, <code style=\"background-color: #f9f9f9; padding: 2px 4px; border: 1px solid #ccc; border-radius: 3px;\">Path</code>, <code style=\"background-color: #f9f9f9; padding: 2px 4px; border: 1px solid #ccc; border-radius: 3px;\">Body</code>, <code style=\"background-color: #f9f9f9; padding: 2px 4px; border: 1px solid #ccc; border-radius: 3px;\">Header</code>, <code style=\"background-color: #f9f9f9; padding: 2px 4px; border: 1px solid #ccc; border-radius: 3px;\">Cookie</code>, aur <code style=\"background-color: #f9f9f9; padding: 2px 4px; border: 1px solid #ccc; border-radius: 3px;\">File</code> jaise decorators hain jo aapko parameters ke liye metadata provide karte hain. In decorators ke istemal se aap validation rules, default values, descriptions, aur doosri properties ko parameters ke saath associate kar sakte hain.\n",
    "        </p>\n",
    "        <p style='font-size:18px;'>\n",
    "            Jaise ki aapne dekha, <code style=\"background-color: #f9f9f9; padding: 2px 4px; border: 1px solid #ccc; border-radius: 3px;\">Query()</code> metadata define karne ke liye FastAPI se import ki gayi class hai, aur iska istemal karke aap parameters ke saath validation aur description jaise features ko define kar sakte hain. Is tarah se, FastAPI ke decorators, aapko parameter metadata provide karne mein madad karte hain, jo aapke APIs ko robust aur self-descriptive banate hain.\n",
    "        </p>\n",
    "    </div>\n",
    "\n",
    "</body>\n",
    "</html>\n"
   ]
  },
  {
   "cell_type": "markdown",
   "id": "788aa586-259c-478f-a4bb-c02f5c49e68d",
   "metadata": {},
   "source": [
    "<h1 style=\"text-align:center; color:#005bbd; font-size:30px; font-family:Sans-serif; font-style: oblique; text-shadow: 0 0 3px white, 0 0 1px Black;\">Query, Validation</h1>"
   ]
  },
  {
   "cell_type": "markdown",
   "id": "f09aff8c-a726-4e1d-a943-27ec4573d4ea",
   "metadata": {},
   "source": [
    "<div style=\"text-align:justify; color:black; font-size:20px; font-family:Sans-serif; font-style: oblique; text-shadow: 0 0 3px white, 0 0 1px black;\"><p>FastAPI aapko query parameters aur unki validation ke liye additional information declare karne ki facility deta hai<br><br>Query,Path FastAPI mein advanced type hinting aur parameter validation ke liye use hote hain<br>Annotated ka use code ki readability ky lye use kia jata hy</p>\n",
    "</div>\n",
    "\n",
    "\n"
   ]
  },
  {
   "cell_type": "code",
   "execution_count": 1,
   "id": "1f81d72f-29e7-4011-b114-092f04da8ceb",
   "metadata": {
    "tags": []
   },
   "outputs": [],
   "source": [
    "import json\n",
    "from typing import Annotated\n",
    "\n",
    "import nest_asyncio\n",
    "import requests\n",
    "import uvicorn\n",
    "from fastapi import FastAPI, Query,Path"
   ]
  },
  {
   "cell_type": "code",
   "execution_count": 3,
   "id": "47b9768d-d0ce-4dbe-a3c1-fe232175dce9",
   "metadata": {
    "tags": []
   },
   "outputs": [],
   "source": [
    "app = FastAPI()\n",
    "\n",
    "\n",
    "@app.get(\"/items/\")\n",
    "async def read_items(query_param: Annotated[str | None, Query(max_length=3)]):\n",
    "    return {\"query_param\": query_param} \n",
    "\n",
    "\n",
    "if __name__ == \"__main__\":\n",
    "    nest_asyncio.apply()\n",
    "    uvicorn.run(app, port=4444)"
   ]
  },
  {
   "cell_type": "code",
   "execution_count": 4,
   "id": "54a92915-b89d-4b8b-9168-6f91114871b5",
   "metadata": {
    "tags": []
   },
   "outputs": [
    {
     "data": {
      "text/plain": [
       "'{\"query_param\":\"123\"}'"
      ]
     },
     "execution_count": 4,
     "metadata": {},
     "output_type": "execute_result"
    }
   ],
   "source": [
    "req = requests.get(\"http://127.0.0.1:4444/items/?query_param=123\")\n",
    "req.content.decode(\"utf-8\")"
   ]
  },
  {
   "cell_type": "code",
   "execution_count": 5,
   "id": "f061ec63-2fb2-43f6-a62e-57edd6447779",
   "metadata": {
    "tags": []
   },
   "outputs": [
    {
     "data": {
      "text/plain": [
       "'{\"detail\":[{\"type\":\"string_too_long\",\"loc\":[\"query\",\"query_param\"],\"msg\":\"String should have at most 3 characters\",\"input\":\"1234\",\"ctx\":{\"max_length\":3},\"url\":\"https://errors.pydantic.dev/2.6/v/string_too_long\"}]}'"
      ]
     },
     "execution_count": 5,
     "metadata": {},
     "output_type": "execute_result"
    }
   ],
   "source": [
    "req = requests.get(\"http://127.0.0.1:4444/items/?query_param=1234\")\n",
    "req.content.decode(\"utf-8\")"
   ]
  },
  {
   "cell_type": "markdown",
   "id": "864f2678-f9b9-43c2-80f6-0cdbac2c2459",
   "metadata": {},
   "source": [
    "<!DOCTYPE html>\n",
    "<html lang=\"en\">\n",
    "<head>\n",
    "    <meta charset=\"UTF-8\">\n",
    "    <meta name=\"viewport\" content=\"width=device-width, initial-scale=1.0\">\n",
    "</head>\n",
    "<body style=\"font-family: Sans-serif;\">\n",
    "    <div style=\"color: green; font-size: 18px; font-style: oblique; text-shadow: 0 0 3px white, 0 0 1px black; border: 8px double black; padding: 20px;\">\n",
    "        <ul>\n",
    "            <h3><li><code>@app.get(\"/items/\")</code></li></h3>\n",
    "            <h4 style=\"color: red;\">Explanation: Yeh ek decorator hai jo define karta hai ke jab GET request <code>\"/items/\"</code> path par aayegi to kaunsa function call hoga.</h4>\n",
    "        </ul>\n",
    "        <hr style=\"margin: 20px 0;\">\n",
    "        <ul>\n",
    "            <h3><li><code>async def read_items(query_param: Annotated[str | None, Query(max_length=3)]):</code></li></h3>\n",
    "            <h4 style=\"color: red;\">Explanation: Yeh ek asynchronous function hai jo <code>\"/items/\"</code> path par GET request aane par call hota hai. Is function mein ek query parameter <code>query_param</code> define kiya gaya hai jo optional hai aur string type ka hai jiska maximum length 3 characters hai.</h4>\n",
    "        </ul>\n",
    "    <hr style=\"margin: 20px 0;\">\n",
    "        <ul>\n",
    "            <h3><li><code>return {\"query_param\": query_param}</code></li></h3>\n",
    "            <h4 style=\"color: red;\">Explanation: Yeh function query parameter ka value return karta hai ek JSON response ke roop mein.</h4>\n",
    "        </ul>\n",
    "        <hr style=\"margin: 20px 0;\">\n",
    "        <ul>\n",
    "            <h3><li><code>req = requests.get('http://127.0.0.1:4444/items/?query_param=123')</code></li></h3>\n",
    "            <h4 style=\"color: red;\">Explanation: Yeh HTTP GET request karta hai <code>http://127.0.0.1:4444/items/</code> endpoint par query parameter <code>query_param</code> ke value \"123\" ke saath. Response ko retrieve kar ke decode kiya jata hai UTF-8 encoding ke saath.</h4>\n",
    "        </ul>\n",
    "        <hr style=\"margin: 20px 0;\">\n",
    "        <ul>\n",
    "            <h3><li><code>req = requests.get('http://127.0.0.1:4444/items/?query_param=1234')</code></li></h3>\n",
    "            <h4 style=\"color: red;\">Explanation: Yeh HTTP GET request karta hai <code>http://127.0.0.1:4444/items/</code> endpoint par query parameter <code>query_param</code> ke value \"1234\" ke saath. Kyunki query parameter ki maximum length 3 characters hai, yeh request error throw karega. Response ko retrieve kar ke decode kiya jata hai UTF-8 encoding ke saath.</h4>\n",
    "        </ul>\n",
    "    </div>\n",
    "</body>\n",
    "</html>\n"
   ]
  },
  {
   "cell_type": "markdown",
   "id": "c65a5278-b40a-49e3-8292-8ebca8e0c322",
   "metadata": {},
   "source": [
    "<h1 style=\"text-align:center; color:#005bbd; font-size:30px; font-family:Sans-serif; font-style: oblique; text-shadow: 0 0 3px white, 0 0 1px Black;\">Validations Set Default Value</h1>"
   ]
  },
  {
   "cell_type": "code",
   "execution_count": 18,
   "id": "6639cce8-dd36-45f9-b73c-219d4b688c7d",
   "metadata": {
    "tags": []
   },
   "outputs": [],
   "source": [
    "app = FastAPI()\n",
    "\n",
    "\n",
    "@app.get(\"/items/\")\n",
    "async def read_items(query_param: Annotated[str | None, Query(max_length=3)] = None):\n",
    "    return {\"query_param\": query_param}\n",
    "\n",
    "\n",
    "if __name__ == \"__main__\":\n",
    "    nest_asyncio.apply()\n",
    "    uvicorn.run(app, port=4444)"
   ]
  },
  {
   "cell_type": "code",
   "execution_count": 19,
   "id": "d2d423ad-cc45-40de-bd3e-f8c4fa6a9e7a",
   "metadata": {
    "tags": []
   },
   "outputs": [
    {
     "data": {
      "text/plain": [
       "'{\"query_param\":null}'"
      ]
     },
     "execution_count": 19,
     "metadata": {},
     "output_type": "execute_result"
    }
   ],
   "source": [
    "req = requests.get(\"http://127.0.0.1:4444/items\")\n",
    "req.content.decode(\"utf-8\")"
   ]
  },
  {
   "cell_type": "markdown",
   "id": "1f3d2cf8-8c5d-425b-9cfb-890f7e728dff",
   "metadata": {},
   "source": [
    "<!DOCTYPE html>\n",
    "<html lang=\"en\">\n",
    "<head>\n",
    "    <meta charset=\"UTF-8\">\n",
    "    <meta name=\"viewport\" content=\"width=device-width, initial-scale=1.0\">\n",
    "</head>\n",
    "<body style=\"font-family: Sans-serif;\">\n",
    "    <div style=\"color: green; font-size: 18px; font-style: oblique; text-shadow: 0 0 3px white, 0 0 1px black; border: 8px double black; padding: 20px;\">\n",
    "        <ul>\n",
    "            <h3><li><code>@app.get(\"/items/\")</code></li></h3>\n",
    "            <h4 style=\"color: red;\">Explanation: Yeh ek decorator hai jo define karta hai ke jab GET request <code>\"/items/\"</code> path par aayegi to kaunsa function call hoga.</h4>\n",
    "        </ul>\n",
    "        <hr style=\"margin: 20px 0;\">\n",
    "        <ul>\n",
    "            <h3><li><code>async def read_items(query_param: Annotated[str | None, Query(max_length=3)] = None):</code></li></h3>\n",
    "            <h4 style=\"color: red;\">Explanation: Yeh ek asynchronous function hai jo <code>\"/items/\"</code> path par GET request aane par call hota hai. Is function mein ek query parameter <code>query_param</code> define kiya gaya hai jo optional hai aur string type ka hai jiska maximum length 3 characters hai. Iska default value None hai.</h4>\n",
    "        </ul>\n",
    "     </div>\n",
    "</body>\n",
    "</html>\n"
   ]
  },
  {
   "cell_type": "markdown",
   "id": "3dc50ac0-bf8d-44f0-b992-248f27372aa3",
   "metadata": {},
   "source": [
    "<h1 style=\"text-align:center; color:#005bbd; font-size:30px; font-family:Sans-serif; font-style: oblique; text-shadow: 0 0 3px white, 0 0 1px Black;\">Validation min_length,max_length, regex_pattern</h1>"
   ]
  },
  {
   "cell_type": "code",
   "execution_count": 20,
   "id": "8da29cec-7763-430f-86e9-9c011f2a2325",
   "metadata": {
    "tags": []
   },
   "outputs": [],
   "source": [
    "app = FastAPI()\n",
    "\n",
    "\n",
    "@app.get(\"/phone/\")\n",
    "async def user_phone(\n",
    "    phone_no: Annotated[\n",
    "        str | None, Query(min_length=12, max_length=12, pattern=\"\\d{4}-\\d+\")\n",
    "    ]\n",
    "):\n",
    "    return {\"user_phone\": phone_no}\n",
    "\n",
    "\n",
    "if __name__ == \"__main__\":\n",
    "    nest_asyncio.apply()\n",
    "    uvicorn.run(app, port=4444)"
   ]
  },
  {
   "cell_type": "code",
   "execution_count": 21,
   "id": "476e56e9-a46b-4b16-958d-890756c8dd0d",
   "metadata": {
    "tags": []
   },
   "outputs": [
    {
     "data": {
      "text/plain": [
       "'{\"user_phone\":\"0123-4567891\"}'"
      ]
     },
     "execution_count": 21,
     "metadata": {},
     "output_type": "execute_result"
    }
   ],
   "source": [
    "req = requests.get(\"http://127.0.0.1:4444/phone/?phone_no=0123-4567891\")\n",
    "req.content.decode(\"utf-8\")"
   ]
  },
  {
   "cell_type": "code",
   "execution_count": 22,
   "id": "42b52d18-d522-4009-9b00-3f562dff79d1",
   "metadata": {
    "tags": []
   },
   "outputs": [
    {
     "data": {
      "text/plain": [
       "'{\"detail\":[{\"type\":\"string_pattern_mismatch\",\"loc\":[\"query\",\"phone_no\"],\"msg\":\"String should match pattern \\'\\\\\\\\d{4}-\\\\\\\\d+\\'\",\"input\":\"0123 4567891\",\"ctx\":{\"pattern\":\"\\\\\\\\d{4}-\\\\\\\\d+\"},\"url\":\"https://errors.pydantic.dev/2.6/v/string_pattern_mismatch\"}]}'"
      ]
     },
     "execution_count": 22,
     "metadata": {},
     "output_type": "execute_result"
    }
   ],
   "source": [
    "req = requests.get(\"http://127.0.0.1:4444/phone/?phone_no=0123+4567891\")\n",
    "req.content.decode(\"utf-8\")"
   ]
  },
  {
   "cell_type": "markdown",
   "id": "23bb031f-bf5c-456a-aa36-8080a5746347",
   "metadata": {},
   "source": [
    "<!DOCTYPE html>\n",
    "<html lang=\"en\">\n",
    "<head>\n",
    "    <meta charset=\"UTF-8\">\n",
    "    <meta name=\"viewport\" content=\"width=device-width, initial-scale=1.0\">\n",
    "</head>\n",
    "<body style=\"font-family: Sans-serif;\">\n",
    "    <div style=\"color: green; font-size: 18px; font-style: oblique; text-shadow: 0 0 3px white, 0 0 1px black; border: 8px double black; padding: 20px;\">\n",
    "        <ul>\n",
    "            <h3><li><code>@app.get('/phone/')</code></li></h3>\n",
    "            <h4 style=\"color: red;\">Explanation: Yeh ek decorator hai jo define karta hai ke jab GET request <code>\"/phone/\"</code> path par aayegi to kaunsa function call hoga.</h4>\n",
    "        </ul>\n",
    "        <hr style=\"margin: 20px 0;\">\n",
    "        <ul>\n",
    "            <h3><li><code>async def user_phone(phone_no:Annotated[str | None,Query(min_length=12,max_length=12,pattern=\"\\d{4}-\\d+\")]):</code></li></h3>\n",
    "            <h4 style=\"color: red;\">Explanation: Yeh ek asynchronous function hai jo <code>\"/phone/\"</code> path par GET request aane par call hota hai. Is function mein ek query parameter <code>phone_no</code> define kiya gaya hai jo optional hai aur string type ka hai. Iska minimum length aur maximum length dono 12 characters hai, aur iska format specified pattern ke mutabiq hona chahiye. </h4>\n",
    "        </ul>\n",
    "    <hr style=\"margin: 20px 0;\">\n",
    "        <ul>\n",
    "            <h3><li><code>return {\"user_phone\":phone_no}</code></li></h3>\n",
    "            <h4 style=\"color: red;\">Explanation: Yeh function query parameter ka value return karta hai ek JSON response ke roop mein.</h4>\n",
    "        </ul>\n",
    "        <hr style=\"margin: 20px 0;\">\n",
    "        <ul>\n",
    "            <h3><li><code>req = requests.get('http://127.0.0.1:4444/phone/?phone_no=0123-4567891')</code></li></h3>\n",
    "            <h4 style=\"color: red;\">Explanation: Yeh HTTP GET request karta hai <code>http://127.0.0.1:4444/phone/</code> endpoint par query parameter <code>phone_no</code> ke value \"0123-4567891\" ke saath. Response ko retrieve kar ke decode kiya jata hai UTF-8 encoding ke saath.</h4>\n",
    "        </ul>\n",
    "    </div>\n",
    "</body>\n",
    "</html>\n"
   ]
  },
  {
   "cell_type": "markdown",
   "id": "ae75794a-247d-4f6a-a7bb-0449e080b951",
   "metadata": {},
   "source": [
    "<h1 style=\"text-align:center; color:#005bbd; font-size:30px; font-family:Sans-serif; font-style: oblique; text-shadow: 0 0 3px white, 0 0 1px Black;\">Query parameter list / multiple values</h1>"
   ]
  },
  {
   "cell_type": "code",
   "execution_count": 23,
   "id": "63c70e5f-c09f-43e1-b691-195c15b16de6",
   "metadata": {
    "tags": []
   },
   "outputs": [],
   "source": [
    "app = FastAPI()\n",
    "\n",
    "\n",
    "@app.get(\"/index/\")\n",
    "async def index(data: Annotated[list[str] | None, Query()]):\n",
    "    return data\n",
    "\n",
    "\n",
    "if __name__ == \"__main__\":\n",
    "    nest_asyncio.apply()\n",
    "    uvicorn.run(app, port=4444)"
   ]
  },
  {
   "cell_type": "code",
   "execution_count": 24,
   "id": "389835ff-913f-4147-b4c7-73856cb4a282",
   "metadata": {
    "tags": []
   },
   "outputs": [
    {
     "data": {
      "text/plain": [
       "'[\"abc\",\"def\"]'"
      ]
     },
     "execution_count": 24,
     "metadata": {},
     "output_type": "execute_result"
    }
   ],
   "source": [
    "req = requests.get(\"http://127.0.0.1:4444/index/?data=abc&data=def\")\n",
    "req.content.decode(\"utf-8\")"
   ]
  },
  {
   "cell_type": "markdown",
   "id": "6000dfbb-6fcf-4b49-80b8-5f0d8ad003df",
   "metadata": {},
   "source": [
    "<!DOCTYPE html>\n",
    "<html lang=\"en\">\n",
    "<head>\n",
    "    <meta charset=\"UTF-8\">\n",
    "    <meta name=\"viewport\" content=\"width=device-width, initial-scale=1.0\">\n",
    "</head>\n",
    "<body style=\"font-family: Sans-serif;\">\n",
    "    <div style=\"color: green; font-size: 18px; font-style: oblique; text-shadow: 0 0 3px white, 0 0 1px black; border: 8px double black; padding: 20px;\">\n",
    "        <ul>\n",
    "            <h3><li><code>@app.get('/index/')</code></li></h3>\n",
    "            <h4 style=\"color: red;\">Explanation: Yeh ek decorator hai jo define karta hai ke jab GET request <code>\"/index/\"</code> path par aayegi to kaunsa function call hoga.</h4>\n",
    "        </ul>\n",
    "        <hr style=\"margin: 20px 0;\">\n",
    "        <ul>\n",
    "            <h3><li><code>async def index(data:Annotated[list[str] | None, Query()]):</code></li></h3>\n",
    "            <h4 style=\"color: red;\">Explanation: Yeh ek asynchronous function hai jo <code>\"/index/\"</code> path par GET request aane par call hota hai. Is function mein ek query parameter <code>data</code> define kiya gaya hai jo optional hai aur list of strings hai. </h4>\n",
    "        </ul>\n",
    "    <hr style=\"margin: 20px 0;\">\n",
    "        <ul>\n",
    "            <h3><li><code>return data</code></li></h3>\n",
    "            <h4 style=\"color: red;\">Explanation: Yeh function query parameter <code>data</code> ki value ko return karta hai.</h4>\n",
    "        </ul>\n",
    "        <hr style=\"margin: 20px 0;\">\n",
    "        <ul>\n",
    "            <h3><li><code>req = requests.get('http://127.0.0.1:4444/index/?data=abc&data=def')</code></li></h3>\n",
    "            <h4 style=\"color: red;\">Explanation: Yeh HTTP GET request karta hai <code>http://127.0.0.1:4444/index/</code> endpoint par, jismein query parameter <code>data</code> ki value \"abc\" aur \"def\" hai.</h4>\n",
    "        </ul>\n",
    "    </div>\n",
    "</body>\n",
    "</html>\n"
   ]
  },
  {
   "cell_type": "markdown",
   "id": "d03156cd-2e02-4e04-b9ad-26ddf30bf88c",
   "metadata": {},
   "source": [
    "<h1 style=\"text-align:center; color:#005bbd; font-size:30px; font-family:Sans-serif; font-style: oblique; text-shadow: 0 0 3px white, 0 0 1px Black;\">What Happend if we not use Query() with List</h1>"
   ]
  },
  {
   "cell_type": "code",
   "execution_count": null,
   "id": "55a026a8-1dfc-4741-a219-605918398a96",
   "metadata": {},
   "outputs": [],
   "source": [
    "app = FastAPI()\n",
    "\n",
    "\n",
    "@app.get(\"/index/\")\n",
    "async def index(data: Annotated[list[str] | None, None]):\n",
    "    return data\n",
    "\n",
    "\n",
    "if __name__ == \"__main__\":\n",
    "    nest_asyncio.apply()\n",
    "    uvicorn.run(app, port=4444)"
   ]
  },
  {
   "cell_type": "code",
   "execution_count": 25,
   "id": "7528e5aa-5b00-4a28-9b09-8796f8f489d8",
   "metadata": {
    "tags": []
   },
   "outputs": [
    {
     "data": {
      "text/plain": [
       "'{\"detail\":[{\"type\":\"missing\",\"loc\":[\"body\"],\"msg\":\"Field required\",\"input\":null,\"url\":\"https://errors.pydantic.dev/2.6/v/missing\"}]}'"
      ]
     },
     "execution_count": 25,
     "metadata": {},
     "output_type": "execute_result"
    }
   ],
   "source": [
    "req = requests.get(\"http://127.0.0.1:4444/index/?data=123\")\n",
    "req.content.decode(\"utf-8\")"
   ]
  },
  {
   "cell_type": "code",
   "execution_count": 26,
   "id": "2668c4e8-7ee1-4164-b41a-e24213627efc",
   "metadata": {
    "tags": []
   },
   "outputs": [
    {
     "data": {
      "text/plain": [
       "'[\"123\"]'"
      ]
     },
     "execution_count": 26,
     "metadata": {},
     "output_type": "execute_result"
    }
   ],
   "source": [
    "req = requests.get(\"http://127.0.0.1:4444/index/\", json=[\"123\"])\n",
    "req.content.decode(\"utf-8\")"
   ]
  },
  {
   "cell_type": "markdown",
   "id": "b2086ce4-8a59-4074-9361-3a4da44540b0",
   "metadata": {},
   "source": [
    "<!DOCTYPE html>\n",
    "<html lang=\"en\">\n",
    "<head>\n",
    "    <meta charset=\"UTF-8\">\n",
    "    <meta name=\"viewport\" content=\"width=device-width, initial-scale=1.0\">\n",
    "</head>\n",
    "<body style=\"font-family: Sans-serif;\">\n",
    "    <div style=\"color: green; font-size: 18px; font-style: oblique; text-shadow: 0 0 3px white, 0 0 1px black; border: 8px double black; padding: 20px;\">\n",
    "        <ul>\n",
    "            <h3><li><code>@app.get('/index/')</code></li></h3>\n",
    "            <h4 style=\"color: red;\">Explanation: Yeh ek decorator hai jo define karta hai ke jab GET request <code>\"/index/\"</code> path par aayegi to kaunsa function call hoga.</h4>\n",
    "        </ul>\n",
    "        <hr style=\"margin: 20px 0;\">\n",
    "        <ul>\n",
    "            <h3><li><code>async def index(data:Annotated[list[str] | None, None]):</code></li></h3>\n",
    "            <h4 style=\"color: red;\">Explanation: Yeh ek asynchronous function hai jo <code>\"/index/\"</code> path par GET request aane par call hota hai. Is function mein ek query parameter <code>data</code> define kiya gaya hai jo optional hai aur list of strings hai. Agar Query() ka istemal nahi kiya gaya hai, to FastAPI yeh data request body ke roop mein consider karega.</h4>\n",
    "        </ul>\n",
    "    <hr style=\"margin: 20px 0;\">\n",
    "        <ul>\n",
    "            <h3><li><code>return data</code></li></h3>\n",
    "            <h4 style=\"color: red;\">Explanation: Yeh function query parameter <code>data</code> ki value ko return karta hai.</h4>\n",
    "        </ul>\n",
    "        <hr style=\"margin: 20px 0;\">\n",
    "        <ul>\n",
    "            <h3><li><code>req = requests.get('http://127.0.0.1:4444/index/', json={\"data\": [\"abc\", \"def\"]})</code></li></h3>\n",
    "            <h4 style=\"color: red;\">Explanation: Yeh HTTP GET request karta hai <code>http://127.0.0.1:4444/index/</code> endpoint par, jismein query parameter <code>data</code> ki value \"abc\" aur \"def\" hai, lekin yeh data request body ke roop mein hai.</h4>\n",
    "        </ul>\n",
    "    </div>\n",
    "</body>\n",
    "</html>\n"
   ]
  },
  {
   "cell_type": "markdown",
   "id": "93ee334e-df7a-4c2f-91b5-c973f4008bf8",
   "metadata": {},
   "source": [
    "<h1 style=\"text-align:center; color:#005bbd; font-size:30px; font-family:Sans-serif; font-style: oblique; text-shadow: 0 0 3px white, 0 0 1px Black;\">Set List defaults Values\n",
    "</h1>"
   ]
  },
  {
   "cell_type": "code",
   "execution_count": null,
   "id": "43a56938-0d50-4c96-9864-757bbcf4c9f5",
   "metadata": {},
   "outputs": [],
   "source": [
    "app = FastAPI()\n",
    "\n",
    "\n",
    "@app.get(\"/index/\")\n",
    "async def index(data: Annotated[list[str] | None, Query()] = [\"abc\", \"def\"]):\n",
    "    return data\n",
    "\n",
    "\n",
    "if __name__ == \"__main__\":\n",
    "    nest_asyncio.apply()\n",
    "    uvicorn.run(app, port=4444)"
   ]
  },
  {
   "cell_type": "code",
   "execution_count": 27,
   "id": "864adb14-4029-47b9-9bab-3783b8339275",
   "metadata": {
    "tags": []
   },
   "outputs": [],
   "source": [
    "app = FastAPI()\n",
    "\n",
    "\n",
    "@app.get(\"/index/\")\n",
    "async def index(data: Annotated[list[str] | None, Query()] = [\"abc\", \"def\"]):\n",
    "    return data\n",
    "\n",
    "\n",
    "if __name__ == \"__main__\":\n",
    "    nest_asyncio.apply()\n",
    "    uvicorn.run(app, port=4444)"
   ]
  },
  {
   "cell_type": "code",
   "execution_count": 28,
   "id": "2bc7d18b-137f-41e0-85c9-7a4c7bc6b11e",
   "metadata": {
    "tags": []
   },
   "outputs": [
    {
     "data": {
      "text/plain": [
       "'[\"abc\",\"def\"]'"
      ]
     },
     "execution_count": 28,
     "metadata": {},
     "output_type": "execute_result"
    }
   ],
   "source": [
    "req = requests.get(\"http://127.0.0.1:4444/index/\")\n",
    "req.content.decode(\"utf-8\")"
   ]
  },
  {
   "cell_type": "markdown",
   "id": "630a6033-eb79-4b1b-bcc8-b036372a209f",
   "metadata": {},
   "source": [
    "<h1 style=\"text-align:center; color:#005bbd; font-size:30px; font-family:Sans-serif; font-style: oblique; text-shadow: 0 0 3px white, 0 0 1px Black;\">alias</h1>"
   ]
  },
  {
   "cell_type": "markdown",
   "id": "2ae1e9f9-e17d-44c5-95db-209588d62398",
   "metadata": {},
   "source": [
    "<div style=\"text-align:justify; color:black; font-size:20px; font-family:Sans-serif; font-style: oblique; text-shadow: 0 0 3px white, 0 0 1px black;\"><p>Jab aap FastAPI me ek route define karte hain, to aap parameters ko specify karte hain jo route ke endpoint ke saath associated hote hain.<br> Lekin kai baar aisa hota hai ki aap URL me parameter ka naam specify karna chahte hain jo Python variable name ke rules ko follow nahi karta, <br>jaise ki kebab-case (item-query), jo valid Python variable name nahi hai.<br><br> So is ky lye alias ka use kia jata hn</p>\n",
    "</div>\n",
    "\n",
    "\n"
   ]
  },
  {
   "cell_type": "code",
   "execution_count": 29,
   "id": "a78f2f03-f134-4fa7-bc76-e31597efe78e",
   "metadata": {
    "tags": []
   },
   "outputs": [
    {
     "ename": "SyntaxError",
     "evalue": "invalid syntax (1645026928.py, line 5)",
     "output_type": "error",
     "traceback": [
      "\u001b[0;36m  Cell \u001b[0;32mIn[29], line 5\u001b[0;36m\u001b[0m\n\u001b[0;31m    async def index(query-data: Annotated[str | None, Query()]):\u001b[0m\n\u001b[0m                         ^\u001b[0m\n\u001b[0;31mSyntaxError\u001b[0m\u001b[0;31m:\u001b[0m invalid syntax\n"
     ]
    }
   ],
   "source": [
    "app = FastAPI()\n",
    "\n",
    "\n",
    "@app.get(\"/index/\")\n",
    "async def index(query-data: Annotated[str | None, Query()]):\n",
    "    return data\n",
    "\n",
    "\n",
    "if __name__ == \"__main__\":\n",
    "    nest_asyncio.apply()\n",
    "    uvicorn.run(app, port=4444)"
   ]
  },
  {
   "cell_type": "code",
   "execution_count": 30,
   "id": "873dd202-7dd7-43a0-98ff-ea2f92e822a2",
   "metadata": {
    "tags": []
   },
   "outputs": [],
   "source": [
    "app = FastAPI()\n",
    "\n",
    "\n",
    "@app.get(\"/index/\")\n",
    "async def index(data: Annotated[str | None, Query(alias=\"query-data\")]):\n",
    "    return data\n",
    "\n",
    "\n",
    "if __name__ == \"__main__\":\n",
    "    nest_asyncio.apply()\n",
    "    uvicorn.run(app, port=4444)"
   ]
  },
  {
   "cell_type": "code",
   "execution_count": 31,
   "id": "52732a6f-066f-414c-8663-c41802d7238e",
   "metadata": {
    "tags": []
   },
   "outputs": [
    {
     "data": {
      "text/plain": [
       "'\"123\"'"
      ]
     },
     "execution_count": 31,
     "metadata": {},
     "output_type": "execute_result"
    }
   ],
   "source": [
    "req = requests.get(\"http://127.0.0.1:4444/index/?query-data=123\")\n",
    "req.content.decode(\"utf-8\")"
   ]
  },
  {
   "cell_type": "markdown",
   "id": "39ed4d95-ef33-43dd-b7ba-633de1c79438",
   "metadata": {},
   "source": [
    "<!DOCTYPE html>\n",
    "<html lang=\"en\">\n",
    "<head>\n",
    "    <meta charset=\"UTF-8\">\n",
    "    <meta name=\"viewport\" content=\"width=device-width, initial-scale=1.0\">\n",
    "</head>\n",
    "<body style=\"font-family: Sans-serif;\">\n",
    "    <div style=\"color: green; font-size: 18px; font-style: oblique; text-shadow: 0 0 3px white, 0 0 1px black; border: 8px double black; padding: 20px;\">\n",
    "        <ul>\n",
    "            <h3><li><code>@app.get(\"/index/\")</code></li></h3>\n",
    "            <h4 style=\"color: red;\">Explanation: Yeh ek decorator hai jo define karta hai ke jab GET request <code>\"/index/\"</code> path par aayegi to kaunsa function call hoga.</h4>\n",
    "        </ul>\n",
    "        <hr style=\"margin: 20px 0;\">\n",
    "        <ul>\n",
    "            <h3><li><code>async def index(data: Annotated[str | None, Query(alias=\"query-data\")]):</code></li></h3>\n",
    "            <h4 style=\"color: red;\">Explanation: Yeh ek asynchronous function hai jo <code>\"/index/\"</code> path par GET request aane par call hota hai. Is function mein ek query parameter <code>data</code> define kiya gaya hai jiska alias <code>query-data</code> hai. </h4>\n",
    "        </ul>\n",
    "    <hr style=\"margin: 20px 0;\">\n",
    "        <ul>\n",
    "            <h3><li><code>return data</code></li></h3>\n",
    "            <h4 style=\"color: red;\">Explanation: Yeh function query parameter <code>data</code> ki value ko return karta hai.</h4>\n",
    "        </ul>\n",
    "        <hr style=\"margin: 20px 0;\">\n",
    "        <ul>\n",
    "            <h3><li><code>req = requests.get('http://127.0.0.1:4444/index/?query-data=abc')</code></li></h3>\n",
    "            <h4 style=\"color: red;\">Explanation: Yeh HTTP GET request karta hai <code>http://127.0.0.1:4444/index/</code> endpoint par, jismein query parameter ka naam <code>query-data</code> hai aur uski value \"abc\" hai.</h4>\n",
    "        </ul>\n",
    "    </div>\n",
    "</body>\n",
    "</html>\n"
   ]
  },
  {
   "cell_type": "code",
   "execution_count": null,
   "id": "a438e2c1-750a-4486-899a-44ee5a8b4d1b",
   "metadata": {},
   "outputs": [],
   "source": []
  }
 ],
 "metadata": {
  "kernelspec": {
   "display_name": "Python 3 (ipykernel)",
   "language": "python",
   "name": "python3"
  },
  "language_info": {
   "codemirror_mode": {
    "name": "ipython",
    "version": 3
   },
   "file_extension": ".py",
   "mimetype": "text/x-python",
   "name": "python",
   "nbconvert_exporter": "python",
   "pygments_lexer": "ipython3",
   "version": "3.10.12"
  }
 },
 "nbformat": 4,
 "nbformat_minor": 5
}
