{
 "cells": [
  {
   "cell_type": "markdown",
   "id": "901eb514-cff0-4c6e-876d-03353b002cda",
   "metadata": {},
   "source": [
    "<h1 style=\"text-align:center; color:#005bbd; font-size:30px; font-family:Sans-serif; font-style: oblique; text-shadow: 0 0 3px white, 0 0 1px Black;\">List in Body</h1>"
   ]
  },
  {
   "cell_type": "code",
   "execution_count": 1,
   "id": "d6d86bde-1a80-4557-b7fe-5ab0af8f2afd",
   "metadata": {
    "tags": []
   },
   "outputs": [],
   "source": [
    "import json\n",
    "from typing import Annotated\n",
    "\n",
    "import nest_asyncio\n",
    "import requests\n",
    "import uvicorn\n",
    "from fastapi import FastAPI, Query,Path,Body\n",
    "from pydantic import BaseModel"
   ]
  },
  {
   "cell_type": "code",
   "execution_count": 2,
   "id": "791db67e-5fd3-4bfc-822a-b2e15116b174",
   "metadata": {},
   "outputs": [],
   "source": [
    "class Item(BaseModel):\n",
    "    tags: list = []\n",
    "\n",
    "app = FastAPI()\n",
    "\n",
    "@app.post('/index/')\n",
    "async def index(item:Item):\n",
    "    return item\n",
    "\n",
    "if __name__ == \"__main__\":\n",
    "    nest_asyncio.apply()\n",
    "    uvicorn.run(app, port=4444)"
   ]
  },
  {
   "cell_type": "code",
   "execution_count": 7,
   "id": "1f7f9155-0352-46e2-9f33-c8d83942f8ba",
   "metadata": {},
   "outputs": [
    {
     "data": {
      "text/plain": [
       "'{\"tags\":[\"github\"]}'"
      ]
     },
     "execution_count": 7,
     "metadata": {},
     "output_type": "execute_result"
    }
   ],
   "source": [
    "req = requests.post(\"http://127.0.0.1:4444/index/\", json={'tags':['github']})\n",
    "req.content.decode(\"utf-8\")"
   ]
  },
  {
   "cell_type": "code",
   "execution_count": null,
   "id": "d72ce9c7-b56e-4b20-811d-d0b050fd7b0e",
   "metadata": {},
   "outputs": [],
   "source": [
    "body me List ka bhi use kia ja saktha hn\n",
    "\n",
    "class Item(BaseModel):\n",
    "    tags: list = []\n",
    "\n",
    "app = FastAPI()\n",
    "\n",
    "@app.post('/index/')\n",
    "async def index(item:Item):\n",
    "    return item\n",
    "\n",
    "if __name__ == \"__main__\":\n",
    "    nest_asyncio.apply()\n",
    "    uvicorn.run(app, port=4444)\n",
    "\n",
    "req = requests.post(\"http://127.0.0.1:4444/index/\", json={'tags':['github']})\n",
    "req.content.decode(\"utf-8\")\n",
    "\n",
    "output '{\"tags\":[\"github\"]}'\n"
   ]
  },
  {
   "cell_type": "markdown",
   "id": "b144f01d-8511-4575-b6d4-031791882d98",
   "metadata": {},
   "source": [
    "<!DOCTYPE html>\n",
    "<html lang=\"en\">\n",
    "<head>\n",
    "    <meta charset=\"UTF-8\">\n",
    "    <meta name=\"viewport\" content=\"width=device-width, initial-scale=1.0\">\n",
    "</head>\n",
    "<body style=\"font-family: Sans-serif;\">\n",
    "    <div style=\"color: green; font-size: 18px; font-style: oblique; text-shadow: 0 0 3px white, 0 0 1px black; border: 8px double black; padding: 20px;\">\n",
    "        <p style=\"margin-bottom: 10px;\">Upar diye gaye code mein, `Item` class define ki gayi hai jo `tags` naam ka ek field rakhti hai. Is field ka type `list` hai, jiska default value `[]` (khali list) hai. Jab bhi koi POST request `/index/` endpoint par bheja jata hai, jo bhi data JSON format mein aata hai, woh FastAPI ke through `Item` class ke instance mein validate hota hai. Agar data sahi hai, to wahi data response mein wapas bhej diya jata hai.</p>\n",
    "        <h2 style=\"color: #28a745;\">Example</h2>\n",
    "        <pre style=\"background-color: #f4f4f4; padding: 10px; border-radius: 5px; margin-bottom: 20px;\">\n",
    "            <code>\n",
    "from pydantic import BaseModel\n",
    "from fastapi import FastAPI\n",
    "\n",
    "class Item(BaseModel):\n",
    "    tags: list = []\n",
    "\n",
    "app = FastAPI()\n",
    "\n",
    "@app.post('/index/')\n",
    "async def index(item:Item):\n",
    "    return item\n",
    "\n",
    "if __name__ == \"__main__\":\n",
    "    nest_asyncio.apply()\n",
    "    uvicorn.run(app, port=4444)\n",
    "\n",
    "req = requests.post(\"http://127.0.0.1:4444/index/\", json={'tags':['github']})\n",
    "req.content.decode(\"utf-8\")\n",
    "            </code>\n",
    "        </pre>\n",
    "        <h2 style=\"color: #28a745;\">Output:</h2>\n",
    "        <pre style=\"background-color: #f4f4f4; padding: 10px; border-radius: 5px; margin-bottom: 20px;\">\n",
    "            <code>\n",
    "{\"tags\":[\"github\"]}\n",
    "            </code>\n",
    "        </pre>\n",
    "    </div>\n",
    "</body>\n",
    "</html>\n"
   ]
  },
  {
   "cell_type": "markdown",
   "id": "b099d30e-1231-4be6-bfb7-1ea654c58e30",
   "metadata": {},
   "source": [
    "<h1 style=\"text-align:center; color:#005bbd; font-size:30px; font-family:Sans-serif; font-style: oblique; text-shadow: 0 0 3px white, 0 0 1px Black;\">Datatype inside List in Body</h1>"
   ]
  },
  {
   "cell_type": "code",
   "execution_count": 47,
   "id": "a96aad1a-f62a-421e-8353-b1673aeb7460",
   "metadata": {
    "tags": []
   },
   "outputs": [],
   "source": [
    "class form(BaseModel):\n",
    "    tags : list[str] = []"
   ]
  },
  {
   "cell_type": "code",
   "execution_count": null,
   "id": "810d97fa-cdbb-4f16-b487-ccfb9c2a6e4d",
   "metadata": {
    "tags": []
   },
   "outputs": [],
   "source": [
    "app = FastAPI()\n",
    "\n",
    "@app.post('/index/')\n",
    "async def index(data:form):\n",
    "    return data\n",
    "\n",
    "if __name__ == \"__main__\":\n",
    "    nest_asyncio.apply()\n",
    "    uvicorn.run(app,port=4444)"
   ]
  },
  {
   "cell_type": "code",
   "execution_count": 24,
   "id": "d5be39f2-f32d-4873-8a93-193bcf0f7297",
   "metadata": {
    "tags": []
   },
   "outputs": [
    {
     "data": {
      "text/plain": [
       "'{\"detail\":[{\"type\":\"string_type\",\"loc\":[\"body\",\"tags\",0],\"msg\":\"Input should be a valid string\",\"input\":1,\"url\":\"https://errors.pydantic.dev/2.6/v/string_type\"},{\"type\":\"string_type\",\"loc\":[\"body\",\"tags\",1],\"msg\":\"Input should be a valid string\",\"input\":2,\"url\":\"https://errors.pydantic.dev/2.6/v/string_type\"}]}'"
      ]
     },
     "execution_count": 24,
     "metadata": {},
     "output_type": "execute_result"
    }
   ],
   "source": [
    "res = requests.post('http://127.0.0.1:4444/index/',json={'tags':[1,2]})\n",
    "res._content.decode('utf-8')"
   ]
  },
  {
   "cell_type": "code",
   "execution_count": 23,
   "id": "1bdaed6d-a99d-45b3-a2c5-d2077f11a12a",
   "metadata": {
    "tags": []
   },
   "outputs": [
    {
     "data": {
      "text/plain": [
       "'{\"tags\":[\"1\",\"2\"]}'"
      ]
     },
     "execution_count": 23,
     "metadata": {},
     "output_type": "execute_result"
    }
   ],
   "source": [
    "res = requests.post('http://127.0.0.1:4444/index/',json={'tags':['1','2']})\n",
    "res._content.decode('utf-8')"
   ]
  },
  {
   "cell_type": "markdown",
   "id": "a3df1ff1-96d3-4a2b-9044-a41347967e76",
   "metadata": {},
   "source": [
    "<!DOCTYPE html>\n",
    "<html lang=\"en\">\n",
    "<head>\n",
    "    <meta charset=\"UTF-8\">\n",
    "    <meta name=\"viewport\" content=\"width=device-width, initial-scale=1.0\">\n",
    "</head>\n",
    "<body style=\"font-family: Sans-serif;\">\n",
    "    <div style=\"color: green; font-size: 18px; font-style: oblique; text-shadow: 0 0 3px white, 0 0 1px black; border: 8px double black; padding: 20px;\"> \n",
    "        <pre style=\"background-color: #f9f9f9; padding: 10px; border: 1px solid #ccc; border-radius: 5px;\">\n",
    "        <h3 style=\"color: #333;\">Explanation:</h3>\n",
    "        <p>\n",
    "            Yahaan humne ek FastAPI endpoint define kiya hai jo request body mein list of strings ko accept karta hai. \n",
    "            Agar list mein strings ke alawa koi aur data type pass kiya jaayega, jaise integers, to validation error aayegi.\n",
    "        </p>\n",
    "        <h4 style=\"color: #28a745;\">Example 1: Incorrect Request</h4>\n",
    "        <pre style=\"background-color: #f9f9f9; padding: 10px; border: 1px solid #ccc; border-radius: 5px;\">\n",
    "res = requests.post('http://127.0.0.1:4444/index/', json={'tags': [1, 2]})\n",
    "print(res._content.decode('utf-8'))  # error\n",
    "        </pre>\n",
    "        <p>\n",
    "            Is request mein humne <code>tags</code> list mein integers pass kiye hain. \n",
    "            Kyunki endpoint sirf strings ko accept karta hai, yeh request error throw karegi.\n",
    "        </p>\n",
    "        <h4 style=\"color: #28a745;\">Example 2: Correct Request</h4>\n",
    "        <pre style=\"background-color: #f9f9f9; padding: 10px; border: 1px solid #ccc; border-radius: 5px;\">\n",
    "res = requests.post('http://127.0.0.1:4444/index/', json={'tags': ['1', '2']})\n",
    "print(res._content.decode('utf-8'))  # corrected\n",
    "        </pre>\n",
    "        <p>\n",
    "            Is request mein humne <code>tags</code> list mein strings pass kiye hain. \n",
    "            Yeh request successful hogi aur server se correct response aayega.\n",
    "        </p>\n",
    "    </div>\n",
    "\n",
    "</body>\n",
    "</html>\n"
   ]
  },
  {
   "cell_type": "markdown",
   "id": "cd5c1e7d-824d-4e86-ad6f-85222dbe64a7",
   "metadata": {},
   "source": [
    "<h1 style=\"text-align:center; color:#005bbd; font-size:30px; font-family:Sans-serif; font-style: oblique; text-shadow: 0 0 3px white, 0 0 1px Black;\">Set types\n",
    "</h1>"
   ]
  },
  {
   "cell_type": "code",
   "execution_count": 25,
   "id": "9d6553c3-7746-47b9-9e27-5cc4e667eb9c",
   "metadata": {
    "tags": []
   },
   "outputs": [],
   "source": [
    "class form(BaseModel):\n",
    "    tags : set[str] = set()\n",
    "    \n",
    "    \n",
    "app = FastAPI()\n",
    "\n",
    "@app.post('/index/')\n",
    "async def index(data:form):\n",
    "    return data\n",
    "\n",
    "if __name__ == \"__main__\":\n",
    "    nest_asyncio.apply()\n",
    "    uvicorn.run(app,port=4444)"
   ]
  },
  {
   "cell_type": "code",
   "execution_count": 28,
   "id": "63ab14a0-7a87-4f5c-8593-8626a63e428b",
   "metadata": {
    "tags": []
   },
   "outputs": [
    {
     "data": {
      "text/plain": [
       "'{\"tags\":[\"2\",\"1\"]}'"
      ]
     },
     "execution_count": 28,
     "metadata": {},
     "output_type": "execute_result"
    }
   ],
   "source": [
    "res = requests.post('http://127.0.0.1:4444/index/',json={'tags':['1','2','1']})\n",
    "res._content.decode('utf-8')"
   ]
  },
  {
   "cell_type": "markdown",
   "id": "a8c46010-69e4-49a3-a9b2-385e12a341dd",
   "metadata": {},
   "source": [
    "<!DOCTYPE html>\n",
    "<html lang=\"en\">\n",
    "<head>\n",
    "    <meta charset=\"UTF-8\">\n",
    "    <meta name=\"viewport\" content=\"width=device-width, initial-scale=1.0\">\n",
    "</head>\n",
    "<body style=\"font-family: Sans-serif;\">\n",
    "    <div style=\"color: black; font-size: 18px; font-style: oblique; text-shadow: 0 0 3px white, 0 0 1px black; border: 8px double black; padding: 20px;\">\n",
    "<h3>Explanation:</h3>\n",
    "        <p>Yahaan humne ek FastAPI endpoint define kiya hai jo request body mein set of strings ko accept karta hai. Set data structure duplicate values ko allow nahi karta, isliye agar duplicate values provide ki jaayengi, to woh automatically remove ho jaayengi.\n",
    "        </p>\n",
    "        <p>\n",
    "            Is request mein humne <code>tags</code> set mein unique strings pass kiye hain. \n",
    "            Yeh request successful hogi aur server se correct response aayega.\n",
    "        </p>\n",
    "        <pre style=\"background-color: #f9f9f9; padding: 10px; border: 1px solid #ccc; border-radius: 5px;\">\n",
    "res = requests.post('http://127.0.0.1:4444/index/', json={'tags': ['1', '2', '2']})\n",
    "print(res._content.decode('utf-8'))  # {\"tags\":[\"1\",\"2\"]}\n",
    "        </pre>\n",
    "        <p>\n",
    "            Is request mein humne <code>tags</code> set mein duplicate strings pass kiye hain. \n",
    "            Set data structure duplicate values ko remove kar deta hai, isliye response mein sirf unique values hi dikhai denge.\n",
    "        </p>\n",
    "    </div>\n",
    "\n",
    "</body>\n",
    "</html>\n"
   ]
  },
  {
   "cell_type": "markdown",
   "id": "3f19a789-7e46-4779-b0b6-b72355dc17df",
   "metadata": {},
   "source": [
    "<h1 style=\"text-align:center; color:#005bbd; font-size:30px; font-family:Sans-serif; font-style: oblique; text-shadow: 0 0 3px white, 0 0 1px Black;\">Nested Body\n",
    "</h1>"
   ]
  },
  {
   "cell_type": "code",
   "execution_count": null,
   "id": "364d26b9-940d-4fd8-86a0-dac737c556c3",
   "metadata": {},
   "outputs": [],
   "source": [
    "class Image(BaseModel):\n",
    "    url: str\n",
    "    name: str\n",
    "    \n",
    "class Item(BaseModel):\n",
    "    name: str\n",
    "    image: Image | None = None # use here Image class\n",
    "\n",
    "app = FastAPI()\n",
    "\n",
    "@app.post('/index/')\n",
    "async def index(data:Item):\n",
    "    return data\n",
    "\n",
    "if __name__ == \"__main__\":\n",
    "    nest_asyncio.apply()\n",
    "    uvicorn.run(app,port=4444)"
   ]
  },
  {
   "cell_type": "code",
   "execution_count": 29,
   "id": "1c43f89a-43a3-4950-88c5-385f90436265",
   "metadata": {
    "tags": []
   },
   "outputs": [
    {
     "data": {
      "text/plain": [
       "'{\"name\":\"test\",\"image\":{\"url\":\"https://image.png\",\"name\":\"img\"}}'"
      ]
     },
     "execution_count": 29,
     "metadata": {},
     "output_type": "execute_result"
    }
   ],
   "source": [
    "data = {'name':'test','image':{'name':'img','url':'https://image.png'} }\n",
    "\n",
    "res = requests.post('http://127.0.0.1:4444/index/',json=data)\n",
    "res._content.decode('utf-8')"
   ]
  },
  {
   "cell_type": "markdown",
   "id": "f941d7c7-39f2-42ae-801f-d601700364de",
   "metadata": {},
   "source": [
    "<!DOCTYPE html>\n",
    "<html lang=\"en\">\n",
    "<head>\n",
    "    <meta charset=\"UTF-8\">\n",
    "    <meta name=\"viewport\" content=\"width=device-width, initial-scale=1.0\">\n",
    "</head>\n",
    "<body style=\"font-family: Sans-serif;\">\n",
    "    <div style=\"color: black; font-size: 18px; font-style: oblique; text-shadow: 0 0 3px white, 0 0 1px black; border: 8px double black; padding: 20px;\"> \n",
    "<h3>Explanation:</h3>\n",
    "        <p>\n",
    "            Yahaan humne do classes define ki hain: <strong>Image</strong> aur <strong>Item</strong>.\n",
    "        </p>\n",
    "        <p>\n",
    "            <strong>Image class:</strong>\n",
    "            <ul style=\"list-style-type: disc; margin-left: 20px;\">\n",
    "                <li><strong>url:</strong> String type ka attribute jo image ka URL store karega.</li>\n",
    "                <li><strong>name:</strong> String type ka attribute jo image ka naam store karega.</li>\n",
    "            </ul>\n",
    "        <p>\n",
    "            <strong>Item class:</strong>\n",
    "            <ul style=\"list-style-type: disc; margin-left: 20px;\">\n",
    "                <li><strong>name:</strong> String type ka attribute jo item ka naam store karega.</li>\n",
    "                <li><strong>image:</strong> Ek optional attribute jo <strong>Image</strong> class ka instance store karega. Agar image provide nahi kiya jata, to yeh <strong>None</strong> hoga.</li>\n",
    "            </ul>\n",
    "        <h4 style=\"color: #28a745;\">Endpoint Definition:</h4>\n",
    "        <p><code>@app.post('/index/')</code> ek POST endpoint define karta hai jo ek <strong>Item</strong> object ko accept karta hai aur usi object ko return karta hai.\n",
    "        </p>\n",
    "        <h4 style=\"color: #28a745;\">Example Request:</h4>\n",
    "        <pre style=\"background-color: #f9f9f9; padding: 10px; border: 1px solid #ccc; border-radius: 5px;\">\n",
    "data = {'name': 'test', 'image': {'name': 'img', 'url': 'https://image.png'}}\n",
    "res = requests.post('http://127.0.0.1:4444/index/', json=data)\n",
    "print(res._content.decode('utf-8'))\n",
    "        </pre>\n",
    "        <p>\n",
    "            Is request mein humne ek JSON object send kiya hai jisme ek <strong>Item</strong> object include hai. <br>\n",
    "            <strong>Item</strong> object ke <strong>name</strong> attribute ko 'test' set kiya gaya hai aur <strong>image</strong> attribute ko ek <strong>Image</strong> object set kiya gaya hai jisme:\n",
    "            <ul style=\"list-style-type: disc; margin-left: 20px;\">\n",
    "                <li><strong>url:</strong> 'https://image.png'</li>\n",
    "                <li><strong>name:</strong> 'img'</li>\n",
    "            </ul>\n",
    "        </p>\n",
    "        <h4 style=\"color: #28a745;\">Response:</h4>\n",
    "        <p>\n",
    "            Agar aap yeh request run karte hain, to API aapko wohi data wapas return karegi:\n",
    "        </p>{\n",
    "    \"name\": \"test\",\n",
    "    \"image\": {\n",
    "        \"name\": \"img\",\n",
    "        \"url\": \"https://image.png\"\n",
    "    }\n",
    "}</pre>\n",
    "    </div>\n",
    "\n",
    "</body>\n",
    "</html>\n"
   ]
  },
  {
   "cell_type": "markdown",
   "id": "7b32f408-71e6-45ac-9999-3b09824d44b1",
   "metadata": {},
   "source": [
    "<h1 style=\"text-align:center; color:#005bbd; font-size:30px; font-family:Sans-serif; font-style: oblique; text-shadow: 0 0 3px white, 0 0 1px Black;\">Attributes with lists of submodels\n",
    "</h1>"
   ]
  },
  {
   "cell_type": "code",
   "execution_count": 45,
   "id": "7bdef2b1-beb3-4b45-88f5-f05b115233eb",
   "metadata": {
    "tags": []
   },
   "outputs": [],
   "source": [
    "class Image(BaseModel):\n",
    "    url: HttpUrl\n",
    "\n",
    "class Item(BaseModel):\n",
    "    images: list[Image] | None = None\n",
    "    \n",
    "app = FastAPI()\n",
    "\n",
    "@app.post('/index/')\n",
    "async def index(data:Item):\n",
    "    return data\n",
    "\n",
    "if __name__ == \"__main__\":\n",
    "    nest_asyncio.apply()\n",
    "    uvicorn.run(app,port=4444)"
   ]
  },
  {
   "cell_type": "code",
   "execution_count": 46,
   "id": "817ca1c2-f3aa-4ab5-9ad9-643997f2b630",
   "metadata": {
    "tags": []
   },
   "outputs": [
    {
     "data": {
      "text/plain": [
       "'{\"images\":[{\"url\":\"https://url1/\"},{\"url\":\"https://url2/\"}]}'"
      ]
     },
     "execution_count": 46,
     "metadata": {},
     "output_type": "execute_result"
    }
   ],
   "source": [
    "data = {'images':[\n",
    "    {'url':'https://url1'},\n",
    "    {'url':'https://url2'}\n",
    "]}\n",
    "\n",
    "res = requests.post('http://127.0.0.1:4444/index/',json=data)\n",
    "res._content.decode('utf-8')"
   ]
  },
  {
   "cell_type": "markdown",
   "id": "bd7d739b-8f40-4bf5-8bcb-f8c0c7df4000",
   "metadata": {},
   "source": [
    "<!DOCTYPE html>\n",
    "<html lang=\"en\">\n",
    "<head>\n",
    "    <meta charset=\"UTF-8\">\n",
    "    <meta name=\"viewport\" content=\"width=device-width, initial-scale=1.0\">\n",
    "</head>\n",
    "    <body style=\"font-family: Sans-serif;\">\n",
    "    <div style=\"color: black; font-size: 18px; font-style: oblique; text-shadow: 0 0 3px white, 0 0 1px black; border: 8px double black; padding: 20px;\"> \n",
    "        <h3>Explanation:</h3>\n",
    "        <p>\n",
    "            Yahaan humne <strong>Item</strong> class mein ek list of <strong>Image</strong> objects define kiya hai.\n",
    "        </p>\n",
    "        <p>\n",
    "            <strong>Image class:</strong>\n",
    "            <ul style=\"list-style-type: disc; margin-left: 20px;\">\n",
    "                <li><strong>url:</strong> <strong>HttpUrl</strong> type ka attribute jo ek valid URL store karega.</li>\n",
    "            </ul>\n",
    "        <p>\n",
    "            <strong>Item class:</strong>\n",
    "            <ul style=\"list-style-type: disc; margin-left: 20px;\">\n",
    "                <li><strong>images:</strong> <strong>list[Image]</strong> type ka attribute jo ek list of <strong>Image</strong> objects store karega.</li>\n",
    "            </ul>\n",
    "        </p>\n",
    "        <h4 style=\"color: #28a745;\">Endpoint Definition:</h4>\n",
    "        <p>\n",
    "            <code>@app.post('/index/')</code> ek POST endpoint define karta hai jo ek <strong>Item</strong> object ko accept karta hai aur usi object ko return karta hai.\n",
    "        </p>\n",
    "        <h4 style=\"color: #28a745;\">Example Request:</h4>\n",
    "        <pre style=\"background-color: #f9f9f9; padding: 10px; border: 1px solid #ccc; border-radius: 5px; overflow-x: auto;\">\n",
    "data = {'images': [\n",
    "    {'url': 'https://url1'},\n",
    "    {'url': 'https://url2'}\n",
    "]}\n",
    "res = requests.post('http://127.0.0.1:4444/index/', json=data)\n",
    "print(res._content.decode('utf-8'))\n",
    "        </pre> \n",
    "        <h4 style=\"color: #28a745;\">Output:</h4>\n",
    "        <pre style=\"background-color: #f9f9f9; padding: 10px; border: 1px solid #ccc; border-radius: 5px; overflow-x: auto;\">\n",
    "{\n",
    "    \"images\": [\n",
    "        {\"url\": \"https://url1/\"},\n",
    "        {\"url\": \"https://url2/\"}\n",
    "    ]\n",
    "}\n",
    "        </pre>\n",
    "        <h4 style=\"color: #d9534f;\">Note:</h4>\n",
    "        <p style=\"color: #d9534f;\">\n",
    "            Is example mein humne <strong>Image</strong> class ka use <strong>Item</strong> class ke <code>images</code> attribute mein kiya hai, jo ek list of <strong>Image</strong> objects ko store karta hai. Jab valid data provide kiya jata hai, to response mein wahi data return hota hai.\n",
    "        </p>\n",
    "    </div>\n",
    "</body>\n",
    "</html>\n"
   ]
  },
  {
   "cell_type": "code",
   "execution_count": null,
   "id": "80dc9edf-f04f-457c-be6a-025c341d3804",
   "metadata": {},
   "outputs": [],
   "source": [
    "from fastapi import FastAPI\n",
    "from pydantic import BaseModel, Field\n",
    "\n",
    "app = FastAPI()\n",
    "\n",
    "\n",
    "class Item(BaseModel):\n",
    "    name: str = Field(examples=[\"Foo\"])\n",
    "    description: str | None = Field(default=None, examples=[\"A very nice Item\"])\n",
    "    price: float = Field(examples=[35.4])\n",
    "    tax: float | None = Field(default=None, examples=[3.2])\n",
    "\n",
    "\n",
    "@app.put(\"/items/{item_id}\")\n",
    "async def update_item(item_id: int, item: Item):\n",
    "    results = {\"item_id\": item_id, \"item\": item}\n",
    "    return results\n",
    "\n",
    "\n",
    "if __name__ == \"__main__\":\n",
    "    nest_asyncio.apply()\n",
    "    uvicorn.run(app,port=4444)"
   ]
  },
  {
   "cell_type": "code",
   "execution_count": null,
   "id": "b0abcbad-8197-4ea2-a2ec-11774a2d3ace",
   "metadata": {},
   "outputs": [],
   "source": [
    "res = requests.post('http://127.0.0.1:4444/index/',json={'name':'image','url':'https://abc.com'})\n",
    "res._content.decode('utf-8')"
   ]
  },
  {
   "cell_type": "markdown",
   "id": "713ae503-26ea-461b-b15c-8f0496446be5",
   "metadata": {},
   "source": [
    "<h1 style=\"text-align:center; color:#005bbd; font-size:30px; font-family:Sans-serif; font-style: oblique; text-shadow: 0 0 3px white, 0 0 1px Black;\">HttpUrl\n",
    "</h1>"
   ]
  },
  {
   "cell_type": "code",
   "execution_count": 31,
   "id": "53400811-4915-4803-bb14-92d3002f29d2",
   "metadata": {
    "tags": []
   },
   "outputs": [],
   "source": [
    "from pydantic import BaseModel, HttpUrl\n",
    "\n",
    "class Image(BaseModel):\n",
    "    name : str\n",
    "    url : HttpUrl\n",
    "    \n",
    "app = FastAPI()\n",
    "\n",
    "@app.post('/index/')\n",
    "async def index(data:Image):\n",
    "    return data\n",
    "\n",
    "if __name__ == \"__main__\":\n",
    "    nest_asyncio.apply()\n",
    "    uvicorn.run(app,port=4444)"
   ]
  },
  {
   "cell_type": "code",
   "execution_count": 44,
   "id": "cd3f7a92-7dff-441f-a0b3-0c8b3d0915fb",
   "metadata": {
    "tags": []
   },
   "outputs": [
    {
     "data": {
      "text/plain": [
       "'{\"name\":\"image\",\"url\":\"https://abc.com/\"}'"
      ]
     },
     "execution_count": 44,
     "metadata": {},
     "output_type": "execute_result"
    }
   ],
   "source": [
    "res = requests.post('http://127.0.0.1:4444/index/',json={'name':'image','url':'https://abc.com'})\n",
    "res._content.decode('utf-8')"
   ]
  },
  {
   "cell_type": "code",
   "execution_count": 42,
   "id": "84d06012-4ac3-4993-97a4-3a63e74698c6",
   "metadata": {
    "tags": []
   },
   "outputs": [
    {
     "data": {
      "text/plain": [
       "'{\"detail\":[{\"type\":\"url_parsing\",\"loc\":[\"body\",\"url\"],\"msg\":\"Input should be a valid URL, relative URL without a base\",\"input\":\"https//abc.com\",\"ctx\":{\"error\":\"relative URL without a base\"},\"url\":\"https://errors.pydantic.dev/2.6/v/url_parsing\"}]}'"
      ]
     },
     "execution_count": 42,
     "metadata": {},
     "output_type": "execute_result"
    }
   ],
   "source": [
    "res = requests.post('http://127.0.0.1:4444/index/',json={'name':'image','url':'https//abc.com'})\n",
    "res._content.decode('utf-8')"
   ]
  },
  {
   "cell_type": "markdown",
   "id": "fe75ca4e-9583-410c-a4af-5e8c2bc3af40",
   "metadata": {},
   "source": [
    "<!DOCTYPE html>\n",
    "<html lang=\"en\">\n",
    "<head>\n",
    "    <meta charset=\"UTF-8\">\n",
    "    <meta name=\"viewport\" content=\"width=device-width, initial-scale=1.0\">\n",
    "</head>\n",
    "<body style=\"font-family: Sans-serif;\">\n",
    "    <div style=\"color: black; font-size: 18px; font-style: oblique; text-shadow: 0 0 3px white, 0 0 1px black; border: 8px double black; padding: 20px;\"> \n",
    "        <h3>Explanation:</h3>\n",
    "        <p>\n",
    "            Yahaan humne <strong>Pydantic</strong> ka use karke <strong>HttpUrl</strong> type define kiya hai jo URLs ko validate karta hai.\n",
    "        </p>\n",
    "        <p><strong>Image class:</strong>\n",
    "            <ul style=\"list-style-type: disc; margin-left: 20px;\">\n",
    "                <li><strong>name:</strong> String type ka attribute jo image ka naam store karega.</li>\n",
    "                <li><strong>url:</strong> <strong>HttpUrl</strong> type ka attribute jo image ka URL store karega aur ensure karega ki yeh ek valid URL hai.</li>\n",
    "            </ul>\n",
    "        <h4 style=\"color: #28a745;\">Endpoint Definition:</h4>\n",
    "        <p>\n",
    "            <code>@app.post('/index/')</code> ek POST endpoint define karta hai jo ek <strong>Image</strong> object ko accept karta hai aur usi object ko return karta hai.\n",
    "        </p>\n",
    "        <h4 style=\"color: #28a745;\">Example Requests:</h4>\n",
    "        <pre style=\"background-color: #f9f9f9; padding: 10px; border: 1px solid #ccc; border-radius: 5px; overflow-x: auto;\">\n",
    "Valid URL example<br>\n",
    "res = requests.post('http://127.0.0.1:4444/index/', json={'name': 'image', 'url': 'https://abc.com'})\n",
    "print(res._content.decode('utf-8'))\n",
    "\n",
    "Invalid URL example<br>\n",
    "res = requests.post('http://127.0.0.1:4444/index/', json={'name': 'image', 'url': 'https//abc.com'})\n",
    "print(res._content.decode('utf-8'))\n",
    "        </pre>\n",
    "        </p>\n",
    "        </pre>\n",
    "    </div>\n",
    "</body>\n",
    "</html>\n"
   ]
  }
 ],
 "metadata": {
  "kernelspec": {
   "display_name": "Python 3 (ipykernel)",
   "language": "python",
   "name": "python3"
  },
  "language_info": {
   "codemirror_mode": {
    "name": "ipython",
    "version": 3
   },
   "file_extension": ".py",
   "mimetype": "text/x-python",
   "name": "python",
   "nbconvert_exporter": "python",
   "pygments_lexer": "ipython3",
   "version": "3.10.12"
  }
 },
 "nbformat": 4,
 "nbformat_minor": 5
}
