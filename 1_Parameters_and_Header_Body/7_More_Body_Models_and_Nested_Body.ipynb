{
 "cells": [
  {
   "cell_type": "markdown",
   "id": "901eb514-cff0-4c6e-876d-03353b002cda",
   "metadata": {},
   "source": [
    "<h1 style=\"text-align:center; color:#005bbd; font-size:30px; font-family:Sans-serif; font-style: oblique; text-shadow: 0 0 3px white, 0 0 1px Black;\">List fields</h1>"
   ]
  },
  {
   "cell_type": "code",
   "execution_count": 3,
   "id": "d6d86bde-1a80-4557-b7fe-5ab0af8f2afd",
   "metadata": {},
   "outputs": [],
   "source": [
    "import json\n",
    "from typing import Annotated\n",
    "\n",
    "import nest_asyncio\n",
    "import requests\n",
    "import uvicorn\n",
    "from fastapi import FastAPI, Query,Path,Body\n",
    "from pydantic import BaseModel"
   ]
  },
  {
   "cell_type": "code",
   "execution_count": 2,
   "id": "791db67e-5fd3-4bfc-822a-b2e15116b174",
   "metadata": {},
   "outputs": [],
   "source": [
    "class Item(BaseModel):\n",
    "    tags: list = []\n",
    "\n",
    "app = FastAPI()\n",
    "\n",
    "@app.post('/index/')\n",
    "async def index(item:Item):\n",
    "    return item\n",
    "\n",
    "if __name__ == \"__main__\":\n",
    "    nest_asyncio.apply()\n",
    "    uvicorn.run(app, port=4444)"
   ]
  },
  {
   "cell_type": "code",
   "execution_count": 7,
   "id": "1f7f9155-0352-46e2-9f33-c8d83942f8ba",
   "metadata": {},
   "outputs": [
    {
     "data": {
      "text/plain": [
       "'{\"tags\":[\"github\"]}'"
      ]
     },
     "execution_count": 7,
     "metadata": {},
     "output_type": "execute_result"
    }
   ],
   "source": [
    "req = requests.post(\"http://127.0.0.1:4444/index/\", json={'tags':['github']})\n",
    "req.content.decode(\"utf-8\")"
   ]
  },
  {
   "cell_type": "code",
   "execution_count": null,
   "id": "d72ce9c7-b56e-4b20-811d-d0b050fd7b0e",
   "metadata": {},
   "outputs": [],
   "source": [
    "body me List ka bhi use kia ja saktha hn\n",
    "\n",
    "class Item(BaseModel):\n",
    "    tags: list = []\n",
    "\n",
    "app = FastAPI()\n",
    "\n",
    "@app.post('/index/')\n",
    "async def index(item:Item):\n",
    "    return item\n",
    "\n",
    "if __name__ == \"__main__\":\n",
    "    nest_asyncio.apply()\n",
    "    uvicorn.run(app, port=4444)\n",
    "\n",
    "req = requests.post(\"http://127.0.0.1:4444/index/\", json={'tags':['github']})\n",
    "req.content.decode(\"utf-8\")\n",
    "\n",
    "output '{\"tags\":[\"github\"]}'\n"
   ]
  },
  {
   "cell_type": "markdown",
   "id": "b144f01d-8511-4575-b6d4-031791882d98",
   "metadata": {},
   "source": [
    "<!DOCTYPE html>\n",
    "<html lang=\"en\">\n",
    "<head>\n",
    "    <meta charset=\"UTF-8\">\n",
    "    <meta name=\"viewport\" content=\"width=device-width, initial-scale=1.0\">\n",
    "</head>\n",
    "<body style=\"font-family: Sans-serif;\">\n",
    "    <div style=\"color: green; font-size: 18px; font-style: oblique; text-shadow: 0 0 3px white, 0 0 1px black; border: 8px double black; padding: 20px;\">\n",
    "        <p style=\"margin-bottom: 10px;\">Upar diye gaye code mein, `Item` class define ki gayi hai jo `tags` naam ka ek field rakhti hai. Is field ka type `list` hai, jiska default value `[]` (khali list) hai. Jab bhi koi POST request `/index/` endpoint par bheja jata hai, jo bhi data JSON format mein aata hai, woh FastAPI ke through `Item` class ke instance mein validate hota hai. Agar data sahi hai, to wahi data response mein wapas bhej diya jata hai.</p>\n",
    "        <h2 style=\"color: #28a745;\">Example</h2>\n",
    "        <pre style=\"background-color: #f4f4f4; padding: 10px; border-radius: 5px; margin-bottom: 20px;\">\n",
    "            <code>\n",
    "from pydantic import BaseModel\n",
    "from fastapi import FastAPI\n",
    "\n",
    "class Item(BaseModel):\n",
    "    tags: list = []\n",
    "\n",
    "app = FastAPI()\n",
    "\n",
    "@app.post('/index/')\n",
    "async def index(item:Item):\n",
    "    return item\n",
    "\n",
    "if __name__ == \"__main__\":\n",
    "    nest_asyncio.apply()\n",
    "    uvicorn.run(app, port=4444)\n",
    "\n",
    "req = requests.post(\"http://127.0.0.1:4444/index/\", json={'tags':['github']})\n",
    "req.content.decode(\"utf-8\")\n",
    "            </code>\n",
    "        </pre>\n",
    "        <h2 style=\"color: #28a745;\">Output:</h2>\n",
    "        <pre style=\"background-color: #f4f4f4; padding: 10px; border-radius: 5px; margin-bottom: 20px;\">\n",
    "            <code>\n",
    "{\"tags\":[\"github\"]}\n",
    "            </code>\n",
    "        </pre>\n",
    "    </div>\n",
    "</body>\n",
    "</html>\n"
   ]
  }
 ],
 "metadata": {
  "kernelspec": {
   "display_name": "Python 3 (ipykernel)",
   "language": "python",
   "name": "python3"
  },
  "language_info": {
   "codemirror_mode": {
    "name": "ipython",
    "version": 3
   },
   "file_extension": ".py",
   "mimetype": "text/x-python",
   "name": "python",
   "nbconvert_exporter": "python",
   "pygments_lexer": "ipython3",
   "version": "3.12.1"
  }
 },
 "nbformat": 4,
 "nbformat_minor": 5
}
