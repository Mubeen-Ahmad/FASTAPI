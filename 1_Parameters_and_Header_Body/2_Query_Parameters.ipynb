{
 "cells": [
  {
   "cell_type": "markdown",
   "id": "3cc81f17-26cf-4895-bd8c-0a0d8fd929e6",
   "metadata": {},
   "source": [
    "<h1 style=\"text-align:center; color:#005bbd; font-size:30px; font-family:Sans-serif; font-style: oblique; text-shadow: 0 0 3px white, 0 0 1px Black;\">Query Parameters</h1>"
   ]
  },
  {
   "cell_type": "markdown",
   "id": "a478a56b-4fe8-473c-bc92-0807d9043f44",
   "metadata": {},
   "source": [
    "<div style=\"text-align:justify; color:black; font-size:20px; font-family:Sans-serif; font-style: oblique; text-shadow: 0 0 3px white, 0 0 1px black;\"><p>query parameters woh parameters hote hain jo URL mein <code>?</code> ke baad key-value pairs ki form mein hote hain,<br>aur <code>&</code> characters se separate hote hain. <br><br>Yeh parameters URL ke query string mein hote hain aur function parameters ki tarah declare kiye jate hain. <br>Query parameters ko URL ke zariye API endpoints mein pass kiya jata hai aur yeh values function ke arguments mein map ho jati hain.</p>\n",
    "</div>"
   ]
  },
  {
   "cell_type": "code",
   "execution_count": 12,
   "id": "ca5cbabc-2b9d-4910-9c18-4956afe6075f",
   "metadata": {},
   "outputs": [],
   "source": [
    "from fastapi import FastAPI\n",
    "import requests\n",
    "import uvicorn\n",
    "import nest_asyncio\n",
    "import json"
   ]
  },
  {
   "cell_type": "markdown",
   "id": "ca9027c2-612a-4185-9177-6b52072fd2df",
   "metadata": {},
   "source": [
    "<div style=\"text-align:justify; color:black; font-size:20px; font-family:Sans-serif; font-style: oblique; text-shadow: 0 0 3px white, 0 0 1px black;\">Simple Parameter Example\n",
    "</div>"
   ]
  },
  {
   "cell_type": "code",
   "execution_count": 4,
   "id": "bdc7397e-1d57-4e98-aa62-52940aeea064",
   "metadata": {},
   "outputs": [],
   "source": [
    "app = FastAPI()\n",
    "\n",
    "fake_items_db = [\n",
    "    {\"item_name\": \"Apple\", \"price\": 10, \"category\": \"fruits\"},\n",
    "    {\"item_name\": \"Banana\", \"price\": 5, \"category\": \"fruits\"},\n",
    "    {\"item_name\": \"Carrot\", \"price\": 3, \"category\": \"vegetables\"},\n",
    "    {\"item_name\": \"Broccoli\", \"price\": 4, \"category\": \"vegetables\"},\n",
    "]\n",
    "\n",
    "\n",
    "@app.get(\"/furits/data/\")\n",
    "async def read_item():\n",
    "    return fake_items_db\n",
    "\n",
    "\n",
    "if __name__ == \"__main__\":\n",
    "    nest_asyncio.apply()\n",
    "    uvicorn.run(app)"
   ]
  },
  {
   "cell_type": "code",
   "execution_count": 24,
   "id": "4600c3f4-3656-4027-a567-a6f250de6ec5",
   "metadata": {},
   "outputs": [
    {
     "data": {
      "text/plain": [
       "[{'item_name': 'Apple', 'price': 10, 'category': 'fruits'},\n",
       " {'item_name': 'Banana', 'price': 5, 'category': 'fruits'},\n",
       " {'item_name': 'Carrot', 'price': 3, 'category': 'vegetables'},\n",
       " {'item_name': 'Broccoli', 'price': 4, 'category': 'vegetables'}]"
      ]
     },
     "execution_count": 24,
     "metadata": {},
     "output_type": "execute_result"
    }
   ],
   "source": [
    "req = requests.get('http://127.0.0.1:4444/furits/data/')\n",
    "response = req.content.decode('utf-8')\n",
    "\n",
    "json.loads(response)"
   ]
  },
  {
   "cell_type": "markdown",
   "id": "e986aa07-36fc-4e69-9409-cd8ff11cbd7e",
   "metadata": {},
   "source": [
    "<div style=\"text-align:justify; color:black; font-size:20px; font-family:Sans-serif; font-style: oblique; text-shadow: 0 0 3px white, 0 0 1px black;\">yaha just /furits/data/ pr hit karny pr fake_items_db ko return kia gia hn\n",
    "</div>"
   ]
  },
  {
   "cell_type": "markdown",
   "id": "0c10d5c7-bf19-4d5d-ae83-afbd94117cf6",
   "metadata": {},
   "source": [
    "<div style=\"text-align:justify; color:black; font-size:20px; font-family:Sans-serif; font-style: oblique; text-shadow: 0 0 3px white, 0 0 1px black;\">Query Parameter Example\n",
    "</div>"
   ]
  },
  {
   "cell_type": "code",
   "execution_count": 25,
   "id": "a9d7a173-159f-40ff-8f76-924be6ea296b",
   "metadata": {},
   "outputs": [],
   "source": [
    "app = FastAPI()\n",
    "\n",
    "fake_items_db = [\n",
    "    {\"item_name\": \"Apple\", \"price\": 10, \"category\": \"fruits\"},\n",
    "    {\"item_name\": \"Banana\", \"price\": 5, \"category\": \"fruits\"},\n",
    "    {\"item_name\": \"Carrot\", \"price\": 3, \"category\": \"vegetables\"},\n",
    "    {\"item_name\": \"Broccoli\", \"price\": 4, \"category\": \"vegetables\"},\n",
    "]\n",
    "\n",
    "\n",
    "@app.get(\"/furits/data/\")\n",
    "async def read_item(filter_: str = None,by : str = None):\n",
    "\n",
    "    items = fake_items_db.copy()\n",
    "    \n",
    "    if filter_:\n",
    "        items = [i for i in items if i.get(filter_) == by]\n",
    "    \n",
    "    return items\n",
    "\n",
    "\n",
    "if __name__ == \"__main__\":\n",
    "    nest_asyncio.apply()\n",
    "    uvicorn.run(app,port=4444)"
   ]
  },
  {
   "cell_type": "code",
   "execution_count": 28,
   "id": "90d60d61-54f1-43c9-8320-4c9bbb486e14",
   "metadata": {},
   "outputs": [
    {
     "data": {
      "text/plain": [
       "[{'item_name': 'Apple', 'price': 10, 'category': 'fruits'},\n",
       " {'item_name': 'Banana', 'price': 5, 'category': 'fruits'}]"
      ]
     },
     "execution_count": 28,
     "metadata": {},
     "output_type": "execute_result"
    }
   ],
   "source": [
    "req = requests.get('http://127.0.0.1:4444/furits/data/?filter_=category&by=fruits')\n",
    "response = req.content.decode('utf-8')\n",
    "\n",
    "json.loads(response)"
   ]
  },
  {
   "cell_type": "code",
   "execution_count": 35,
   "id": "de054fe9-ac90-4489-97eb-bc5dece37fad",
   "metadata": {},
   "outputs": [
    {
     "data": {
      "text/plain": [
       "[{'item_name': 'Carrot', 'price': 3, 'category': 'vegetables'},\n",
       " {'item_name': 'Broccoli', 'price': 4, 'category': 'vegetables'}]"
      ]
     },
     "execution_count": 35,
     "metadata": {},
     "output_type": "execute_result"
    }
   ],
   "source": [
    "req = requests.get('http://127.0.0.1:4444/furits/data/?filter_=category&by=vegetables')\n",
    "response = req.content.decode('utf-8')\n",
    "\n",
    "json.loads(response)"
   ]
  },
  {
   "cell_type": "markdown",
   "id": "e1a3ef08-8d9d-4b38-8adc-b7782789b0dd",
   "metadata": {},
   "source": [
    "<hr>\n",
    "<h1 style=\"text-align:center; color:green; font-size:30px; font-family:Sans-serif; font-style: oblique; text-shadow: 0 0 3px white, 0 0 1px Black;\">Summary Query Parameters</h1><hr>"
   ]
  },
  {
   "cell_type": "markdown",
   "id": "403c028a-91bb-4a0e-b3fd-6232a9ba3048",
   "metadata": {},
   "source": [
    "<!DOCTYPE html>\n",
    "<html lang=\"en\">\n",
    "<head>\n",
    "    <meta charset=\"UTF-8\">\n",
    "    <meta name=\"viewport\" content=\"width=device-width, initial-scale=1.0\">\n",
    "</head>\n",
    "<body style=\"font-family: Sans-serif;\">\n",
    "    <div style=\"color: green; font-size: 18px; font-style: oblique; text-shadow: 0 0 3px white, 0 0 1px black; border: 8px double black; padding: 20px;\">\n",
    "        <ul>\n",
    "            <h3><li><code>app = FastAPI()</code></li></h3>\n",
    "            <h4 style=\"color: red;\">Explanation: FastAPI framework ko call kar ke ek application instance <code>app</code> variable mein store kiya gaya hai.</h4>\n",
    "        </ul>\n",
    "        <hr style=\"margin: 20px 0;\">\n",
    "        <ul>\n",
    "            <h3><li><code>@app.get(\"/furits/data/\")</code></li></h3>\n",
    "            <h4 style=\"color: red;\">Explanation: Yeh ek decorator hai jo define karta hai ke jab GET request <code>\"/furits/data/\"</code> path par aayegi to kaunsa function call hoga.</h4>\n",
    "        </ul>\n",
    "        <hr style=\"margin: 20px 0;\">\n",
    "        <ul>\n",
    "            <h3><li><code>async def read_item(filter_: str = None, by : str = None):</code></li></h3>\n",
    "            <h4 style=\"color: red;\">Explanation: Yeh ek asynchronous function hai jo <code>\"/furits/data/\"</code> path par GET request aane par call hota hai aur ek filtered JSON response return karta hai, jisme fruits ya vegetables ke data hote hain.</h4>\n",
    "        </ul>\n",
    "        <hr style=\"margin: 20px 0;\">\n",
    "        <ul>\n",
    "            <h3><li><code>/furits/data/?filter_=category&by=fruits</code></li></h3>\n",
    "            <h4 style=\"color: red;\">Explanation: Yahaan, \"/furits/data/\" ke baad `?` ke saath query parameters define kiye gaye hain. `filter_` parameter ko \"category\" aur `by` parameter ko \"fruits\" ke saath define kiya gaya hai. Query parameters ko alag karne ke liye `&` ka istemal kiya gaya hai.</h4>\n",
    "        </ul>\n",
    "    </div>\n",
    "</body>\n",
    "</html>\n"
   ]
  }
 ],
 "metadata": {
  "kernelspec": {
   "display_name": "Python 3 (ipykernel)",
   "language": "python",
   "name": "python3"
  },
  "language_info": {
   "codemirror_mode": {
    "name": "ipython",
    "version": 3
   },
   "file_extension": ".py",
   "mimetype": "text/x-python",
   "name": "python",
   "nbconvert_exporter": "python",
   "pygments_lexer": "ipython3",
   "version": "3.12.1"
  }
 },
 "nbformat": 4,
 "nbformat_minor": 5
}
