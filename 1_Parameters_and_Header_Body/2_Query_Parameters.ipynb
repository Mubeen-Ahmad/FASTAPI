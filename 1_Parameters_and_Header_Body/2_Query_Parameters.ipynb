{
 "cells": [
  {
   "cell_type": "markdown",
   "id": "3cc81f17-26cf-4895-bd8c-0a0d8fd929e6",
   "metadata": {},
   "source": [
    "<h1 style=\"text-align:center; color:#005bbd; font-size:30px; font-family:Sans-serif; font-style: oblique; text-shadow: 0 0 3px white, 0 0 1px Black;\">Query Parameters</h1>"
   ]
  },
  {
   "cell_type": "markdown",
   "id": "a478a56b-4fe8-473c-bc92-0807d9043f44",
   "metadata": {},
   "source": [
    "<div style=\"text-align:justify; color:black; font-size:20px; font-family:Sans-serif; font-style: oblique; text-shadow: 0 0 3px white, 0 0 1px black;\"><p>query parameters woh parameters hote hain jo URL mein <code>?</code> ke baad key-value pairs ki form mein hote hain,<br>aur <code>&</code> characters se separate hote hain. <br><br>Yeh parameters URL ke query string mein hote hain aur function parameters ki tarah declare kiye jate hain. <br>Query parameters ko URL ke zariye API endpoints mein pass kiya jata hai aur yeh values function ke arguments mein map ho jati hain.</p>\n",
    "</div>"
   ]
  },
  {
   "cell_type": "code",
   "execution_count": 1,
   "id": "ca5cbabc-2b9d-4910-9c18-4956afe6075f",
   "metadata": {},
   "outputs": [],
   "source": [
    "from fastapi import FastAPI\n",
    "import requests\n",
    "import uvicorn\n",
    "import nest_asyncio\n",
    "import json"
   ]
  },
  {
   "cell_type": "markdown",
   "id": "ca9027c2-612a-4185-9177-6b52072fd2df",
   "metadata": {},
   "source": [
    "<div style=\"text-align:justify; color:black; font-size:20px; font-family:Sans-serif; font-style: oblique; text-shadow: 0 0 3px white, 0 0 1px black;\">Simple Parameter Example\n",
    "</div>"
   ]
  },
  {
   "cell_type": "code",
   "execution_count": 4,
   "id": "bdc7397e-1d57-4e98-aa62-52940aeea064",
   "metadata": {},
   "outputs": [],
   "source": [
    "app = FastAPI()\n",
    "\n",
    "fake_items_db = [\n",
    "    {\"item_name\": \"Apple\", \"price\": 10, \"category\": \"fruits\"},\n",
    "    {\"item_name\": \"Banana\", \"price\": 5, \"category\": \"fruits\"},\n",
    "    {\"item_name\": \"Carrot\", \"price\": 3, \"category\": \"vegetables\"},\n",
    "    {\"item_name\": \"Broccoli\", \"price\": 4, \"category\": \"vegetables\"},\n",
    "]\n",
    "\n",
    "\n",
    "@app.get(\"/furits/data/\")\n",
    "async def read_item():\n",
    "    return fake_items_db\n",
    "\n",
    "\n",
    "if __name__ == \"__main__\":\n",
    "    nest_asyncio.apply()\n",
    "    uvicorn.run(app,port=4444)"
   ]
  },
  {
   "cell_type": "code",
   "execution_count": 24,
   "id": "4600c3f4-3656-4027-a567-a6f250de6ec5",
   "metadata": {},
   "outputs": [
    {
     "data": {
      "text/plain": [
       "[{'item_name': 'Apple', 'price': 10, 'category': 'fruits'},\n",
       " {'item_name': 'Banana', 'price': 5, 'category': 'fruits'},\n",
       " {'item_name': 'Carrot', 'price': 3, 'category': 'vegetables'},\n",
       " {'item_name': 'Broccoli', 'price': 4, 'category': 'vegetables'}]"
      ]
     },
     "execution_count": 24,
     "metadata": {},
     "output_type": "execute_result"
    }
   ],
   "source": [
    "req = requests.get('http://127.0.0.1:4444/furits/data/')\n",
    "response = req.content.decode('utf-8')\n",
    "\n",
    "json.loads(response)"
   ]
  },
  {
   "cell_type": "markdown",
   "id": "e986aa07-36fc-4e69-9409-cd8ff11cbd7e",
   "metadata": {},
   "source": [
    "<div style=\"text-align:justify; color:black; font-size:20px; font-family:Sans-serif; font-style: oblique; text-shadow: 0 0 3px white, 0 0 1px black;\">yaha just /furits/data/ pr hit karny pr fake_items_db ko return kia gia hn\n",
    "</div>"
   ]
  },
  {
   "cell_type": "markdown",
   "id": "0c10d5c7-bf19-4d5d-ae83-afbd94117cf6",
   "metadata": {},
   "source": [
    "<div style=\"text-align:justify; color:black; font-size:20px; font-family:Sans-serif; font-style: oblique; text-shadow: 0 0 3px white, 0 0 1px black;\">Query Parameter Example\n",
    "</div>"
   ]
  },
  {
   "cell_type": "code",
   "execution_count": 25,
   "id": "a9d7a173-159f-40ff-8f76-924be6ea296b",
   "metadata": {},
   "outputs": [],
   "source": [
    "app = FastAPI()\n",
    "\n",
    "fake_items_db = [\n",
    "    {\"item_name\": \"Apple\", \"price\": 10, \"category\": \"fruits\"},\n",
    "    {\"item_name\": \"Banana\", \"price\": 5, \"category\": \"fruits\"},\n",
    "    {\"item_name\": \"Carrot\", \"price\": 3, \"category\": \"vegetables\"},\n",
    "    {\"item_name\": \"Broccoli\", \"price\": 4, \"category\": \"vegetables\"},\n",
    "]\n",
    "\n",
    "\n",
    "@app.get(\"/furits/data/\")\n",
    "async def read_item(filter_: str = None,by : str = None):\n",
    "\n",
    "    items = fake_items_db.copy()\n",
    "    \n",
    "    if filter_:\n",
    "        items = [i for i in items if i.get(filter_) == by]\n",
    "    \n",
    "    return items\n",
    "\n",
    "\n",
    "if __name__ == \"__main__\":\n",
    "    nest_asyncio.apply()\n",
    "    uvicorn.run(app,port=4444)"
   ]
  },
  {
   "cell_type": "code",
   "execution_count": 28,
   "id": "90d60d61-54f1-43c9-8320-4c9bbb486e14",
   "metadata": {},
   "outputs": [
    {
     "data": {
      "text/plain": [
       "[{'item_name': 'Apple', 'price': 10, 'category': 'fruits'},\n",
       " {'item_name': 'Banana', 'price': 5, 'category': 'fruits'}]"
      ]
     },
     "execution_count": 28,
     "metadata": {},
     "output_type": "execute_result"
    }
   ],
   "source": [
    "req = requests.get('http://127.0.0.1:4444/furits/data/?filter_=category&by=fruits')\n",
    "response = req.content.decode('utf-8')\n",
    "\n",
    "json.loads(response)"
   ]
  },
  {
   "cell_type": "code",
   "execution_count": 35,
   "id": "de054fe9-ac90-4489-97eb-bc5dece37fad",
   "metadata": {},
   "outputs": [
    {
     "data": {
      "text/plain": [
       "[{'item_name': 'Carrot', 'price': 3, 'category': 'vegetables'},\n",
       " {'item_name': 'Broccoli', 'price': 4, 'category': 'vegetables'}]"
      ]
     },
     "execution_count": 35,
     "metadata": {},
     "output_type": "execute_result"
    }
   ],
   "source": [
    "req = requests.get('http://127.0.0.1:4444/furits/data/?filter_=category&by=vegetables')\n",
    "response = req.content.decode('utf-8')\n",
    "\n",
    "json.loads(response)"
   ]
  },
  {
   "cell_type": "markdown",
   "id": "823fc5c9-c6cb-498e-b04e-9faf2e0ae0be",
   "metadata": {},
   "source": [
    "<hr>\n",
    "<h1 style=\"text-align:center; color:green; font-size:30px; font-family:Sans-serif; font-style: oblique; text-shadow: 0 0 3px white, 0 0 1px Black;\">Summary Query Parameters Example 1</h1><hr>"
   ]
  },
  {
   "cell_type": "markdown",
   "id": "d748bd18-a742-440b-8bb2-bfe7995eb794",
   "metadata": {},
   "source": [
    "<!DOCTYPE html>\n",
    "<html lang=\"en\">\n",
    "<head>\n",
    "    <meta charset=\"UTF-8\">\n",
    "    <meta name=\"viewport\" content=\"width=device-width, initial-scale=1.0\">\n",
    "</head>\n",
    "<body style=\"font-family: Sans-serif;\">\n",
    "    <div style=\"color: green; font-size: 18px; font-style: oblique; text-shadow: 0 0 3px white, 0 0 1px black; border: 8px double black; padding: 20px;\">\n",
    "        <ul>\n",
    "            <h3><li><code>app = FastAPI()</code></li></h3>\n",
    "            <h4 style=\"color: red;\">Explanation: FastAPI framework ko call kar ke ek application instance <code>app</code> variable mein store kiya gaya hai.</h4>\n",
    "        </ul>\n",
    "        <hr style=\"margin: 20px 0;\">\n",
    "        <ul>\n",
    "            <h3><li><code>@app.get(\"/furits/data/\")</code></li></h3>\n",
    "            <h4 style=\"color: red;\">Explanation: Yeh ek decorator hai jo define karta hai ke jab GET request <code>\"/furits/data/\"</code> path par aayegi to kaunsa function call hoga.</h4>\n",
    "        </ul>\n",
    "        <hr style=\"margin: 20px 0;\">\n",
    "        <ul>\n",
    "            <h3><li><code>async def read_item(filter_: str = None, by : str = None):</code></li></h3>\n",
    "            <h4 style=\"color: red;\">Explanation: Yeh ek asynchronous function hai jo <code>\"/furits/data/\"</code> path par GET request aane par call hota hai aur ek filtered JSON response return karta hai, jisme fruits ya vegetables ke data hote hain.</h4>\n",
    "        </ul>\n",
    "        <hr style=\"margin: 20px 0;\">\n",
    "        <ul>\n",
    "            <h3><li><code>/furits/data/?filter_=category&by=fruits</code></li></h3>\n",
    "            <h4 style=\"color: red;\">Explanation: Yahaan, \"/furits/data/\" ke baad `?` ke saath query parameters define kiye gaye hain. `filter_` parameter ko \"category\" aur `by` parameter ko \"fruits\" ke saath define kiya gaya hai. Query parameters ko alag karne ke liye `&` ka istemal kiya gaya hai.</h4>\n",
    "        </ul>\n",
    "    </div>\n",
    "</body>\n",
    "</html>\n"
   ]
  },
  {
   "cell_type": "markdown",
   "id": "a795e3e2-062a-4011-8c2c-d44024f08254",
   "metadata": {},
   "source": [
    "<div style=\"text-align:justify; color:black; font-size:20px; font-family:Sans-serif; font-style: oblique; text-shadow: 0 0 3px white, 0 0 1px black;\">Query Parameter Example 2\n",
    "</div>"
   ]
  },
  {
   "cell_type": "code",
   "execution_count": 21,
   "id": "3371ac10-57a7-4edb-bf47-d91358f4a323",
   "metadata": {},
   "outputs": [],
   "source": [
    "app = FastAPI()\n",
    "\n",
    "fake_items_db = [\n",
    "    {\"item_name\": \"Apple\", \"price\": 10, \"category\": \"fruits\"},\n",
    "    {\"item_name\": \"Banana\", \"price\": 5, \"category\": \"fruits\"},\n",
    "    {\"item_name\": \"Carrot\", \"price\": 3, \"category\": \"vegetables\"},\n",
    "    {\"item_name\": \"Broccoli\", \"price\": 4, \"category\": \"vegetables\"},\n",
    "]\n",
    "\n",
    "\n",
    "@app.get(\"/furits/data/\")\n",
    "async def read_item(skip: int = 0, limit: int = len(fake_items_db)):\n",
    "    return fake_items_db[skip : skip + limit]\n",
    "\n",
    "\n",
    "\n",
    "if __name__ == \"__main__\":\n",
    "    nest_asyncio.apply()\n",
    "    uvicorn.run(app,port=4444)"
   ]
  },
  {
   "cell_type": "code",
   "execution_count": 19,
   "id": "da8cccb6-b5f6-456c-ba5e-f8d651d3a3f1",
   "metadata": {},
   "outputs": [
    {
     "data": {
      "text/plain": [
       "[{'item_name': 'Apple', 'price': 10, 'category': 'fruits'},\n",
       " {'item_name': 'Banana', 'price': 5, 'category': 'fruits'},\n",
       " {'item_name': 'Carrot', 'price': 3, 'category': 'vegetables'},\n",
       " {'item_name': 'Broccoli', 'price': 4, 'category': 'vegetables'}]"
      ]
     },
     "execution_count": 19,
     "metadata": {},
     "output_type": "execute_result"
    }
   ],
   "source": [
    "req = requests.get('http://127.0.0.1:4444/furits/data/')\n",
    "response = req.content.decode('utf-8')\n",
    "\n",
    "json.loads(response)"
   ]
  },
  {
   "cell_type": "code",
   "execution_count": 20,
   "id": "c2d391bd-b451-4967-9961-c2ab112bdb1e",
   "metadata": {},
   "outputs": [
    {
     "data": {
      "text/plain": [
       "[{'item_name': 'Banana', 'price': 5, 'category': 'fruits'},\n",
       " {'item_name': 'Carrot', 'price': 3, 'category': 'vegetables'}]"
      ]
     },
     "execution_count": 20,
     "metadata": {},
     "output_type": "execute_result"
    }
   ],
   "source": [
    "req = requests.get('http://127.0.0.1:4444/furits/data/?skip=1&limit=2')\n",
    "response = req.content.decode('utf-8')\n",
    "\n",
    "json.loads(response)"
   ]
  },
  {
   "cell_type": "markdown",
   "id": "e1a3ef08-8d9d-4b38-8adc-b7782789b0dd",
   "metadata": {},
   "source": [
    "<hr>\n",
    "<h1 style=\"text-align:center; color:green; font-size:30px; font-family:Sans-serif; font-style: oblique; text-shadow: 0 0 3px white, 0 0 1px Black;\">Summary Query Parameters Example 2</h1><hr>"
   ]
  },
  {
   "cell_type": "markdown",
   "id": "36e33132-a558-4b61-8a65-acde847294c2",
   "metadata": {},
   "source": [
    "<!DOCTYPE html>\n",
    "<html lang=\"en\">\n",
    "<head>\n",
    "    <meta charset=\"UTF-8\">\n",
    "    <meta name=\"viewport\" content=\"width=device-width, initial-scale=1.0\">\n",
    "</head>\n",
    "<body style=\"font-family: Sans-serif;\">\n",
    "    <div style=\"color: green; font-size: 18px; font-style: oblique; text-shadow: 0 0 3px white, 0 0 1px black; border: 8px double black; padding: 20px;\">\n",
    "        <ul>\n",
    "            <h3><li><code>app = FastAPI()</code></li></h3>\n",
    "            <h4 style=\"color: red;\">Explanation: FastAPI framework ko call kar ke ek application instance <code>app</code> variable mein store kiya gaya hai.</h4>\n",
    "        </ul>\n",
    "        <hr style=\"margin: 20px 0;\">\n",
    "        <ul>\n",
    "            <h3><li><code>@app.get(\"/furits/data/\")</code></li></h3>\n",
    "            <h4 style=\"color: red;\">Explanation: Yeh ek decorator hai jo define karta hai ke jab GET request <code>\"/furits/data/\"</code> path par aayegi to kaunsa function call hoga.</h4>\n",
    "        </ul>\n",
    "        <hr style=\"margin: 20px 0;\">\n",
    "        <ul>\n",
    "            <h3><li><code>async def read_item(skip: int = 0, limit: int = len(fake_items_db)):</code></li></h3>\n",
    "            <h4 style=\"color: red;\">Explanation: Yeh ek asynchronous function hai jo <code>\"/furits/data/\"</code> path par GET request aane par call hota hai. Is function mein do query parameters hain: <code>skip</code> aur <code>limit</code>.</h4>\n",
    "        </ul>\n",
    "        <hr style=\"margin: 20px 0;\">\n",
    "        <ul>\n",
    "            <h3><li><code>skip ki default value 0 hai</code></li></h3>\n",
    "            <h4 style=\"color: red;\">Explanation: <code>skip</code> parameter ki default value 0 hai. Yeh specify karta hai ke list ke kitne items ko skip karna hai.</h4>\n",
    "        </ul>\n",
    "        <hr style=\"margin: 20px 0;\">\n",
    "        <ul>\n",
    "            <h3><li><code>limit ki default value list ki length hai</code></li></h3>\n",
    "            <h4 style=\"color: red;\">Explanation: <code>limit</code> parameter ki default value list ki total length ke barabar hai. Yeh specify karta hai ke list mein kitne items return karne hain.</h4>\n",
    "        </ul>\n",
    "        <hr style=\"margin: 20px 0;\">\n",
    "        <ul>\n",
    "            <h3><li><code>return fake_items_db[skip : skip + limit]</code></li></h3>\n",
    "            <h4 style=\"color: red;\">Explanation: Agar <code>skip</code> aur <code>limit</code> parameters provide kiye gaye hain, to function uske mutabiq list ke items return karta hai. Agar parameters provide nahi kiye gaye to puri list return hoti hai.</h4>\n",
    "        </ul>\n",
    "    </div>\n",
    "</body>\n",
    "</html>"
   ]
  },
  {
   "cell_type": "markdown",
   "id": "403c028a-91bb-4a0e-b3fd-6232a9ba3048",
   "metadata": {},
   "source": [
    "\n",
    "<h1 style=\"text-align:center; color:#005bbd; font-size:30px; font-family:Sans-serif; font-style: oblique; text-shadow: 0 0 3px white, 0 0 1px Black;\">Query Optional Parameters and Type Hinting</h1>"
   ]
  },
  {
   "cell_type": "code",
   "execution_count": 43,
   "id": "f0820b24-5272-4045-9071-3d5a2ec8d78b",
   "metadata": {},
   "outputs": [],
   "source": [
    "app = FastAPI()\n",
    "\n",
    "@app.get(\"/items/{item_id}\")\n",
    "async def read_item(item_id: str, q: str | None = None):\n",
    "        return {\"item_id\": item_id, \"q\": q}\n",
    "   \n",
    "\n",
    "if __name__ == \"__main__\":\n",
    "    nest_asyncio.apply()\n",
    "    uvicorn.run(app,port=4444)"
   ]
  },
  {
   "cell_type": "code",
   "execution_count": 40,
   "id": "36e5db95-15bc-4a97-a37e-f12ec41ebb72",
   "metadata": {},
   "outputs": [
    {
     "data": {
      "text/plain": [
       "{'item_id': 'hello', 'q': None}"
      ]
     },
     "execution_count": 40,
     "metadata": {},
     "output_type": "execute_result"
    }
   ],
   "source": [
    "req = requests.get('http://127.0.0.1:4444/items/hello')\n",
    "response = req.content.decode('utf-8')\n",
    "\n",
    "json.loads(response)"
   ]
  },
  {
   "cell_type": "code",
   "execution_count": 42,
   "id": "d6826a8c-2792-4cf5-8ff6-d941cc5bddb3",
   "metadata": {},
   "outputs": [
    {
     "data": {
      "text/plain": [
       "{'item_id': 'hello', 'q': 'world'}"
      ]
     },
     "execution_count": 42,
     "metadata": {},
     "output_type": "execute_result"
    }
   ],
   "source": [
    "req = requests.get('http://127.0.0.1:4444/items/hello?q=world')\n",
    "response = req.content.decode('utf-8')\n",
    "\n",
    "json.loads(response)"
   ]
  },
  {
   "cell_type": "markdown",
   "id": "20f30382-161b-4bb7-94dd-088ddfc1d40f",
   "metadata": {},
   "source": [
    "<hr>\n",
    "<h1 style=\"text-align:center; color:green; font-size:30px; font-family:Sans-serif; font-style: oblique; text-shadow: 0 0 3px white, 0 0 1px Black;\">Summary Optional Parameters and Type Hinting</h1><hr>"
   ]
  },
  {
   "cell_type": "markdown",
   "id": "91b96044-d729-40b3-9b6c-323e31510a35",
   "metadata": {},
   "source": [
    "<!DOCTYPE html>\n",
    "<html lang=\"en\">\n",
    "<head>\n",
    "    <meta charset=\"UTF-8\">\n",
    "    <meta name=\"viewport\" content=\"width=device-width, initial-scale=1.0\">\n",
    "</head>\n",
    "<body style=\"font-family: Sans-serif;\">\n",
    "    <div style=\"color: green; font-size: 18px; font-style: oblique; text-shadow: 0 0 3px white, 0 0 1px black; border: 8px double black; padding: 20px;\">\n",
    "        <ul>\n",
    "            <h3><li><code>@app.get(\"/items/{item_id}\")</code></li></h3>\n",
    "            <h4 style=\"color: red;\">Explanation: Yeh decorator define karta hai ke jab GET request <code>\"/items/{item_id}\"</code> path par aayegi to kaunsa function call hoga. Yahaan <code>{item_id}</code> ek path parameter hai jo URL mein specify kiya jata hai.</h4>\n",
    "        </ul>\n",
    "        <hr style=\"margin: 20px 0;\">\n",
    "        <ul>\n",
    "            <h3><li><code>async def read_item(item_id: str, q: str | None = None):</code></li></h3>\n",
    "            <h4 style=\"color: red;\">Explanation: Yeh ek asynchronous function hai jo <code>\"/items/{item_id}\"</code> path par GET request aane par call hota hai. Is function mein do parameters hain: <code>item_id</code> aur <code>q</code>.</h4>\n",
    "        </ul>\n",
    "        <hr style=\"margin: 20px 0;\">\n",
    "        <ul>\n",
    "            <h3><li><code>item_id: str</code></li></h3>\n",
    "            <h4 style=\"color: red;\">Explanation: <code>item_id</code> parameter required hai aur iska data type string (<code>str</code>) hai. Yeh parameter URL mein diya jata hai.</h4>\n",
    "        </ul>\n",
    "        <hr style=\"margin: 20px 0;\">\n",
    "        <ul>\n",
    "            <h3><li><code>q: str | None = None</code></li></h3>\n",
    "            <h4 style=\"color: red;\">Explanation: <code>q</code> ek optional query parameter hai jiska data type string (<code>str</code>) hai ya phir None ho sakta hai. Iska default value None set kiya gaya hai. Agar user <code>q</code> parameter pass nahi karta to iski value None ho jaayegi.</h4>\n",
    "        </ul>\n",
    "        <hr style=\"margin: 20px 0;\">\n",
    "        <ul>\n",
    "            <h3><li><code>return {\"item_id\": item_id, \"q\": q}</code></li></h3>\n",
    "            <h4 style=\"color: red;\">Explanation: Yeh function ek dictionary return karta hai jisme <code>item_id</code> aur <code>q</code> keys hoti hain. Agar <code>q</code> parameter pass kiya gaya ho to uski value return hogi, warna <code>q</code> ki value None hogi.</h4>\n",
    "        </ul>\n",
    "    </div>\n",
    "</body>\n",
    "</html>"
   ]
  },
  {
   "cell_type": "markdown",
   "id": "93954701-ff62-460c-b868-df5622195a3a",
   "metadata": {},
   "source": [
    "\n",
    "<h1 style=\"text-align:center; color:#005bbd; font-size:30px; font-family:Sans-serif; font-style: oblique; text-shadow: 0 0 3px white, 0 0 1px Black;\">Query parameter type conversion\n",
    "</h1>"
   ]
  },
  {
   "cell_type": "code",
   "execution_count": null,
   "id": "a192b3bf-ee5c-411f-b773-61143392c96a",
   "metadata": {},
   "outputs": [],
   "source": [
    "app = FastAPI()\n",
    "\n",
    "@app.get(\"/items/{item_id}\")\n",
    "async def read_item(item_id: str, q: str | None = None, short: bool = False):\n",
    "    return {'item_id':item_id,'q':q,'short':short}\n",
    "\n",
    "if __name__ == \"__main__\":\n",
    "    nest_asyncio.apply()\n",
    "    uvicorn.run(app,port=4444)"
   ]
  },
  {
   "cell_type": "code",
   "execution_count": 68,
   "id": "8a788f17-e742-4be8-a61f-a243dc47f537",
   "metadata": {},
   "outputs": [
    {
     "data": {
      "text/plain": [
       "{'item_id': 'value_of_item', 'q': None, 'short': True}"
      ]
     },
     "execution_count": 68,
     "metadata": {},
     "output_type": "execute_result"
    }
   ],
   "source": [
    "req = requests.get('http://127.0.0.1:4444/items/value_of_item?short=True')\n",
    "response = req.content.decode('utf-8')\n",
    "\n",
    "json.loads(response)"
   ]
  },
  {
   "cell_type": "code",
   "execution_count": 69,
   "id": "df6cf903-0286-42c2-8348-49a967d82d60",
   "metadata": {},
   "outputs": [
    {
     "data": {
      "text/plain": [
       "{'item_id': 'value_of_item', 'q': 'value_of_q', 'short': False}"
      ]
     },
     "execution_count": 69,
     "metadata": {},
     "output_type": "execute_result"
    }
   ],
   "source": [
    "req = requests.get('http://127.0.0.1:4444/items/value_of_item?q=value_of_q&short=False')\n",
    "response = req.content.decode('utf-8')\n",
    "\n",
    "json.loads(response)"
   ]
  },
  {
   "cell_type": "code",
   "execution_count": 70,
   "id": "decdf046-56f8-4840-b586-a41db4cafcc9",
   "metadata": {},
   "outputs": [
    {
     "data": {
      "text/plain": [
       "{'detail': [{'type': 'bool_parsing',\n",
       "   'loc': ['query', 'short'],\n",
       "   'msg': 'Input should be a valid boolean, unable to interpret input',\n",
       "   'input': '123',\n",
       "   'url': 'https://errors.pydantic.dev/2.5/v/bool_parsing'}]}"
      ]
     },
     "execution_count": 70,
     "metadata": {},
     "output_type": "execute_result"
    }
   ],
   "source": [
    "req = requests.get('http://127.0.0.1:4444/items/value_of_item?q=value_of_q&short=123')\n",
    "response = req.content.decode('utf-8')\n",
    "\n",
    "json.loads(response)"
   ]
  },
  {
   "cell_type": "markdown",
   "id": "6a5bd293-7fa2-44d8-8bd2-12b535399886",
   "metadata": {},
   "source": [
    "<hr>\n",
    "<h1 style=\"text-align:center; color:green; font-size:30px; font-family:Sans-serif; font-style: oblique; text-shadow: 0 0 3px white, 0 0 1px Black;\">Summary Query parameter type conversion </h1><hr>"
   ]
  },
  {
   "cell_type": "markdown",
   "id": "dfc01634-d072-4a0f-b87c-45f88b4d604b",
   "metadata": {},
   "source": [
    "<!DOCTYPE html>\n",
    "<html lang=\"en\">\n",
    "<head>\n",
    "    <meta charset=\"UTF-8\">\n",
    "    <meta name=\"viewport\" content=\"width=device-width, initial-scale=1.0\">\n",
    "</head>\n",
    "<body style=\"font-family: Sans-serif;\">\n",
    "    <div style=\"color: green; font-size: 18px; font-style: oblique; text-shadow: 0 0 3px white, 0 0 1px black; border: 8px double black; padding: 20px;\">\n",
    "        <ul>\n",
    "            <h3><li><code>@app.get(\"/items/{item_id}\")</code></li></h3>\n",
    "            <h4 style=\"color: red;\">Explanation: Yeh decorator define karta hai ke jab GET request <code>\"/items/{item_id}\"</code> path par aayegi to kaunsa function call hoga. Yahaan <code>{item_id}</code> ek path parameter hai jo URL mein specify kiya jata hai.</h4>\n",
    "        </ul>\n",
    "        <hr style=\"margin: 20px 0;\">\n",
    "        <ul>\n",
    "            <h3><li><code>async def read_item(item_id: str, q: str | None = None, short: bool = False):</code></li></h3>\n",
    "            <h4 style=\"color: red;\">Explanation: Yeh ek asynchronous function hai jo <code>\"/items/{item_id}\"</code> path par GET request aane par call hota hai. Is function mein teen parameters hain: <code>item_id</code>, <code>q</code>, aur <code>short</code>.</h4>\n",
    "        </ul>\n",
    "        <hr style=\"margin: 20px 0;\">\n",
    "        <ul>\n",
    "            <h3><li><code>item_id: str</code></li></h3>\n",
    "            <h4 style=\"color: red;\">Explanation: <code>item_id</code> ek required path parameter hai aur uska data type string (<code>str</code>) hai. Yeh parameter URL mein diya jata hai.</h4>\n",
    "        </ul>\n",
    "        <hr style=\"margin: 20px 0;\">\n",
    "        <ul>\n",
    "            <h3><li><code>q: str | None = None</code></li></h3>\n",
    "            <h4 style=\"color: red;\">Explanation: <code>q</code> ek optional query parameter hai jiska data type string (<code>str</code>) ya None ho sakta hai. Iska default value None set kiya gaya hai. Agar user <code>q</code> parameter pass nahi karta to iski value None hogi.</h4>\n",
    "        </ul>\n",
    "        <hr style=\"margin: 20px 0;\">\n",
    "        <ul>\n",
    "            <h3><li><code>short: bool = False</code></li></h3>\n",
    "            <h4 style=\"color: red;\">Explanation: <code>short</code> ek optional query parameter hai jiska data type boolean (<code>bool</code>) hai. Iska default value False set kiya gaya hai. Agar user <code>short</code> parameter pass nahi karta to iski value False hogi. Agar user <code>short</code> parameter ko pass karta hai to sirf boolean value hi sahi hogi, koi aur data type agar pass kiya jaye to error aayega.</h4>\n",
    "        </ul>\n",
    "    </div>\n",
    "</body>\n",
    "</html>"
   ]
  }
 ],
 "metadata": {
  "kernelspec": {
   "display_name": "Python 3 (ipykernel)",
   "language": "python",
   "name": "python3"
  },
  "language_info": {
   "codemirror_mode": {
    "name": "ipython",
    "version": 3
   },
   "file_extension": ".py",
   "mimetype": "text/x-python",
   "name": "python",
   "nbconvert_exporter": "python",
   "pygments_lexer": "ipython3",
   "version": "3.10.12"
  }
 },
 "nbformat": 4,
 "nbformat_minor": 5
}
