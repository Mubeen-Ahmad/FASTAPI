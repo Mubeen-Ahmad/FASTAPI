{
 "cells": [
  {
   "cell_type": "markdown",
   "id": "a1951dc5-b878-4c9e-93e9-8cf0691564ae",
   "metadata": {},
   "source": [
    "<h1 style=\"text-align:center; color:#005bbd; font-size:30px; font-family:Sans-serif; font-style: oblique; text-shadow: 0 0 3px white, 0 0 1px Black;\">Query and String Validations</h1>"
   ]
  },
  {
   "cell_type": "markdown",
   "id": "87b9379f-0ae3-4652-abae-203d66e7d50c",
   "metadata": {},
   "source": [
    "<div style=\"text-align:justify; color:black; font-size:20px; font-family:Sans-serif; font-style: oblique; text-shadow: 0 0 3px white, 0 0 1px black;\"><p>FastAPI aapko query parameters aur unki validation ke liye additional information declare karne ki facility deta hai<br><br>Query,Path FastAPI mein advanced type hinting aur parameter validation ke liye use hote hain<br>Annotated ka use code ki readability ky lye use kia jata hy</p>\n",
    "</div>\n",
    "\n",
    "\n"
   ]
  },
  {
   "cell_type": "code",
   "execution_count": 1,
   "id": "46527daa-957f-4cf5-9140-5351d4a39e55",
   "metadata": {
    "tags": []
   },
   "outputs": [],
   "source": [
    "import json\n",
    "from typing import Annotated\n",
    "\n",
    "import nest_asyncio\n",
    "import requests\n",
    "import uvicorn\n",
    "from fastapi import FastAPI, Query,Path"
   ]
  },
  {
   "cell_type": "code",
   "execution_count": 1,
   "id": "bc9cede3-01c4-483f-9ea5-83733c5e84f6",
   "metadata": {},
   "outputs": [],
   "source": [
    "app = FastAPI()\n",
    "\n",
    "\n",
    "@app.get(\"/items/\")\n",
    "async def read_items(query_param: Annotated[str | None, Query(max_length=3)]):\n",
    "    return {\"query_param\": query_param} \n",
    "\n",
    "\n",
    "if __name__ == \"__main__\":\n",
    "    nest_asyncio.apply()\n",
    "    uvicorn.run(app, port=4444)"
   ]
  },
  {
   "cell_type": "code",
   "execution_count": 58,
   "id": "ab55a358-2a78-4397-a700-ed970e07440b",
   "metadata": {},
   "outputs": [
    {
     "data": {
      "text/plain": [
       "'{\"query_param\":\"123\"}'"
      ]
     },
     "execution_count": 58,
     "metadata": {},
     "output_type": "execute_result"
    }
   ],
   "source": [
    "req = requests.get(\"http://127.0.0.1:4444/items/?query_param=123\")\n",
    "req.content.decode(\"utf-8\")"
   ]
  },
  {
   "cell_type": "code",
   "execution_count": 59,
   "id": "ef96e8c2-4250-43cb-8f6a-3e90c1c09222",
   "metadata": {},
   "outputs": [
    {
     "data": {
      "text/plain": [
       "'{\"detail\":[{\"type\":\"string_too_long\",\"loc\":[\"query\",\"query_param\"],\"msg\":\"String should have at most 3 characters\",\"input\":\"1234\",\"ctx\":{\"max_length\":3},\"url\":\"https://errors.pydantic.dev/2.5/v/string_too_long\"}]}'"
      ]
     },
     "execution_count": 59,
     "metadata": {},
     "output_type": "execute_result"
    }
   ],
   "source": [
    "req = requests.get(\"http://127.0.0.1:4444/items/?query_param=1234\")\n",
    "req.content.decode(\"utf-8\")"
   ]
  },
  {
   "cell_type": "markdown",
   "id": "d6c4e5c8-52b0-4d85-a408-3730c07b5966",
   "metadata": {},
   "source": [
    "<!DOCTYPE html>\n",
    "<html lang=\"en\">\n",
    "<head>\n",
    "    <meta charset=\"UTF-8\">\n",
    "    <meta name=\"viewport\" content=\"width=device-width, initial-scale=1.0\">\n",
    "</head>\n",
    "<body style=\"font-family: Sans-serif;\">\n",
    "    <div style=\"color: green; font-size: 18px; font-style: oblique; text-shadow: 0 0 3px white, 0 0 1px black; border: 8px double black; padding: 20px;\">\n",
    "        <ul>\n",
    "            <h3><li><code>@app.get(\"/items/\")</code></li></h3>\n",
    "            <h4 style=\"color: red;\">Explanation: Yeh ek decorator hai jo define karta hai ke jab GET request <code>\"/items/\"</code> path par aayegi to kaunsa function call hoga.</h4>\n",
    "        </ul>\n",
    "        <hr style=\"margin: 20px 0;\">\n",
    "        <ul>\n",
    "            <h3><li><code>async def read_items(query_param: Annotated[str | None, Query(max_length=3)]):</code></li></h3>\n",
    "            <h4 style=\"color: red;\">Explanation: Yeh ek asynchronous function hai jo <code>\"/items/\"</code> path par GET request aane par call hota hai. Is function mein ek query parameter <code>query_param</code> define kiya gaya hai jo optional hai aur string type ka hai jiska maximum length 3 characters hai.</h4>\n",
    "        </ul>\n",
    "    <hr style=\"margin: 20px 0;\">\n",
    "        <ul>\n",
    "            <h3><li><code>return {\"query_param\": query_param}</code></li></h3>\n",
    "            <h4 style=\"color: red;\">Explanation: Yeh function query parameter ka value return karta hai ek JSON response ke roop mein.</h4>\n",
    "        </ul>\n",
    "        <hr style=\"margin: 20px 0;\">\n",
    "        <ul>\n",
    "            <h3><li><code>req = requests.get('http://127.0.0.1:4444/items/?query_param=123')</code></li></h3>\n",
    "            <h4 style=\"color: red;\">Explanation: Yeh HTTP GET request karta hai <code>http://127.0.0.1:4444/items/</code> endpoint par query parameter <code>query_param</code> ke value \"123\" ke saath. Response ko retrieve kar ke decode kiya jata hai UTF-8 encoding ke saath.</h4>\n",
    "        </ul>\n",
    "        <hr style=\"margin: 20px 0;\">\n",
    "        <ul>\n",
    "            <h3><li><code>req = requests.get('http://127.0.0.1:4444/items/?query_param=1234')</code></li></h3>\n",
    "            <h4 style=\"color: red;\">Explanation: Yeh HTTP GET request karta hai <code>http://127.0.0.1:4444/items/</code> endpoint par query parameter <code>query_param</code> ke value \"1234\" ke saath. Kyunki query parameter ki maximum length 3 characters hai, yeh request error throw karega. Response ko retrieve kar ke decode kiya jata hai UTF-8 encoding ke saath.</h4>\n",
    "        </ul>\n",
    "    </div>\n",
    "</body>\n",
    "</html>\n"
   ]
  },
  {
   "cell_type": "markdown",
   "id": "30b6f779-fa52-420c-b8fe-8bda1226c292",
   "metadata": {},
   "source": [
    "<h1 style=\"text-align:center; color:#005bbd; font-size:30px; font-family:Sans-serif; font-style: oblique; text-shadow: 0 0 3px white, 0 0 1px Black;\">Validations Set Default Value</h1>"
   ]
  },
  {
   "cell_type": "code",
   "execution_count": 19,
   "id": "123cc5b3-2a30-4bb1-895b-69d0709e4600",
   "metadata": {},
   "outputs": [],
   "source": [
    "app = FastAPI()\n",
    "\n",
    "\n",
    "@app.get(\"/items/\")\n",
    "async def read_items(query_param: Annotated[str | None, Query(max_length=3)] = None):\n",
    "    return {\"query_param\": query_param}\n",
    "\n",
    "\n",
    "if __name__ == \"__main__\":\n",
    "    nest_asyncio.apply()\n",
    "    uvicorn.run(app, port=4444)"
   ]
  },
  {
   "cell_type": "code",
   "execution_count": 18,
   "id": "804f7faf-50a7-4191-9892-9ef868135dcf",
   "metadata": {},
   "outputs": [
    {
     "data": {
      "text/plain": [
       "'{\"query_param\":null}'"
      ]
     },
     "execution_count": 18,
     "metadata": {},
     "output_type": "execute_result"
    }
   ],
   "source": [
    "req = requests.get(\"http://127.0.0.1:4444/items\")\n",
    "req.content.decode(\"utf-8\")"
   ]
  },
  {
   "cell_type": "markdown",
   "id": "2f542b6d-c6ff-4b41-8e86-9db250ae1e42",
   "metadata": {},
   "source": [
    "<!DOCTYPE html>\n",
    "<html lang=\"en\">\n",
    "<head>\n",
    "    <meta charset=\"UTF-8\">\n",
    "    <meta name=\"viewport\" content=\"width=device-width, initial-scale=1.0\">\n",
    "</head>\n",
    "<body style=\"font-family: Sans-serif;\">\n",
    "    <div style=\"color: green; font-size: 18px; font-style: oblique; text-shadow: 0 0 3px white, 0 0 1px black; border: 8px double black; padding: 20px;\">\n",
    "        <ul>\n",
    "            <h3><li><code>@app.get(\"/items/\")</code></li></h3>\n",
    "            <h4 style=\"color: red;\">Explanation: Yeh ek decorator hai jo define karta hai ke jab GET request <code>\"/items/\"</code> path par aayegi to kaunsa function call hoga.</h4>\n",
    "        </ul>\n",
    "        <hr style=\"margin: 20px 0;\">\n",
    "        <ul>\n",
    "            <h3><li><code>async def read_items(query_param: Annotated[str | None, Query(max_length=3)] = None):</code></li></h3>\n",
    "            <h4 style=\"color: red;\">Explanation: Yeh ek asynchronous function hai jo <code>\"/items/\"</code> path par GET request aane par call hota hai. Is function mein ek query parameter <code>query_param</code> define kiya gaya hai jo optional hai aur string type ka hai jiska maximum length 3 characters hai. Iska default value None hai.</h4>\n",
    "        </ul>\n",
    "     </div>\n",
    "</body>\n",
    "</html>\n"
   ]
  },
  {
   "cell_type": "markdown",
   "id": "f07f5bc3-f86d-43fe-affe-1b0e67674150",
   "metadata": {},
   "source": [
    "<h1 style=\"text-align:center; color:#005bbd; font-size:30px; font-family:Sans-serif; font-style: oblique; text-shadow: 0 0 3px white, 0 0 1px Black;\">Validation min_length,max_length, regex_pattern</h1>"
   ]
  },
  {
   "cell_type": "code",
   "execution_count": null,
   "id": "184bee4b-4054-45c8-8e6f-0664f6f25707",
   "metadata": {},
   "outputs": [],
   "source": [
    "app = FastAPI()\n",
    "\n",
    "\n",
    "@app.get(\"/phone/\")\n",
    "async def user_phone(\n",
    "    phone_no: Annotated[\n",
    "        str | None, Query(min_length=12, max_length=12, pattern=\"\\d{4}-\\d+\")\n",
    "    ]\n",
    "):\n",
    "    return {\"user_phone\": phone_no}\n",
    "\n",
    "\n",
    "if __name__ == \"__main__\":\n",
    "    nest_asyncio.apply()\n",
    "    uvicorn.run(app, port=4444)"
   ]
  },
  {
   "cell_type": "code",
   "execution_count": 35,
   "id": "d4025af3-bdd5-4690-90ef-079d63ff718c",
   "metadata": {},
   "outputs": [
    {
     "data": {
      "text/plain": [
       "'{\"user_phone\":\"0123-4567891\"}'"
      ]
     },
     "execution_count": 35,
     "metadata": {},
     "output_type": "execute_result"
    }
   ],
   "source": [
    "req = requests.get(\"http://127.0.0.1:4444/phone/?phone_no=0123-4567891\")\n",
    "req.content.decode(\"utf-8\")"
   ]
  },
  {
   "cell_type": "code",
   "execution_count": 37,
   "id": "645743cc-eb8b-4232-9d35-25121abedcfc",
   "metadata": {},
   "outputs": [
    {
     "data": {
      "text/plain": [
       "'{\"detail\":[{\"type\":\"string_pattern_mismatch\",\"loc\":[\"query\",\"phone_no\"],\"msg\":\"String should match pattern \\'\\\\\\\\d{4}-\\\\\\\\d+\\'\",\"input\":\"0123 4567891\",\"ctx\":{\"pattern\":\"\\\\\\\\d{4}-\\\\\\\\d+\"},\"url\":\"https://errors.pydantic.dev/2.6/v/string_pattern_mismatch\"}]}'"
      ]
     },
     "execution_count": 37,
     "metadata": {},
     "output_type": "execute_result"
    }
   ],
   "source": [
    "req = requests.get(\"http://127.0.0.1:4444/phone/?phone_no=0123+4567891\")\n",
    "req.content.decode(\"utf-8\")"
   ]
  },
  {
   "cell_type": "markdown",
   "id": "44fd5888-b788-4baa-b5c5-94cd3a3a36ee",
   "metadata": {},
   "source": [
    "<!DOCTYPE html>\n",
    "<html lang=\"en\">\n",
    "<head>\n",
    "    <meta charset=\"UTF-8\">\n",
    "    <meta name=\"viewport\" content=\"width=device-width, initial-scale=1.0\">\n",
    "</head>\n",
    "<body style=\"font-family: Sans-serif;\">\n",
    "    <div style=\"color: green; font-size: 18px; font-style: oblique; text-shadow: 0 0 3px white, 0 0 1px black; border: 8px double black; padding: 20px;\">\n",
    "        <ul>\n",
    "            <h3><li><code>@app.get('/phone/')</code></li></h3>\n",
    "            <h4 style=\"color: red;\">Explanation: Yeh ek decorator hai jo define karta hai ke jab GET request <code>\"/phone/\"</code> path par aayegi to kaunsa function call hoga.</h4>\n",
    "        </ul>\n",
    "        <hr style=\"margin: 20px 0;\">\n",
    "        <ul>\n",
    "            <h3><li><code>async def user_phone(phone_no:Annotated[str | None,Query(min_length=12,max_length=12,pattern=\"\\d{4}-\\d+\")]):</code></li></h3>\n",
    "            <h4 style=\"color: red;\">Explanation: Yeh ek asynchronous function hai jo <code>\"/phone/\"</code> path par GET request aane par call hota hai. Is function mein ek query parameter <code>phone_no</code> define kiya gaya hai jo optional hai aur string type ka hai. Iska minimum length aur maximum length dono 12 characters hai, aur iska format specified pattern ke mutabiq hona chahiye. </h4>\n",
    "        </ul>\n",
    "    <hr style=\"margin: 20px 0;\">\n",
    "        <ul>\n",
    "            <h3><li><code>return {\"user_phone\":phone_no}</code></li></h3>\n",
    "            <h4 style=\"color: red;\">Explanation: Yeh function query parameter ka value return karta hai ek JSON response ke roop mein.</h4>\n",
    "        </ul>\n",
    "        <hr style=\"margin: 20px 0;\">\n",
    "        <ul>\n",
    "            <h3><li><code>req = requests.get('http://127.0.0.1:4444/phone/?phone_no=0123-4567891')</code></li></h3>\n",
    "            <h4 style=\"color: red;\">Explanation: Yeh HTTP GET request karta hai <code>http://127.0.0.1:4444/phone/</code> endpoint par query parameter <code>phone_no</code> ke value \"0123-4567891\" ke saath. Response ko retrieve kar ke decode kiya jata hai UTF-8 encoding ke saath.</h4>\n",
    "        </ul>\n",
    "    </div>\n",
    "</body>\n",
    "</html>\n"
   ]
  },
  {
   "cell_type": "markdown",
   "id": "a4a20527-5d6a-40b1-9c37-acc543a7f79a",
   "metadata": {},
   "source": [
    "<h1 style=\"text-align:center; color:#005bbd; font-size:30px; font-family:Sans-serif; font-style: oblique; text-shadow: 0 0 3px white, 0 0 1px Black;\">Query parameter list / multiple values</h1>"
   ]
  },
  {
   "cell_type": "code",
   "execution_count": 46,
   "id": "a5bb04d3-70f9-46ef-a8cd-ab6301664347",
   "metadata": {},
   "outputs": [],
   "source": [
    "app = FastAPI()\n",
    "\n",
    "\n",
    "@app.get(\"/index/\")\n",
    "async def index(data: Annotated[list[str] | None, Query()]):\n",
    "    return data\n",
    "\n",
    "\n",
    "if __name__ == \"__main__\":\n",
    "    nest_asyncio.apply()\n",
    "    uvicorn.run(app, port=4444)"
   ]
  },
  {
   "cell_type": "code",
   "execution_count": 60,
   "id": "c0a36882-e2c7-43eb-b32b-841379ca698d",
   "metadata": {},
   "outputs": [
    {
     "data": {
      "text/plain": [
       "'[\"abc\",\"def\"]'"
      ]
     },
     "execution_count": 60,
     "metadata": {},
     "output_type": "execute_result"
    }
   ],
   "source": [
    "req = requests.get(\"http://127.0.0.1:4444/index/?data=abc&data=def\")\n",
    "req.content.decode(\"utf-8\")"
   ]
  },
  {
   "cell_type": "markdown",
   "id": "5c97680a-64f1-4c5c-b821-82ec2bdb0f4f",
   "metadata": {},
   "source": [
    "<!DOCTYPE html>\n",
    "<html lang=\"en\">\n",
    "<head>\n",
    "    <meta charset=\"UTF-8\">\n",
    "    <meta name=\"viewport\" content=\"width=device-width, initial-scale=1.0\">\n",
    "</head>\n",
    "<body style=\"font-family: Sans-serif;\">\n",
    "    <div style=\"color: green; font-size: 18px; font-style: oblique; text-shadow: 0 0 3px white, 0 0 1px black; border: 8px double black; padding: 20px;\">\n",
    "        <ul>\n",
    "            <h3><li><code>@app.get('/index/')</code></li></h3>\n",
    "            <h4 style=\"color: red;\">Explanation: Yeh ek decorator hai jo define karta hai ke jab GET request <code>\"/index/\"</code> path par aayegi to kaunsa function call hoga.</h4>\n",
    "        </ul>\n",
    "        <hr style=\"margin: 20px 0;\">\n",
    "        <ul>\n",
    "            <h3><li><code>async def index(data:Annotated[list[str] | None, Query()]):</code></li></h3>\n",
    "            <h4 style=\"color: red;\">Explanation: Yeh ek asynchronous function hai jo <code>\"/index/\"</code> path par GET request aane par call hota hai. Is function mein ek query parameter <code>data</code> define kiya gaya hai jo optional hai aur list of strings hai. </h4>\n",
    "        </ul>\n",
    "    <hr style=\"margin: 20px 0;\">\n",
    "        <ul>\n",
    "            <h3><li><code>return data</code></li></h3>\n",
    "            <h4 style=\"color: red;\">Explanation: Yeh function query parameter <code>data</code> ki value ko return karta hai.</h4>\n",
    "        </ul>\n",
    "        <hr style=\"margin: 20px 0;\">\n",
    "        <ul>\n",
    "            <h3><li><code>req = requests.get('http://127.0.0.1:4444/index/?data=abc&data=def')</code></li></h3>\n",
    "            <h4 style=\"color: red;\">Explanation: Yeh HTTP GET request karta hai <code>http://127.0.0.1:4444/index/</code> endpoint par, jismein query parameter <code>data</code> ki value \"abc\" aur \"def\" hai.</h4>\n",
    "        </ul>\n",
    "    </div>\n",
    "</body>\n",
    "</html>\n"
   ]
  },
  {
   "cell_type": "markdown",
   "id": "0c41b680-da4f-45b2-9e76-9be62e794d45",
   "metadata": {},
   "source": [
    "<h1 style=\"text-align:center; color:#005bbd; font-size:30px; font-family:Sans-serif; font-style: oblique; text-shadow: 0 0 3px white, 0 0 1px Black;\">What Happend if we not use Query() with List</h1>"
   ]
  },
  {
   "cell_type": "code",
   "execution_count": null,
   "id": "10223317-e32d-47e4-82fd-595018c9fb93",
   "metadata": {},
   "outputs": [],
   "source": [
    "app = FastAPI()\n",
    "\n",
    "\n",
    "@app.get(\"/index/\")\n",
    "async def index(data: Annotated[list[str] | None, None]):\n",
    "    return data\n",
    "\n",
    "\n",
    "if __name__ == \"__main__\":\n",
    "    nest_asyncio.apply()\n",
    "    uvicorn.run(app, port=4444)"
   ]
  },
  {
   "cell_type": "code",
   "execution_count": 73,
   "id": "5a45e920-802c-4f1e-9511-45b407bf762a",
   "metadata": {},
   "outputs": [
    {
     "data": {
      "text/plain": [
       "'{\"detail\":[{\"type\":\"missing\",\"loc\":[\"body\"],\"msg\":\"Field required\",\"input\":null,\"url\":\"https://errors.pydantic.dev/2.6/v/missing\"}]}'"
      ]
     },
     "execution_count": 73,
     "metadata": {},
     "output_type": "execute_result"
    }
   ],
   "source": [
    "req = requests.get(\"http://127.0.0.1:4444/index/?data=123\")\n",
    "req.content.decode(\"utf-8\")"
   ]
  },
  {
   "cell_type": "code",
   "execution_count": 82,
   "id": "aa9a8c2e-07c2-4547-81b3-07f79ace0a98",
   "metadata": {},
   "outputs": [
    {
     "data": {
      "text/plain": [
       "'[\"123\"]'"
      ]
     },
     "execution_count": 82,
     "metadata": {},
     "output_type": "execute_result"
    }
   ],
   "source": [
    "req = requests.get(\"http://127.0.0.1:4444/index/\", json=[\"123\"])\n",
    "req.content.decode(\"utf-8\")"
   ]
  },
  {
   "cell_type": "markdown",
   "id": "cb38a7a5-a0a2-4639-849f-41d2ea737175",
   "metadata": {},
   "source": [
    "<!DOCTYPE html>\n",
    "<html lang=\"en\">\n",
    "<head>\n",
    "    <meta charset=\"UTF-8\">\n",
    "    <meta name=\"viewport\" content=\"width=device-width, initial-scale=1.0\">\n",
    "</head>\n",
    "<body style=\"font-family: Sans-serif;\">\n",
    "    <div style=\"color: green; font-size: 18px; font-style: oblique; text-shadow: 0 0 3px white, 0 0 1px black; border: 8px double black; padding: 20px;\">\n",
    "        <ul>\n",
    "            <h3><li><code>@app.get('/index/')</code></li></h3>\n",
    "            <h4 style=\"color: red;\">Explanation: Yeh ek decorator hai jo define karta hai ke jab GET request <code>\"/index/\"</code> path par aayegi to kaunsa function call hoga.</h4>\n",
    "        </ul>\n",
    "        <hr style=\"margin: 20px 0;\">\n",
    "        <ul>\n",
    "            <h3><li><code>async def index(data:Annotated[list[str] | None, None]):</code></li></h3>\n",
    "            <h4 style=\"color: red;\">Explanation: Yeh ek asynchronous function hai jo <code>\"/index/\"</code> path par GET request aane par call hota hai. Is function mein ek query parameter <code>data</code> define kiya gaya hai jo optional hai aur list of strings hai. Agar Query() ka istemal nahi kiya gaya hai, to FastAPI yeh data request body ke roop mein consider karega.</h4>\n",
    "        </ul>\n",
    "    <hr style=\"margin: 20px 0;\">\n",
    "        <ul>\n",
    "            <h3><li><code>return data</code></li></h3>\n",
    "            <h4 style=\"color: red;\">Explanation: Yeh function query parameter <code>data</code> ki value ko return karta hai.</h4>\n",
    "        </ul>\n",
    "        <hr style=\"margin: 20px 0;\">\n",
    "        <ul>\n",
    "            <h3><li><code>req = requests.get('http://127.0.0.1:4444/index/', json={\"data\": [\"abc\", \"def\"]})</code></li></h3>\n",
    "            <h4 style=\"color: red;\">Explanation: Yeh HTTP GET request karta hai <code>http://127.0.0.1:4444/index/</code> endpoint par, jismein query parameter <code>data</code> ki value \"abc\" aur \"def\" hai, lekin yeh data request body ke roop mein hai.</h4>\n",
    "        </ul>\n",
    "    </div>\n",
    "</body>\n",
    "</html>\n"
   ]
  },
  {
   "cell_type": "markdown",
   "id": "615bf0db-3f28-4ef0-a921-9bff7719aa07",
   "metadata": {},
   "source": [
    "<h1 style=\"text-align:center; color:#005bbd; font-size:30px; font-family:Sans-serif; font-style: oblique; text-shadow: 0 0 3px white, 0 0 1px Black;\">Set List defaults Values\n",
    "</h1>"
   ]
  },
  {
   "cell_type": "code",
   "execution_count": null,
   "id": "95a7ba5d-5319-4ef1-b078-7c76cd3c305f",
   "metadata": {},
   "outputs": [],
   "source": [
    "app = FastAPI()\n",
    "\n",
    "\n",
    "@app.get(\"/index/\")\n",
    "async def index(data: Annotated[list[str] | None, Query()] = [\"abc\", \"def\"]):\n",
    "    return data\n",
    "\n",
    "\n",
    "if __name__ == \"__main__\":\n",
    "    nest_asyncio.apply()\n",
    "    uvicorn.run(app, port=4444)"
   ]
  },
  {
   "cell_type": "code",
   "execution_count": 87,
   "id": "2f17ff19-76a6-44dc-a649-cf0ebe3d506f",
   "metadata": {},
   "outputs": [
    {
     "data": {
      "text/plain": [
       "'[\"abc\",\"def\"]'"
      ]
     },
     "execution_count": 87,
     "metadata": {},
     "output_type": "execute_result"
    }
   ],
   "source": [
    "req = requests.get(\"http://127.0.0.1:4444/index/\")\n",
    "req.content.decode(\"utf-8\")"
   ]
  },
  {
   "cell_type": "markdown",
   "id": "3221af64-aa94-45b1-aff4-369c602099c8",
   "metadata": {},
   "source": [
    "<h1 style=\"text-align:center; color:#005bbd; font-size:30px; font-family:Sans-serif; font-style: oblique; text-shadow: 0 0 3px white, 0 0 1px Black;\">alias</h1>"
   ]
  },
  {
   "cell_type": "markdown",
   "id": "bab909ee-6d8d-4568-a78f-87f2b94cb85e",
   "metadata": {},
   "source": [
    "<div style=\"text-align:justify; color:black; font-size:20px; font-family:Sans-serif; font-style: oblique; text-shadow: 0 0 3px white, 0 0 1px black;\"><p>Jab aap FastAPI me ek route define karte hain, to aap parameters ko specify karte hain jo route ke endpoint ke saath associated hote hain.<br> Lekin kai baar aisa hota hai ki aap URL me parameter ka naam specify karna chahte hain jo Python variable name ke rules ko follow nahi karta, <br>jaise ki kebab-case (item-query), jo valid Python variable name nahi hai.<br><br> So is ky lye alias ka use kia jata hn</p>\n",
    "</div>\n",
    "\n",
    "\n"
   ]
  },
  {
   "cell_type": "code",
   "execution_count": 115,
   "id": "be4bb09e-b8c9-4464-8c70-69309ce45bfd",
   "metadata": {},
   "outputs": [
    {
     "ename": "SyntaxError",
     "evalue": "invalid syntax (1645026928.py, line 5)",
     "output_type": "error",
     "traceback": [
      "\u001b[0;36m  Cell \u001b[0;32mIn[115], line 5\u001b[0;36m\u001b[0m\n\u001b[0;31m    async def index(query-data: Annotated[str | None, Query()]):\u001b[0m\n\u001b[0m                         ^\u001b[0m\n\u001b[0;31mSyntaxError\u001b[0m\u001b[0;31m:\u001b[0m invalid syntax\n"
     ]
    }
   ],
   "source": [
    "app = FastAPI()\n",
    "\n",
    "\n",
    "@app.get(\"/index/\")\n",
    "async def index(query-data: Annotated[str | None, Query()]):\n",
    "    return data\n",
    "\n",
    "\n",
    "if __name__ == \"__main__\":\n",
    "    nest_asyncio.apply()\n",
    "    uvicorn.run(app, port=4444)"
   ]
  },
  {
   "cell_type": "code",
   "execution_count": 116,
   "id": "94e89cdb-3714-4e54-883f-f7b829bff6b8",
   "metadata": {},
   "outputs": [],
   "source": [
    "app = FastAPI()\n",
    "\n",
    "\n",
    "@app.get(\"/index/\")\n",
    "async def index(data: Annotated[str | None, Query(alias=\"query-data\")]):\n",
    "    return data\n",
    "\n",
    "\n",
    "if __name__ == \"__main__\":\n",
    "    nest_asyncio.apply()\n",
    "    uvicorn.run(app, port=4444)"
   ]
  },
  {
   "cell_type": "code",
   "execution_count": 117,
   "id": "a3a16ae2-4ace-4428-9ef9-a5935d34336b",
   "metadata": {},
   "outputs": [
    {
     "data": {
      "text/plain": [
       "'\"123\"'"
      ]
     },
     "execution_count": 117,
     "metadata": {},
     "output_type": "execute_result"
    }
   ],
   "source": [
    "req = requests.get(\"http://127.0.0.1:4444/index/?query-data=123\")\n",
    "req.content.decode(\"utf-8\")"
   ]
  },
  {
   "cell_type": "markdown",
   "id": "064e1ecb-b73b-4dca-85ec-fd10f00119a9",
   "metadata": {},
   "source": [
    "<!DOCTYPE html>\n",
    "<html lang=\"en\">\n",
    "<head>\n",
    "    <meta charset=\"UTF-8\">\n",
    "    <meta name=\"viewport\" content=\"width=device-width, initial-scale=1.0\">\n",
    "</head>\n",
    "<body style=\"font-family: Sans-serif;\">\n",
    "    <div style=\"color: green; font-size: 18px; font-style: oblique; text-shadow: 0 0 3px white, 0 0 1px black; border: 8px double black; padding: 20px;\">\n",
    "        <ul>\n",
    "            <h3><li><code>@app.get(\"/index/\")</code></li></h3>\n",
    "            <h4 style=\"color: red;\">Explanation: Yeh ek decorator hai jo define karta hai ke jab GET request <code>\"/index/\"</code> path par aayegi to kaunsa function call hoga.</h4>\n",
    "        </ul>\n",
    "        <hr style=\"margin: 20px 0;\">\n",
    "        <ul>\n",
    "            <h3><li><code>async def index(data: Annotated[str | None, Query(alias=\"query-data\")]):</code></li></h3>\n",
    "            <h4 style=\"color: red;\">Explanation: Yeh ek asynchronous function hai jo <code>\"/index/\"</code> path par GET request aane par call hota hai. Is function mein ek query parameter <code>data</code> define kiya gaya hai jiska alias <code>query-data</code> hai. </h4>\n",
    "        </ul>\n",
    "    <hr style=\"margin: 20px 0;\">\n",
    "        <ul>\n",
    "            <h3><li><code>return data</code></li></h3>\n",
    "            <h4 style=\"color: red;\">Explanation: Yeh function query parameter <code>data</code> ki value ko return karta hai.</h4>\n",
    "        </ul>\n",
    "        <hr style=\"margin: 20px 0;\">\n",
    "        <ul>\n",
    "            <h3><li><code>req = requests.get('http://127.0.0.1:4444/index/?query-data=abc')</code></li></h3>\n",
    "            <h4 style=\"color: red;\">Explanation: Yeh HTTP GET request karta hai <code>http://127.0.0.1:4444/index/</code> endpoint par, jismein query parameter ka naam <code>query-data</code> hai aur uski value \"abc\" hai.</h4>\n",
    "        </ul>\n",
    "    </div>\n",
    "</body>\n",
    "</html>\n"
   ]
  },
  {
   "cell_type": "code",
   "execution_count": null,
   "id": "00a69c13-c256-4825-a1c7-ccb6579a03b6",
   "metadata": {},
   "outputs": [],
   "source": [
    "app = FastAPI()\n",
    "\n",
    "\n",
    "@app.get(\"/index/\")\n",
    "async def index(data: Annotated[str | None, Path(gt=0)]):\n",
    "    return data\n",
    "\n",
    "\n",
    "if __name__ == \"__main__\":\n",
    "    nest_asyncio.apply()\n",
    "    uvicorn.run(app, port=4444)"
   ]
  },
  {
   "cell_type": "code",
   "execution_count": 24,
   "id": "dc990231-2988-4f48-8ad2-cece778bb979",
   "metadata": {
    "tags": []
   },
   "outputs": [
    {
     "data": {
      "text/plain": [
       "'{\"detail\":\"Not Found\"}'"
      ]
     },
     "execution_count": 24,
     "metadata": {},
     "output_type": "execute_result"
    }
   ],
   "source": [
    "req = requests.get(\"http://127.0.0.1:4444/exp1\")\n",
    "req.content.decode(\"utf-8\")"
   ]
  },
  {
   "cell_type": "markdown",
   "id": "a5d8a910-8677-475c-88ed-cf37d4a2bea0",
   "metadata": {},
   "source": [
    "<h1 style=\"text-align:center; color:#005bbd; font-size:30px; font-family:Sans-serif; font-style: oblique; text-shadow: 0 0 3px white, 0 0 1px Black;\">Path() VS /{params}</h1>"
   ]
  },
  {
   "cell_type": "code",
   "execution_count": 74,
   "id": "d0978660-cac7-49b1-8583-5cfab109c14f",
   "metadata": {
    "tags": []
   },
   "outputs": [],
   "source": [
    "app = FastAPI()\n",
    "\n",
    "@app.get(\"/exp1/{params}\")\n",
    "async def exp1(params: str = None):\n",
    "    return {\"params\": params}\n",
    "\n",
    "\n",
    "@app.get(\"/exp2/{params}\")\n",
    "async def exp2(params: str = Path(min_length=3)):\n",
    "    return {\"params\": params}\n",
    "\n",
    "\n",
    "if __name__ == \"__main__\":\n",
    "    nest_asyncio.apply()\n",
    "    uvicorn.run(app, port=4444)"
   ]
  },
  {
   "cell_type": "code",
   "execution_count": 72,
   "id": "09418398-15c4-4162-b575-317b5bf7a12c",
   "metadata": {
    "tags": []
   },
   "outputs": [
    {
     "data": {
      "text/plain": [
       "'{\"params\":\"12\"}'"
      ]
     },
     "execution_count": 72,
     "metadata": {},
     "output_type": "execute_result"
    }
   ],
   "source": [
    "req = requests.get(\"http://127.0.0.1:4444/exp1/12\")\n",
    "req.content.decode(\"utf-8\")"
   ]
  },
  {
   "cell_type": "code",
   "execution_count": 73,
   "id": "26d43f35-ed64-4ef4-bd04-f44bcd213199",
   "metadata": {
    "tags": []
   },
   "outputs": [
    {
     "data": {
      "text/plain": [
       "'{\"detail\":[{\"type\":\"string_too_short\",\"loc\":[\"path\",\"params\"],\"msg\":\"String should have at least 3 characters\",\"input\":\"12\",\"ctx\":{\"min_length\":3},\"url\":\"https://errors.pydantic.dev/2.6/v/string_too_short\"}]}'"
      ]
     },
     "execution_count": 73,
     "metadata": {},
     "output_type": "execute_result"
    }
   ],
   "source": [
    "req = requests.get(\"http://127.0.0.1:4444/exp2/12\")\n",
    "req.content.decode(\"utf-8\")"
   ]
  },
  {
   "cell_type": "code",
   "execution_count": 75,
   "id": "bc759396-2ee7-4de7-b9ce-6a7ba4f2f928",
   "metadata": {
    "tags": []
   },
   "outputs": [
    {
     "data": {
      "text/plain": [
       "'{\"params\":\"123\"}'"
      ]
     },
     "execution_count": 75,
     "metadata": {},
     "output_type": "execute_result"
    }
   ],
   "source": [
    "req = requests.get(\"http://127.0.0.1:4444/exp2/123\")\n",
    "req.content.decode(\"utf-8\")"
   ]
  },
  {
   "cell_type": "markdown",
   "id": "e7951fe9-31cd-49be-a86d-64ef4378366d",
   "metadata": {},
   "source": [
    "<!DOCTYPE html>\n",
    "<html lang=\"en\">\n",
    "<head>\n",
    "    <meta charset=\"UTF-8\">\n",
    "    <meta name=\"viewport\" content=\"width=device-width, initial-scale=1.0\">\n",
    "</head>\n",
    "<body style=\"font-family: Sans-serif;\">\n",
    "    <div style=\"color: green; font-size: 18px; font-style: oblique; text-shadow: 0 0 3px white, 0 0 1px black; border: 8px double black; padding: 20px;\">\n",
    "        <ul>\n",
    "            <h3><li><code>@app.get(\"/exp1/{params}\")</code></li></h3>\n",
    "            <h4 style=\"color: red;\">Explanation: Yeh ek decorator hai jo define karta hai ke jab GET request <code>\"/exp1/{params}\"</code> path par aayegi to kaunsa function call hoga. Is function mein koi validation nahi ki gayi hai.</h4>\n",
    "        </ul>\n",
    "        <hr style=\"margin: 20px 0;\">\n",
    "        <ul>\n",
    "            <h3><li><code>@app.get(\"/exp2/{params}\")</code></li></h3>\n",
    "            <h4 style=\"color: red;\">Explanation: Yeh ek decorator hai jo define karta hai ke jab GET request <code>\"/exp2/{params}\"</code> path par aayegi to kaunsa function call hoga. Is function mein Path ki help sy parameter ki validation ki gayi hai <code>Path(min_length=3)</code> ke zariye.</h4>\n",
    "        </ul>\n",
    "    </div>\n",
    "</body>\n",
    "</html>\n"
   ]
  },
  {
   "cell_type": "markdown",
   "id": "bb99bfaa-6712-401c-8f98-ae330ba3855b",
   "metadata": {},
   "source": [
    "<h1 style=\"text-align:center; color:#005bbd; font-size:30px; font-family:Sans-serif; font-style: oblique; text-shadow: 0 0 3px white, 0 0 1px Black;\">{params} VS {params:path} In Path()\n",
    "</h1>"
   ]
  },
  {
   "cell_type": "code",
   "execution_count": null,
   "id": "9a2ef431-8881-4eb2-82c7-88bbc395bb2e",
   "metadata": {},
   "outputs": [],
   "source": [
    "app = FastAPI()\n",
    "\n",
    "\n",
    "@app.get(\"/exp1/{params}\")\n",
    "async def exp1(params: str):\n",
    "    return {\"params\": params}\n",
    "\n",
    "\n",
    "@app.get(\"/exp2/{params:path}\")\n",
    "async def exp2(params:str = Path()):\n",
    "    return {\"params\": params}\n",
    "\n",
    "\n",
    "if __name__ == \"__main__\":\n",
    "    nest_asyncio.apply()\n",
    "    uvicorn.run(app, port=4444)"
   ]
  },
  {
   "cell_type": "code",
   "execution_count": 83,
   "id": "ad102fc0-ef1c-43c6-859b-c1e6e91dea9d",
   "metadata": {
    "tags": []
   },
   "outputs": [
    {
     "data": {
      "text/plain": [
       "'{\"detail\":\"Not Found\"}'"
      ]
     },
     "execution_count": 83,
     "metadata": {},
     "output_type": "execute_result"
    }
   ],
   "source": [
    "req = requests.get(\"http://127.0.0.1:4444/exp1/folder/file.txt\")\n",
    "req.content.decode(\"utf-8\")"
   ]
  },
  {
   "cell_type": "code",
   "execution_count": 84,
   "id": "9211aab6-bcc0-4133-9239-48b7b5f7c285",
   "metadata": {
    "tags": []
   },
   "outputs": [
    {
     "data": {
      "text/plain": [
       "'{\"params\":\"folder/file.txt\"}'"
      ]
     },
     "execution_count": 84,
     "metadata": {},
     "output_type": "execute_result"
    }
   ],
   "source": [
    "req = requests.get(\"http://127.0.0.1:4444/exp2/folder/file.txt\")\n",
    "req.content.decode(\"utf-8\")"
   ]
  },
  {
   "cell_type": "markdown",
   "id": "0ed80835-f18f-449a-9979-0182c15c36ad",
   "metadata": {
    "tags": []
   },
   "source": [
    "<!DOCTYPE html>\n",
    "<html lang=\"en\">\n",
    "<head>\n",
    "    <meta charset=\"UTF-8\">\n",
    "    <meta name=\"viewport\" content=\"width=device-width, initial-scale=1.0\">\n",
    "</head>\n",
    "<body style=\"font-family: Sans-serif;\">\n",
    "    <div style=\"color: green; font-size: 18px; font-style: oblique; text-shadow: 0 0 3px white, 0 0 1px black; border: 8px double black; padding: 20px;\">\n",
    "        <ul>\n",
    "            <h3><li><code>@app.get(\"/exp1/{params}\")</code></li></h3>\n",
    "            <h4 style=\"color: red;\">Explanation: Yeh ek decorator hai jo define karta hai ke jab GET request <code>\"/exp1/{params}\"</code> path par aayegi to kaunsa function call hoga. Is function mein parameter ke liye koi specific path type nahi specify ki gayi hai, isliye agar user extra '/' ka use kare to mismatch ho jayega.</h4>\n",
    "        </ul>\n",
    "        <hr style=\"margin: 20px 0;\">\n",
    "        <ul>\n",
    "            <h3><li><code>@app.get(\"/exp2/{params:path}\")</code></li></h3>\n",
    "            <h4 style=\"color: red;\">Explanation: Yeh ek decorator hai jo define karta hai ke jab GET request <code>\"/exp2/{params:path}\"</code> path par aayegi to kaunsa function call hoga. Is function mein parameter ke liye specific path type <code>path</code> specify ki gayi hai, jis se extra '/' se mismatch nahi hoga.</h4>\n",
    "        </ul>\n",
    "    </div>\n",
    "</body>\n",
    "</html>\n"
   ]
  },
  {
   "cell_type": "markdown",
   "id": "74c75817-19de-4912-80a1-4e9310442060",
   "metadata": {},
   "source": [
    "<h1 style=\"text-align:center; color:#005bbd; font-size:30px; font-family:Sans-serif; font-style: oblique; text-shadow: 0 0 3px white, 0 0 1px Black;\">Differences Path VS Query Parameters\n",
    "</h1>"
   ]
  },
  {
   "cell_type": "code",
   "execution_count": 111,
   "id": "9201c8e9-7882-4423-8cd0-fd13cca67991",
   "metadata": {
    "tags": []
   },
   "outputs": [],
   "source": [
    "app = FastAPI()\n",
    "\n",
    "\n",
    "@app.get(\"/simple_path/{params}\")\n",
    "async def exp1(params: str):\n",
    "    return {\"params\": params}\n",
    "\n",
    "\n",
    "@app.get(\"/validate_path/{params}\")\n",
    "async def exp2(params: str = Path(min_length=3)):\n",
    "    return {\"params\": params}\n",
    "\n",
    "\n",
    "@app.get(\"/readable_validate_path/{params}\")\n",
    "async def exp3(params: Annotated[str , Path(min_length=3)]):\n",
    "    return {\"params\": params}\n",
    "\n",
    "# ----------------------------------------------------------------\n",
    "\n",
    "@app.get(\"/simple_query\")\n",
    "async def exp4(query_params: str):\n",
    "    return {\"params\": query_params}\n",
    "\n",
    "@app.get(\"/validate_query\")\n",
    "async def exp5(query_params: str = Query(min_length=3)):\n",
    "    return {\"params\": query_params}\n",
    "\n",
    "@app.get(\"/readable_validate_path\")\n",
    "async def exp6(query_params: Annotated[str , Query(min_length=3)]):\n",
    "    return {\"params\": query_params}\n",
    "\n",
    "\n",
    "\n",
    "if __name__ == \"__main__\":\n",
    "    nest_asyncio.apply()\n",
    "    uvicorn.run(app, port=4444)"
   ]
  },
  {
   "cell_type": "markdown",
   "id": "27894c7d-2b83-43dc-b0ce-6e1c4490a18d",
   "metadata": {},
   "source": [
    "<div style=\"text-align:justify; color:black; font-size:20px; font-family:Sans-serif; font-style: oblique; text-shadow: 0 0 3px white, 0 0 1px black;\">Path Parameters\n",
    "</div>\n",
    "\n",
    "\n"
   ]
  },
  {
   "cell_type": "code",
   "execution_count": 113,
   "id": "3920b18a-0a74-45e8-aa65-3aec01c8cf5c",
   "metadata": {
    "tags": []
   },
   "outputs": [
    {
     "data": {
      "text/plain": [
       "'{\"params\":\"12\"}'"
      ]
     },
     "execution_count": 113,
     "metadata": {},
     "output_type": "execute_result"
    }
   ],
   "source": [
    "req = requests.get(\"http://127.0.0.1:4444/simple_path/12\")\n",
    "req.content.decode(\"utf-8\")"
   ]
  },
  {
   "cell_type": "code",
   "execution_count": 114,
   "id": "be8a8ebd-ef06-4d55-9543-6cdafa1ddca2",
   "metadata": {
    "tags": []
   },
   "outputs": [
    {
     "data": {
      "text/plain": [
       "'{\"params\":\"1234\"}'"
      ]
     },
     "execution_count": 114,
     "metadata": {},
     "output_type": "execute_result"
    }
   ],
   "source": [
    "req = requests.get(\"http://127.0.0.1:4444/validate_path/1234\")\n",
    "req.content.decode(\"utf-8\")"
   ]
  },
  {
   "cell_type": "code",
   "execution_count": 115,
   "id": "af49607e-c014-4b54-8e69-ffd5363a15d5",
   "metadata": {
    "tags": []
   },
   "outputs": [
    {
     "data": {
      "text/plain": [
       "'{\"params\":\"1234\"}'"
      ]
     },
     "execution_count": 115,
     "metadata": {},
     "output_type": "execute_result"
    }
   ],
   "source": [
    "req = requests.get(\"http://127.0.0.1:4444/readable_validate_path/1234\")\n",
    "req.content.decode(\"utf-8\")"
   ]
  },
  {
   "cell_type": "markdown",
   "id": "2486779f-61b1-4b5b-9957-f7a35e0252f6",
   "metadata": {},
   "source": [
    "<div style=\"text-align:justify; color:black; font-size:20px; font-family:Sans-serif; font-style: oblique; text-shadow: 0 0 3px white, 0 0 1px black;\">Query Parameters\n",
    "</div>\n",
    "\n",
    "\n"
   ]
  },
  {
   "cell_type": "code",
   "execution_count": 122,
   "id": "770f14f8-96cb-45d3-8349-f3719f7e6811",
   "metadata": {
    "tags": []
   },
   "outputs": [
    {
     "data": {
      "text/plain": [
       "'{\"params\":\"12\"}'"
      ]
     },
     "execution_count": 122,
     "metadata": {},
     "output_type": "execute_result"
    }
   ],
   "source": [
    "req = requests.get(\"http://127.0.0.1:4444/simple_query/?query_params=12\")\n",
    "req.content.decode(\"utf-8\")"
   ]
  },
  {
   "cell_type": "code",
   "execution_count": 121,
   "id": "7fe20bcc-20bd-4b1f-bc57-8b0f9ff37fa2",
   "metadata": {
    "tags": []
   },
   "outputs": [
    {
     "data": {
      "text/plain": [
       "'{\"params\":\"123\"}'"
      ]
     },
     "execution_count": 121,
     "metadata": {},
     "output_type": "execute_result"
    }
   ],
   "source": [
    "req = requests.get(\"http://127.0.0.1:4444/validate_query/?query_params=123\")\n",
    "req.content.decode(\"utf-8\")"
   ]
  },
  {
   "cell_type": "code",
   "execution_count": 123,
   "id": "a525a379-469e-4386-b8de-319193809f4d",
   "metadata": {
    "tags": []
   },
   "outputs": [
    {
     "data": {
      "text/plain": [
       "'{\"params\":\"123\"}'"
      ]
     },
     "execution_count": 123,
     "metadata": {},
     "output_type": "execute_result"
    }
   ],
   "source": [
    "req = requests.get(\"http://127.0.0.1:4444/readable_validate_path/?query_params=123\")\n",
    "req.content.decode(\"utf-8\")"
   ]
  },
  {
   "cell_type": "markdown",
   "id": "7d784e80-17b0-4a16-8b86-259679b80be6",
   "metadata": {},
   "source": [
    "<!DOCTYPE html>\n",
    "<html lang=\"en\">\n",
    "<head>\n",
    "    <meta charset=\"UTF-8\">\n",
    "    <meta name=\"viewport\" content=\"width=device-width, initial-scale=1.0\">\n",
    "</head>\n",
    "<body style=\"font-family: Sans-serif;\">\n",
    "    <div style=\"color: green; font-size: 18px; font-style: oblique; text-shadow: 0 0 3px white, 0 0 1px black; border: 8px double black; padding: 20px;\">\n",
    "        <ul>\n",
    "            <h3><li><code>@app.get(\"/simple_path/{params}\")</code></li></h3>\n",
    "            <h4 style=\"color: red;\">Explanation: Yeh ek simple path parameter hai jismein koi validation nahi ki gayi.</h4>\n",
    "        </ul>\n",
    "        <hr style=\"margin: 20px 0;\">\n",
    "        <ul>\n",
    "            <h3><li><code>@app.get(\"/validate_path/{params}\")</code></li></h3>\n",
    "            <h4 style=\"color: red;\">Explanation: Yeh ek path parameter hai jismein `Path()` ka istemal kiya gaya hai jiske liye min_length=3 validation ki gayi hai.</h4>\n",
    "        </ul>\n",
    "        <hr style=\"margin: 20px 0;\">\n",
    "        <ul>\n",
    "            <h3><li><code>@app.get(\"/readable_validate_path/{params}\")</code></li></h3>\n",
    "            <h4 style=\"color: red;\">Explanation: Yeh ek path parameter hai jismein `Path()` ka istemal kiya gaya hai jiske liye min_length=3 validation ki gayi hai. Ismein parameter ko `Annotated[]` ke zariye readable banaya gaya hai.</h4>\n",
    "        </ul>\n",
    "        <hr style=\"margin: 20px 0;\">\n",
    "        <ul>\n",
    "            <h3><li><code>@app.get(\"/simple_query\")</code></li></h3>\n",
    "            <h4 style=\"color: red;\">Explanation: Yeh ek simple query parameter hai jismein koi validation nahi ki gayi.</h4>\n",
    "        </ul>\n",
    "        <hr style=\"margin: 20px 0;\">\n",
    "        <ul>\n",
    "            <h3><li><code>@app.get(\"/validate_query\")</code></li></h3>\n",
    "            <h4 style=\"color: red;\">Explanation: Yeh ek query parameter hai jismein `Query()` ka istemal kiya gaya hai jiske liye min_length=3 validation ki gayi hai.</h4>\n",
    "        </ul>\n",
    "        <hr style=\"margin: 20px 0;\">\n",
    "        <ul>\n",
    "            <h3><li><code>@app.get(\"/readable_validate_query\")</code></li></h3>\n",
    "            <h4 style=\"color: red;\">Explanation: Yeh ek query parameter hai jismein `Query()` ka istemal kiya gaya hai jiske liye min_length=3 validation ki gayi hai. Ismein parameter ko `Annotated[]` ke zariye readable banaya gaya hai.</h4>\n",
    "        </ul>\n",
    "    </div>\n",
    "</body>\n",
    "</html>\n"
   ]
  },
  {
   "cell_type": "markdown",
   "id": "3640beb8-e316-4482-8350-93bce29b3ed2",
   "metadata": {},
   "source": [
    "<h1 style=\"text-align:center; color:#005bbd; font-size:30px; font-family:Sans-serif; font-style: oblique; text-shadow: 0 0 3px white, 0 0 1px Black;\">Body Requests VS Query Parameters\n",
    "</h1>"
   ]
  },
  {
   "cell_type": "code",
   "execution_count": 6,
   "id": "6bc6e2c7-c211-4f0d-bd4c-17b6307940d3",
   "metadata": {},
   "outputs": [],
   "source": [
    "from pydantic import BaseModel"
   ]
  },
  {
   "cell_type": "code",
   "execution_count": null,
   "id": "c1316bc4-e338-474e-b457-951e3310781a",
   "metadata": {},
   "outputs": [],
   "source": [
    "app = FastAPI()\n",
    "\n",
    "class form_data(BaseModel):\n",
    "    name : str\n",
    "    roll_no : int\n",
    "    subject : str\n",
    "\n",
    "@app.get(\"/index/\")\n",
    "async def reponse_data(data:form_data):\n",
    "    return data\n",
    "\n",
    "@app.get('/query/')\n",
    "async def marks(param:Annotated[int,Query(...)]):\n",
    "    return {\"marks\":param}\n",
    "\n",
    "if __name__ == \"__main__\":\n",
    "    nest_asyncio.apply()\n",
    "    uvicorn.run(app, port=4444)"
   ]
  },
  {
   "cell_type": "code",
   "execution_count": 12,
   "id": "d8ae1a8c-e807-4110-86f2-ede3a97f8531",
   "metadata": {},
   "outputs": [
    {
     "data": {
      "text/plain": [
       "'{\"name\":\"Mubeen\",\"roll_no\":5568,\"subject\":\"Cs\"}'"
      ]
     },
     "execution_count": 12,
     "metadata": {},
     "output_type": "execute_result"
    }
   ],
   "source": [
    "req = requests.get(\"http://127.0.0.1:4444/index/\",\n",
    "        json={\n",
    "        'name':'Mubeen',\n",
    "        'roll_no':5568,\n",
    "        'subject':'Cs'\n",
    "        })\n",
    "req.content.decode(\"utf-8\")"
   ]
  },
  {
   "cell_type": "code",
   "execution_count": 17,
   "id": "820cddd0-9829-47a7-a2df-b7bfbfdca042",
   "metadata": {},
   "outputs": [
    {
     "data": {
      "text/plain": [
       "'{\"marks\":123}'"
      ]
     },
     "execution_count": 17,
     "metadata": {},
     "output_type": "execute_result"
    }
   ],
   "source": [
    "req = requests.get(\"http://127.0.0.1:4444/query/?param=123\")\n",
    "req.content.decode(\"utf-8\")"
   ]
  },
  {
   "cell_type": "markdown",
   "id": "a8ab6ba5-5c5a-4d6b-aa60-b52380817b5a",
   "metadata": {},
   "source": [
    "<!DOCTYPE html>\n",
    "<html lang=\"en\">\n",
    "<head>\n",
    "    <meta charset=\"UTF-8\">\n",
    "    <meta name=\"viewport\" content=\"width=device-width, initial-scale=1.0\">\n",
    "</head>\n",
    "<body style=\"font-family: Sans-serif;\">\n",
    "    <div style=\"color: green; font-size: 18px; font-style: oblique; text-shadow: 0 0 3px white, 0 0 1px black; border: 8px double black; padding: 20px;\">\n",
    "        <ul>\n",
    "            <h3><li><code>app = FastAPI()</code></li></h3>\n",
    "            <h4 style=\"color: red;\">Explanation: FastAPI framework ko call kar ke ek application instance <code>app</code> variable mein store kiya gaya hai.</h4>\n",
    "        </ul>\n",
    "        <hr style=\"margin: 20px 0;\">\n",
    "        <ul>\n",
    "            <h3><li><code>class form_data(BaseModel):<br> &nbsp;&nbsp;&nbsp;&nbsp;name: str<br> &nbsp;&nbsp;&nbsp;&nbsp;roll_no: int<br> &nbsp;&nbsp;&nbsp;&nbsp;subject: str</code></li></h3>\n",
    "            <h4 style=\"color: red;\">Explanation: Yeh ek Pydantic model hai jo form data ko validate karne ke liye use hota hai. Isme <code>name</code> (string), <code>roll_no</code> (integer) aur <code>subject</code> (string) fields hain.</h4>\n",
    "        </ul>\n",
    "        <hr style=\"margin: 20px 0;\">\n",
    "        <ul>\n",
    "            <h3><li><code>@app.get(\"/index/\")<br>async def reponse_data(data: form_data):<br>&nbsp;&nbsp;&nbsp;&nbsp;return data</code></li></h3>\n",
    "            <h4 style=\"color: red;\">Explanation: Yeh endpoint <code>/index/</code> par GET request ko handle karta hai. Yeh <code>form_data</code> model ka instance accept karta hai aur wahi data return karta hai.</h4>\n",
    "        </ul>\n",
    "        <hr style=\"margin: 20px 0;\">\n",
    "        <ul>\n",
    "            <h3><li><code>@app.get('/query/')<br>async def marks(param: Annotated[int, Query(...)]):<br>&nbsp;&nbsp;&nbsp;&nbsp;return {\"marks\": param}</code></li></h3>\n",
    "            <h4 style=\"color: red;\">Explanation: Yeh endpoint <code>/query/</code> par GET request ko handle karta hai. Yeh <code>param</code> query parameter ko accept karta hai jo ek integer hai aur required hai. Yeh JSON response mein <code>marks</code> key ke saath return hota hai.</h4>\n",
    "        </ul>\n",
    "        <hr style=\"margin: 20px 0;\">\n",
    "        <ul>\n",
    "            <h3><li><code>req = requests.get(\"http://127.0.0.1:4444/index/\",<br>&nbsp;&nbsp;&nbsp;&nbsp;json={'name':'Mubeen','roll_no':5568,'subject':'Cs'})<br>req.content.decode(\"utf-8\")</code></li></h3>\n",
    "            <h4 style=\"color: red;\">Explanation: Yeh request <code>/index/</code> endpoint ko call karti hai aur ek JSON object send karti hai jisme user ka data hota hai. Response ko decode karke output diya gaya hai.</h4>\n",
    "        </ul>\n",
    "        <hr style=\"margin: 20px 0;\">\n",
    "        <ul>\n",
    "            <h3><li><code>req = requests.get(\"http://127.0.0.1:4444/query/?param=123\")<br>req.content.decode(\"utf-8\")</code></li></h3>\n",
    "            <h4 style=\"color: red;\">Explanation: Yeh request <code>/query/</code> endpoint ko call karti hai aur query parameter <code>param</code> send karti hai. Response ko decode karke output diya gaya hai.</h4>\n",
    "        </ul>\n",
    "        <hr style=\"margin: 20px 0;\">\n",
    "        <ul>\n",
    "            <h3><li><code>Body Request</code></li></h3>\n",
    "            <h4 style=\"color: red;\">Explanation: Body requests mein data HTTP request ke body mein bheja jata hai.</h4>\n",
    "        </ul>\n",
    "        <hr style=\"margin: 20px 0;\">\n",
    "        <ul>\n",
    "            <h3><li><code>Query Parameters</code></li></h3>\n",
    "            <h4 style=\"color: red;\">Explanation: Query parameters mein data URL ka hissa hota hai.</h4>\n",
    "        </ul>\n",
    "        <hr style=\"margin: 20px 0;\">\n",
    "        <ul>\n",
    "            <h3><li><code>Body</code></li></h3>\n",
    "            <h4 style=\"color: red;\">Explanation: Jab aap complex aur large data structures bhejna chahte hain, jise ke ek object ya record create ya update karte hain, to aap body requests ka use karte hain. Ye data HTTP request ke body mein jaata hai aur commonly POST, PUT, aur PATCH methods ke saath use hota hai.<br>Example: Jab aap kisi user ka account create karte hain aur uska poora data bhejna hota hai (name, email, password, etc.), to ye body request mein jaayega.</h4>\n",
    "        </ul>\n",
    "        <hr style=\"margin: 20px 0;\"> \n",
    "        <ul>\n",
    "            <h3><li><code>Query</code></li></h3>\n",
    "            <h4 style=\"color: red;\">Explanation: Jab aap simple aur optional data bhejna chahte hain jo ek resource ko fetch karte waqt ya display karte waqt affect karte hain, to aap query parameters ka use karte hain. Ye data URL ke end mein ? ke baad likha jata hai aur commonly GET method ke saath use hota hai.<br>Example: Jab aap kisi list ko filter ya sort karna chahte hain (jaise page number ya search keyword), to ye data query parameters mein jaayega.</h4>\n",
    "        </ul>    \n",
    "    </div>\n",
    "</body>\n",
    "</html>\n"
   ]
  },
  {
   "cell_type": "markdown",
   "id": "99bf034a-e798-42fa-838e-a303cfa17b8e",
   "metadata": {},
   "source": [
    "\n",
    "<h1 style=\"text-align:center; color:#005bbd; font-size:30px; font-family:Sans-serif; font-style: oblique; text-shadow: 0 0 3px white, 0 0 1px Black;\">Default Values \n",
    "</h1>"
   ]
  },
  {
   "cell_type": "code",
   "execution_count": 22,
   "id": "a16c142a-bbcc-4b20-bac7-fb17d188b1d6",
   "metadata": {},
   "outputs": [
    {
     "name": "stderr",
     "output_type": "stream",
     "text": [
      "INFO:     Started server process [1052]\n",
      "INFO:     Waiting for application startup.\n",
      "INFO:     Application startup complete.\n",
      "INFO:     Uvicorn running on http://127.0.0.1:4444 (Press CTRL+C to quit)\n"
     ]
    },
    {
     "name": "stdout",
     "output_type": "stream",
     "text": [
      "Path parameters cannot have default values\n"
     ]
    },
    {
     "name": "stderr",
     "output_type": "stream",
     "text": [
      "INFO:     Shutting down\n",
      "INFO:     Waiting for application shutdown.\n",
      "INFO:     Application shutdown complete.\n",
      "INFO:     Finished server process [1052]\n"
     ]
    }
   ],
   "source": [
    "app = FastAPI()\n",
    "\n",
    "class form_data(BaseModel):\n",
    "    name : str | None\n",
    "\n",
    "@app.get(\"/index/\")\n",
    "async def reponse_data(data:form_data = None):\n",
    "    return data\n",
    "\n",
    "@app.get('/query/')\n",
    "async def marks(param:Annotated[int,Query(...)] = None):\n",
    "    return {\"marks\":param}\n",
    "\n",
    "\n",
    "try:\n",
    "    @app.get('/path_parameter/{params}')\n",
    "    async def path_(params:Annotated[int,Query(...)] = None):\n",
    "        return {\"params\":params}\n",
    "except Exception as e:\n",
    "    print(e)\n",
    "\n",
    "if __name__ == \"__main__\":\n",
    "    nest_asyncio.apply()\n",
    "    uvicorn.run(app, port=4444)"
   ]
  },
  {
   "cell_type": "code",
   "execution_count": 19,
   "id": "a2f67350-7ec2-494b-ad83-9f3b7118b45e",
   "metadata": {},
   "outputs": [
    {
     "data": {
      "text/plain": [
       "'null'"
      ]
     },
     "execution_count": 19,
     "metadata": {},
     "output_type": "execute_result"
    }
   ],
   "source": [
    "req = requests.get(\"http://127.0.0.1:4444/index/\")\n",
    "req.content.decode(\"utf-8\")"
   ]
  },
  {
   "cell_type": "code",
   "execution_count": 20,
   "id": "bc1c827e-c90b-4b46-a568-8488acb35e6f",
   "metadata": {},
   "outputs": [
    {
     "data": {
      "text/plain": [
       "'{\"marks\":null}'"
      ]
     },
     "execution_count": 20,
     "metadata": {},
     "output_type": "execute_result"
    }
   ],
   "source": [
    "req = requests.get(\"http://127.0.0.1:4444/query/\")\n",
    "req.content.decode(\"utf-8\")"
   ]
  },
  {
   "cell_type": "markdown",
   "id": "2270cac9-b944-4916-9540-4d310d6b264b",
   "metadata": {},
   "source": [
    "<!DOCTYPE html>\n",
    "<html lang=\"en\">\n",
    "<head>\n",
    "    <meta charset=\"UTF-8\">\n",
    "    <meta name=\"viewport\" content=\"width=device-width, initial-scale=1.0\">\n",
    "</head>\n",
    "<body style=\"font-family: Sans-serif;\">\n",
    "    <div style=\"color: green; font-size: 18px; font-style: oblique; text-shadow: 0 0 3px white, 0 0 1px black; border: 8px double black; padding: 20px;\">\n",
    "        <ul>\n",
    "            <h3><li><code>Path parameters me default values set nahi kr sakhty</code></li></h3>\n",
    "            <h4 style=\"color: red;\">Explanation: Path parameters ko URL ke path mein directly specify kiya jata hai aur inki default values set nahi ki ja sakti. Agar koshish ki jaye to error throw hota hai.</h4>\n",
    "        </ul>\n",
    "        <hr style=\"margin: 20px 0;\">\n",
    "        <ul>\n",
    "            <h3><li><code>Query parameters me default values set kr sakhty hn</code></li></h3>\n",
    "            <h4 style=\"color: red;\">Explanation: Query parameters ko URL mein ? ke baad specify kiya jata hai aur inki default values set ki ja sakti hain. Agar default value set ki jaye to agar user parameter na provide kare to wo default value use hoti hai.</h4>\n",
    "        </ul>\n",
    "        <hr style=\"margin: 20px 0;\">\n",
    "        <ul>\n",
    "            <h3><li><code>Body ki class me bhi default values use kr sakhty hn</code></li></h3>\n",
    "            <h4 style=\"color: red;\">Explanation: Body parameters ko ek Pydantic model ke zariye handle kiya jata hai. In parameters ke default values set ki ja sakti hain, jo tab use hoti hain jab user se value na mile.</h4>\n",
    "        </ul>\n",
    "        <hr style=\"margin: 20px 0;\">\n",
    "        <ul>\n",
    "            <h3><li><code>Example Code Explanation</code></li></h3>\n",
    "            <h4 style=\"color: red;\">\n",
    "                <code>@app.get(\"/index/\")</code><br>\n",
    "                Endpoint jo body parameter <code>data</code> ko handle karta hai jo ek Pydantic model hai. Default value <code>None</code> set ki gayi hai.<br><br>\n",
    "                <code>@app.get('/query/')</code><br>\n",
    "                Endpoint jo query parameter <code>param</code> ko handle karta hai. Default value <code>None</code> set ki gayi hai aur <code>Query(...)</code> ke zariye validation hoti hai.<br><br>\n",
    "                <code>@app.get('/path_parameter/{params}')</code><br>\n",
    "                Endpoint jo path parameter <code>params</code> ko handle karta hai. Isme default value set karne ki koshish ki gayi hai jo error throw karta hai.\n",
    "            </h4>\n",
    "        </ul>\n",
    "    </div>\n",
    "</body>\n",
    "</html>"
   ]
  },
  {
   "cell_type": "code",
   "execution_count": 1,
   "id": "d81106df-b576-4937-ab4c-7174d8ac1ffa",
   "metadata": {
    "tags": []
   },
   "outputs": [
    {
     "data": {
      "text/plain": [
       "1234"
      ]
     },
     "execution_count": 1,
     "metadata": {},
     "output_type": "execute_result"
    }
   ],
   "source": [
    "1234"
   ]
  }
 ],
 "metadata": {
  "kernelspec": {
   "display_name": "Python 3 (ipykernel)",
   "language": "python",
   "name": "python3"
  },
  "language_info": {
   "codemirror_mode": {
    "name": "ipython",
    "version": 3
   },
   "file_extension": ".py",
   "mimetype": "text/x-python",
   "name": "python",
   "nbconvert_exporter": "python",
   "pygments_lexer": "ipython3",
   "version": "3.10.12"
  }
 },
 "nbformat": 4,
 "nbformat_minor": 5
}
