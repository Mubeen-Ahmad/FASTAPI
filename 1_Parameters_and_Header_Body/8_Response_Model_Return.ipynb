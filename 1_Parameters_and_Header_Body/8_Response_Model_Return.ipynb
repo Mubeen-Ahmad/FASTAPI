{
 "cells": [
  {
   "cell_type": "markdown",
   "id": "8dd1221c-c9fa-4785-b277-65aba5a18e96",
   "metadata": {},
   "source": [
    "<h1 style=\"text-align:center; color:#005bbd; font-size:30px; font-family:Sans-serif; font-style: oblique; text-shadow: 0 0 3px white, 0 0 1px Black;\">response_model (Route Parameter)</h1>"
   ]
  },
  {
   "cell_type": "markdown",
   "id": "e0dc70a8-5d03-4ede-8d13-93d7fb7f9f27",
   "metadata": {},
   "source": [
    "<div style=\"text-align:justify; color:black; font-size:20px; font-family:Sans-serif; font-style: oblique; text-shadow: 0 0 3px white, 0 0 1px black;\">\n",
    "    response_model ka kaam yeh hota hai ke woh response data ko filter <br>aur validate karta hai jo aapke endpoint se return hota hai.<br><br>Iska matlab yeh hai ke agar aap ek detailed object return karte hain <br>jismein sensitive information bhi ho sakti hai, <br>to response_model use karne se aap specify kar sakte hain <br>ke sirf kaunse fields response mein dikhaye jayein.\n",
    "</div>\n"
   ]
  },
  {
   "cell_type": "code",
   "execution_count": 1,
   "id": "9891f4c6-3c90-4961-8e76-65f0aa975a66",
   "metadata": {
    "tags": []
   },
   "outputs": [],
   "source": [
    "import requests\n",
    "from fastapi import FastAPI\n",
    "from pydantic import BaseModel\n",
    "from nest_asyncio import apply\n",
    "import uvicorn"
   ]
  },
  {
   "cell_type": "code",
   "execution_count": 36,
   "id": "46d010f8-b91b-462d-af0f-15fd3ffb44ea",
   "metadata": {
    "tags": []
   },
   "outputs": [],
   "source": [
    "class Users(BaseModel):\n",
    "    name : str\n",
    "    password : str\n",
    "    \n",
    "class Users_info(BaseModel):\n",
    "    name : str\n",
    "    "
   ]
  },
  {
   "cell_type": "code",
   "execution_count": 14,
   "id": "2e0b865b-0fd8-4595-a7e2-e756ec9d73ef",
   "metadata": {
    "tags": []
   },
   "outputs": [],
   "source": [
    "app = FastAPI()\n",
    "\n",
    "@app.post('/not_secure/')\n",
    "async def func1(data : secure_info):\n",
    "    return data\n",
    "\n",
    "@app.post('/secure/',response_model=user_info)\n",
    "async def func2(data : secure_info):\n",
    "    return data\n",
    "\n",
    "if __name__ == \"__main__\":\n",
    "    apply()\n",
    "    uvicorn.run(app,port=4444)"
   ]
  },
  {
   "cell_type": "code",
   "execution_count": 42,
   "id": "50e35b42-b8ef-4ca4-9181-ad045199a1bd",
   "metadata": {
    "tags": []
   },
   "outputs": [
    {
     "data": {
      "text/plain": [
       "'{\"name\":\"Mubeen\",\"password\":\"12345\"}'"
      ]
     },
     "execution_count": 42,
     "metadata": {},
     "output_type": "execute_result"
    }
   ],
   "source": [
    "data = {'name':'Mubeen','password':'12345'}\n",
    "\n",
    "res = requests.post(\"http://127.0.0.1:4444/not_secure/\",json=data)\n",
    "res.content.decode('utf-8')"
   ]
  },
  {
   "cell_type": "code",
   "execution_count": 41,
   "id": "c222288b-71f8-4585-a2f1-ef7566b0d1cc",
   "metadata": {
    "tags": []
   },
   "outputs": [
    {
     "data": {
      "text/plain": [
       "'{\"name\":\"Mubeen\"}'"
      ]
     },
     "execution_count": 41,
     "metadata": {},
     "output_type": "execute_result"
    }
   ],
   "source": [
    "data = {'name':'Mubeen','password':'12345'}\n",
    "res = requests.post(\"http://127.0.0.1:4444/secure/\",json=data)\n",
    "res.content.decode('utf-8')"
   ]
  },
  {
   "cell_type": "markdown",
   "id": "45198d9f-9438-4565-8791-647bcd585840",
   "metadata": {},
   "source": [
    "<!DOCTYPE html>\n",
    "<html lang=\"en\">\n",
    "<head>\n",
    "    <meta charset=\"UTF-8\">\n",
    "    <meta name=\"viewport\" content=\"width=device-width, initial-scale=1.0\">\n",
    "</head>\n",
    "\n",
    "<body style=\"font-family: Sans-serif;\">\n",
    "    <div style=\"color: green; font-size: 18px; font-style: oblique; text-shadow: 0 0 3px white, 0 0 1px black; border: 8px double black; padding: 20px;\">\n",
    "        <h3>Explanation:</h3>\n",
    "        <p>\n",
    "            Yahaan humne do classes define ki hain:\n",
    "        </p>\n",
    "        <ul style=\"list-style-type: disc; margin-left: 20px;\">\n",
    "            <li><strong>Users:</strong> Is class mein <code>name</code> aur <code>password</code> fields hain.</li>\n",
    "            <li><strong>Users_info:</strong> Is class mein sirf <code>name</code> field hai.</li>\n",
    "        </ul>\n",
    "        <p>\n",
    "            Do endpoints define kiye gaye hain:\n",
    "        </p>\n",
    "        <ul style=\"list-style-type: disc; margin-left: 20px;\">\n",
    "            <li>\n",
    "                <code>@app.post('/not_secure/')</code>:\n",
    "                <ul style=\"list-style-type: circle; margin-left: 20px;\">\n",
    "                    <li>Yeh endpoint <strong>Users</strong> object ko accept karta hai aur wahi object response mein return karta hai.</li>\n",
    "                </ul>\n",
    "            </li>\n",
    "            <li>\n",
    "                <code>@app.post('/secure/', response_model=Users_info)</code>:\n",
    "                <ul style=\"list-style-type: circle; margin-left: 20px;\">\n",
    "                    <li>Yeh endpoint bhi <strong>Users</strong> object ko accept karta hai, lekin response mein sirf <strong>Users_info</strong> object return karta hai.</li>\n",
    "                </ul>\n",
    "            </li>\n",
    "        </ul>\n",
    "        <h4 style=\"color: #28a745;\">Example Requests:</h4>\n",
    "        <pre style=\"background-color: #f9f9f9; padding: 10px; border: 1px solid #ccc; border-radius: 5px; overflow-x: auto;\">\n",
    "data = {'name': 'Mubeen', 'password': '12345'}\n",
    "\n",
    "res = requests.post(\"http://127.0.0.1:4444/not_secure/\", json=data)\n",
    "print(res.content.decode('utf-8'))  # Output: {\"name\": \"Mubeen\", \"password\": \"12345\"}\n",
    "\n",
    "res = requests.post(\"http://127.0.0.1:4444/secure/\", json=data)\n",
    "print(res.content.decode('utf-8'))  # Output: {\"name\": \"Mubeen\"}\n",
    "        </pre>\n",
    "        <h4 style=\"color: #d9534f;\">Note:</h4>\n",
    "        <p style=\"color: #d9534f;\">\n",
    "            <strong>response_model</strong> parameter define karta hai ki endpoint se response model kya hoga. Is example mein, <code>/secure/</code> endpoint response mein sirf <strong>Users_info</strong> object return karega, jo sirf <code>name</code> field ko include karega, <code>password</code> field ko nahi.\n",
    "        </p>\n",
    "    </div>\n",
    "</body>\n",
    "</html>\n"
   ]
  },
  {
   "cell_type": "markdown",
   "id": "ba722754-6390-4d70-9aa0-d8beb6168bcf",
   "metadata": {},
   "source": [
    "<h1 style=\"text-align:center; color:#005bbd; font-size:30px; font-family:Sans-serif; font-style: oblique; text-shadow: 0 0 3px white, 0 0 1px Black;\">JSONResponse\n",
    "</h1>"
   ]
  },
  {
   "cell_type": "markdown",
   "id": "e512ce04-bb8e-4aa7-a592-8cc4ae44b7d2",
   "metadata": {},
   "source": [
    "<div style=\"text-align:justify; color:black; font-size:20px; font-family:Sans-serif; font-style: oblique; text-shadow: 0 0 3px white, 0 0 1px black;\">\n",
    "    JSONResponse ek khas response class hai jo JSON format mein response bhejne ke liye use hoti hai. <br>Yeh aapko response content, status code, aur headers ko customize karne ki sahulat deti hai. <br>Yeh tab useful hota hai jab aapko default responses se zyada control chahiye.\n",
    "\n",
    "</div>\n"
   ]
  },
  {
   "cell_type": "code",
   "execution_count": 46,
   "id": "2c352ffa-a89f-4fe6-bb3f-1faa12e8e269",
   "metadata": {
    "tags": []
   },
   "outputs": [],
   "source": [
    "from fastapi.responses import JSONResponse"
   ]
  },
  {
   "cell_type": "code",
   "execution_count": null,
   "id": "52b40132-a6b3-4b69-ae03-181526d86fd2",
   "metadata": {},
   "outputs": [],
   "source": [
    "app = FastAPI()\n",
    "\n",
    "@app.get('/index/')\n",
    "async def index():\n",
    "    return JSONResponse(content={'message':'hello this is a custom response'})\n",
    "\n",
    "if __name__ == \"__main__\":\n",
    "    apply()\n",
    "    uvicorn.run(app,port=4444)"
   ]
  },
  {
   "cell_type": "code",
   "execution_count": 48,
   "id": "ec06490f-5eb1-4b28-9872-4ffb6508050d",
   "metadata": {
    "tags": []
   },
   "outputs": [
    {
     "data": {
      "text/plain": [
       "'{\"message\":\"hello this is a custom response\"}'"
      ]
     },
     "execution_count": 48,
     "metadata": {},
     "output_type": "execute_result"
    }
   ],
   "source": [
    "res = requests.get(\"http://127.0.0.1:4444/index/\")\n",
    "res.content.decode('utf-8')"
   ]
  },
  {
   "cell_type": "markdown",
   "id": "e643e778-0c56-43e9-8cd8-7aabe4168024",
   "metadata": {},
   "source": [
    "<h1 style=\"text-align:center; color:#005bbd; font-size:30px; font-family:Sans-serif; font-style: oblique; text-shadow: 0 0 3px white, 0 0 1px Black;\">ORJSONResponse\n",
    "</h1>\n",
    "\n"
   ]
  },
  {
   "cell_type": "markdown",
   "id": "722c2879-f588-481c-a9df-ec11a0239c7c",
   "metadata": {},
   "source": [
    "<div style=\"text-align:justify; color:black; font-size:20px; font-family:Sans-serif; font-style: oblique; text-shadow: 0 0 3px white, 0 0 1px black;\">\n",
    "ORJSONResponse Python web frameworks jese ke FastAPI mein ek tarah ka response object hota hai jo orjson library ko use karta hai JSON serialization ke liye. <br>Orjson bohot fast aur efficient hoti hai, jo ke performance-critical applications ke liye beneficial hoti hai<br>\n",
    "    <ul style=\"color:green;\">ORJSONResponse : <ul><li>Use karein jab aapko high performance aur speed chahiye, especially with large datasets.</li></ul></ul>\n",
    "    <ul style=\"color:green;\">\n",
    "    JSONResponse : <ul><li>Use karein jab aapko simplicity aur flexibility chahiye, aur performance ek major concern nahi hai.</ul>\n",
    "\n",
    "</div>\n"
   ]
  },
  {
   "cell_type": "code",
   "execution_count": 1,
   "id": "d79fa3da-a6a6-4a38-9811-f366093650b8",
   "metadata": {
    "tags": []
   },
   "outputs": [],
   "source": [
    "from fastapi.responses import ORJSONResponse"
   ]
  },
  {
   "cell_type": "code",
   "execution_count": null,
   "id": "2fb4687d-2df5-4e70-bfe4-4c8704cb2012",
   "metadata": {},
   "outputs": [],
   "source": [
    "app = FastAPI()\n",
    "\n",
    "@app.get('/index/')\n",
    "async def index():\n",
    "    return ORJSONResponse(content={'message':'hello this is a custom response'})\n",
    "\n",
    "if __name__ == \"__main__\":\n",
    "    apply()\n",
    "    uvicorn.run(app,port=4444)"
   ]
  },
  {
   "cell_type": "code",
   "execution_count": 7,
   "id": "cd0ac85e-9d75-45e9-ad44-70d02129896e",
   "metadata": {
    "tags": []
   },
   "outputs": [
    {
     "data": {
      "text/plain": [
       "'{\"message\":\"hello this is a custom response\"}'"
      ]
     },
     "execution_count": 7,
     "metadata": {},
     "output_type": "execute_result"
    }
   ],
   "source": [
    "res = requests.get(\"http://127.0.0.1:4444/index/\")\n",
    "res.content.decode('utf-8')"
   ]
  },
  {
   "cell_type": "markdown",
   "id": "3ba7e820-b023-4e07-8b13-f125a471d69d",
   "metadata": {},
   "source": [
    "<h1 style=\"text-align:center; color:#005bbd; font-size:30px; font-family:Sans-serif; font-style: oblique; text-shadow: 0 0 3px white, 0 0 1px Black;\">RedirectResponse\n",
    "</h1>\n",
    "\n"
   ]
  },
  {
   "cell_type": "markdown",
   "id": "c8764667-52f1-4a07-9d1d-0f99b187dfc4",
   "metadata": {},
   "source": [
    "<div style=\"text-align:justify; color:black; font-size:20px; font-family:Sans-serif; font-style: oblique; text-shadow: 0 0 3px white, 0 0 1px black;\">\n",
    "    RedirectResponse <br>FastAPI mein ek special response class hai jo client ko dusre URL par redirect karne ke liye istemal hoti hai\n",
    "\n",
    "</div>\n"
   ]
  },
  {
   "cell_type": "code",
   "execution_count": 50,
   "id": "2ba6bdce-45b6-498f-b129-9ed424ebe04d",
   "metadata": {
    "tags": []
   },
   "outputs": [],
   "source": [
    "from fastapi.responses import RedirectResponse"
   ]
  },
  {
   "cell_type": "code",
   "execution_count": null,
   "id": "73e276b8-6d24-4f52-bbdf-0a42d16216a6",
   "metadata": {},
   "outputs": [],
   "source": [
    "app = FastAPI()\n",
    "\n",
    "@app.get('/welcome/')\n",
    "async def welcome():\n",
    "    return JSONResponse(content={'message':'Welcome to the website'})\n",
    "\n",
    "\n",
    "@app.get('/index/')\n",
    "async def index():\n",
    "    return RedirectResponse(url='http://127.0.0.1:4444/welcome/')\n",
    "            # redirect to welcome page\n",
    "\n",
    "\n",
    "if __name__ == \"__main__\":\n",
    "    apply()\n",
    "    uvicorn.run(app,port=4444)"
   ]
  },
  {
   "cell_type": "code",
   "execution_count": 53,
   "id": "3cbfd276-2d56-4e8f-bc4d-b6bf2df1e044",
   "metadata": {
    "tags": []
   },
   "outputs": [
    {
     "data": {
      "text/plain": [
       "'{\"message\":\"Welcome to the website\"}'"
      ]
     },
     "execution_count": 53,
     "metadata": {},
     "output_type": "execute_result"
    }
   ],
   "source": [
    "res = requests.get(\"http://127.0.0.1:4444/index/\")\n",
    "res.content.decode('utf-8')"
   ]
  },
  {
   "cell_type": "markdown",
   "id": "a295b778-ae8c-4bad-91f3-4a2ad5cb02a9",
   "metadata": {},
   "source": [
    "<h1 style=\"text-align:center; color:#005bbd; font-size:30px; font-family:Sans-serif; font-style: oblique; text-shadow: 0 0 3px white, 0 0 1px Black;\">jsonable_encoder\n",
    "</h1>"
   ]
  },
  {
   "cell_type": "markdown",
   "id": "88eebc7a-e6c8-463e-bfe7-2e54d2f16f8f",
   "metadata": {},
   "source": [
    "<div style=\"text-align:justify; color:black; font-size:20px; font-family:Sans-serif; font-style: oblique; text-shadow: 0 0 3px white, 0 0 1px black;\">\n",
    "jsonable_encoder data type ko JSON ke compatible format mein convert karne ke liye istemal hota hai. <br>Iska istemal karte waqt, aap kisi bhi data ko (jaise Pydantic model) JSON ke compatible data type mein convert kar sakte hain (jaise dict, list, etc.).\n",
    "</div>\n"
   ]
  },
  {
   "cell_type": "code",
   "execution_count": 80,
   "id": "77350c97-beb1-4685-a3d5-85ce1e3bdd9e",
   "metadata": {
    "tags": []
   },
   "outputs": [],
   "source": [
    "from fastapi.encoders import jsonable_encoder\n",
    "fake_db = {}"
   ]
  },
  {
   "cell_type": "code",
   "execution_count": 87,
   "id": "011fb28e-9d4c-410f-822c-15a8196484d6",
   "metadata": {
    "tags": []
   },
   "outputs": [],
   "source": [
    "class Item(BaseModel):\n",
    "    title: str\n",
    "    description: str | None = None\n",
    "\n",
    "\n",
    "app = FastAPI()\n",
    "@app.post(\"/items/{id}\")\n",
    "def update_item(id: str, item: Item):\n",
    "    \n",
    "    json_compatible_item_data = jsonable_encoder(item)\n",
    "    fake_db[id] = json_compatible_item_data\n",
    "    \n",
    "    return JSONResponse(content={'message':'database updated'})\n",
    "\n",
    "\n",
    "if __name__ == \"__main__\":\n",
    "    apply()\n",
    "    uvicorn.run(app,port=4444)"
   ]
  },
  {
   "cell_type": "code",
   "execution_count": 94,
   "id": "f3c705df-c69d-4a58-94fe-0b9b52ebe2b8",
   "metadata": {
    "tags": []
   },
   "outputs": [
    {
     "data": {
      "text/plain": [
       "'{\"message\":\"database updated\"}'"
      ]
     },
     "execution_count": 94,
     "metadata": {},
     "output_type": "execute_result"
    }
   ],
   "source": [
    "data = {'title':'test','description':'this is a test'}\n",
    "res = requests.post(\"http://127.0.0.1:4444/items/1\",json=data)\n",
    "res.content.decode('utf-8')"
   ]
  },
  {
   "cell_type": "code",
   "execution_count": 95,
   "id": "42697982-4eba-49ad-8f5e-9c239e62d8ce",
   "metadata": {
    "tags": []
   },
   "outputs": [
    {
     "data": {
      "text/plain": [
       "{'1': {'title': 'test', 'description': 'this is a test'}}"
      ]
     },
     "execution_count": 95,
     "metadata": {},
     "output_type": "execute_result"
    }
   ],
   "source": [
    "fake_db"
   ]
  },
  {
   "cell_type": "markdown",
   "id": "56fbde00-6c5b-42e0-91a3-7d00641965ec",
   "metadata": {},
   "source": [
    "<h1 style=\"text-align:center; color:#005bbd; font-size:30px; font-family:Sans-serif; font-style: oblique; text-shadow: 0 0 3px white, 0 0 1px Black;\">response_class (Route Parameter)\n",
    "</h1>"
   ]
  },
  {
   "cell_type": "markdown",
   "id": "46d2ff5a-493d-4f9a-a404-1e762a69d2a9",
   "metadata": {},
   "source": [
    "<div style=\"text-align:justify; color:black; font-size:20px; font-family:Sans-serif; font-style: oblique; text-shadow: 0 0 3px white, 0 0 1px black;\">\n",
    "FastAPI mein response_class ka use tab hota hai jab aapko specific response type define karna ho jo endpoint se return hoga. <br><br>response_class use karne se aap explicitly specify kar sakte hain ke aapko kaunsa content type return karna hai. Yeh code ko zyada readable aur maintainable banata hai.<br>\n",
    "Headers me info hoti hn data kis type me return ho ga\n",
    "</div>\n",
    "\n"
   ]
  },
  {
   "cell_type": "code",
   "execution_count": 10,
   "id": "b8680f32-499e-416e-a51a-842204f594bb",
   "metadata": {
    "tags": []
   },
   "outputs": [],
   "source": [
    "from fastapi.responses import ORJSONResponse\n",
    "app = FastAPI()\n",
    "\n",
    "@app.get('/index/',response_class=ORJSONResponse)\n",
    "async def index():\n",
    "    return ORJSONResponse(content={'message':'hello this is a custom response'})\n",
    "\n",
    "if __name__ == \"__main__\":\n",
    "    apply()\n",
    "    uvicorn.run(app,port=4444)"
   ]
  },
  {
   "cell_type": "code",
   "execution_count": 11,
   "id": "71fa1239-15eb-4c80-9dc8-3053c3d70729",
   "metadata": {
    "tags": []
   },
   "outputs": [
    {
     "data": {
      "text/plain": [
       "'{\"message\":\"hello this is a custom response\"}'"
      ]
     },
     "execution_count": 11,
     "metadata": {},
     "output_type": "execute_result"
    }
   ],
   "source": [
    "res = requests.get(\"http://127.0.0.1:4444/index/\")\n",
    "res.content.decode('utf-8')"
   ]
  },
  {
   "cell_type": "markdown",
   "id": "32a4ff31-8f88-470a-9df8-2720032cf398",
   "metadata": {},
   "source": [
    "<div style=\"text-align:justify; color:black; font-size:20px; font-family:Sans-serif; font-style: oblique; text-shadow: 0 0 3px white, 0 0 1px black;\">\n",
    "Check Headers</div>\n"
   ]
  },
  {
   "cell_type": "code",
   "execution_count": 15,
   "id": "4493c14e-2f39-43fa-977f-88b4e8c2bb2a",
   "metadata": {
    "tags": []
   },
   "outputs": [
    {
     "data": {
      "text/plain": [
       "'application/json'"
      ]
     },
     "execution_count": 15,
     "metadata": {},
     "output_type": "execute_result"
    }
   ],
   "source": [
    "res = requests.get(\"http://127.0.0.1:4444/index/\")\n",
    "res.headers.get('content-type')"
   ]
  },
  {
   "cell_type": "markdown",
   "id": "8034a660-1e74-43b3-b3d9-067881d17f93",
   "metadata": {},
   "source": [
    "<div style=\"text-align:justify; color:black; font-size:20px; font-family:Sans-serif; font-style: oblique; text-shadow: 0 0 3px white, 0 0 1px black;\">\n",
    "Use Direct response_class in route</div>\n",
    "\n"
   ]
  },
  {
   "cell_type": "code",
   "execution_count": 24,
   "id": "de37ee0f-7d97-476f-a19c-534c8e39d7f0",
   "metadata": {
    "tags": []
   },
   "outputs": [],
   "source": [
    "app = FastAPI()\n",
    "\n",
    "@app.get('/index/',response_class=ORJSONResponse)\n",
    "async def index():\n",
    "    return {'message':'hello this is a custom response'}\n",
    "\n",
    "if __name__ == \"__main__\":\n",
    "    apply()\n",
    "    uvicorn.run(app,port=4444)"
   ]
  },
  {
   "cell_type": "code",
   "execution_count": 29,
   "id": "4f22cce5-d2f0-42f8-a6b6-afb6871480ae",
   "metadata": {
    "tags": []
   },
   "outputs": [
    {
     "data": {
      "text/plain": [
       "'{\"message\":\"hello this is a custom response\"}'"
      ]
     },
     "execution_count": 29,
     "metadata": {},
     "output_type": "execute_result"
    }
   ],
   "source": [
    "res = requests.get(\"http://127.0.0.1:4444/index/\")\n",
    "res.content.decode('utf-8')"
   ]
  },
  {
   "cell_type": "markdown",
   "id": "16938530-75e0-45e7-88a9-653a108e8bdc",
   "metadata": {},
   "source": [
    "<div style=\"text-align:justify; color:black; font-size:20px; font-family:Sans-serif; font-style: oblique; text-shadow: 0 0 3px white, 0 0 1px black;\">  \n",
    "    <ul>Readability :<ul><li>response_class se code readable aur clear hota hai.</li></ul></ul>\n",
    "<ul>Performance :<ul><li>Kuch response classes performance optimizations provide karte hain.</li></ul></ul>\n",
    "<ul>Flexibility :<ul><li>Specific content types aur custom responses create karne ki flexibility milti hai.</li></ul></ul>\n",
    "<ul>Maintainability:<ul><li>Code ko maintain karna asaan hota hai jab clearly specify ho ke kaunsa response type use ho raha hai.</li></ul></ul><br>\n",
    "\n",
    "Is tarah, response_class ka use sirf code ki readability increase nahi karta, balki overall application ke performance, flexibility, aur maintainability ko bhi improve karta hai.\n",
    "</div>\n",
    "\n",
    "\n"
   ]
  },
  {
   "cell_type": "markdown",
   "id": "c45709d0-fe7f-4927-a2d9-2364563a076f",
   "metadata": {},
   "source": [
    "<h1 style=\"text-align:center; color:#005bbd; font-size:30px; font-family:Sans-serif; font-style: oblique; text-shadow: 0 0 3px white, 0 0 1px Black;\">PlainTextResponse\n",
    "</h1>"
   ]
  },
  {
   "cell_type": "markdown",
   "id": "7fefa426-12f3-403b-8d04-1223248d344f",
   "metadata": {},
   "source": [
    "<div style=\"text-align:justify; color:black; font-size:20px; font-family:Sans-serif; font-style: oblique; text-shadow: 0 0 3px white, 0 0 1px black;\">\n",
    "PlainTextResponse Simple Plain text response return karne ke liye use hota hai.\n",
    "</div>\n",
    "\n"
   ]
  },
  {
   "cell_type": "code",
   "execution_count": 22,
   "id": "0dd54a1b-e371-41d7-89ea-591bedd413fa",
   "metadata": {
    "tags": []
   },
   "outputs": [],
   "source": [
    "from fastapi.responses import PlainTextResponse"
   ]
  },
  {
   "cell_type": "code",
   "execution_count": null,
   "id": "e637c712-deda-4b3e-a567-d20b5c3fbfea",
   "metadata": {},
   "outputs": [],
   "source": [
    "app = FastAPI()\n",
    "\n",
    "@app.get('/index/',response_class=PlainTextResponse)\n",
    "async def index():\n",
    "    return PlainTextResponse(content='hello this is a custom response')\n",
    "\n",
    "if __name__ == \"__main__\":\n",
    "    apply()\n",
    "    uvicorn.run(app,port=4444)"
   ]
  },
  {
   "cell_type": "code",
   "execution_count": 31,
   "id": "983a4c18-22dd-4bb9-8e71-10500a0ca44e",
   "metadata": {
    "tags": []
   },
   "outputs": [
    {
     "data": {
      "text/plain": [
       "'hello this is a custom response'"
      ]
     },
     "execution_count": 31,
     "metadata": {},
     "output_type": "execute_result"
    }
   ],
   "source": [
    "res = requests.get(\"http://127.0.0.1:4444/index/\")\n",
    "res.content.decode('utf-8')"
   ]
  },
  {
   "cell_type": "code",
   "execution_count": 33,
   "id": "81dc4580-04ad-49cb-989a-f30e3861603b",
   "metadata": {
    "tags": []
   },
   "outputs": [
    {
     "data": {
      "text/plain": [
       "'text/plain; charset=utf-8'"
      ]
     },
     "execution_count": 33,
     "metadata": {},
     "output_type": "execute_result"
    }
   ],
   "source": [
    "res.headers.get('content-type')"
   ]
  },
  {
   "cell_type": "markdown",
   "id": "5dc6d6f3-dc56-4f3c-96eb-1a19e5735354",
   "metadata": {},
   "source": [
    "<h1 style=\"text-align:center; color:#005bbd; font-size:30px; font-family:Sans-serif; font-style: oblique; text-shadow: 0 0 3px white, 0 0 1px Black;\">HTMLResponse\n",
    "</h1>"
   ]
  },
  {
   "cell_type": "markdown",
   "id": "305b74c7-3d57-4961-b758-df93b51d2f4b",
   "metadata": {},
   "source": [
    "<div style=\"text-align:justify; color:black; font-size:20px; font-family:Sans-serif; font-style: oblique; text-shadow: 0 0 3px white, 0 0 1px black;\">\n",
    "HTMLResponse FastAPI mein use HTML content ko return karta hn. \n",
    "</div>\n"
   ]
  },
  {
   "cell_type": "code",
   "execution_count": 34,
   "id": "0fad9009-4f66-4417-9b2f-3fda7950155b",
   "metadata": {
    "tags": []
   },
   "outputs": [],
   "source": [
    "from fastapi.responses import HTMLResponse"
   ]
  },
  {
   "cell_type": "code",
   "execution_count": null,
   "id": "58fac436-3a5c-4a9e-80dc-f6cd26c27bb7",
   "metadata": {},
   "outputs": [],
   "source": [
    "app = FastAPI()\n",
    "\n",
    "@app.get(\"/html\", response_class=HTMLResponse)\n",
    "async def get_html():\n",
    "    html_content = \"\"\"\n",
    "    <html>\n",
    "        <head>\n",
    "            <title>HTML Response</title>\n",
    "        </head>\n",
    "        <body>\n",
    "            <h1>Hello World</h1>\n",
    "        </body>\n",
    "    </html>\n",
    "    \"\"\"\n",
    "    return HTMLResponse(content=html_content)\n",
    "\n",
    "if __name__ == \"__main__\":\n",
    "    apply()\n",
    "    uvicorn.run(app,port=4444)"
   ]
  },
  {
   "cell_type": "code",
   "execution_count": 3,
   "id": "4d3c450b-9820-41c8-b5c2-887e1f9fc51b",
   "metadata": {
    "tags": []
   },
   "outputs": [
    {
     "name": "stdout",
     "output_type": "stream",
     "text": [
      "\n",
      "    <html>\n",
      "        <head>\n",
      "            <title>HTML Response</title>\n",
      "        </head>\n",
      "        <body>\n",
      "            <h1>Hello World</h1>\n",
      "        </body>\n",
      "    </html>\n",
      "    \n"
     ]
    }
   ],
   "source": [
    "res = requests.get(\"http://127.0.0.1:4444/html/\")\n",
    "print(res.content.decode('utf-8'))"
   ]
  },
  {
   "cell_type": "code",
   "execution_count": 5,
   "id": "1101b4fd-0481-4b05-aec7-bc4ee3c4d8ba",
   "metadata": {
    "tags": []
   },
   "outputs": [
    {
     "name": "stdout",
     "output_type": "stream",
     "text": [
      "text/html; charset=utf-8\n"
     ]
    }
   ],
   "source": [
    "print(res.headers.get('content-type'))"
   ]
  },
  {
   "cell_type": "markdown",
   "id": "8e88d97e-3a73-474d-8240-97d4d82e6406",
   "metadata": {},
   "source": [
    "<div style=\"text-align:justify; color:black; font-size:20px; font-family:Sans-serif; font-style: oblique; text-shadow: 0 0 3px white, 0 0 1px black;\">\n",
    "Looks like in browser page like this </div>\n"
   ]
  },
  {
   "cell_type": "markdown",
   "id": "cc2565dd-6dd8-4372-a034-66c9e1906140",
   "metadata": {},
   "source": [
    "<html>\n",
    "        <head>\n",
    "            <title>HTML Response</title>\n",
    "        </head>\n",
    "        <body>\n",
    "            <h1>Hello World</h1>\n",
    "        </body>\n",
    "    </html>"
   ]
  },
  {
   "cell_type": "markdown",
   "id": "2e59312b-8594-42f9-b475-8497aa87bdc8",
   "metadata": {},
   "source": [
    "<h1 style=\"text-align:center; color:#005bbd; font-size:30px; font-family:Sans-serif; font-style: oblique; text-shadow: 0 0 3px white, 0 0 1px Black;\">Response (Custom Response)\n",
    "</h1>"
   ]
  },
  {
   "cell_type": "markdown",
   "id": "c2f0de04-c773-4050-bf64-b73bd70746ac",
   "metadata": {
    "tags": []
   },
   "source": [
    "<div style=\"text-align:justify; color:black; font-size:20px; font-family:Sans-serif; font-style: oblique; text-shadow: 0 0 3px white, 0 0 1px black;\">\n",
    "FastAPI mein custom response create karna aur headers set karna kaafi asaan hai. Custom response create karne ke liye aap fastapi.responses.Response class ka use kar sakte hain. <br><br>Headers HTTP responses ka ek important hissa hote hain jo client aur server ke beech mein additional information pass karte hain, jese content type, cache control, authorization information, etc.</div>"
   ]
  },
  {
   "cell_type": "code",
   "execution_count": 9,
   "id": "b0348376-1f48-4eac-97a6-a122433826c4",
   "metadata": {
    "tags": []
   },
   "outputs": [],
   "source": [
    "from fastapi.responses import Response, PlainTextResponse"
   ]
  },
  {
   "cell_type": "code",
   "execution_count": 10,
   "id": "f4f7ec90-9fcf-4940-a9a0-ddba2656f3d8",
   "metadata": {
    "tags": []
   },
   "outputs": [],
   "source": [
    "app = FastAPI()\n",
    "\n",
    "@app.get('/index/',response_class=PlainTextResponse)\n",
    "async def index():\n",
    "    \n",
    "    content = \"This is a custom response\"\n",
    "    headers = {\"X-Custom-Header\": \"Custom header value\"}\n",
    "    media_type = 'text/plain;'\n",
    "    \n",
    "    return Response(content=content, headers=headers, media_type=media_type)\n",
    "\n",
    "if __name__ == \"__main__\":\n",
    "    apply()\n",
    "    uvicorn.run(app,port=4444)"
   ]
  },
  {
   "cell_type": "code",
   "execution_count": 11,
   "id": "950cb285-d9b6-4e48-a276-fd34307fdfda",
   "metadata": {
    "tags": []
   },
   "outputs": [
    {
     "name": "stdout",
     "output_type": "stream",
     "text": [
      "This is a custom response\n"
     ]
    }
   ],
   "source": [
    "res = requests.get(\"http://127.0.0.1:4444/index/\")\n",
    "print(res.content.decode('utf-8'))"
   ]
  },
  {
   "cell_type": "code",
   "execution_count": 12,
   "id": "da75d961-7037-4fc5-a94e-729299cf70d1",
   "metadata": {
    "tags": []
   },
   "outputs": [
    {
     "name": "stdout",
     "output_type": "stream",
     "text": [
      "{'date': 'Sat, 01 Jun 2024 21:06:48 GMT', 'server': 'uvicorn', 'x-custom-header': 'Custom header value', 'content-length': '25', 'content-type': 'text/plain;; charset=utf-8'}\n"
     ]
    }
   ],
   "source": [
    "print(res.headers)"
   ]
  },
  {
   "cell_type": "markdown",
   "id": "efd04f8e-8427-4919-9db1-79f5b60f79b1",
   "metadata": {},
   "source": [
    "<h1 style=\"text-align:center; color:#005bbd; font-size:30px; font-family:Sans-serif; font-style: oblique; text-shadow: 0 0 3px white, 0 0 1px Black;\">StreamingResponse\n",
    "</h1>\n"
   ]
  },
  {
   "cell_type": "markdown",
   "id": "cc746a5c-17c0-492f-8c47-f7ba0d22fdee",
   "metadata": {},
   "source": [
    "<div style=\"text-align:justify; color:black; font-size:20px; font-family:Sans-serif; font-style: oblique; text-shadow: 0 0 3px white, 0 0 1px black;\">\n",
    "FastAPI mein StreamingResponse ka kaam yeh hota hai ke yeh large data ya continuous data streams ko efficiently serve kar sake. <br><br>Yeh tab useful hota hai jab aapko large files, real-time data streams, ya long-running data responses serve karne hote hain.<br><br>StreamingResponse response body ko chunks mein client ko bhejta hai, jo ke memory efficient aur faster hota hai, especially jab data continuously generate ho raha ho.<br><br>\n",
    "    <ul>Use Cases of StreamingResponse :\n",
    "        <ul><ul><li>Large File Downloads: Large files ko stream karke download karna.</li></ul></ul><br>\n",
    "    <ul><ul><li>Real-Time Data: Real-time data streams jese live video feeds ya live logs.</ul></ul><br>\n",
    "    <ul><ul><li>Long-Running Processes: Long-running processes jese large dataset processing jahan response time zyada ho sakta hai.</ul></ul><br>\n",
    "    <ul><ul><li>Generating Data on the Fly: Dynamic content generation jese CSV files ya reports jo runtime pe generate ho rahi ho.</ul></ul><br>\n",
    "    </ul>\n",
    "</div>\n",
    "\n"
   ]
  },
  {
   "cell_type": "code",
   "execution_count": 13,
   "id": "e0599587-b017-4002-9e2f-8a41f4c4a345",
   "metadata": {
    "tags": []
   },
   "outputs": [],
   "source": [
    "from fastapi.responses import StreamingResponse"
   ]
  },
  {
   "cell_type": "markdown",
   "id": "0822c9a5-9914-4712-a589-d3dbeb50b455",
   "metadata": {},
   "source": [
    "<div style=\"text-align:justify; color:black; font-size:20px; font-family:Sans-serif; font-style: oblique; text-shadow: 0 0 3px white, 0 0 1px black;\">\n",
    "Read Bytes Video in chunks</div>"
   ]
  },
  {
   "cell_type": "code",
   "execution_count": 81,
   "id": "56ebdf64-0d9d-47b1-ad31-03193738267e",
   "metadata": {
    "tags": []
   },
   "outputs": [],
   "source": [
    "app = FastAPI()\n",
    "\n",
    "CHUNK_SIZE = 1024*1024 # 1 Mb per chunk\n",
    "path = '../temp/sample.mp4'\n",
    "\n",
    "async def read_video_chunks(file_path):\n",
    "    with open(file_path, \"rb\") as video_file:\n",
    "        while True:\n",
    "            chunk = video_file.read(CHUNK_SIZE)\n",
    "            if not chunk:\n",
    "                break\n",
    "            yield chunk\n",
    "        \n",
    "@app.get(\"/\")\n",
    "async def main():\n",
    "    return StreamingResponse(read_video_chunks(path) ,media_type=\"video/mp4\")"
   ]
  },
  {
   "cell_type": "code",
   "execution_count": 86,
   "id": "dc98af56-669e-4c0b-8aa8-d83697e2b48e",
   "metadata": {
    "tags": []
   },
   "outputs": [
    {
     "name": "stdout",
     "output_type": "stream",
     "text": [
      "{'date': 'Sat, 01 Jun 2024 22:12:49 GMT', 'server': 'uvicorn', 'content-type': 'video/mp4', 'Transfer-Encoding': 'chunked'}\n"
     ]
    }
   ],
   "source": [
    "res = requests.get(\"http://127.0.0.1:4444/\")\n",
    "print(res.headers)"
   ]
  },
  {
   "cell_type": "markdown",
   "id": "f0aaf8ba-c0e7-4da9-bfd1-62140f522211",
   "metadata": {},
   "source": [
    "<div style=\"text-align:justify; color:black; font-size:20px; font-family:Sans-serif; font-style: oblique; text-shadow: 0 0 3px white, 0 0 1px black;\">\n",
    "Here i use IPython.display only for display video in notes </div>"
   ]
  },
  {
   "cell_type": "code",
   "execution_count": 99,
   "id": "6906196b-9c29-4960-9225-9eecf80e6708",
   "metadata": {
    "tags": []
   },
   "outputs": [
    {
     "data": {
      "text/html": [
       "<video src=\"http://127.0.0.1:4444/\" controls  width=\"400\"  height=\"400\">\n",
       "      Your browser does not support the <code>video</code> element.\n",
       "    </video>"
      ],
      "text/plain": [
       "<IPython.core.display.Video object>"
      ]
     },
     "execution_count": 99,
     "metadata": {},
     "output_type": "execute_result"
    }
   ],
   "source": [
    "from IPython.display import Video\n",
    "Video('http://127.0.0.1:4444/', width=400, height=400)"
   ]
  }
 ],
 "metadata": {
  "kernelspec": {
   "display_name": "Python 3 (ipykernel)",
   "language": "python",
   "name": "python3"
  },
  "language_info": {
   "codemirror_mode": {
    "name": "ipython",
    "version": 3
   },
   "file_extension": ".py",
   "mimetype": "text/x-python",
   "name": "python",
   "nbconvert_exporter": "python",
   "pygments_lexer": "ipython3",
   "version": "3.10.12"
  }
 },
 "nbformat": 4,
 "nbformat_minor": 5
}
