{
 "cells": [
  {
   "cell_type": "markdown",
   "id": "0da1574e-3b71-4c7d-8b65-1dfd7dbed75b",
   "metadata": {},
   "source": [
    "<h1 style=\"text-align:center; color:#005bbd; font-size:30px; font-family:Sans-serif; font-style: oblique; text-shadow: 0 0 3px white, 0 0 1px Black;\">Response Model Return</h1>"
   ]
  },
  {
   "cell_type": "markdown",
   "id": "c8a74599-069a-490e-8e75-1c7cfa822141",
   "metadata": {},
   "source": [
    "<div style=\"text-align:justify; color:black; font-size:20px; font-family:Sans-serif; font-style: oblique; text-shadow: 0 0 3px white, 0 0 1px black;\">response_model ka use primarily response data ko validate karne aur filter karne ke liye hota hai.<br>\n",
    "Ye ensure karta hai ke response data bhi defined schema ke mutabiq ho, sirf input data ke validation ke ilawa.\n",
    "</div>"
   ]
  },
  {
   "cell_type": "code",
   "execution_count": 16,
   "id": "b37a74b1-b7f2-4092-96dd-35a2165f8615",
   "metadata": {},
   "outputs": [],
   "source": [
    "import json\n",
    "from typing import Annotated\n",
    "\n",
    "import nest_asyncio\n",
    "import requests\n",
    "import uvicorn\n",
    "from fastapi import FastAPI, Query,Path,Body\n",
    "from pydantic import BaseModel"
   ]
  },
  {
   "cell_type": "code",
   "execution_count": 15,
   "id": "d04e8cf4-eecd-44a9-855f-e86c67d1b453",
   "metadata": {},
   "outputs": [],
   "source": [
    "app = FastAPI()\n",
    "\n",
    "class UserInput(BaseModel):\n",
    "    username: str\n",
    "    password: str  # Sensitive field\n",
    "\n",
    "class UserOutput(BaseModel):\n",
    "    username: str\n",
    "\n",
    "\n",
    "@app.post(\"/notsecure/\")\n",
    "async def create_user(user: UserInput):\n",
    "    return user  \n",
    "\n",
    "\n",
    "@app.post(\"/secure/\", response_model=UserOutput)\n",
    "async def create_user(user: UserInput):\n",
    "    return user\n",
    "    \n",
    "\n",
    "if __name__ == \"__main__\":\n",
    "    nest_asyncio.apply()\n",
    "    uvicorn.run(app, port=4444)"
   ]
  },
  {
   "cell_type": "code",
   "execution_count": 17,
   "id": "3db5d060-b3d1-4c12-84c7-bc2ed709ba3a",
   "metadata": {},
   "outputs": [
    {
     "data": {
      "text/plain": [
       "'{\"username\":\"Mubeen112\",\"password\":\"12345\"}'"
      ]
     },
     "execution_count": 17,
     "metadata": {},
     "output_type": "execute_result"
    }
   ],
   "source": [
    "req = requests.post(\"http://127.0.0.1:4444/notsecure/\", json={'username':'Mubeen112','password':'12345'})\n",
    "req.content.decode(\"utf-8\")"
   ]
  },
  {
   "cell_type": "code",
   "execution_count": 18,
   "id": "35bde021-454f-4145-bb5f-3c72743beacf",
   "metadata": {},
   "outputs": [
    {
     "data": {
      "text/plain": [
       "'{\"username\":\"Mubeen112\"}'"
      ]
     },
     "execution_count": 18,
     "metadata": {},
     "output_type": "execute_result"
    }
   ],
   "source": [
    "req = requests.post(\"http://127.0.0.1:4444/secure/\", json={'username':'Mubeen112','password':'12345'})\n",
    "req.content.decode(\"utf-8\")"
   ]
  },
  {
   "cell_type": "markdown",
   "id": "cbe08ccb-0135-49ae-adbc-0ae92eb79878",
   "metadata": {},
   "source": [
    "<!DOCTYPE html>\n",
    "<html lang=\"en\">\n",
    "<head>\n",
    "    <meta charset=\"UTF-8\">\n",
    "    <meta name=\"viewport\" content=\"width=device-width, initial-scale=1.0\">\n",
    "</head>\n",
    "<body style=\"font-family: Sans-serif;\">\n",
    "    <div style=\"color: green; font-size: 18px; font-style: oblique; text-shadow: 0 0 3px white, 0 0 1px black; border: 8px double black; padding: 20px;\">\n",
    "    <p>Yahan, do endpoints hain: <code>/notsecure/</code> aur <code>/secure/</code>.</p>\n",
    "    <h2 style=\"color: #28a745;\">/notsecure/ Endpoint:</h2>\n",
    "    <p>Yeh endpoint <strong>UserInput</strong> model ka istemal karta hai. Jab client is endpoint par POST request karta hai, toh wo <code>username</code> aur <code>password</code> dono ko bhejta hai. Lekin password sensitive information hai, isliye is endpoint ke response mein bhi password shamil hota hai.</p>\n",
    "    <h2 style=\"color: #28a745;\">/secure/ Endpoint:</h2>\n",
    "    <p>Yeh endpoint bhi <strong>UserInput</strong> model ka istemal karta hai, lekin iska response model <strong>UserOutput</strong> hai, jisme sirf <code>username</code> shamil hota hai. Is endpoint ke response mein password nahi aata hai, isliye yeh secure hai.</p>\n",
    "</div>\n",
    "\n",
    "</body>\n",
    "</html>\n"
   ]
  }
 ],
 "metadata": {
  "kernelspec": {
   "display_name": "Python 3 (ipykernel)",
   "language": "python",
   "name": "python3"
  },
  "language_info": {
   "codemirror_mode": {
    "name": "ipython",
    "version": 3
   },
   "file_extension": ".py",
   "mimetype": "text/x-python",
   "name": "python",
   "nbconvert_exporter": "python",
   "pygments_lexer": "ipython3",
   "version": "3.12.1"
  }
 },
 "nbformat": 4,
 "nbformat_minor": 5
}
