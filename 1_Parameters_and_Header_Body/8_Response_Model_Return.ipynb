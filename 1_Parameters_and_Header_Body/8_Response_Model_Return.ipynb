{
 "cells": [
  {
   "cell_type": "markdown",
   "id": "8dd1221c-c9fa-4785-b277-65aba5a18e96",
   "metadata": {},
   "source": [
    "<h1 style=\"text-align:center; color:#005bbd; font-size:30px; font-family:Sans-serif; font-style: oblique; text-shadow: 0 0 3px white, 0 0 1px Black;\">response_model</h1>"
   ]
  },
  {
   "cell_type": "markdown",
   "id": "e0dc70a8-5d03-4ede-8d13-93d7fb7f9f27",
   "metadata": {},
   "source": [
    "<div style=\"text-align:justify; color:black; font-size:20px; font-family:Sans-serif; font-style: oblique; text-shadow: 0 0 3px white, 0 0 1px black;\">\n",
    "    response_model ka kaam yeh hota hai ke woh response data ko filter <br>aur validate karta hai jo aapke endpoint se return hota hai.<br><br>Iska matlab yeh hai ke agar aap ek detailed object return karte hain <br>jismein sensitive information bhi ho sakti hai, <br>to response_model use karne se aap specify kar sakte hain <br>ke sirf kaunse fields response mein dikhaye jayein.\n",
    "</div>\n"
   ]
  },
  {
   "cell_type": "code",
   "execution_count": 5,
   "id": "9891f4c6-3c90-4961-8e76-65f0aa975a66",
   "metadata": {
    "tags": []
   },
   "outputs": [],
   "source": [
    "import requests\n",
    "from fastapi import FastAPI\n",
    "from pydantic import BaseModel\n",
    "from nest_asyncio import apply\n",
    "import uvicorn"
   ]
  },
  {
   "cell_type": "code",
   "execution_count": 36,
   "id": "46d010f8-b91b-462d-af0f-15fd3ffb44ea",
   "metadata": {
    "tags": []
   },
   "outputs": [],
   "source": [
    "class Users(BaseModel):\n",
    "    name : str\n",
    "    password : str\n",
    "    \n",
    "class Users_info(BaseModel):\n",
    "    name : str\n",
    "    "
   ]
  },
  {
   "cell_type": "code",
   "execution_count": 14,
   "id": "2e0b865b-0fd8-4595-a7e2-e756ec9d73ef",
   "metadata": {
    "tags": []
   },
   "outputs": [],
   "source": [
    "app = FastAPI()\n",
    "\n",
    "@app.post('/not_secure/')\n",
    "async def func1(data : secure_info):\n",
    "    return data\n",
    "\n",
    "@app.post('/secure/',response_model=user_info)\n",
    "async def func2(data : secure_info):\n",
    "    return data\n",
    "\n",
    "if __name__ == \"__main__\":\n",
    "    apply()\n",
    "    uvicorn.run(app,port=4444)"
   ]
  },
  {
   "cell_type": "code",
   "execution_count": 42,
   "id": "50e35b42-b8ef-4ca4-9181-ad045199a1bd",
   "metadata": {
    "tags": []
   },
   "outputs": [
    {
     "data": {
      "text/plain": [
       "'{\"name\":\"Mubeen\",\"password\":\"12345\"}'"
      ]
     },
     "execution_count": 42,
     "metadata": {},
     "output_type": "execute_result"
    }
   ],
   "source": [
    "data = {'name':'Mubeen','password':'12345'}\n",
    "\n",
    "res = requests.post(\"http://127.0.0.1:4444/not_secure/\",json=data)\n",
    "res.content.decode('utf-8')"
   ]
  },
  {
   "cell_type": "code",
   "execution_count": 41,
   "id": "c222288b-71f8-4585-a2f1-ef7566b0d1cc",
   "metadata": {
    "tags": []
   },
   "outputs": [
    {
     "data": {
      "text/plain": [
       "'{\"name\":\"Mubeen\"}'"
      ]
     },
     "execution_count": 41,
     "metadata": {},
     "output_type": "execute_result"
    }
   ],
   "source": [
    "data = {'name':'Mubeen','password':'12345'}\n",
    "res = requests.post(\"http://127.0.0.1:4444/secure/\",json=data)\n",
    "res.content.decode('utf-8')"
   ]
  },
  {
   "cell_type": "markdown",
   "id": "45198d9f-9438-4565-8791-647bcd585840",
   "metadata": {},
   "source": [
    "<!DOCTYPE html>\n",
    "<html lang=\"en\">\n",
    "<head>\n",
    "    <meta charset=\"UTF-8\">\n",
    "    <meta name=\"viewport\" content=\"width=device-width, initial-scale=1.0\">\n",
    "</head>\n",
    "\n",
    "<body style=\"font-family: Sans-serif;\">\n",
    "    <div style=\"color: green; font-size: 18px; font-style: oblique; text-shadow: 0 0 3px white, 0 0 1px black; border: 8px double black; padding: 20px;\">\n",
    "        <h3>Explanation:</h3>\n",
    "        <p>\n",
    "            Yahaan humne do classes define ki hain:\n",
    "        </p>\n",
    "        <ul style=\"list-style-type: disc; margin-left: 20px;\">\n",
    "            <li><strong>Users:</strong> Is class mein <code>name</code> aur <code>password</code> fields hain.</li>\n",
    "            <li><strong>Users_info:</strong> Is class mein sirf <code>name</code> field hai.</li>\n",
    "        </ul>\n",
    "        <p>\n",
    "            Do endpoints define kiye gaye hain:\n",
    "        </p>\n",
    "        <ul style=\"list-style-type: disc; margin-left: 20px;\">\n",
    "            <li>\n",
    "                <code>@app.post('/not_secure/')</code>:\n",
    "                <ul style=\"list-style-type: circle; margin-left: 20px;\">\n",
    "                    <li>Yeh endpoint <strong>Users</strong> object ko accept karta hai aur wahi object response mein return karta hai.</li>\n",
    "                </ul>\n",
    "            </li>\n",
    "            <li>\n",
    "                <code>@app.post('/secure/', response_model=Users_info)</code>:\n",
    "                <ul style=\"list-style-type: circle; margin-left: 20px;\">\n",
    "                    <li>Yeh endpoint bhi <strong>Users</strong> object ko accept karta hai, lekin response mein sirf <strong>Users_info</strong> object return karta hai.</li>\n",
    "                </ul>\n",
    "            </li>\n",
    "        </ul>\n",
    "        <h4 style=\"color: #28a745;\">Example Requests:</h4>\n",
    "        <pre style=\"background-color: #f9f9f9; padding: 10px; border: 1px solid #ccc; border-radius: 5px; overflow-x: auto;\">\n",
    "data = {'name': 'Mubeen', 'password': '12345'}\n",
    "\n",
    "res = requests.post(\"http://127.0.0.1:4444/not_secure/\", json=data)\n",
    "print(res.content.decode('utf-8'))  # Output: {\"name\": \"Mubeen\", \"password\": \"12345\"}\n",
    "\n",
    "res = requests.post(\"http://127.0.0.1:4444/secure/\", json=data)\n",
    "print(res.content.decode('utf-8'))  # Output: {\"name\": \"Mubeen\"}\n",
    "        </pre>\n",
    "        <h4 style=\"color: #d9534f;\">Note:</h4>\n",
    "        <p style=\"color: #d9534f;\">\n",
    "            <strong>response_model</strong> parameter define karta hai ki endpoint se response model kya hoga. Is example mein, <code>/secure/</code> endpoint response mein sirf <strong>Users_info</strong> object return karega, jo sirf <code>name</code> field ko include karega, <code>password</code> field ko nahi.\n",
    "        </p>\n",
    "    </div>\n",
    "</body>\n",
    "</html>\n"
   ]
  },
  {
   "cell_type": "markdown",
   "id": "ba722754-6390-4d70-9aa0-d8beb6168bcf",
   "metadata": {},
   "source": [
    "<h1 style=\"text-align:center; color:#005bbd; font-size:30px; font-family:Sans-serif; font-style: oblique; text-shadow: 0 0 3px white, 0 0 1px Black;\">JSONResponse\n",
    "</h1>"
   ]
  },
  {
   "cell_type": "markdown",
   "id": "e512ce04-bb8e-4aa7-a592-8cc4ae44b7d2",
   "metadata": {},
   "source": [
    "<div style=\"text-align:justify; color:black; font-size:20px; font-family:Sans-serif; font-style: oblique; text-shadow: 0 0 3px white, 0 0 1px black;\">\n",
    "    JSONResponse ek khas response class hai jo JSON format mein response bhejne ke liye use hoti hai. <br>Yeh aapko response content, status code, aur headers ko customize karne ki sahulat deti hai. <br>Yeh tab useful hota hai jab aapko default responses se zyada control chahiye.\n",
    "\n",
    "</div>\n"
   ]
  },
  {
   "cell_type": "code",
   "execution_count": 46,
   "id": "2c352ffa-a89f-4fe6-bb3f-1faa12e8e269",
   "metadata": {
    "tags": []
   },
   "outputs": [],
   "source": [
    "from fastapi.responses import JSONResponse"
   ]
  },
  {
   "cell_type": "code",
   "execution_count": null,
   "id": "52b40132-a6b3-4b69-ae03-181526d86fd2",
   "metadata": {},
   "outputs": [],
   "source": [
    "app = FastAPI()\n",
    "\n",
    "@app.get('/index/')\n",
    "async def index():\n",
    "    return JSONResponse(content={'message':'hello this is a custom response'})\n",
    "\n",
    "if __name__ == \"__main__\":\n",
    "    apply()\n",
    "    uvicorn.run(app,port=4444)"
   ]
  },
  {
   "cell_type": "code",
   "execution_count": 48,
   "id": "ec06490f-5eb1-4b28-9872-4ffb6508050d",
   "metadata": {
    "tags": []
   },
   "outputs": [
    {
     "data": {
      "text/plain": [
       "'{\"message\":\"hello this is a custom response\"}'"
      ]
     },
     "execution_count": 48,
     "metadata": {},
     "output_type": "execute_result"
    }
   ],
   "source": [
    "res = requests.get(\"http://127.0.0.1:4444/index/\")\n",
    "res.content.decode('utf-8')"
   ]
  },
  {
   "cell_type": "markdown",
   "id": "3ba7e820-b023-4e07-8b13-f125a471d69d",
   "metadata": {},
   "source": [
    "<h1 style=\"text-align:center; color:#005bbd; font-size:30px; font-family:Sans-serif; font-style: oblique; text-shadow: 0 0 3px white, 0 0 1px Black;\">RedirectResponse\n",
    "</h1>"
   ]
  },
  {
   "cell_type": "markdown",
   "id": "c8764667-52f1-4a07-9d1d-0f99b187dfc4",
   "metadata": {},
   "source": [
    "<div style=\"text-align:justify; color:black; font-size:20px; font-family:Sans-serif; font-style: oblique; text-shadow: 0 0 3px white, 0 0 1px black;\">\n",
    "    RedirectResponse <br>FastAPI mein ek special response class hai jo client ko dusre URL par redirect karne ke liye istemal hoti hai\n",
    "\n",
    "</div>\n"
   ]
  },
  {
   "cell_type": "code",
   "execution_count": 50,
   "id": "2ba6bdce-45b6-498f-b129-9ed424ebe04d",
   "metadata": {
    "tags": []
   },
   "outputs": [],
   "source": [
    "from fastapi.responses import RedirectResponse"
   ]
  },
  {
   "cell_type": "code",
   "execution_count": null,
   "id": "73e276b8-6d24-4f52-bbdf-0a42d16216a6",
   "metadata": {},
   "outputs": [],
   "source": [
    "app = FastAPI()\n",
    "\n",
    "@app.get('/welcome/')\n",
    "async def welcome():\n",
    "    return JSONResponse(content={'message':'Welcome to the website'})\n",
    "\n",
    "\n",
    "@app.get('/index/')\n",
    "async def index():\n",
    "    return RedirectResponse(url='http://127.0.0.1:4444/welcome/')\n",
    "            # redirect to welcome page\n",
    "\n",
    "\n",
    "if __name__ == \"__main__\":\n",
    "    apply()\n",
    "    uvicorn.run(app,port=4444)"
   ]
  },
  {
   "cell_type": "code",
   "execution_count": 53,
   "id": "3cbfd276-2d56-4e8f-bc4d-b6bf2df1e044",
   "metadata": {
    "tags": []
   },
   "outputs": [
    {
     "data": {
      "text/plain": [
       "'{\"message\":\"Welcome to the website\"}'"
      ]
     },
     "execution_count": 53,
     "metadata": {},
     "output_type": "execute_result"
    }
   ],
   "source": [
    "res = requests.get(\"http://127.0.0.1:4444/index/\")\n",
    "res.content.decode('utf-8')"
   ]
  },
  {
   "cell_type": "markdown",
   "id": "a295b778-ae8c-4bad-91f3-4a2ad5cb02a9",
   "metadata": {},
   "source": [
    "<h1 style=\"text-align:center; color:#005bbd; font-size:30px; font-family:Sans-serif; font-style: oblique; text-shadow: 0 0 3px white, 0 0 1px Black;\">jsonable_encoder\n",
    "</h1>"
   ]
  },
  {
   "cell_type": "markdown",
   "id": "88eebc7a-e6c8-463e-bfe7-2e54d2f16f8f",
   "metadata": {},
   "source": [
    "<div style=\"text-align:justify; color:black; font-size:20px; font-family:Sans-serif; font-style: oblique; text-shadow: 0 0 3px white, 0 0 1px black;\">\n",
    "jsonable_encoder data type ko JSON ke compatible format mein convert karne ke liye istemal hota hai. <br>Iska istemal karte waqt, aap kisi bhi data ko (jaise Pydantic model) JSON ke compatible data type mein convert kar sakte hain (jaise dict, list, etc.).\n",
    "</div>\n"
   ]
  },
  {
   "cell_type": "code",
   "execution_count": 80,
   "id": "77350c97-beb1-4685-a3d5-85ce1e3bdd9e",
   "metadata": {
    "tags": []
   },
   "outputs": [],
   "source": [
    "from fastapi.encoders import jsonable_encoder\n",
    "fake_db = {}"
   ]
  },
  {
   "cell_type": "code",
   "execution_count": 87,
   "id": "011fb28e-9d4c-410f-822c-15a8196484d6",
   "metadata": {
    "tags": []
   },
   "outputs": [],
   "source": [
    "class Item(BaseModel):\n",
    "    title: str\n",
    "    description: str | None = None\n",
    "\n",
    "\n",
    "app = FastAPI()\n",
    "@app.post(\"/items/{id}\")\n",
    "def update_item(id: str, item: Item):\n",
    "    \n",
    "    json_compatible_item_data = jsonable_encoder(item)\n",
    "    fake_db[id] = json_compatible_item_data\n",
    "    \n",
    "    return JSONResponse(content={'message':'database updated'})\n",
    "\n",
    "\n",
    "if __name__ == \"__main__\":\n",
    "    apply()\n",
    "    uvicorn.run(app,port=4444)"
   ]
  },
  {
   "cell_type": "code",
   "execution_count": 94,
   "id": "f3c705df-c69d-4a58-94fe-0b9b52ebe2b8",
   "metadata": {
    "tags": []
   },
   "outputs": [
    {
     "data": {
      "text/plain": [
       "'{\"message\":\"database updated\"}'"
      ]
     },
     "execution_count": 94,
     "metadata": {},
     "output_type": "execute_result"
    }
   ],
   "source": [
    "data = {'title':'test','description':'this is a test'}\n",
    "res = requests.post(\"http://127.0.0.1:4444/items/1\",json=data)\n",
    "res.content.decode('utf-8')"
   ]
  },
  {
   "cell_type": "code",
   "execution_count": 95,
   "id": "42697982-4eba-49ad-8f5e-9c239e62d8ce",
   "metadata": {
    "tags": []
   },
   "outputs": [
    {
     "data": {
      "text/plain": [
       "{'1': {'title': 'test', 'description': 'this is a test'}}"
      ]
     },
     "execution_count": 95,
     "metadata": {},
     "output_type": "execute_result"
    }
   ],
   "source": [
    "fake_db"
   ]
  }
 ],
 "metadata": {
  "kernelspec": {
   "display_name": "Python 3 (ipykernel)",
   "language": "python",
   "name": "python3"
  },
  "language_info": {
   "codemirror_mode": {
    "name": "ipython",
    "version": 3
   },
   "file_extension": ".py",
   "mimetype": "text/x-python",
   "name": "python",
   "nbconvert_exporter": "python",
   "pygments_lexer": "ipython3",
   "version": "3.10.12"
  }
 },
 "nbformat": 4,
 "nbformat_minor": 5
}
