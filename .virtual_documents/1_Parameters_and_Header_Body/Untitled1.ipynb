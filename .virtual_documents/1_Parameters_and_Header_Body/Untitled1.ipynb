





from typing import Annotated
from fastapi import FastAPI, Query

import requests
import uvicorn
import nest_asyncio
import json


app = FastAPI()
@app.get("/items/")

async def read_items(query_param: Annotated[str | None, Query(max_length=3)]):
    return {"query_param": query_param}


if __name__ == "__main__":
    nest_asyncio.apply() 
    uvicorn.run(app,port=4444)


req = requests.get('http://127.0.0.1:4444/items/?query_param=123')
req.content.decode('utf-8')


req = requests.get('http://127.0.0.1:4444/items/?query_param=1234')
req.content.decode('utf-8')



