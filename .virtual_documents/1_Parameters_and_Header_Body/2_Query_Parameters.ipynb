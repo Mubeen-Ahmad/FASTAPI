





from fastapi import FastAPI
import requests
import uvicorn
import nest_asyncio
import json





app = FastAPI()

fake_items_db = [
    {"item_name": "Apple", "price": 10, "category": "fruits"},
    {"item_name": "Banana", "price": 5, "category": "fruits"},
    {"item_name": "Carrot", "price": 3, "category": "vegetables"},
    {"item_name": "Broccoli", "price": 4, "category": "vegetables"},
]


@app.get("/furits/data/")
async def read_item():
    return fake_items_db


if __name__ == "__main__":
    nest_asyncio.apply()
    uvicorn.run(app,port=4444)


req = requests.get('http://127.0.0.1:4444/furits/data/')
response = req.content.decode('utf-8')

json.loads(response)








app = FastAPI()

fake_items_db = [
    {"item_name": "Apple", "price": 10, "category": "fruits"},
    {"item_name": "Banana", "price": 5, "category": "fruits"},
    {"item_name": "Carrot", "price": 3, "category": "vegetables"},
    {"item_name": "Broccoli", "price": 4, "category": "vegetables"},
]


@app.get("/furits/data/")
async def read_item(filter_: str = None,by : str = None):

    items = fake_items_db.copy()
    
    if filter_:
        items = [i for i in items if i.get(filter_) == by]
    
    return items


if __name__ == "__main__":
    nest_asyncio.apply()
    uvicorn.run(app,port=4444)


req = requests.get('http://127.0.0.1:4444/furits/data/?filter_=category&by=fruits')
response = req.content.decode('utf-8')

json.loads(response)


req = requests.get('http://127.0.0.1:4444/furits/data/?filter_=category&by=vegetables')
response = req.content.decode('utf-8')

json.loads(response)











app = FastAPI()

fake_items_db = [
    {"item_name": "Apple", "price": 10, "category": "fruits"},
    {"item_name": "Banana", "price": 5, "category": "fruits"},
    {"item_name": "Carrot", "price": 3, "category": "vegetables"},
    {"item_name": "Broccoli", "price": 4, "category": "vegetables"},
]


@app.get("/furits/data/")
async def read_item(skip: int = 0, limit: int = len(fake_items_db)):
    return fake_items_db[skip : skip + limit]



if __name__ == "__main__":
    nest_asyncio.apply()
    uvicorn.run(app,port=4444)


req = requests.get('http://127.0.0.1:4444/furits/data/')
response = req.content.decode('utf-8')

json.loads(response)


req = requests.get('http://127.0.0.1:4444/furits/data/?skip=1&limit=2')
response = req.content.decode('utf-8')

json.loads(response)











app = FastAPI()

@app.get("/items/{item_id}")
async def read_item(item_id: str, q: str | None = None):
        return {"item_id": item_id, "q": q}
   

if __name__ == "__main__":
    nest_asyncio.apply()
    uvicorn.run(app,port=4444)


req = requests.get('http://127.0.0.1:4444/items/hello')
response = req.content.decode('utf-8')

json.loads(response)


req = requests.get('http://127.0.0.1:4444/items/hello?q=world')
response = req.content.decode('utf-8')

json.loads(response)











app = FastAPI()

@app.get("/items/{item_id}")
async def read_item(item_id: str, q: str | None = None, short: bool = False):
    return {'item_id':item_id,'q':q,'short':short}

if __name__ == "__main__":
    nest_asyncio.apply()
    uvicorn.run(app,port=4444)


req = requests.get('http://127.0.0.1:4444/items/value_of_item?short=True')
response = req.content.decode('utf-8')

json.loads(response)


req = requests.get('http://127.0.0.1:4444/items/value_of_item?q=value_of_q&short=False')
response = req.content.decode('utf-8')

json.loads(response)


req = requests.get('http://127.0.0.1:4444/items/value_of_item?q=value_of_q&short=123')
response = req.content.decode('utf-8')

json.loads(response)






