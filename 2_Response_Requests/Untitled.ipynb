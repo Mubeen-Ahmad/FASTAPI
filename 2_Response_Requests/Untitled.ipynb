{
 "cells": [
  {
   "cell_type": "code",
   "execution_count": 13,
   "id": "4b9bcfa4-903f-42ef-a7d5-11772e1e7f59",
   "metadata": {
    "tags": []
   },
   "outputs": [],
   "source": [
    "import requests\n",
    "from fastapi import FastAPI,Header,Body\n",
    "from pydantic import BaseModel\n",
    "from nest_asyncio import apply\n",
    "import uvicorn\n",
    "from typing import Annotated\n",
    "\n",
    "from typing import Any\n",
    "from fastapi.responses import RedirectResponse\n",
    "from fastapi.responses import ORJSONResponse\n",
    "\n",
    "from fastapi.encoders import jsonable_encoder\n",
    "from fastapi.responses import HTMLResponse,PlainTextResponse\n",
    "from fastapi.responses import Response,PlainTextResponse\n",
    "from fastapi.responses import StreamingResponse\n",
    "from fastapi.encoders import jsonable_encoder\n",
    "from fastapi.responses import HTMLResponse,PlainTextResponse\n",
    "from fastapi.responses import Response,PlainTextResponse\n",
    "from fastapi.responses import StreamingResponse\n",
    "from pydantic import EmailStr\n",
    "import json\n",
    "import hashlib\n"
   ]
  },
  {
   "cell_type": "code",
   "execution_count": 10,
   "id": "1ec72da0-a4ab-4854-922c-bd25d00c97eb",
   "metadata": {
    "tags": []
   },
   "outputs": [],
   "source": [
    "class User(BaseModel):\n",
    "    user_name : str\n",
    "    user_email : EmailStr"
   ]
  },
  {
   "cell_type": "code",
   "execution_count": 18,
   "id": "6331ece8-2d0b-4d17-9715-f65f95b13164",
   "metadata": {
    "tags": []
   },
   "outputs": [
    {
     "name": "stderr",
     "output_type": "stream",
     "text": [
      "INFO:     Started server process [1187240]\n",
      "INFO:     Waiting for application startup.\n",
      "INFO:     Application startup complete.\n",
      "INFO:     Uvicorn running on http://127.0.0.1:4444 (Press CTRL+C to quit)\n"
     ]
    },
    {
     "name": "stdout",
     "output_type": "stream",
     "text": [
      "INFO:     127.0.0.1:48122 - \"POST /create_user/ HTTP/1.1\" 200 OK\n",
      "INFO:     127.0.0.1:55360 - \"POST /login/ HTTP/1.1\" 200 OK\n",
      "INFO:     127.0.0.1:46730 - \"POST /login/ HTTP/1.1\" 200 OK\n",
      "INFO:     127.0.0.1:58428 - \"POST /login/ HTTP/1.1\" 200 OK\n",
      "INFO:     127.0.0.1:59062 - \"POST /login/ HTTP/1.1\" 200 OK\n",
      "INFO:     127.0.0.1:59066 - \"POST /login/ HTTP/1.1\" 200 OK\n",
      "INFO:     127.0.0.1:35090 - \"POST /login/ HTTP/1.1\" 200 OK\n",
      "INFO:     127.0.0.1:35106 - \"POST /login/ HTTP/1.1\" 200 OK\n",
      "INFO:     127.0.0.1:49228 - \"POST /create_user/ HTTP/1.1\" 200 OK\n",
      "INFO:     127.0.0.1:34206 - \"GET /users/ HTTP/1.1\" 200 OK\n",
      "INFO:     127.0.0.1:47876 - \"GET /users/ HTTP/1.1\" 200 OK\n",
      "INFO:     127.0.0.1:47888 - \"GET /users/ HTTP/1.1\" 200 OK\n",
      "INFO:     127.0.0.1:52130 - \"GET /users/ HTTP/1.1\" 200 OK\n",
      "INFO:     127.0.0.1:34414 - \"GET /users/ HTTP/1.1\" 200 OK\n"
     ]
    },
    {
     "name": "stderr",
     "output_type": "stream",
     "text": [
      "INFO:     Shutting down\n",
      "INFO:     Waiting for application shutdown.\n",
      "INFO:     Application shutdown complete.\n",
      "INFO:     Finished server process [1187240]\n"
     ]
    }
   ],
   "source": [
    "app = FastAPI()\n",
    "\n",
    "fake_db = {}\n",
    "\n",
    "class User(BaseModel):\n",
    "    username: str\n",
    "    fullname: str\n",
    "    email: EmailStr\n",
    "    password: str\n",
    "\n",
    "class User_Login(BaseModel):\n",
    "    username: str\n",
    "    password: str\n",
    "    \n",
    "    \n",
    "def hash_password(password: str) -> str:\n",
    "    hash_object = hashlib.sha256(password.encode())\n",
    "    return hash_object.hexdigest()\n",
    "\n",
    "@app.post('/create_user/')\n",
    "async def create_user(data: User):\n",
    "    if data.username in fake_db:\n",
    "        return {\"message\": f\"User {data.username} already exists.\"}\n",
    "    \n",
    "    hashed_password = hash_password(data.password)\n",
    "    user_info = data.dict()\n",
    "    user_info['password'] = hashed_password\n",
    "    fake_db[data.username] = user_info\n",
    "    \n",
    "    return {\"message\": \"User created successfully.\"}\n",
    "\n",
    "@app.post('/login/')\n",
    "async def login(data: User_Login):\n",
    "    if data.username not in fake_db:\n",
    "        return {\"message\": f\"User {data.username} are not exists. plz create a account\"}\n",
    "    \n",
    "    stored_password = fake_db[data.username].get('password')\n",
    "    if stored_password != hash_password(data.password):\n",
    "        return {\"message\": f\"incorect Password\"}\n",
    "    \n",
    "    return {\"message\": f\"Welcome {fake_db[data.username]['fullname']}\"}\n",
    "\n",
    "@app.get(\"/users/\")\n",
    "async def users():\n",
    "    tmp = fake_db.copy()\n",
    "    for user_info in tmp.values():\n",
    "        user_info.pop(\"password\", None)\n",
    "    return tmp\n",
    "\n",
    "if __name__ == \"__main__\":\n",
    "    apply()\n",
    "    uvicorn.run(app, port=4444)"
   ]
  },
  {
   "cell_type": "code",
   "execution_count": null,
   "id": "5d18b863-75ae-466f-be32-fb844ca5796f",
   "metadata": {},
   "outputs": [],
   "source": []
  }
 ],
 "metadata": {
  "kernelspec": {
   "display_name": "Python 3 (ipykernel)",
   "language": "python",
   "name": "python3"
  },
  "language_info": {
   "codemirror_mode": {
    "name": "ipython",
    "version": 3
   },
   "file_extension": ".py",
   "mimetype": "text/x-python",
   "name": "python",
   "nbconvert_exporter": "python",
   "pygments_lexer": "ipython3",
   "version": "3.10.12"
  }
 },
 "nbformat": 4,
 "nbformat_minor": 5
}
