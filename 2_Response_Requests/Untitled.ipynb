{
 "cells": [
  {
   "cell_type": "code",
   "execution_count": 1,
   "id": "4b9bcfa4-903f-42ef-a7d5-11772e1e7f59",
   "metadata": {
    "tags": []
   },
   "outputs": [],
   "source": [
    "import requests\n",
    "from fastapi import FastAPI,Header,Body,Form\n",
    "from pydantic import BaseModel\n",
    "from nest_asyncio import apply\n",
    "import uvicorn\n",
    "from typing import Annotated\n",
    "\n",
    "from typing import Any\n",
    "from fastapi.responses import RedirectResponse\n",
    "from fastapi.responses import ORJSONResponse\n",
    "\n",
    "from fastapi.encoders import jsonable_encoder\n",
    "from fastapi.responses import HTMLResponse,PlainTextResponse\n",
    "from fastapi.responses import Response,PlainTextResponse\n",
    "from fastapi.responses import StreamingResponse\n",
    "from fastapi.encoders import jsonable_encoder\n",
    "from fastapi.responses import HTMLResponse,PlainTextResponse\n",
    "from fastapi.responses import Response,PlainTextResponse\n",
    "from fastapi.responses import StreamingResponse\n",
    "from pydantic import EmailStr\n",
    "import json\n",
    "import hashlib\n",
    "from fastapi import File,UploadFile"
   ]
  },
  {
   "cell_type": "code",
   "execution_count": null,
   "id": "6331ece8-2d0b-4d17-9715-f65f95b13164",
   "metadata": {
    "tags": []
   },
   "outputs": [
    {
     "name": "stderr",
     "output_type": "stream",
     "text": [
      "INFO:     Started server process [4640]\n",
      "INFO:     Waiting for application startup.\n",
      "INFO:     Application startup complete.\n",
      "INFO:     Uvicorn running on http://127.0.0.1:4444 (Press CTRL+C to quit)\n"
     ]
    },
    {
     "name": "stdout",
     "output_type": "stream",
     "text": [
      "INFO:     127.0.0.1:53634 - \"POST / HTTP/1.1\" 200 OK\n"
     ]
    }
   ],
   "source": [
    "app = FastAPI()\n",
    "\n",
    "@app.post(\"/\")\n",
    "async def upload_file(file: bytes = File(...)):\n",
    "    content = file.decode('utf-8')  \n",
    "    lines = content.split('\\n') \n",
    "    return {\"content\": lines}\n",
    "\n",
    "\n",
    "if __name__ == \"__main__\":\n",
    "    apply()\n",
    "    uvicorn.run(app, port=4444)"
   ]
  },
  {
   "cell_type": "code",
   "execution_count": null,
   "id": "5d18b863-75ae-466f-be32-fb844ca5796f",
   "metadata": {},
   "outputs": [],
   "source": []
  }
 ],
 "metadata": {
  "kernelspec": {
   "display_name": "Python 3 (ipykernel)",
   "language": "python",
   "name": "python3"
  },
  "language_info": {
   "codemirror_mode": {
    "name": "ipython",
    "version": 3
   },
   "file_extension": ".py",
   "mimetype": "text/x-python",
   "name": "python",
   "nbconvert_exporter": "python",
   "pygments_lexer": "ipython3",
   "version": "3.12.1"
  }
 },
 "nbformat": 4,
 "nbformat_minor": 5
}
