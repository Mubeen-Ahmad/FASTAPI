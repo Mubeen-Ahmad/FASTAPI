{
 "cells": [
  {
   "cell_type": "code",
   "execution_count": 1,
   "id": "4b9bcfa4-903f-42ef-a7d5-11772e1e7f59",
   "metadata": {
    "tags": []
   },
   "outputs": [],
   "source": [
    "import hashlib\n",
    "import json\n",
    "from typing import Annotated, Any\n",
    "\n",
    "import requests\n",
    "import uvicorn\n",
    "from fastapi import Body, FastAPI, File, Form, Header, UploadFile\n",
    "from fastapi.encoders import jsonable_encoder\n",
    "from fastapi.responses import (\n",
    "    HTMLResponse,\n",
    "    ORJSONResponse,\n",
    "    PlainTextResponse,\n",
    "    RedirectResponse,\n",
    "    Response,\n",
    "    StreamingResponse,\n",
    ")\n",
    "from nest_asyncio import apply\n",
    "from pydantic import BaseModel, EmailStr"
   ]
  },
  {
   "cell_type": "code",
   "execution_count": null,
   "id": "6331ece8-2d0b-4d17-9715-f65f95b13164",
   "metadata": {
    "tags": []
   },
   "outputs": [
    {
     "name": "stderr",
     "output_type": "stream",
     "text": [
      "INFO:     Started server process [670641]\n",
      "INFO:     Waiting for application startup.\n",
      "INFO:     Application startup complete.\n",
      "INFO:     Uvicorn running on http://127.0.0.1:4444 (Press CTRL+C to quit)\n"
     ]
    },
    {
     "name": "stdout",
     "output_type": "stream",
     "text": [
      "INFO:     127.0.0.1:49468 - \"POST /uploadfiles/ HTTP/1.1\" 200 OK\n",
      "INFO:     127.0.0.1:49468 - \"GET / HTTP/1.1\" 200 OK\n",
      "INFO:     127.0.0.1:51062 - \"POST /uploadfiles/ HTTP/1.1\" 200 OK\n"
     ]
    }
   ],
   "source": [
    "app = FastAPI()\n",
    "\n",
    "@app.get('/',response_class=HTMLResponse)\n",
    "async def index():\n",
    "    html =\"\"\"\n",
    "    <html>\n",
    "    <body>\n",
    "        <form action=\"/uploadfiles/\" enctype=\"multipart/form-data\" method=\"post\">\n",
    "            <input name=\"files\" type=\"file\" multiple>\n",
    "            <input type=\"submit\">\n",
    "        </form>\n",
    "    </body>\n",
    "    </html>\n",
    "    \"\"\"\n",
    "    return html\n",
    "    \n",
    "@app.post('/uploadfiles/')\n",
    "async def upload(files : UploadFile = File()):\n",
    "    contents = await files.read()\n",
    "    await files.seek(0)\n",
    "\n",
    "    import shutil\n",
    "\n",
    "    with open(f\"../temp/{files.filename}\", \"w+b\") as f:\n",
    "        shutil.copyfileobj(files.file, f)\n",
    "\n",
    "    return {\"message\": \"File are Uploaded\"}\n",
    "    \n",
    "    \n",
    "if __name__ == \"__main__\":\n",
    "    apply()\n",
    "    uvicorn.run(app, port=4444)"
   ]
  },
  {
   "cell_type": "code",
   "execution_count": null,
   "id": "5d18b863-75ae-466f-be32-fb844ca5796f",
   "metadata": {},
   "outputs": [],
   "source": []
  }
 ],
 "metadata": {
  "kernelspec": {
   "display_name": "Python 3 (ipykernel)",
   "language": "python",
   "name": "python3"
  },
  "language_info": {
   "codemirror_mode": {
    "name": "ipython",
    "version": 3
   },
   "file_extension": ".py",
   "mimetype": "text/x-python",
   "name": "python",
   "nbconvert_exporter": "python",
   "pygments_lexer": "ipython3",
   "version": "3.10.12"
  }
 },
 "nbformat": 4,
 "nbformat_minor": 5
}
