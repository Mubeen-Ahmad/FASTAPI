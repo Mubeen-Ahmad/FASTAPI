{
 "cells": [
  {
   "cell_type": "markdown",
   "id": "25334fc2-d5c4-4e2e-aa23-cdb1cdbdaad1",
   "metadata": {},
   "source": [
    "<h1 style=\"text-align:center; color:#005bbd; font-size:30px; font-family:Sans-serif; font-style: oblique; text-shadow: 0 0 3px white, 0 0 1px Black;\">Form</h1>"
   ]
  },
  {
   "cell_type": "markdown",
   "id": "cdf5ea59-749f-40e8-95ad-2eb15316e544",
   "metadata": {},
   "source": [
    "<div style=\"text-align:justify; color:black; font-size:20px; font-family:Sans-serif; font-style: oblique; text-shadow: 0 0 3px white, 0 0 1px black;\">\n",
    "\n",
    "FastAPI mein form data handle karne ke liye, Form class ka use kia jata hain<br><br>\n",
    "Form data HTTP request ke body me ata hai, lekin yeh alag alag tarah se handle kiya jata hai.\n",
    "<br><br>\n",
    "Form Data `application/x-www-form-urlencoded` ya `multipart/form-data` format me request body me hoti hain.\n",
    "\n",
    "</div>\n",
    "\n",
    "\n"
   ]
  },
  {
   "cell_type": "code",
   "execution_count": 32,
   "id": "0c775eb8-9b8a-4de0-ac9a-d877fc976109",
   "metadata": {},
   "outputs": [],
   "source": [
    "import requests\n",
    "import uvicorn\n",
    "from fastapi import FastAPI\n",
    "from nest_asyncio import apply"
   ]
  },
  {
   "cell_type": "code",
   "execution_count": 33,
   "id": "6c1817a2-831c-4aed-a5ff-47228275a48b",
   "metadata": {},
   "outputs": [],
   "source": [
    "from fastapi import Form"
   ]
  },
  {
   "cell_type": "code",
   "execution_count": 34,
   "id": "69fd9a6c-60bb-461b-af03-65bfc888f9ab",
   "metadata": {},
   "outputs": [],
   "source": [
    "app = FastAPI()\n",
    "\n",
    "@app.post(\"/login/\")\n",
    "async def login(username: str = Form(...), password: str = Form(...)):\n",
    "    print(username)\n",
    "    return {'username': username, 'password': password}\n",
    "\n",
    "    \n",
    "\n",
    "if __name__ == \"__main__\":\n",
    "    apply()\n",
    "    uvicorn.run(app, port=4444)"
   ]
  },
  {
   "cell_type": "code",
   "execution_count": 41,
   "id": "a5451760-428f-40b1-b86b-1dee2bf79b6e",
   "metadata": {},
   "outputs": [
    {
     "data": {
      "text/plain": [
       "'{\"detail\":[{\"type\":\"missing\",\"loc\":[\"body\",\"username\"],\"msg\":\"Field required\",\"input\":null,\"url\":\"https://errors.pydantic.dev/2.5/v/missing\"},{\"type\":\"missing\",\"loc\":[\"body\",\"password\"],\"msg\":\"Field required\",\"input\":null,\"url\":\"https://errors.pydantic.dev/2.5/v/missing\"}]}'"
      ]
     },
     "execution_count": 41,
     "metadata": {},
     "output_type": "execute_result"
    }
   ],
   "source": [
    "data = {'username': 'mubeen123', 'password': '12345'}\n",
    "\n",
    "req = requests.post(url=\"http://127.0.0.1:4444/login/\",json = data)\n",
    "req.content.decode('utf-8')"
   ]
  },
  {
   "cell_type": "markdown",
   "id": "eb3aec79-4061-40ae-8454-bb35da516e70",
   "metadata": {},
   "source": [
    "<div style=\"text-align:justify; color:black; font-size:20px; font-family:Sans-serif; font-style: oblique; text-shadow: 0 0 3px white, 0 0 1px black;\">\n",
    "\n",
    "Note Form k lye json parameter work nahi kary ga \n",
    "So data parameter ka use karna ho ga\n",
    "\n",
    "</div>\n",
    "\n",
    "\n"
   ]
  },
  {
   "cell_type": "code",
   "execution_count": 42,
   "id": "a5a76bc0-3910-477f-b87a-97352476ae09",
   "metadata": {},
   "outputs": [
    {
     "data": {
      "text/plain": [
       "'{\"username\":\"mubeen123\",\"password\":\"12345\"}'"
      ]
     },
     "execution_count": 42,
     "metadata": {},
     "output_type": "execute_result"
    }
   ],
   "source": [
    "data = {'username': 'mubeen123', 'password': '12345'}\n",
    "\n",
    "req = requests.post(url=\"http://127.0.0.1:4444/login/\",data = data)\n",
    "req.content.decode('utf-8')"
   ]
  },
  {
   "cell_type": "markdown",
   "id": "95a3dea2-e205-4196-a4f6-db6cf8aba925",
   "metadata": {},
   "source": [
    "<h1 style=\"text-align:center; color:#005bbd; font-size:30px; font-family:Sans-serif; font-style: oblique; text-shadow: 0 0 3px white, 0 0 1px Black;\">application/x-www-form-urlencoded Type</h1>"
   ]
  },
  {
   "cell_type": "markdown",
   "id": "91cadfbc-321c-4e7b-bd73-477a67af19ff",
   "metadata": {},
   "source": [
    "\n",
    "<div style=\"text-align:justify; color:black; font-size:20px; font-family:Sans-serif; font-style: oblique; text-shadow: 0 0 3px white, 0 0 1px black;\">\n",
    "Yeh format tab use hota hai jab aap form data bina files ke bhejte hain.<br>\n",
    "Data URL-encoded format mein hota hai.\n",
    "</div>\n",
    "\n",
    "\n",
    "\n"
   ]
  },
  {
   "cell_type": "code",
   "execution_count": null,
   "id": "2491ef58-a478-473a-b95b-1c4212c96a2e",
   "metadata": {},
   "outputs": [],
   "source": [
    "app = FastAPI()\n",
    "\n",
    "@app.post(\"/login/\")\n",
    "async def login(username: str = Form(...), password: str = Form(...)):\n",
    "    return {'username': username, 'password': password}\n",
    "\n",
    "    \n",
    "\n",
    "if __name__ == \"__main__\":\n",
    "    apply()\n",
    "    uvicorn.run(app, port=4444)"
   ]
  },
  {
   "cell_type": "code",
   "execution_count": 54,
   "id": "39cf9575-fed6-4fef-921b-0c216066378f",
   "metadata": {},
   "outputs": [
    {
     "name": "stdout",
     "output_type": "stream",
     "text": [
      "{\"username\":\"mubeen123\",\"password\":\"12345\"}\n"
     ]
    }
   ],
   "source": [
    "data = {'username': 'mubeen123', 'password': '12345'}\n",
    "\n",
    "req = requests.post(url=\"http://127.0.0.1:4444/login/\",data = data)\n",
    "print(req.content.decode('utf-8'))\n"
   ]
  },
  {
   "cell_type": "markdown",
   "id": "76e3f11d-a68d-45ae-a4d7-afe5ba3b0017",
   "metadata": {},
   "source": [
    "\n",
    "\n",
    "<div style=\"text-align:justify; color:black; font-size:20px; font-family:Sans-serif; font-style: oblique; text-shadow: 0 0 3px white, 0 0 1px black;\">\n",
    "Check Request Header\n",
    "</div>\n",
    "\n",
    "\n",
    "\n"
   ]
  },
  {
   "cell_type": "code",
   "execution_count": 55,
   "id": "e7adb1d4-2618-42b6-b760-3099dcdcd0a3",
   "metadata": {},
   "outputs": [
    {
     "data": {
      "text/plain": [
       "'application/x-www-form-urlencoded'"
      ]
     },
     "execution_count": 55,
     "metadata": {},
     "output_type": "execute_result"
    }
   ],
   "source": [
    "req.request.headers.get('Content-Type')"
   ]
  },
  {
   "cell_type": "markdown",
   "id": "dc075998-6411-41a9-a784-0ff40e7c9ed9",
   "metadata": {},
   "source": [
    "<h1 style=\"text-align:center; color:#005bbd; font-size:30px; font-family:Sans-serif; font-style: oblique; text-shadow: 0 0 3px white, 0 0 1px Black;\">\n",
    "    File</h1>"
   ]
  },
  {
   "cell_type": "markdown",
   "id": "f128f12c-ddd7-4903-bd36-70b8bfdbeedc",
   "metadata": {},
   "source": [
    "<div style=\"text-align:justify; color:black; font-size:20px; font-family:Sans-serif; font-style: oblique; text-shadow: 0 0 3px white, 0 0 1px black;\">\n",
    "File class ko tab use kiya jata hai jab aap chhoti files ko receive kar rahe hain aur unhe memory mein directly access karna chahte hain.\n",
    "</div>\n"
   ]
  },
  {
   "cell_type": "code",
   "execution_count": 56,
   "id": "91d73a6e-c409-4a82-a5ec-94bd2819bc16",
   "metadata": {},
   "outputs": [],
   "source": [
    "from fastapi import File"
   ]
  },
  {
   "cell_type": "code",
   "execution_count": 73,
   "id": "0c5a108f-23a9-4f78-b666-9317fa8e3340",
   "metadata": {},
   "outputs": [],
   "source": [
    "app = FastAPI()\n",
    "\n",
    "@app.post(\"/\")\n",
    "async def upload_file(file: bytes = File(...)):\n",
    "    content = file.decode('utf-8')  \n",
    "    lines = content.split('\\n') \n",
    "    return {\"content\": lines}\n",
    "\n",
    "\n",
    "if __name__ == \"__main__\":\n",
    "    apply()\n",
    "    uvicorn.run(app, port=4444)"
   ]
  },
  {
   "cell_type": "code",
   "execution_count": 75,
   "id": "0ee5c49b-0756-4a3c-81a2-deb9980030dd",
   "metadata": {},
   "outputs": [
    {
     "name": "stdout",
     "output_type": "stream",
     "text": [
      "{\"content\":[\"In October 2016 those organizations published \\\"Ex Machina: Personal Attacks Seen at Scale\\\" describing their findings.[8][9] Various popular media outlets reported on the publication of this paper and described the social context of the research.\"]}\n"
     ]
    }
   ],
   "source": [
    "file = open('../temp/doc.txt')\n",
    "\n",
    "req = requests.post(url=\"http://127.0.0.1:4444/\",data={'file':file})\n",
    "print(req.content.decode('utf-8'))\n",
    "\n",
    "file.close()"
   ]
  },
  {
   "cell_type": "markdown",
   "id": "0a8f752c-65ff-4fd2-b780-c65f13c6ca52",
   "metadata": {},
   "source": [
    "<h1 style=\"text-align:center; color:#005bbd; font-size:30px; font-family:Sans-serif; font-style: oblique; text-shadow: 0 0 3px white, 0 0 1px Black;\">\n",
    "    UploadFile</h1>"
   ]
  },
  {
   "cell_type": "markdown",
   "id": "b080dac3-df3d-4a74-b736-ce8c0cbe4c2c",
   "metadata": {},
   "source": [
    "<div style=\"text-align:justify; color:black; font-size:20px; font-family:Sans-serif; font-style: oblique; text-shadow: 0 0 3px white, 0 0 1px black;\">\n",
    "UploadFile class ka use tab hota hai jab aap badi files ko receive kar rahe hain. <br>\n",
    "Use Case : Server pe files upload karne ke liye.\n",
    "\n",
    "</div>\n"
   ]
  },
  {
   "cell_type": "code",
   "execution_count": 77,
   "id": "6a282697-c675-4bd1-b0c1-8e77dd36f073",
   "metadata": {},
   "outputs": [],
   "source": [
    "from fastapi import File,UploadFile"
   ]
  },
  {
   "cell_type": "code",
   "execution_count": 78,
   "id": "c207e98b-d61f-414a-a7ce-96875fd24adb",
   "metadata": {},
   "outputs": [],
   "source": [
    "app = FastAPI()\n",
    "\n",
    "@app.post(\"/\")\n",
    "async def upload_file(file: UploadFile = File(...)):\n",
    "    content = file.decode('utf-8')  \n",
    "    lines = content.split('\\n') \n",
    "    return {\"content\": lines}\n",
    "\n",
    "\n",
    "if __name__ == \"__main__\":\n",
    "    apply()\n",
    "    uvicorn.run(app, port=4444)"
   ]
  },
  {
   "cell_type": "code",
   "execution_count": 79,
   "id": "652b0fba-3d53-4aa8-a261-a91f5cda4130",
   "metadata": {},
   "outputs": [
    {
     "name": "stdout",
     "output_type": "stream",
     "text": [
      "{\"detail\":[{\"type\":\"value_error\",\"loc\":[\"body\",\"file\"],\"msg\":\"Value error, Expected UploadFile, received: <class 'str'>\",\"input\":\"In October 2016 those organizations published \\\"Ex Machina: Personal Attacks Seen at Scale\\\" describing their findings.[8][9] Various popular media outlets reported on the publication of this paper and described the social context of the research.\",\"ctx\":{\"error\":{}},\"url\":\"https://errors.pydantic.dev/2.5/v/value_error\"}]}\n"
     ]
    }
   ],
   "source": [
    "file = open('../temp/doc.txt')\n",
    "\n",
    "req = requests.post(url=\"http://127.0.0.1:4444/\",data={'file':file})\n",
    "print(req.content.decode('utf-8'))\n",
    "\n",
    "file.close()"
   ]
  }
 ],
 "metadata": {
  "kernelspec": {
   "display_name": "Python 3 (ipykernel)",
   "language": "python",
   "name": "python3"
  },
  "language_info": {
   "codemirror_mode": {
    "name": "ipython",
    "version": 3
   },
   "file_extension": ".py",
   "mimetype": "text/x-python",
   "name": "python",
   "nbconvert_exporter": "python",
   "pygments_lexer": "ipython3",
   "version": "3.12.1"
  }
 },
 "nbformat": 4,
 "nbformat_minor": 5
}
