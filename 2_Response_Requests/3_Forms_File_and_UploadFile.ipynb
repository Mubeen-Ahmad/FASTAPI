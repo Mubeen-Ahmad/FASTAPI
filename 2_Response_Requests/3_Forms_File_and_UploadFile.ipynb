{
 "cells": [
  {
   "cell_type": "markdown",
   "id": "25334fc2-d5c4-4e2e-aa23-cdb1cdbdaad1",
   "metadata": {},
   "source": [
    "<h1 style=\"text-align:center; color:#005bbd; font-size:30px; font-family:Sans-serif; font-style: oblique; text-shadow: 0 0 3px white, 0 0 1px Black;\">Form</h1>"
   ]
  },
  {
   "cell_type": "markdown",
   "id": "cdf5ea59-749f-40e8-95ad-2eb15316e544",
   "metadata": {},
   "source": [
    "<div style=\"text-align:justify; color:black; font-size:20px; font-family:Sans-serif; font-style: oblique; text-shadow: 0 0 3px white, 0 0 1px black;\">\n",
    "\n",
    "FastAPI mein form data handle karne ke liye, Form class ka use kia jata hain<br><br>\n",
    "Form data HTTP request ke body me ata hai, lekin yeh alag alag tarah se handle kiya jata hai.\n",
    "<br><br>\n",
    "Form Data `application/x-www-form-urlencoded` ya `multipart/form-data` format me request body me hoti hain.\n",
    "\n",
    "</div>\n",
    "\n",
    "\n"
   ]
  },
  {
   "cell_type": "code",
   "execution_count": 1,
   "id": "0c775eb8-9b8a-4de0-ac9a-d877fc976109",
   "metadata": {
    "tags": []
   },
   "outputs": [],
   "source": [
    "import requests\n",
    "import uvicorn\n",
    "from fastapi import FastAPI\n",
    "from nest_asyncio import apply"
   ]
  },
  {
   "cell_type": "code",
   "execution_count": 9,
   "id": "6c1817a2-831c-4aed-a5ff-47228275a48b",
   "metadata": {
    "tags": []
   },
   "outputs": [],
   "source": [
    "from fastapi import Form"
   ]
  },
  {
   "cell_type": "code",
   "execution_count": 34,
   "id": "69fd9a6c-60bb-461b-af03-65bfc888f9ab",
   "metadata": {},
   "outputs": [],
   "source": [
    "app = FastAPI()\n",
    "\n",
    "\n",
    "@app.post(\"/login/\")\n",
    "async def login(username: str = Form(...), password: str = Form(...)):\n",
    "    print(username)\n",
    "    return {\"username\": username, \"password\": password}\n",
    "\n",
    "\n",
    "if __name__ == \"__main__\":\n",
    "    apply()\n",
    "    uvicorn.run(app, port=4444)"
   ]
  },
  {
   "cell_type": "code",
   "execution_count": 41,
   "id": "a5451760-428f-40b1-b86b-1dee2bf79b6e",
   "metadata": {},
   "outputs": [
    {
     "data": {
      "text/plain": [
       "'{\"detail\":[{\"type\":\"missing\",\"loc\":[\"body\",\"username\"],\"msg\":\"Field required\",\"input\":null,\"url\":\"https://errors.pydantic.dev/2.5/v/missing\"},{\"type\":\"missing\",\"loc\":[\"body\",\"password\"],\"msg\":\"Field required\",\"input\":null,\"url\":\"https://errors.pydantic.dev/2.5/v/missing\"}]}'"
      ]
     },
     "execution_count": 41,
     "metadata": {},
     "output_type": "execute_result"
    }
   ],
   "source": [
    "data = {\"username\": \"mubeen123\", \"password\": \"12345\"}\n",
    "\n",
    "req = requests.post(url=\"http://127.0.0.1:4444/login/\", json=data)\n",
    "req.content.decode(\"utf-8\")"
   ]
  },
  {
   "cell_type": "markdown",
   "id": "eb3aec79-4061-40ae-8454-bb35da516e70",
   "metadata": {},
   "source": [
    "<div style=\"text-align:justify; color:black; font-size:20px; font-family:Sans-serif; font-style: oblique; text-shadow: 0 0 3px white, 0 0 1px black;\">\n",
    "\n",
    "Note Form k lye json parameter work nahi kary ga \n",
    "So data parameter ka use karna ho ga\n",
    "\n",
    "</div>\n",
    "\n",
    "\n"
   ]
  },
  {
   "cell_type": "code",
   "execution_count": 42,
   "id": "a5a76bc0-3910-477f-b87a-97352476ae09",
   "metadata": {},
   "outputs": [
    {
     "data": {
      "text/plain": [
       "'{\"username\":\"mubeen123\",\"password\":\"12345\"}'"
      ]
     },
     "execution_count": 42,
     "metadata": {},
     "output_type": "execute_result"
    }
   ],
   "source": [
    "data = {\"username\": \"mubeen123\", \"password\": \"12345\"}\n",
    "\n",
    "req = requests.post(url=\"http://127.0.0.1:4444/login/\", data=data)\n",
    "req.content.decode(\"utf-8\")"
   ]
  },
  {
   "cell_type": "markdown",
   "id": "95a3dea2-e205-4196-a4f6-db6cf8aba925",
   "metadata": {},
   "source": [
    "<h1 style=\"text-align:center; color:#005bbd; font-size:30px; font-family:Sans-serif; font-style: oblique; text-shadow: 0 0 3px white, 0 0 1px Black;\">application/x-www-form-urlencoded Type</h1>"
   ]
  },
  {
   "cell_type": "markdown",
   "id": "91cadfbc-321c-4e7b-bd73-477a67af19ff",
   "metadata": {},
   "source": [
    "\n",
    "<div style=\"text-align:justify; color:black; font-size:20px; font-family:Sans-serif; font-style: oblique; text-shadow: 0 0 3px white, 0 0 1px black;\">\n",
    "Yeh format tab use hota hai jab aap form data bina files ke bhejte hain.<br>\n",
    "Data URL-encoded format mein hota hai.\n",
    "</div>\n",
    "\n",
    "\n",
    "\n"
   ]
  },
  {
   "cell_type": "code",
   "execution_count": null,
   "id": "2491ef58-a478-473a-b95b-1c4212c96a2e",
   "metadata": {},
   "outputs": [],
   "source": [
    "app = FastAPI()\n",
    "\n",
    "\n",
    "@app.post(\"/login/\")\n",
    "async def login(username: str = Form(...), password: str = Form(...)):\n",
    "    return {\"username\": username, \"password\": password}\n",
    "\n",
    "\n",
    "if __name__ == \"__main__\":\n",
    "    apply()\n",
    "    uvicorn.run(app, port=4444)"
   ]
  },
  {
   "cell_type": "code",
   "execution_count": 54,
   "id": "39cf9575-fed6-4fef-921b-0c216066378f",
   "metadata": {},
   "outputs": [
    {
     "name": "stdout",
     "output_type": "stream",
     "text": [
      "{\"username\":\"mubeen123\",\"password\":\"12345\"}\n"
     ]
    }
   ],
   "source": [
    "data = {\"username\": \"mubeen123\", \"password\": \"12345\"}\n",
    "\n",
    "req = requests.post(url=\"http://127.0.0.1:4444/login/\", data=data)\n",
    "print(req.content.decode(\"utf-8\"))"
   ]
  },
  {
   "cell_type": "markdown",
   "id": "76e3f11d-a68d-45ae-a4d7-afe5ba3b0017",
   "metadata": {},
   "source": [
    "\n",
    "\n",
    "<div style=\"text-align:justify; color:black; font-size:20px; font-family:Sans-serif; font-style: oblique; text-shadow: 0 0 3px white, 0 0 1px black;\">\n",
    "Check Request Header\n",
    "</div>\n",
    "\n",
    "\n",
    "\n"
   ]
  },
  {
   "cell_type": "code",
   "execution_count": 55,
   "id": "e7adb1d4-2618-42b6-b760-3099dcdcd0a3",
   "metadata": {},
   "outputs": [
    {
     "data": {
      "text/plain": [
       "'application/x-www-form-urlencoded'"
      ]
     },
     "execution_count": 55,
     "metadata": {},
     "output_type": "execute_result"
    }
   ],
   "source": [
    "req.request.headers.get(\"Content-Type\")"
   ]
  },
  {
   "cell_type": "markdown",
   "id": "dc075998-6411-41a9-a784-0ff40e7c9ed9",
   "metadata": {},
   "source": [
    "<h1 style=\"text-align:center; color:#005bbd; font-size:30px; font-family:Sans-serif; font-style: oblique; text-shadow: 0 0 3px white, 0 0 1px Black;\">\n",
    "    File</h1>"
   ]
  },
  {
   "cell_type": "markdown",
   "id": "f128f12c-ddd7-4903-bd36-70b8bfdbeedc",
   "metadata": {},
   "source": [
    "<div style=\"text-align:justify; color:black; font-size:20px; font-family:Sans-serif; font-style: oblique; text-shadow: 0 0 3px white, 0 0 1px black;\">\n",
    "File class ko tab use kiya jata hai jab aap chhoti files ko receive kar rahe hain aur unhe memory mein directly access karna chahte hain.\n",
    "</div>\n"
   ]
  },
  {
   "cell_type": "code",
   "execution_count": 7,
   "id": "91d73a6e-c409-4a82-a5ec-94bd2819bc16",
   "metadata": {
    "tags": []
   },
   "outputs": [],
   "source": [
    "from fastapi import File"
   ]
  },
  {
   "cell_type": "code",
   "execution_count": 73,
   "id": "0c5a108f-23a9-4f78-b666-9317fa8e3340",
   "metadata": {},
   "outputs": [],
   "source": [
    "app = FastAPI()\n",
    "\n",
    "\n",
    "@app.post(\"/\")\n",
    "async def upload_file(file: bytes = File(...)):\n",
    "\n",
    "    content = file.decode(\"utf-8\")\n",
    "    lines = content.split(\"\\n\")\n",
    "\n",
    "    return {\"content\": lines}\n",
    "\n",
    "\n",
    "if __name__ == \"__main__\":\n",
    "    apply()\n",
    "    uvicorn.run(app, port=4444)"
   ]
  },
  {
   "cell_type": "code",
   "execution_count": 4,
   "id": "0ee5c49b-0756-4a3c-81a2-deb9980030dd",
   "metadata": {
    "tags": []
   },
   "outputs": [
    {
     "name": "stdout",
     "output_type": "stream",
     "text": [
      "{\"content\":[\"In October 2016 those organizations published \\\"Ex Machina: Personal Attacks Seen at Scale\\\" describing their findings.[8][9] Various popular media outlets reported on the publication of this paper and described the social context of the research.\"]}\n"
     ]
    }
   ],
   "source": [
    "file = open(\"../temp/doc.txt\")\n",
    "\n",
    "req = requests.post(url=\"http://127.0.0.1:4444/\", data={\"file\": file})\n",
    "print(req.content.decode(\"utf-8\"))\n",
    "\n",
    "file.close()"
   ]
  },
  {
   "cell_type": "markdown",
   "id": "121f9360-a570-44dd-aa9a-7888a845f934",
   "metadata": {},
   "source": [
    "<div style=\"text-align:justify; color:black; font-size:20px; font-family:Sans-serif; font-style: oblique; text-shadow: 0 0 3px white, 0 0 1px black;\">\n",
    "Note yaha data ki jaga files parameter ka use kia jai ga\n",
    "\n",
    "</div>\n"
   ]
  },
  {
   "cell_type": "code",
   "execution_count": 6,
   "id": "95bef9fd-bacf-45d4-a7c4-f2bf791e72be",
   "metadata": {},
   "outputs": [
    {
     "name": "stdout",
     "output_type": "stream",
     "text": [
      "{\"content\":[\"Detox was a project by Google, in collaboration with the Wikimedia Foundation, to research methods that could be used to address users posting unkind comments in Wikimedia community discussions.\",\"Among other parts of the Detox project, the Wikimedia Foundation and Jigsaw collaborated to use artificial intelligence for basic research and to develop technical solutions[example needed] to address the problem. \",\"In October 2016 those organizations published \\\"Ex Machina: Personal Attacks Seen at Scale\\\" describing their findings.[8][9] Various popular media outlets reported on the publication of this paper and described the social context of the research.\"]}\n"
     ]
    }
   ],
   "source": [
    "file = open(\"../temp/doc.txt\")\n",
    "\n",
    "req = requests.post(url=\"http://127.0.0.1:4444/\", files={\"file\": file})\n",
    "print(req.content.decode(\"utf-8\"))\n",
    "\n",
    "file.close()"
   ]
  },
  {
   "cell_type": "markdown",
   "id": "e7f1d7c2-a0f1-4ea6-8b81-d63ca54b0c78",
   "metadata": {},
   "source": [
    "<h1 style=\"text-align:center; color:#005bbd; font-size:30px; font-family:Sans-serif; font-style: oblique; text-shadow: 0 0 3px white, 0 0 1px Black;\">multipart/form-data </h1>"
   ]
  },
  {
   "cell_type": "markdown",
   "id": "a27f6528-3767-4a5f-9020-56813b09888f",
   "metadata": {},
   "source": [
    "<div style=\"text-align:justify; color:black; font-size:20px; font-family:Sans-serif; font-style: oblique; text-shadow: 0 0 3px white, 0 0 1px black;\">\n",
    "Yeh format tab use hota hai jab aap form data ke sath files bhi bhejte hain. <br>Data multiple parts mein hota hai, har part ka alag content type hota hai.\n",
    "\n",
    "</div>\n"
   ]
  },
  {
   "cell_type": "code",
   "execution_count": 9,
   "id": "50c2cebb-413b-42c2-ad71-74123b55878d",
   "metadata": {},
   "outputs": [
    {
     "data": {
      "text/plain": [
       "'multipart/form-data; boundary=368611d3a7266ab981aefd7e65dc79b2'"
      ]
     },
     "execution_count": 9,
     "metadata": {},
     "output_type": "execute_result"
    }
   ],
   "source": [
    "req.request.headers.get(\"Content-Type\")"
   ]
  },
  {
   "cell_type": "markdown",
   "id": "d7f2b64d-c7cc-46aa-86d7-0d19d67c05b0",
   "metadata": {},
   "source": [
    "<div style=\"text-align:justify; color:black; font-size:20px; font-family:Sans-serif; font-style: oblique; text-shadow: 0 0 3px white, 0 0 1px black;\">\n",
    "Note File() ko UploadFile ky sath hi use kia jata hn<br>\n",
    "SO kisi aur type me File ko use karna Recommended nahi kia jata\n",
    "</div>\n"
   ]
  },
  {
   "cell_type": "markdown",
   "id": "0a8f752c-65ff-4fd2-b780-c65f13c6ca52",
   "metadata": {},
   "source": [
    "<h1 style=\"text-align:center; color:#005bbd; font-size:30px; font-family:Sans-serif; font-style: oblique; text-shadow: 0 0 3px white, 0 0 1px Black;\">\n",
    "    UploadFile</h1>"
   ]
  },
  {
   "cell_type": "markdown",
   "id": "b080dac3-df3d-4a74-b736-ce8c0cbe4c2c",
   "metadata": {},
   "source": [
    "<div style=\"text-align:justify; color:black; font-size:20px; font-family:Sans-serif; font-style: oblique; text-shadow: 0 0 3px white, 0 0 1px black;\">\n",
    "UploadFile class ka use tab hota hai jab aap badi files ko receive kar rahe hain. <br>\n",
    "Use Case : Server pe files upload karne ke liye.\n",
    "\n",
    "</div>\n"
   ]
  },
  {
   "cell_type": "code",
   "execution_count": 8,
   "id": "6a282697-c675-4bd1-b0c1-8e77dd36f073",
   "metadata": {
    "tags": []
   },
   "outputs": [],
   "source": [
    "from fastapi import File, UploadFile"
   ]
  },
  {
   "cell_type": "code",
   "execution_count": 5,
   "id": "c207e98b-d61f-414a-a7ce-96875fd24adb",
   "metadata": {},
   "outputs": [],
   "source": [
    "app = FastAPI()\n",
    "\n",
    "\n",
    "@app.post(\"/\")\n",
    "async def upload_file(file: UploadFile = File(...)):\n",
    "\n",
    "    import shutil\n",
    "\n",
    "    with open(\"../temp/server.txt\", \"w+b\") as f:\n",
    "        shutil.copyfileobj(file.file, f)\n",
    "\n",
    "    return {\"message\": \"File are Uploaded\"}\n",
    "\n",
    "\n",
    "if __name__ == \"__main__\":\n",
    "    apply()\n",
    "    uvicorn.run(app, port=4444)"
   ]
  },
  {
   "cell_type": "code",
   "execution_count": 3,
   "id": "652b0fba-3d53-4aa8-a261-a91f5cda4130",
   "metadata": {},
   "outputs": [
    {
     "name": "stdout",
     "output_type": "stream",
     "text": [
      "{\"message\":\"File are Uploaded\"}\n"
     ]
    }
   ],
   "source": [
    "file = open(\"../temp/doc.txt\")\n",
    "\n",
    "req = requests.post(url=\"http://127.0.0.1:4444/\", files={\"file\": file})\n",
    "print(req.content.decode(\"utf-8\"))\n",
    "\n",
    "file.close()"
   ]
  },
  {
   "cell_type": "markdown",
   "id": "b8b47908-a611-41c8-9791-c3028c7989b1",
   "metadata": {},
   "source": [
    "<div style=\"text-align:justify; color:black; font-size:20px; font-family:Sans-serif; font-style: oblique; text-shadow: 0 0 3px white, 0 0 1px black;\">\n",
    "file upload ho gai hn \n",
    "</div>\n"
   ]
  },
  {
   "cell_type": "code",
   "execution_count": 4,
   "id": "62c54e97-2bdd-42e8-9b41-434bec544e28",
   "metadata": {},
   "outputs": [
    {
     "name": "stdout",
     "output_type": "stream",
     "text": [
      "Detox was a project by Google, in collaboration with the Wikimedia Foundation, to research methods that could be used to address users posting unkind comments in Wikimedia community discussions.\n",
      "Among other parts of the Detox project, the Wikimedia Foundation and Jigsaw collaborated to use artificial intelligence for basic research and to develop technical solutions[example needed] to address the problem. \n",
      "In October 2016 those organizations published \"Ex Machina: Personal Attacks Seen at Scale\" describing their findings.[8][9] Various popular media outlets reported on the publication of this paper and described the social context of the research.\n"
     ]
    }
   ],
   "source": [
    "with open(\"../temp/server.txt\") as f:\n",
    "    print(f.read())"
   ]
  },
  {
   "cell_type": "markdown",
   "id": "d7f9c305-313f-449a-8d50-38d64187bfca",
   "metadata": {},
   "source": [
    "<h1 style=\"text-align:center; color:#005bbd; font-size:30px; font-family:Sans-serif; font-style: oblique; text-shadow: 0 0 3px white, 0 0 1px Black;\">\n",
    "    Use Form and File </h1>"
   ]
  },
  {
   "cell_type": "code",
   "execution_count": 12,
   "id": "0b79e4ac-c4a6-4ed3-8837-06a8078b3012",
   "metadata": {
    "tags": []
   },
   "outputs": [],
   "source": [
    "import os,shutil\n",
    "\n",
    "app = FastAPI()\n",
    "\n",
    "@app.post(\"/\")\n",
    "async def user(\n",
    "    username : str = Form(...),  \n",
    "    keyfile : UploadFile = File(),\n",
    "    pic : UploadFile = File()\n",
    "):\n",
    "    \n",
    "    os.mkdir(f'../temp/{username}')\n",
    "    \n",
    "    with open(os.path.join('../temp',username,keyfile.filename),'w+b') as f:\n",
    "        shutil.copyfileobj(keyfile.file, f)\n",
    "    \n",
    "    with open(os.path.join('../temp',username,pic.filename),'w+b') as f:\n",
    "        shutil.copyfileobj(pic.file, f)\n",
    "    \n",
    "    return {\"Message\": \"Data Uploaded\"}\n",
    "\n",
    "\n",
    "if __name__ == \"__main__\":\n",
    "    apply()\n",
    "    uvicorn.run(app, port=4444)"
   ]
  },
  {
   "cell_type": "code",
   "execution_count": 86,
   "id": "471357be-0969-411f-87bd-078e04e82716",
   "metadata": {
    "tags": []
   },
   "outputs": [
    {
     "name": "stdout",
     "output_type": "stream",
     "text": [
      "b'{\"Message\":\"Data Uploaded\"}'\n"
     ]
    }
   ],
   "source": [
    "keyfile = open(\"../temp/key.txt\",'r')\n",
    "pic = open(\"/home/mubeen/Downloads/profile.png\",'rb')\n",
    "\n",
    "data = {'username': 'mubeen651'}\n",
    "files = {\n",
    "    'keyfile':  keyfile,\n",
    "    'pic': pic\n",
    "}\n",
    "response = requests.post(url=\"http://127.0.0.1:4444/\",data=data,files=files)\n",
    "print(response.content)\n",
    "\n",
    "keyfile.close()\n",
    "pic.close()"
   ]
  },
  {
   "cell_type": "markdown",
   "id": "8dc775f4-67d3-4b6e-9622-84ab761895df",
   "metadata": {},
   "source": [
    "<div style=\"text-align:justify; color:black; font-size:20px; font-family:Sans-serif; font-style: oblique; text-shadow: 0 0 3px white, 0 0 1px black;\">\n",
    "text file , pic , username folder me upload ho gai hn\n",
    "</div>\n"
   ]
  },
  {
   "cell_type": "code",
   "execution_count": 87,
   "id": "5c115af2-ccd6-4340-a5cc-108939f1082a",
   "metadata": {
    "tags": []
   },
   "outputs": [
    {
     "name": "stdout",
     "output_type": "stream",
     "text": [
      "key.txt  profile.png\n"
     ]
    }
   ],
   "source": [
    "!ls ../temp/mubeen651/"
   ]
  }
 ],
 "metadata": {
  "kernelspec": {
   "display_name": "Python 3 (ipykernel)",
   "language": "python",
   "name": "python3"
  },
  "language_info": {
   "codemirror_mode": {
    "name": "ipython",
    "version": 3
   },
   "file_extension": ".py",
   "mimetype": "text/x-python",
   "name": "python",
   "nbconvert_exporter": "python",
   "pygments_lexer": "ipython3",
   "version": "3.10.12"
  }
 },
 "nbformat": 4,
 "nbformat_minor": 5
}
