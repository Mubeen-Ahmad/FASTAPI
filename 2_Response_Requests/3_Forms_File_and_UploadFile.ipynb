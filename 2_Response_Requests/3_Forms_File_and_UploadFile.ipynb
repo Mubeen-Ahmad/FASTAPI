{
 "cells": [
  {
   "cell_type": "markdown",
   "id": "25334fc2-d5c4-4e2e-aa23-cdb1cdbdaad1",
   "metadata": {},
   "source": [
    "<h1 style=\"text-align:center; color:#005bbd; font-size:30px; font-family:Sans-serif; font-style: oblique; text-shadow: 0 0 3px white, 0 0 1px Black;\">Form</h1>"
   ]
  },
  {
   "cell_type": "markdown",
   "id": "cdf5ea59-749f-40e8-95ad-2eb15316e544",
   "metadata": {},
   "source": [
    "<div style=\"text-align:justify; color:black; font-size:20px; font-family:Sans-serif; font-style: oblique; text-shadow: 0 0 3px white, 0 0 1px black;\">\n",
    "\n",
    "FastAPI mein form data handle karne ke liye, Form class ka use kia jata hain<br><br>\n",
    "Form data HTTP request ke body me ata hai, lekin yeh alag alag tarah se handle kiya jata hai.\n",
    "<br><br>\n",
    "Form Data `application/x-www-form-urlencoded` ya `multipart/form-data` format me request body me hoti hain.\n",
    "\n",
    "</div>\n",
    "\n",
    "\n"
   ]
  },
  {
   "cell_type": "code",
   "execution_count": 5,
   "id": "0c775eb8-9b8a-4de0-ac9a-d877fc976109",
   "metadata": {
    "tags": []
   },
   "outputs": [],
   "source": [
    "import requests\n",
    "import uvicorn\n",
    "from fastapi import FastAPI\n",
    "from nest_asyncio import apply"
   ]
  },
  {
   "cell_type": "code",
   "execution_count": 391,
   "id": "6c1817a2-831c-4aed-a5ff-47228275a48b",
   "metadata": {
    "tags": []
   },
   "outputs": [],
   "source": [
    "from fastapi import Form"
   ]
  },
  {
   "cell_type": "code",
   "execution_count": 34,
   "id": "69fd9a6c-60bb-461b-af03-65bfc888f9ab",
   "metadata": {},
   "outputs": [],
   "source": [
    "app = FastAPI()\n",
    "\n",
    "\n",
    "@app.post(\"/login/\")\n",
    "async def login(username: str = Form(...), password: str = Form(...)):\n",
    "    print(username)\n",
    "    return {\"username\": username, \"password\": password}\n",
    "\n",
    "\n",
    "if __name__ == \"__main__\":\n",
    "    apply()\n",
    "    uvicorn.run(app, port=4444)"
   ]
  },
  {
   "cell_type": "code",
   "execution_count": 41,
   "id": "a5451760-428f-40b1-b86b-1dee2bf79b6e",
   "metadata": {},
   "outputs": [
    {
     "data": {
      "text/plain": [
       "'{\"detail\":[{\"type\":\"missing\",\"loc\":[\"body\",\"username\"],\"msg\":\"Field required\",\"input\":null,\"url\":\"https://errors.pydantic.dev/2.5/v/missing\"},{\"type\":\"missing\",\"loc\":[\"body\",\"password\"],\"msg\":\"Field required\",\"input\":null,\"url\":\"https://errors.pydantic.dev/2.5/v/missing\"}]}'"
      ]
     },
     "execution_count": 41,
     "metadata": {},
     "output_type": "execute_result"
    }
   ],
   "source": [
    "data = {\"username\": \"mubeen123\", \"password\": \"12345\"}\n",
    "\n",
    "req = requests.post(url=\"http://127.0.0.1:4444/login/\", json=data)\n",
    "req.content.decode(\"utf-8\")"
   ]
  },
  {
   "cell_type": "markdown",
   "id": "eb3aec79-4061-40ae-8454-bb35da516e70",
   "metadata": {},
   "source": [
    "<div style=\"text-align:justify; color:black; font-size:20px; font-family:Sans-serif; font-style: oblique; text-shadow: 0 0 3px white, 0 0 1px black;\">\n",
    "\n",
    "Note Form k lye json parameter work nahi kary ga \n",
    "So data parameter ka use karna ho ga\n",
    "\n",
    "</div>\n",
    "\n",
    "\n"
   ]
  },
  {
   "cell_type": "code",
   "execution_count": 42,
   "id": "a5a76bc0-3910-477f-b87a-97352476ae09",
   "metadata": {},
   "outputs": [
    {
     "data": {
      "text/plain": [
       "'{\"username\":\"mubeen123\",\"password\":\"12345\"}'"
      ]
     },
     "execution_count": 42,
     "metadata": {},
     "output_type": "execute_result"
    }
   ],
   "source": [
    "data = {\"username\": \"mubeen123\", \"password\": \"12345\"}\n",
    "\n",
    "req = requests.post(url=\"http://127.0.0.1:4444/login/\", data=data)\n",
    "req.content.decode(\"utf-8\")"
   ]
  },
  {
   "cell_type": "markdown",
   "id": "95a3dea2-e205-4196-a4f6-db6cf8aba925",
   "metadata": {},
   "source": [
    "<h1 style=\"text-align:center; color:#005bbd; font-size:30px; font-family:Sans-serif; font-style: oblique; text-shadow: 0 0 3px white, 0 0 1px Black;\">application/x-www-form-urlencoded Type</h1>"
   ]
  },
  {
   "cell_type": "markdown",
   "id": "91cadfbc-321c-4e7b-bd73-477a67af19ff",
   "metadata": {},
   "source": [
    "\n",
    "<div style=\"text-align:justify; color:black; font-size:20px; font-family:Sans-serif; font-style: oblique; text-shadow: 0 0 3px white, 0 0 1px black;\">\n",
    "Yeh format tab use hota hai jab aap form data bina files ke bhejte hain.<br>\n",
    "Data URL-encoded format mein hota hai.\n",
    "</div>\n",
    "\n",
    "\n",
    "\n"
   ]
  },
  {
   "cell_type": "code",
   "execution_count": null,
   "id": "2491ef58-a478-473a-b95b-1c4212c96a2e",
   "metadata": {},
   "outputs": [],
   "source": [
    "app = FastAPI()\n",
    "\n",
    "\n",
    "@app.post(\"/login/\")\n",
    "async def login(username: str = Form(...), password: str = Form(...)):\n",
    "    return {\"username\": username, \"password\": password}\n",
    "\n",
    "\n",
    "if __name__ == \"__main__\":\n",
    "    apply()\n",
    "    uvicorn.run(app, port=4444)"
   ]
  },
  {
   "cell_type": "code",
   "execution_count": 54,
   "id": "39cf9575-fed6-4fef-921b-0c216066378f",
   "metadata": {},
   "outputs": [
    {
     "name": "stdout",
     "output_type": "stream",
     "text": [
      "{\"username\":\"mubeen123\",\"password\":\"12345\"}\n"
     ]
    }
   ],
   "source": [
    "data = {\"username\": \"mubeen123\", \"password\": \"12345\"}\n",
    "\n",
    "req = requests.post(url=\"http://127.0.0.1:4444/login/\", data=data)\n",
    "print(req.content.decode(\"utf-8\"))"
   ]
  },
  {
   "cell_type": "markdown",
   "id": "76e3f11d-a68d-45ae-a4d7-afe5ba3b0017",
   "metadata": {},
   "source": [
    "\n",
    "\n",
    "<div style=\"text-align:justify; color:black; font-size:20px; font-family:Sans-serif; font-style: oblique; text-shadow: 0 0 3px white, 0 0 1px black;\">\n",
    "Check Request Header\n",
    "</div>\n",
    "\n",
    "\n",
    "\n"
   ]
  },
  {
   "cell_type": "code",
   "execution_count": 55,
   "id": "e7adb1d4-2618-42b6-b760-3099dcdcd0a3",
   "metadata": {},
   "outputs": [
    {
     "data": {
      "text/plain": [
       "'application/x-www-form-urlencoded'"
      ]
     },
     "execution_count": 55,
     "metadata": {},
     "output_type": "execute_result"
    }
   ],
   "source": [
    "req.request.headers.get(\"Content-Type\")"
   ]
  },
  {
   "cell_type": "markdown",
   "id": "dc075998-6411-41a9-a784-0ff40e7c9ed9",
   "metadata": {},
   "source": [
    "<h1 style=\"text-align:center; color:#005bbd; font-size:30px; font-family:Sans-serif; font-style: oblique; text-shadow: 0 0 3px white, 0 0 1px Black;\">\n",
    "    File</h1>"
   ]
  },
  {
   "cell_type": "markdown",
   "id": "f128f12c-ddd7-4903-bd36-70b8bfdbeedc",
   "metadata": {},
   "source": [
    "<div style=\"text-align:justify; color:black; font-size:20px; font-family:Sans-serif; font-style: oblique; text-shadow: 0 0 3px white, 0 0 1px black;\">\n",
    "File class ko tab use kiya jata hai jab aap chhoti files ko receive kar rahe hain aur unhe memory mein directly access karna chahte hain.<br>\n",
    "    Jab aapko choti files handle karni hain, to aap bytes type ka use kar sakte hain\n",
    "</div>\n"
   ]
  },
  {
   "cell_type": "code",
   "execution_count": 3,
   "id": "91d73a6e-c409-4a82-a5ec-94bd2819bc16",
   "metadata": {
    "tags": []
   },
   "outputs": [],
   "source": [
    "from fastapi import File"
   ]
  },
  {
   "cell_type": "code",
   "execution_count": 73,
   "id": "0c5a108f-23a9-4f78-b666-9317fa8e3340",
   "metadata": {},
   "outputs": [],
   "source": [
    "app = FastAPI()\n",
    "\n",
    "\n",
    "@app.post(\"/\")\n",
    "async def upload_file(file: bytes = File(...)):\n",
    "\n",
    "    content = file.decode(\"utf-8\")\n",
    "    size = len(file)\n",
    "\n",
    "    lines = content.split(\"\\n\")\n",
    "\n",
    "    return {\"size\": size, \"content\": lines}\n",
    "\n",
    "\n",
    "if __name__ == \"__main__\":\n",
    "    apply()\n",
    "    uvicorn.run(app, port=4444)"
   ]
  },
  {
   "cell_type": "code",
   "execution_count": 15,
   "id": "0ee5c49b-0756-4a3c-81a2-deb9980030dd",
   "metadata": {
    "tags": []
   },
   "outputs": [
    {
     "name": "stdout",
     "output_type": "stream",
     "text": [
      "{\"size\":245,\"content\":[\"In October 2016 those organizations published \\\"Ex Machina: Personal Attacks Seen at Scale\\\" describing their findings.[8][9] Various popular media outlets reported on the publication of this paper and described the social context of the research.\"]}\n"
     ]
    }
   ],
   "source": [
    "file = open(\"../temp/doc.txt\")\n",
    "\n",
    "req = requests.post(url=\"http://127.0.0.1:4444/\", data={\"file\": file})\n",
    "print(req.content.decode(\"utf-8\"))\n",
    "\n",
    "file.close()"
   ]
  },
  {
   "cell_type": "markdown",
   "id": "121f9360-a570-44dd-aa9a-7888a845f934",
   "metadata": {},
   "source": [
    "<div style=\"text-align:justify; color:black; font-size:20px; font-family:Sans-serif; font-style: oblique; text-shadow: 0 0 3px white, 0 0 1px black;\">\n",
    "Note yaha data ki jaga files parameter ka use kia jai ga\n",
    "\n",
    "</div>\n"
   ]
  },
  {
   "cell_type": "code",
   "execution_count": 16,
   "id": "95bef9fd-bacf-45d4-a7c4-f2bf791e72be",
   "metadata": {
    "tags": []
   },
   "outputs": [
    {
     "name": "stdout",
     "output_type": "stream",
     "text": [
      "{\"size\":655,\"content\":[\"Detox was a project by Google, in collaboration with the Wikimedia Foundation, to research methods that could be used to address users posting unkind comments in Wikimedia community discussions.\",\"Among other parts of the Detox project, the Wikimedia Foundation and Jigsaw collaborated to use artificial intelligence for basic research and to develop technical solutions[example needed] to address the problem. \",\"In October 2016 those organizations published \\\"Ex Machina: Personal Attacks Seen at Scale\\\" describing their findings.[8][9] Various popular media outlets reported on the publication of this paper and described the social context of the research.\"]}\n"
     ]
    }
   ],
   "source": [
    "file = open(\"../temp/doc.txt\")\n",
    "\n",
    "req = requests.post(url=\"http://127.0.0.1:4444/\", files={\"file\": file})\n",
    "print(req.content.decode(\"utf-8\"))\n",
    "\n",
    "file.close()"
   ]
  },
  {
   "cell_type": "markdown",
   "id": "e7f1d7c2-a0f1-4ea6-8b81-d63ca54b0c78",
   "metadata": {},
   "source": [
    "<h1 style=\"text-align:center; color:#005bbd; font-size:30px; font-family:Sans-serif; font-style: oblique; text-shadow: 0 0 3px white, 0 0 1px Black;\">multipart/form-data </h1>"
   ]
  },
  {
   "cell_type": "markdown",
   "id": "a27f6528-3767-4a5f-9020-56813b09888f",
   "metadata": {},
   "source": [
    "<div style=\"text-align:justify; color:black; font-size:20px; font-family:Sans-serif; font-style: oblique; text-shadow: 0 0 3px white, 0 0 1px black;\">\n",
    "Yeh format tab use hota hai jab aap form data ke sath files bhi bhejte hain. <br>Data multiple parts mein hota hai, har part ka alag content type hota hai.\n",
    "\n",
    "</div>\n"
   ]
  },
  {
   "cell_type": "code",
   "execution_count": 17,
   "id": "50c2cebb-413b-42c2-ad71-74123b55878d",
   "metadata": {
    "tags": []
   },
   "outputs": [
    {
     "data": {
      "text/plain": [
       "'multipart/form-data; boundary=19813f7d1243b0de8ecb075a762204df'"
      ]
     },
     "execution_count": 17,
     "metadata": {},
     "output_type": "execute_result"
    }
   ],
   "source": [
    "req.request.headers.get(\"Content-Type\")"
   ]
  },
  {
   "cell_type": "markdown",
   "id": "0a8f752c-65ff-4fd2-b780-c65f13c6ca52",
   "metadata": {},
   "source": [
    "<h1 style=\"text-align:center; color:#005bbd; font-size:30px; font-family:Sans-serif; font-style: oblique; text-shadow: 0 0 3px white, 0 0 1px Black;\">\n",
    "    UploadFile</h1>"
   ]
  },
  {
   "cell_type": "markdown",
   "id": "b080dac3-df3d-4a74-b736-ce8c0cbe4c2c",
   "metadata": {},
   "source": [
    "<div style=\"text-align:justify; color:black; font-size:20px; font-family:Sans-serif; font-style: oblique; text-shadow: 0 0 3px white, 0 0 1px black;\">\n",
    "UploadFile class ka use tab hota hai jab aap badi files ko receive kar rahe hain. <br>\n",
    "</div>\n"
   ]
  },
  {
   "cell_type": "code",
   "execution_count": 392,
   "id": "6a282697-c675-4bd1-b0c1-8e77dd36f073",
   "metadata": {
    "tags": []
   },
   "outputs": [],
   "source": [
    "from fastapi import File, UploadFile"
   ]
  },
  {
   "cell_type": "code",
   "execution_count": 5,
   "id": "c207e98b-d61f-414a-a7ce-96875fd24adb",
   "metadata": {},
   "outputs": [],
   "source": [
    "app = FastAPI()\n",
    "\n",
    "\n",
    "@app.post(\"/\")\n",
    "async def upload_file(file: UploadFile = File(...)):\n",
    "\n",
    "    contents = await file.read()  # Read the contents of the file\n",
    "    await file.seek(0)  # Move the file pointer to the start\n",
    "\n",
    "    data = {\n",
    "        \"filename\": file.filename,\n",
    "        \"content_type\": file.content_type,\n",
    "        \"size\": len(contents),\n",
    "        \"content\": contents,\n",
    "    }\n",
    "\n",
    "    file.close()\n",
    "\n",
    "    return {\"metadata\": data}\n",
    "\n",
    "\n",
    "if __name__ == \"__main__\":\n",
    "    apply()\n",
    "    uvicorn.run(app, port=4444)"
   ]
  },
  {
   "cell_type": "markdown",
   "id": "0fc999da-f820-4f3a-8586-190de6b63df3",
   "metadata": {},
   "source": [
    "<div style=\"text-align:justify; color:black; font-size:20px; font-family:Sans-serif; font-style: oblique; text-shadow: 0 0 3px white, 0 0 1px black;\">\n",
    "<ul>\n",
    "await file.read():\n",
    "    <ul><li>Ye line file ke contents ko read karne ke liye use hoti hai aur await keyword isliye use hota hai kyunki ye async method hai.</li></ul>\n",
    "</ul>\n",
    "\n",
    "<ul>        \n",
    "await file.seek(0):\n",
    "    <ul><li>Ye line file pointer ko start pe move karti hai. seek() method async hai, isliye await keyword use hota hai.\n",
    "    </li></ul>\n",
    "<br>\n",
    "<i style=\"color:green;\">Suppose aap ek meal bana rahe hain jo kuch time consume karta hai (e.g., 10 minutes tak cook hone me lagta hai). <br><br>Agar aap synchronous tarike se kaam karein, to aapko wait karna padega jab tak meal cook nahi hota.<br>\n",
    "    Lekin agar aapke paas await jaisa kuch hai, <br>to aap meal cook hone ka wait karte waqt doosre tasks (e.g., table set karna) kar sakte hain bina time waste kiye. </i>\n",
    "</div>"
   ]
  },
  {
   "cell_type": "code",
   "execution_count": 20,
   "id": "652b0fba-3d53-4aa8-a261-a91f5cda4130",
   "metadata": {
    "tags": []
   },
   "outputs": [
    {
     "name": "stdout",
     "output_type": "stream",
     "text": [
      "{\"metadata\":{\"filename\":\"doc.txt\",\"content_type\":null,\"size\":655,\"content\":\"Detox was a project by Google, in collaboration with the Wikimedia Foundation, to research methods that could be used to address users posting unkind comments in Wikimedia community discussions.\\nAmong other parts of the Detox project, the Wikimedia Foundation and Jigsaw collaborated to use artificial intelligence for basic research and to develop technical solutions[example needed] to address the problem. \\nIn October 2016 those organizations published \\\"Ex Machina: Personal Attacks Seen at Scale\\\" describing their findings.[8][9] Various popular media outlets reported on the publication of this paper and described the social context of the research.\"}}\n"
     ]
    }
   ],
   "source": [
    "file = open(\"../temp/doc.txt\")\n",
    "\n",
    "req = requests.post(url=\"http://127.0.0.1:4444/\", files={\"file\": file})\n",
    "print(req.content.decode(\"utf-8\"))\n",
    "\n",
    "file.close()"
   ]
  },
  {
   "cell_type": "markdown",
   "id": "6c842e87-8851-45f1-8c63-0d28f2a02ed4",
   "metadata": {
    "tags": []
   },
   "source": [
    "<div style=\"text-align:justify; color:black; font-size:20px; font-family:Sans-serif; font-style: oblique; text-shadow: 0 0 3px white, 0 0 1px black;\">\n",
    "UploadFile ka use Server pe files upload karne ke liye.\n",
    "</div>\n"
   ]
  },
  {
   "cell_type": "code",
   "execution_count": null,
   "id": "3babc370-d74c-4ec0-8385-e9791049e789",
   "metadata": {},
   "outputs": [],
   "source": [
    "app = FastAPI()\n",
    "\n",
    "\n",
    "@app.post(\"/\")\n",
    "async def upload_file(file: UploadFile = File(...)):\n",
    "\n",
    "    contents = await file.read()\n",
    "    await file.seek(0)\n",
    "\n",
    "    import shutil\n",
    "\n",
    "    with open(\"../temp/server.txt\", \"w+b\") as f:\n",
    "        shutil.copyfileobj(file.file, f)\n",
    "\n",
    "    return {\"message\": \"File are Uploaded\"}\n",
    "\n",
    "\n",
    "if __name__ == \"__main__\":\n",
    "    apply()\n",
    "    uvicorn.run(app, port=4444)"
   ]
  },
  {
   "cell_type": "code",
   "execution_count": 22,
   "id": "ae26007f-d306-4fd1-b859-6bb4ee48e2ac",
   "metadata": {
    "tags": []
   },
   "outputs": [
    {
     "name": "stdout",
     "output_type": "stream",
     "text": [
      "{\"message\":\"File are Uploaded\"}\n"
     ]
    }
   ],
   "source": [
    "file = open(\"../temp/doc.txt\")\n",
    "\n",
    "req = requests.post(url=\"http://127.0.0.1:4444/\", files={\"file\": file})\n",
    "print(req.content.decode(\"utf-8\"))\n",
    "\n",
    "file.close()"
   ]
  },
  {
   "cell_type": "markdown",
   "id": "b8b47908-a611-41c8-9791-c3028c7989b1",
   "metadata": {},
   "source": [
    "<div style=\"text-align:justify; color:black; font-size:20px; font-family:Sans-serif; font-style: oblique; text-shadow: 0 0 3px white, 0 0 1px black;\">\n",
    "file upload ho gai hn \n",
    "</div>\n"
   ]
  },
  {
   "cell_type": "code",
   "execution_count": 23,
   "id": "62c54e97-2bdd-42e8-9b41-434bec544e28",
   "metadata": {
    "tags": []
   },
   "outputs": [
    {
     "name": "stdout",
     "output_type": "stream",
     "text": [
      "Detox was a project by Google, in collaboration with the Wikimedia Foundation, to research methods that could be used to address users posting unkind comments in Wikimedia community discussions.\n",
      "Among other parts of the Detox project, the Wikimedia Foundation and Jigsaw collaborated to use artificial intelligence for basic research and to develop technical solutions[example needed] to address the problem. \n",
      "In October 2016 those organizations published \"Ex Machina: Personal Attacks Seen at Scale\" describing their findings.[8][9] Various popular media outlets reported on the publication of this paper and described the social context of the research.\n"
     ]
    }
   ],
   "source": [
    "with open(\"../temp/server.txt\") as f:\n",
    "    print(f.read())"
   ]
  },
  {
   "cell_type": "markdown",
   "id": "d7f9c305-313f-449a-8d50-38d64187bfca",
   "metadata": {},
   "source": [
    "<h1 style=\"text-align:center; color:#005bbd; font-size:30px; font-family:Sans-serif; font-style: oblique; text-shadow: 0 0 3px white, 0 0 1px Black;\">\n",
    "    Use Form and File </h1>"
   ]
  },
  {
   "cell_type": "code",
   "execution_count": 12,
   "id": "0b79e4ac-c4a6-4ed3-8837-06a8078b3012",
   "metadata": {
    "tags": []
   },
   "outputs": [],
   "source": [
    "import os\n",
    "import shutil\n",
    "\n",
    "app = FastAPI()\n",
    "\n",
    "\n",
    "@app.post(\"/\")\n",
    "async def user(\n",
    "    username: str = Form(...), keyfile: UploadFile = File(), pic: UploadFile = File()\n",
    "):\n",
    "\n",
    "    os.mkdir(f\"../temp/{username}\")\n",
    "\n",
    "    with open(os.path.join(\"../temp\", username, keyfile.filename), \"w+b\") as f:\n",
    "        shutil.copyfileobj(keyfile.file, f)\n",
    "\n",
    "    with open(os.path.join(\"../temp\", username, pic.filename), \"w+b\") as f:\n",
    "        shutil.copyfileobj(pic.file, f)\n",
    "\n",
    "    return {\"Message\": \"Data Uploaded\"}\n",
    "\n",
    "\n",
    "if __name__ == \"__main__\":\n",
    "    apply()\n",
    "    uvicorn.run(app, port=4444)"
   ]
  },
  {
   "cell_type": "code",
   "execution_count": 86,
   "id": "471357be-0969-411f-87bd-078e04e82716",
   "metadata": {
    "tags": []
   },
   "outputs": [
    {
     "name": "stdout",
     "output_type": "stream",
     "text": [
      "b'{\"Message\":\"Data Uploaded\"}'\n"
     ]
    }
   ],
   "source": [
    "keyfile = open(\"../temp/key.txt\", \"r\")\n",
    "pic = open(\"/home/mubeen/Downloads/profile.png\", \"rb\")\n",
    "\n",
    "data = {\"username\": \"mubeen651\"}\n",
    "files = {\"keyfile\": keyfile, \"pic\": pic}\n",
    "response = requests.post(url=\"http://127.0.0.1:4444/\", data=data, files=files)\n",
    "print(response.content)\n",
    "\n",
    "keyfile.close()\n",
    "pic.close()"
   ]
  },
  {
   "cell_type": "markdown",
   "id": "8dc775f4-67d3-4b6e-9622-84ab761895df",
   "metadata": {},
   "source": [
    "<div style=\"text-align:justify; color:black; font-size:20px; font-family:Sans-serif; font-style: oblique; text-shadow: 0 0 3px white, 0 0 1px black;\">\n",
    "text file , pic , username folder me upload ho gai hn\n",
    "</div>\n"
   ]
  },
  {
   "cell_type": "code",
   "execution_count": 87,
   "id": "5c115af2-ccd6-4340-a5cc-108939f1082a",
   "metadata": {
    "tags": []
   },
   "outputs": [
    {
     "name": "stdout",
     "output_type": "stream",
     "text": [
      "key.txt  profile.png\n"
     ]
    }
   ],
   "source": [
    "!ls ../temp/mubeen651/"
   ]
  },
  {
   "cell_type": "markdown",
   "id": "b8f47579-8694-4693-861d-bf388fb9d60c",
   "metadata": {},
   "source": [
    "<h1 style=\"text-align:center; color:#005bbd; font-size:30px; font-family:Sans-serif; font-style: oblique; text-shadow: 0 0 3px white, 0 0 1px Black;\">\n",
    "Multiple File Uploads</h1>"
   ]
  },
  {
   "cell_type": "code",
   "execution_count": null,
   "id": "8ec12521-a53a-4c31-af1f-581889fcc8ab",
   "metadata": {},
   "outputs": [],
   "source": [
    "app = FastAPI()\n",
    "\n",
    "\n",
    "@app.post(\"/\")\n",
    "async def index(file: list[bytes] = File()):\n",
    "\n",
    "    data = []\n",
    "\n",
    "    for f in file:\n",
    "        content = f.decode(\"utf-8\")\n",
    "        size = len(f)\n",
    "\n",
    "        data.append((size, content))\n",
    "\n",
    "    return {\"data\": data}\n",
    "\n",
    "\n",
    "if __name__ == \"__main__\":\n",
    "    apply()\n",
    "    uvicorn.run(app, port=4444)"
   ]
  },
  {
   "cell_type": "markdown",
   "id": "c3827529-7449-4cd8-9e28-e8404fe9ecf2",
   "metadata": {},
   "source": [
    "<div style=\"text-align:justify; color:black; font-size:20px; font-family:Sans-serif; font-style: oblique; text-shadow: 0 0 3px white, 0 0 1px black;\">\n",
    "multiple Files is form me dn gn<br>\n",
    "    ('file',open file1),\n",
    "    ('file',open file2),\n",
    "    \n",
    "</div>\n"
   ]
  },
  {
   "cell_type": "code",
   "execution_count": 381,
   "id": "ecf48084-66bf-44ee-8082-24bfe5fa3ede",
   "metadata": {
    "tags": []
   },
   "outputs": [],
   "source": [
    "path = [\n",
    "    \"../temp/file_1.txt\",\n",
    "    \"../temp/file_2.txt\",\n",
    "    \"../temp/file_3.txt\",\n",
    "    \"../temp/file_4.txt\",\n",
    "    \"../temp/file_5.txt\",\n",
    "]\n",
    "\n",
    "bytes_ = []\n",
    "\n",
    "for f in path:\n",
    "    files = open(f, \"r\")\n",
    "    bytes_.append((\"file\", files))"
   ]
  },
  {
   "cell_type": "code",
   "execution_count": 382,
   "id": "376f4bc5-a316-45c3-8242-12a8b98701b7",
   "metadata": {
    "tags": []
   },
   "outputs": [
    {
     "data": {
      "text/plain": [
       "[('file',\n",
       "  <_io.TextIOWrapper name='../temp/file_1.txt' mode='r' encoding='UTF-8'>),\n",
       " ('file',\n",
       "  <_io.TextIOWrapper name='../temp/file_2.txt' mode='r' encoding='UTF-8'>),\n",
       " ('file',\n",
       "  <_io.TextIOWrapper name='../temp/file_3.txt' mode='r' encoding='UTF-8'>),\n",
       " ('file',\n",
       "  <_io.TextIOWrapper name='../temp/file_4.txt' mode='r' encoding='UTF-8'>),\n",
       " ('file',\n",
       "  <_io.TextIOWrapper name='../temp/file_5.txt' mode='r' encoding='UTF-8'>)]"
      ]
     },
     "execution_count": 382,
     "metadata": {},
     "output_type": "execute_result"
    }
   ],
   "source": [
    "bytes_"
   ]
  },
  {
   "cell_type": "markdown",
   "id": "cd637476-3e6a-4773-98ad-72e2c3f2b492",
   "metadata": {},
   "source": [
    "<div style=\"text-align:justify; color:black; font-size:20px; font-family:Sans-serif; font-style: oblique; text-shadow: 0 0 3px white, 0 0 1px black;\">\n",
    "pass bytes_     \n",
    "</div>\n"
   ]
  },
  {
   "cell_type": "code",
   "execution_count": 383,
   "id": "19e57bb6-0145-4019-b7f3-6e07711e3510",
   "metadata": {
    "tags": []
   },
   "outputs": [
    {
     "data": {
      "text/plain": [
       "{'data': [[200,\n",
       "   'acqmpwndbvrtspnqgamywreffrsidemdrqrawhsegybxqhkyvadksvyaxuuielvgbjudcuamgirvqkydxcvaeathbckgotojgvbsdmtdnucjilattsufbqutobulnpuqdjsseakowlltoowelrgbogcvdibwanfcwaqwabhvxyqaxpaodcectwmjfyticebrflbyolek'],\n",
       "  [200,\n",
       "   'qhdgucbvpyicsetqdeidgbhvkwffrylejcuxsckjyiudxkfnhlkwpxravyotywjqxoadhhrbintgeqmwogcctnmckikjhsrvwidlkxwemoxqsuecwujjsrlliinjhuojkhlguqwtaqgkyfbbcorsslpoqqfcewxjpcpbeeapmyvorrnbrdmpckbsbinoxvxuhxpyibau'],\n",
       "  [200,\n",
       "   'bkxuoyxxlkpwhqalmnbytbjfdfbfbqaicvejnqtsrcvsqixysiimhwivwdsdfimstinivcjvthasgqjxwdmjuvkcymemgjknukkkotqhyxklqbpbbcmmcgrwkaeafwborthwhpebjvccnxadgpwqucoqxdycxmlgdvqptitpidoekfdnphqcrusqkcspuhanxtoavque'],\n",
       "  [200,\n",
       "   'bmfkevjfkutxmikojnvamqaynyhhbimmlfbxysugfkxlvfgcbcnhxkogfkglqliqmwfqwtcmkbpxqtdwgbxbqigsnjtaefffhfmfprrpsebtwcdmrrexslmncrcryfrlugkjxnihoeawwtmjswiohukoyffwcuvadtmvxcpgmidtyisrwgxchvopldcsgcewokqbkjwo'],\n",
       "  [200,\n",
       "   'gcvqhhfylhtnlcgxhoplwlmtcxivwygjmdtkccgwedmqftfuddegieukmxtrrpsqirwoyyqcrwnaxhoyabhluvmfycibfrhdlvevawkueiwcqcxvflrladthjhcylhxdvroleckbhnirfgbqnwjqfhebuyjnodiogqrdkxuqxbhumhqahhtqtcgncxghmnnqjdjdwuso']]}"
      ]
     },
     "execution_count": 383,
     "metadata": {},
     "output_type": "execute_result"
    }
   ],
   "source": [
    "response = requests.post(\"http://127.0.0.1:4444/\", headers=headers, files=bytes_)\n",
    "json.loads(response.content.decode(\"utf-8\"))"
   ]
  },
  {
   "cell_type": "markdown",
   "id": "7b676d83-4823-4164-8bca-3abc3416bdad",
   "metadata": {},
   "source": [
    "<div style=\"text-align:justify; color:black; font-size:20px; font-family:Sans-serif; font-style: oblique; text-shadow: 0 0 3px white, 0 0 1px black;\">\n",
    "close file</div>\n"
   ]
  },
  {
   "cell_type": "code",
   "execution_count": 384,
   "id": "694d1668-179f-4230-b020-f229a6b7b418",
   "metadata": {
    "tags": []
   },
   "outputs": [],
   "source": [
    "for f in bytes_:\n",
    "    f[-1].close()"
   ]
  },
  {
   "cell_type": "markdown",
   "id": "a66f3db5-1dbb-449f-a7a0-3b2eb6bda0fa",
   "metadata": {},
   "source": [
    "<div style=\"text-align:justify; color:black; font-size:20px; font-family:Sans-serif; font-style: oblique; text-shadow: 0 0 3px white, 0 0 1px black;\">\n",
    "Multiple Example for UploadFIle    \n",
    "</div>\n"
   ]
  },
  {
   "cell_type": "code",
   "execution_count": null,
   "id": "593bb4cb-317a-4b0e-9744-5ec6c35c8a69",
   "metadata": {},
   "outputs": [],
   "source": [
    "app = FastAPI()\n",
    "\n",
    "\n",
    "@app.post(\"/\")\n",
    "async def upload_file(file: list[UploadFile] = File(...)):\n",
    "\n",
    "    alldata = []\n",
    "\n",
    "    for f in file:\n",
    "        content = await f.read()\n",
    "        await f.seek(0)\n",
    "\n",
    "        data = {\"filename\": f.filename, \"size\": len(content), \"content\": content}\n",
    "\n",
    "        alldata.append(data)\n",
    "\n",
    "    return alldata\n",
    "\n",
    "\n",
    "if __name__ == \"__main__\":\n",
    "    apply()\n",
    "    uvicorn.run(app, port=4444)"
   ]
  },
  {
   "cell_type": "code",
   "execution_count": 440,
   "id": "bd30afe0-7035-4ca3-9c2b-d7d0ca96065f",
   "metadata": {
    "tags": []
   },
   "outputs": [
    {
     "data": {
      "text/plain": [
       "[{'filename': 'file_1.txt',\n",
       "  'size': 200,\n",
       "  'content': 'acqmpwndbvrtspnqgamywreffrsidemdrqrawhsegybxqhkyvadksvyaxuuielvgbjudcuamgirvqkydxcvaeathbckgotojgvbsdmtdnucjilattsufbqutobulnpuqdjsseakowlltoowelrgbogcvdibwanfcwaqwabhvxyqaxpaodcectwmjfyticebrflbyolek'},\n",
       " {'filename': 'file_2.txt',\n",
       "  'size': 200,\n",
       "  'content': 'qhdgucbvpyicsetqdeidgbhvkwffrylejcuxsckjyiudxkfnhlkwpxravyotywjqxoadhhrbintgeqmwogcctnmckikjhsrvwidlkxwemoxqsuecwujjsrlliinjhuojkhlguqwtaqgkyfbbcorsslpoqqfcewxjpcpbeeapmyvorrnbrdmpckbsbinoxvxuhxpyibau'},\n",
       " {'filename': 'file_3.txt',\n",
       "  'size': 200,\n",
       "  'content': 'bkxuoyxxlkpwhqalmnbytbjfdfbfbqaicvejnqtsrcvsqixysiimhwivwdsdfimstinivcjvthasgqjxwdmjuvkcymemgjknukkkotqhyxklqbpbbcmmcgrwkaeafwborthwhpebjvccnxadgpwqucoqxdycxmlgdvqptitpidoekfdnphqcrusqkcspuhanxtoavque'},\n",
       " {'filename': 'file_4.txt',\n",
       "  'size': 200,\n",
       "  'content': 'bmfkevjfkutxmikojnvamqaynyhhbimmlfbxysugfkxlvfgcbcnhxkogfkglqliqmwfqwtcmkbpxqtdwgbxbqigsnjtaefffhfmfprrpsebtwcdmrrexslmncrcryfrlugkjxnihoeawwtmjswiohukoyffwcuvadtmvxcpgmidtyisrwgxchvopldcsgcewokqbkjwo'},\n",
       " {'filename': 'file_5.txt',\n",
       "  'size': 200,\n",
       "  'content': 'gcvqhhfylhtnlcgxhoplwlmtcxivwygjmdtkccgwedmqftfuddegieukmxtrrpsqirwoyyqcrwnaxhoyabhluvmfycibfrhdlvevawkueiwcqcxvflrladthjhcylhxdvroleckbhnirfgbqnwjqfhebuyjnodiogqrdkxuqxbhumhqahhtqtcgncxghmnnqjdjdwuso'}]"
      ]
     },
     "execution_count": 440,
     "metadata": {},
     "output_type": "execute_result"
    }
   ],
   "source": [
    "path = [\n",
    "    \"../temp/file_1.txt\",\n",
    "    \"../temp/file_2.txt\",\n",
    "    \"../temp/file_3.txt\",\n",
    "    \"../temp/file_4.txt\",\n",
    "    \"../temp/file_5.txt\",\n",
    "]\n",
    "\n",
    "bytes_ = []\n",
    "\n",
    "for f in path:\n",
    "    files = open(f, \"r\")\n",
    "    bytes_.append((\"file\", files))\n",
    "\n",
    "\n",
    "response = requests.post(\"http://127.0.0.1:4444/\", headers=headers, files=bytes_)\n",
    "json.loads(response.content.decode(\"utf-8\"))"
   ]
  },
  {
   "cell_type": "code",
   "execution_count": 441,
   "id": "6de6a2f0-b2d6-42ac-8171-9c4995efeccb",
   "metadata": {
    "tags": []
   },
   "outputs": [],
   "source": [
    "for f in bytes_:\n",
    "    f[-1].close()"
   ]
  },
  {
   "cell_type": "markdown",
   "id": "778bac39-511e-4771-ad65-3f9d1e6de50f",
   "metadata": {},
   "source": [
    "<h1 style=\"text-align:center; color:#005bbd; font-size:30px; font-family:Sans-serif; font-style: oblique; text-shadow: 0 0 3px white, 0 0 1px Black;\">Form (HTML)</h1>"
   ]
  },
  {
   "cell_type": "markdown",
   "id": "a3a75c01-4094-4b82-8412-d8b30c2b0137",
   "metadata": {
    "tags": []
   },
   "source": [
    "<html>\n",
    "        <body>\n",
    "            <form action=\"/submit\" method=\"post\">\n",
    "                <label for=\"username\">Username:</label><br>\n",
    "                <input type=\"text\" id=\"username\" name=\"username\" value='mubeen123'> <br>\n",
    "                <input type=\"submit\" value=\"Submit\">\n",
    "            </form>\n",
    "        </body>\n",
    "    </html>"
   ]
  },
  {
   "cell_type": "code",
   "execution_count": 443,
   "id": "b725092d-e5d2-4c59-9eec-f5b9ac13a546",
   "metadata": {
    "tags": []
   },
   "outputs": [],
   "source": [
    "from fastapi.responses import HTMLResponse"
   ]
  },
  {
   "cell_type": "code",
   "execution_count": 10,
   "id": "30faf260-cc62-43a8-9e7d-c9ebea647bf2",
   "metadata": {
    "tags": []
   },
   "outputs": [],
   "source": [
    "app = FastAPI()\n",
    "\n",
    "@app.get(\"/\", response_class=HTMLResponse)\n",
    "async def read_item():\n",
    "    return \"\"\"\n",
    "    <html>\n",
    "        <body>\n",
    "            <form action=\"/submit\" method=\"post\">\n",
    "                <label for=\"username\">Username:</label><br>\n",
    "                <input type=\"text\" id=\"username\" name=\"username\"><br>\n",
    "                <input type=\"submit\" value=\"Submit\">\n",
    "            </form>\n",
    "        </body>\n",
    "    </html>\n",
    "    \"\"\"\n",
    "\n",
    "@app.post(\"/submit\")\n",
    "async def submit_form(username: str = Form(...)):\n",
    "    return {\"name\": username}\n",
    "\n",
    "if __name__ == \"__main__\":\n",
    "    apply()\n",
    "    uvicorn.run(app, port=4444)"
   ]
  },
  {
   "cell_type": "markdown",
   "id": "992c1470-b6aa-4050-aa0d-fa21529c2116",
   "metadata": {},
   "source": [
    "<div style=\"text-align:justify; color:black; font-size:20px; font-family:Sans-serif; font-style: oblique; text-shadow: 0 0 3px white, 0 0 1px black;\">\n",
    "yaha html me form ka use kia hn <br>\n",
    "aur submit button pr click karny pr username submit_form ky pass end point ja raha hn\n",
    "</div>\n"
   ]
  },
  {
   "cell_type": "code",
   "execution_count": 38,
   "id": "e20c1825-b1e1-4b0b-9fdf-4982a0e252cb",
   "metadata": {
    "tags": []
   },
   "outputs": [
    {
     "name": "stdout",
     "output_type": "stream",
     "text": [
      "\n",
      "    <html>\n",
      "        <body>\n",
      "            <form action=\"/submit\" method=\"post\">\n",
      "                <label for=\"username\">Username:</label><br>\n",
      "                <input type=\"text\" id=\"username\" name=\"username\"><br>\n",
      "                <input type=\"submit\" value=\"Submit\">\n",
      "            </form>\n",
      "        </body>\n",
      "    </html>\n",
      "    \n"
     ]
    }
   ],
   "source": [
    "req = requests.get(url=\"http://127.0.0.1:4444\", data={\"username\": \"mubeen\"})\n",
    "print(req.content.decode('utf-8'))"
   ]
  },
  {
   "cell_type": "code",
   "execution_count": 33,
   "id": "51ecfc83-8a55-4e56-9a3e-553230a899a9",
   "metadata": {
    "tags": []
   },
   "outputs": [
    {
     "data": {
      "text/plain": [
       "'{\"name\":\"mubeen\"}'"
      ]
     },
     "execution_count": 33,
     "metadata": {},
     "output_type": "execute_result"
    }
   ],
   "source": [
    "req = requests.post(url=\"http://127.0.0.1:4444/submit\", data={\"username\": \"mubeen\"})\n",
    "req.content.decode('utf-8')"
   ]
  },
  {
   "cell_type": "markdown",
   "id": "5bfa5268-2702-41ec-a698-24977a558ec6",
   "metadata": {
    "tags": []
   },
   "source": [
    "<div style=\"text-align:justify; color:black; font-size:20px; font-family:Sans-serif; font-style: oblique; text-shadow: 0 0 3px white, 0 0 1px black;\">\n",
    "screenshot in browser</div>\n"
   ]
  },
  {
   "cell_type": "markdown",
   "id": "de9e773f-3421-4110-8f56-7f2b2a9347d5",
   "metadata": {
    "tags": []
   },
   "source": [
    "<div style=\"text-align:justify; color:black; font-size:30px; font-family:Sans-serif; font-style: oblique; text-shadow: 0 0 3px white, 0 0 1px black;\">\n",
    "    <img style=\"display: block;margin-left: auto;margin-right: auto;width: 50%;\" src=\"../images/1.png\">\n",
    "        <img style=\"display: block;margin-left: auto;margin-right: auto;width: 50%;\" src=\"../images/2.png\">\n",
    "\n",
    "</div>"
   ]
  },
  {
   "cell_type": "markdown",
   "id": "36f66515-20de-4b2e-b8d1-576fe38087cf",
   "metadata": {},
   "source": [
    "<div style=\"text-align:justify; color:black; font-size:20px; font-family:Sans-serif; font-style: oblique; text-shadow: 0 0 3px white, 0 0 1px black;\">\n",
    "Note html me jab form ka use kr rahy hn to <br>\n",
    "< input type=\"text\" id=\"username\" name=\"username\"><br>\n",
    "yaha name=varname ka likhna zaroori hn\n",
    "</div>\n"
   ]
  },
  {
   "cell_type": "markdown",
   "id": "8ad670bb-7fc1-4487-adaf-48d9517d8cd9",
   "metadata": {},
   "source": [
    "<h1 style=\"text-align:center; color:#005bbd; font-size:30px; font-family:Sans-serif; font-style: oblique; text-shadow: 0 0 3px white, 0 0 1px Black;\">File() Example with (HTML)</h1>"
   ]
  },
  {
   "cell_type": "code",
   "execution_count": null,
   "id": "20197c2c-930a-4c77-8111-b53aaa591c12",
   "metadata": {},
   "outputs": [],
   "source": [
    "app = FastAPI()\n",
    "\n",
    "@app.get('/',response_class=HTMLResponse)\n",
    "async def index():\n",
    "    html =\"\"\"\n",
    "    <html>\n",
    "    <body>\n",
    "        <form action=\"/uploadfiles/\" enctype=\"multipart/form-data\" method=\"post\">\n",
    "            <input name=\"files\" type=\"file\" multiple>\n",
    "            <input type=\"submit\">\n",
    "        </form>\n",
    "    </body>\n",
    "    </html>\n",
    "    \"\"\"\n",
    "    return html\n",
    "    \n",
    "@app.post('/uploadfiles/')\n",
    "async def upload(files : UploadFile = File()):\n",
    "    contents = await files.read()\n",
    "    await files.seek(0)\n",
    "\n",
    "    import shutil\n",
    "\n",
    "    with open(f\"../temp/{files.filename}\", \"w+b\") as f:\n",
    "        shutil.copyfileobj(files.file, f)\n",
    "\n",
    "    return {\"message\": \"File are Uploaded\"}\n",
    "    \n",
    "    \n",
    "if __name__ == \"__main__\":\n",
    "    apply()\n",
    "    uvicorn.run(app, port=4444)"
   ]
  },
  {
   "cell_type": "markdown",
   "id": "12b7cd57-e94e-4b9d-803c-4c41b6147451",
   "metadata": {},
   "source": [
    "<div style=\"text-align:justify; color:black; font-size:30px; font-family:Sans-serif; font-style: oblique; text-shadow: 0 0 3px white, 0 0 1px black;\">\n",
    "    <img style=\"display: block;margin-left: auto;margin-right: auto;width: 50%;\" src=\"../images/11.png\">\n",
    "        <img style=\"display: block;margin-left: auto;margin-right: auto;width: 50%;\" src=\"../images/12.png\">\n",
    "    <img style=\"display: block;margin-left: auto;margin-right: auto;width: 50%;\" src=\"../images/13.png\">\n",
    "\n",
    "</div>"
   ]
  },
  {
   "cell_type": "markdown",
   "id": "e3d83105-1b3b-4e69-9fba-992191269cae",
   "metadata": {},
   "source": [
    "<div style=\"text-align:justify; color:black; font-size:20px; font-family:Sans-serif; font-style: oblique; text-shadow: 0 0 3px white, 0 0 1px black;\">\n",
    "yaha browser sy file select kry ky submit karny pr file upload ho gai hn</div>\n"
   ]
  },
  {
   "cell_type": "code",
   "execution_count": 40,
   "id": "34167992-7b0b-4c9f-be7c-bf4fba5bfceb",
   "metadata": {
    "tags": []
   },
   "outputs": [
    {
     "name": "stdout",
     "output_type": "stream",
     "text": [
      "doc.txt     file_3.txt\tkey.txt      sample.gif  Untitled.ipynb\n",
      "file_1.txt  file_4.txt\tmubeen651    sample.mp4\n",
      "file_2.txt  file_5.txt\tprofile.png  server.txt\n"
     ]
    }
   ],
   "source": [
    "!ls ../temp/"
   ]
  }
 ],
 "metadata": {
  "kernelspec": {
   "display_name": "Python 3 (ipykernel)",
   "language": "python",
   "name": "python3"
  },
  "language_info": {
   "codemirror_mode": {
    "name": "ipython",
    "version": 3
   },
   "file_extension": ".py",
   "mimetype": "text/x-python",
   "name": "python",
   "nbconvert_exporter": "python",
   "pygments_lexer": "ipython3",
   "version": "3.10.12"
  }
 },
 "nbformat": 4,
 "nbformat_minor": 5
}
