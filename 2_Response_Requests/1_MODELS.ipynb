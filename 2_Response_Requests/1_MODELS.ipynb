{
 "cells": [
  {
   "cell_type": "markdown",
   "id": "676bfcde-0464-47d1-8a8f-68d1ae7eb4e7",
   "metadata": {},
   "source": [
    "<h1 style=\"text-align:center; color:#005bbd; font-size:30px; font-family:Sans-serif; font-style: oblique; text-shadow: 0 0 3px white, 0 0 1px Black;\">EmailStr</h1>"
   ]
  },
  {
   "cell_type": "markdown",
   "id": "1e0712a5-e73a-40db-8fb6-d9c6de76b190",
   "metadata": {},
   "source": [
    "<div style=\"text-align:justify; color:black; font-size:20px; font-family:Sans-serif; font-style: oblique; text-shadow: 0 0 3px white, 0 0 1px black;\">\n",
    "EmailStr FastAPI mein ek data type hai jo email addresses ko validate karne ke liye use hota hai. <br>Yeh pydantic library se aata hai jo data validation aur settings management ke liye use hoti hai. <br><br>EmailStr ensure karta hai ke input ek valid email address ho.</div>\n",
    "\n",
    "\n"
   ]
  },
  {
   "cell_type": "code",
   "execution_count": 15,
   "id": "c58923ad-d717-4ca4-a638-8cca5e23d891",
   "metadata": {
    "tags": []
   },
   "outputs": [],
   "source": [
    "from typing import Annotated\n",
    "\n",
    "import requests\n",
    "import uvicorn\n",
    "from fastapi import Body, FastAPI\n",
    "from nest_asyncio import apply\n",
    "from pydantic import BaseModel"
   ]
  },
  {
   "cell_type": "code",
   "execution_count": 10,
   "id": "c086bd23-1615-4432-ba55-e13bdc38d2de",
   "metadata": {
    "tags": []
   },
   "outputs": [],
   "source": [
    "from pydantic import EmailStr"
   ]
  },
  {
   "cell_type": "code",
   "execution_count": 11,
   "id": "b3664db4-4c03-4ad5-9e21-9abd1a49a18d",
   "metadata": {
    "tags": []
   },
   "outputs": [],
   "source": [
    "class User(BaseModel):\n",
    "    user_name: str\n",
    "    user_email: EmailStr"
   ]
  },
  {
   "cell_type": "code",
   "execution_count": 18,
   "id": "e83c5283-36dd-403a-af92-7e4efccd1648",
   "metadata": {
    "tags": []
   },
   "outputs": [],
   "source": [
    "app = FastAPI()\n",
    "\n",
    "\n",
    "@app.post(\"/index/\")\n",
    "async def user(data: User):\n",
    "    return data\n",
    "\n",
    "\n",
    "if __name__ == \"__main__\":\n",
    "    apply()\n",
    "    uvicorn.run(app, port=4444)"
   ]
  },
  {
   "cell_type": "code",
   "execution_count": 29,
   "id": "a98555ec-aaf5-494f-b91f-e21909fecf72",
   "metadata": {
    "tags": []
   },
   "outputs": [
    {
     "data": {
      "text/plain": [
       "'{\"user_name\":\"mubeen123\",\"user_email\":\"mubeen123@gmail.com\"}'"
      ]
     },
     "execution_count": 29,
     "metadata": {},
     "output_type": "execute_result"
    }
   ],
   "source": [
    "data = {\"user_name\": \"mubeen123\", \"user_email\": \"mubeen123@gmail.com\"}\n",
    "\n",
    "req = requests.post(\"http://127.0.0.1:4444/index/\", json=data)\n",
    "req.content.decode(\"utf-8\")"
   ]
  },
  {
   "cell_type": "markdown",
   "id": "bd866c70-6231-4b55-979a-4e1fa12bb645",
   "metadata": {},
   "source": [
    "<div style=\"text-align:justify; color:black; font-size:20px; font-family:Sans-serif; font-style: oblique; text-shadow: 0 0 3px white, 0 0 1px black;\">\n",
    "    Yaha Galat Format me Email dia ja raha hn\n",
    "</div>\n",
    "\n",
    "\n"
   ]
  },
  {
   "cell_type": "code",
   "execution_count": 31,
   "id": "2f89ecc5-0ff8-4c16-bbef-782723d73030",
   "metadata": {
    "tags": []
   },
   "outputs": [
    {
     "data": {
      "text/plain": [
       "'{\"detail\":[{\"type\":\"value_error\",\"loc\":[\"body\",\"user_email\"],\"msg\":\"value is not a valid email address: The email address is not valid. It must have exactly one @-sign.\",\"input\":\"mubeengmail.com\",\"ctx\":{\"reason\":\"The email address is not valid. It must have exactly one @-sign.\"}}]}'"
      ]
     },
     "execution_count": 31,
     "metadata": {},
     "output_type": "execute_result"
    }
   ],
   "source": [
    "data = {\"user_name\": \"mubeen123\", \"user_email\": \"mubeengmail.com\"}\n",
    "\n",
    "req = requests.post(\"http://127.0.0.1:4444/index/\", json=data)\n",
    "req.content.decode(\"utf-8\")"
   ]
  },
  {
   "cell_type": "markdown",
   "id": "4fe60833-08b0-41d0-81fc-4096d2480014",
   "metadata": {},
   "source": [
    "<h1 style=\"text-align:center; color:#005bbd; font-size:30px; font-family:Sans-serif; font-style: oblique; text-shadow: 0 0 3px white, 0 0 1px Black;\">Example 2</h1>"
   ]
  },
  {
   "cell_type": "code",
   "execution_count": null,
   "id": "10faf72e-7469-4741-812c-ee89f7d22118",
   "metadata": {},
   "outputs": [],
   "source": [
    "app = FastAPI()\n",
    "\n",
    "\n",
    "class User(BaseModel):\n",
    "    username: str\n",
    "    email: EmailStr\n",
    "    password: str\n",
    "\n",
    "\n",
    "class read_User(BaseModel):\n",
    "    username: str\n",
    "    email: EmailStr\n",
    "\n",
    "\n",
    "@app.post(\"/create_user/\", response_model=read_User)\n",
    "async def user(data: User):\n",
    "    return data\n",
    "\n",
    "\n",
    "if __name__ == \"__main__\":\n",
    "    apply()\n",
    "    uvicorn.run(app, port=4444)"
   ]
  },
  {
   "cell_type": "code",
   "execution_count": 33,
   "id": "34574623-2273-4ccd-a303-7d6e02048137",
   "metadata": {
    "tags": []
   },
   "outputs": [
    {
     "data": {
      "text/plain": [
       "'{\"username\":\"mubeen123\",\"email\":\"mubeen123@gmail.com\"}'"
      ]
     },
     "execution_count": 33,
     "metadata": {},
     "output_type": "execute_result"
    }
   ],
   "source": [
    "data = {\"username\": \"mubeen123\", \"email\": \"mubeen123@gmail.com\", \"password\": \"12345\"}\n",
    "\n",
    "req = requests.post(\"http://127.0.0.1:4444/create_user/\", json=data)\n",
    "req.content.decode(\"utf-8\")"
   ]
  },
  {
   "cell_type": "markdown",
   "id": "31042e65-9302-4002-bdd4-a2973939e420",
   "metadata": {},
   "source": [
    "<div style=\"text-align:justify; color:black; font-size:20px; font-family:Sans-serif; font-style: oblique; text-shadow: 0 0 3px white, 0 0 1px black;\">\n",
    "    Yaha response_model ka use kr ky Password info hide ki gai hn\n",
    "</div>\n",
    "\n",
    "\n"
   ]
  },
  {
   "cell_type": "markdown",
   "id": "0ca7fe68-52af-49a1-9cd7-1287a552f227",
   "metadata": {},
   "source": [
    "<h1 style=\"text-align:center; color:#005bbd; font-size:30px; font-family:Sans-serif; font-style: oblique; text-shadow: 0 0 3px white, 0 0 1px Black;\">Create User and Login Example and Store Data</h1>"
   ]
  },
  {
   "cell_type": "code",
   "execution_count": 218,
   "id": "a335886d-1e0c-42c5-ba76-3aabf10078ff",
   "metadata": {
    "tags": []
   },
   "outputs": [],
   "source": [
    "app = FastAPI()\n",
    "\n",
    "fake_db = {}\n",
    "\n",
    "class User(BaseModel):\n",
    "    username: str\n",
    "    fullname: str\n",
    "    email: EmailStr\n",
    "    password: str\n",
    "\n",
    "class User_Login(BaseModel):\n",
    "    username: str\n",
    "    password: str\n",
    "    \n",
    "    \n",
    "def hash_password(password: str) -> str:\n",
    "    hash_object = hashlib.sha256(password.encode())\n",
    "    return hash_object.hexdigest()\n",
    "\n",
    "# ------------ create user -----------------------------\n",
    "@app.post('/create_user/')\n",
    "async def create_user(data: User):\n",
    "    if data.username in fake_db:\n",
    "        return {\"message\": f\"User {data.username} already exists.\"}\n",
    "    \n",
    "    hashed_password = hash_password(data.password)\n",
    "    user_info = data.dict()\n",
    "    user_info['password'] = hashed_password\n",
    "    fake_db[data.username] = user_info\n",
    "    \n",
    "    return {\"message\": \"User created successfully.\"}\n",
    "# ----------------------------------------------------\n",
    "\n",
    "# ------------ login user -----------------------------\n",
    "@app.post('/login/')\n",
    "async def login(data: User_Login):\n",
    "    if data.username not in fake_db:\n",
    "        return {\"message\": f\"User {data.username} are not exists. plz create a account\"}\n",
    "    \n",
    "    stored_password = fake_db[data.username].get('password')\n",
    "    if stored_password != hash_password(data.password):\n",
    "        return {\"message\": f\"incorect Password\"}\n",
    "    \n",
    "    return {\"message\": f\"Welcome {fake_db[data.username]['fullname']}\"}\n",
    "# ----------------------------------------------------\n",
    "\n",
    "\n",
    "# ------------ all users -----------------------------\n",
    "\n",
    "@app.get(\"/users/\")\n",
    "async def users():\n",
    "    tmp = fake_db.copy()\n",
    "    for user_info in tmp.values():\n",
    "        user_info.pop(\"password\", None)\n",
    "    return tmp\n",
    "# ----------------------------------------------------\n",
    "\n",
    "\n",
    "\n",
    "if __name__ == \"__main__\":\n",
    "    apply()\n",
    "    uvicorn.run(app, port=4444)"
   ]
  },
  {
   "cell_type": "markdown",
   "id": "4f55fcff-64b6-417f-97c1-83131b01a747",
   "metadata": {},
   "source": [
    "<div style=\"text-align:justify; color:black; font-size:20px; font-family:Sans-serif; font-style: oblique; text-shadow: 0 0 3px white, 0 0 1px black;\">\n",
    "Create A User</div>\n",
    "\n",
    "\n"
   ]
  },
  {
   "cell_type": "code",
   "execution_count": 256,
   "id": "3a5abffd-db24-4fd4-b3ab-dc3ed730ddd1",
   "metadata": {
    "tags": []
   },
   "outputs": [
    {
     "data": {
      "text/plain": [
       "'{\"message\":\"User created successfully.\"}'"
      ]
     },
     "execution_count": 256,
     "metadata": {},
     "output_type": "execute_result"
    }
   ],
   "source": [
    "data = {\n",
    "    \"username\": \"mubeen123\",\n",
    "    \"email\": \"mubeen123@gmail.com\", \n",
    "    \"password\": \"12345\",\n",
    "    \"fullname\":'Mubeen'\n",
    "\n",
    "}\n",
    "req = requests.post(\"http://127.0.0.1:4444/create_user/\", json=data)\n",
    "req.content.decode(\"utf-8\")"
   ]
  },
  {
   "cell_type": "markdown",
   "id": "cda21d38-3acc-4cef-bb73-ecfcb09e5925",
   "metadata": {},
   "source": [
    "<div style=\"text-align:justify; color:black; font-size:20px; font-family:Sans-serif; font-style: oblique; text-shadow: 0 0 3px white, 0 0 1px black;\">\n",
    "Login User</div>\n",
    "\n",
    "\n"
   ]
  },
  {
   "cell_type": "code",
   "execution_count": 257,
   "id": "3511f5b3-09e1-4ef1-baa9-55a394af9b23",
   "metadata": {
    "tags": []
   },
   "outputs": [
    {
     "data": {
      "text/plain": [
       "'{\"message\":\"Welcome Mubeen\"}'"
      ]
     },
     "execution_count": 257,
     "metadata": {},
     "output_type": "execute_result"
    }
   ],
   "source": [
    "data = {\"username\": \"mubeen123\", \"password\": \"12345\"}\n",
    "\n",
    "req = requests.post(\"http://127.0.0.1:4444/login/\", json=data)\n",
    "req.content.decode(\"utf-8\")"
   ]
  },
  {
   "cell_type": "markdown",
   "id": "dd09f91b-01fc-4319-8bf7-b68cbd643072",
   "metadata": {},
   "source": [
    "<div style=\"text-align:justify; color:black; font-size:20px; font-family:Sans-serif; font-style: oblique; text-shadow: 0 0 3px white, 0 0 1px black;\">\n",
    "Incorrect Password</div>\n",
    "\n",
    "\n"
   ]
  },
  {
   "cell_type": "code",
   "execution_count": 259,
   "id": "1f6698da-5408-4299-889b-3d37cb45e2a1",
   "metadata": {
    "tags": []
   },
   "outputs": [
    {
     "data": {
      "text/plain": [
       "'{\"message\":\"incorect Password\"}'"
      ]
     },
     "execution_count": 259,
     "metadata": {},
     "output_type": "execute_result"
    }
   ],
   "source": [
    "data = {\"username\": \"mubeen123\", \"password\": \"5688\"}\n",
    "\n",
    "req = requests.post(\"http://127.0.0.1:4444/login/\", json=data)\n",
    "req.content.decode(\"utf-8\")"
   ]
  },
  {
   "cell_type": "markdown",
   "id": "cfe41afb-a598-490e-b5de-5bbf8fa5a25a",
   "metadata": {},
   "source": [
    "<div style=\"text-align:justify; color:black; font-size:20px; font-family:Sans-serif; font-style: oblique; text-shadow: 0 0 3px white, 0 0 1px black;\">\n",
    "Invalid username</div>\n",
    "\n",
    "\n"
   ]
  },
  {
   "cell_type": "code",
   "execution_count": 263,
   "id": "627513ef-d2d9-4e45-b9e1-2df2870c127a",
   "metadata": {
    "tags": []
   },
   "outputs": [
    {
     "data": {
      "text/plain": [
       "'{\"message\":\"User ali123 are not exists. plz create a account\"}'"
      ]
     },
     "execution_count": 263,
     "metadata": {},
     "output_type": "execute_result"
    }
   ],
   "source": [
    "data = {\"username\": \"ali123\", \"password\": \"12345\"}\n",
    "\n",
    "req = requests.post(\"http://127.0.0.1:4444/login/\", json=data)\n",
    "req.content.decode(\"utf-8\")"
   ]
  },
  {
   "cell_type": "markdown",
   "id": "7aaa82fb-545b-47fe-b719-eceeeb69a231",
   "metadata": {},
   "source": [
    "<div style=\"text-align:justify; color:black; font-size:20px; font-family:Sans-serif; font-style: oblique; text-shadow: 0 0 3px white, 0 0 1px black;\">\n",
    "Create another account</div>\n",
    "\n",
    "\n"
   ]
  },
  {
   "cell_type": "code",
   "execution_count": 264,
   "id": "90e6378e-4982-4b5e-8eee-f38f4474b907",
   "metadata": {
    "tags": []
   },
   "outputs": [
    {
     "data": {
      "text/plain": [
       "'{\"message\":\"User created successfully.\"}'"
      ]
     },
     "execution_count": 264,
     "metadata": {},
     "output_type": "execute_result"
    }
   ],
   "source": [
    "data = {\n",
    "    \"username\": \"ali332\",\n",
    "    \"email\": \"ali332@gmail.com\", \n",
    "    \"password\": \"66875\",\n",
    "    \"fullname\":'Ali'\n",
    "\n",
    "}\n",
    "req = requests.post(\"http://127.0.0.1:4444/create_user/\", json=data)\n",
    "req.content.decode(\"utf-8\")"
   ]
  },
  {
   "cell_type": "markdown",
   "id": "47e8a03e-930d-4ee5-9562-1a96fc5b29ec",
   "metadata": {},
   "source": [
    "<div style=\"text-align:justify; color:black; font-size:20px; font-family:Sans-serif; font-style: oblique; text-shadow: 0 0 3px white, 0 0 1px black;\">\n",
    "Show all users</div>\n",
    "\n",
    "\n"
   ]
  },
  {
   "cell_type": "code",
   "execution_count": 269,
   "id": "b2e05110-7d06-4f41-a4fb-cf0ae68fd4cd",
   "metadata": {
    "tags": []
   },
   "outputs": [
    {
     "name": "stdout",
     "output_type": "stream",
     "text": [
      "{'username': 'mubeen123', 'fullname': 'Mubeen', 'email': 'mubeen123@gmail.com'}\n",
      "{'username': 'ali332', 'fullname': 'Ali', 'email': 'ali332@gmail.com'}\n"
     ]
    }
   ],
   "source": [
    "req = requests.get(\"http://127.0.0.1:4444/users/\")\n",
    "\n",
    "json_data = json.loads(req.content.decode(\"utf-8\")).items()\n",
    "for k,v in json_data:\n",
    "    print(v)"
   ]
  }
 ],
 "metadata": {
  "kernelspec": {
   "display_name": "Python 3 (ipykernel)",
   "language": "python",
   "name": "python3"
  },
  "language_info": {
   "codemirror_mode": {
    "name": "ipython",
    "version": 3
   },
   "file_extension": ".py",
   "mimetype": "text/x-python",
   "name": "python",
   "nbconvert_exporter": "python",
   "pygments_lexer": "ipython3",
   "version": "3.10.12"
  }
 },
 "nbformat": 4,
 "nbformat_minor": 5
}
