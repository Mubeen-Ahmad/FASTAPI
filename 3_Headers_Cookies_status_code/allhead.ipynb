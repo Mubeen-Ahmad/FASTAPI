{
 "cells": [
  {
   "cell_type": "markdown",
   "id": "8dfb3c97-5423-4c1b-bbb2-0f525b94b225",
   "metadata": {},
   "source": [
    "Headers ka roadmap samajhne ke liye, hum inhe vishay ke anusar divide kar sakte hain:\n",
    "\n",
    "1. **General Headers**\n",
    "   - Host\n",
    "   - User-Agent\n",
    "   - Date\n",
    "   - Via\n",
    "   - Connection\n",
    "\n",
    "2. **Request Headers**\n",
    "   - Accept\n",
    "   - Accept-Encoding\n",
    "   - Accept-Language\n",
    "   - Authorization\n",
    "   - Referer\n",
    "   - Origin\n",
    "   - Cookie\n",
    "\n",
    "3. **Response Headers**\n",
    "   - Server\n",
    "   - Age\n",
    "   - Location\n",
    "   - Retry-After\n",
    "   - Set-Cookie\n",
    "\n",
    "4. **Entity Headers**\n",
    "   - Allow\n",
    "   - Content-Type\n",
    "   - Content-Encoding\n",
    "   - Content-Length\n",
    "   - Content-Language\n",
    "\n",
    "5. **Caching Headers**\n",
    "   - ETag\n",
    "   - Expires\n",
    "   - Cache-Control\n",
    "   - Last-Modified\n",
    "\n",
    "6. **Security Headers**\n",
    "   - X-XSS-Protection\n",
    "   - X-Frame-Options\n",
    "   - Strict-Transport-Security\n",
    "   - X-Content-Type-Options\n",
    "\n",
    "7. **Proxy & Connection Headers**\n",
    "   - Via\n",
    "   - X-Forwarded-For\n",
    "   - X-Forwarded-Host\n",
    "   - X-Forwarded-Proto\n",
    "\n",
    "Ek complete roadmap ke liye, aap inn cheezon par dhyaan de sakte ho:\n",
    "\n",
    "**Step 1: General & Request Headers**\n",
    "- Seekhiye aam headers ka use, jaise Host, User-Agent, Origin, Referer, etc.\n",
    "\n",
    "**Step 2: Response Headers** \n",
    "- Response headers seekhiye jaisi Server, Location, Retry-After, etc.\n",
    "\n",
    "**Step 3: Content Negotiation**\n",
    "- Accept, Content-Type, Content-Encoding and Content-Language headers seekhiye.\n",
    "\n",
    "**Step 4: Caching**\n",
    "- Cache-Control, ETag, Expires, aur Last-Modified headers se related caching mechanisms seekhiye.\n",
    "\n",
    "**Step 5: Security Headers**\n",
    "- XSS, Clickjacking, MIME Sniffing se bachne ke liye security headers jaisi X-XSS-Protection, X-Frame-Options seekhiye.\n",
    "\n",
    "**Step 6: Proxy & Connection**\n",
    "- Via, X-Forwarded-For, jaise proxy aur connection related headers seekhiye.\n",
    "\n",
    "**Step 7: Custom Headers**\n",
    "- Custom headers design, parse aur use karna seekhiye.\n",
    "\n",
    "**Step 8: Header Security**\n",
    "- Header injection, header spoofing jaise attacks aur unse kaise bachna hai, seekhiye.\n",
    "\n",
    "Ek-ek karke headers aur unke use cases ko samajhne se aapko sampoorn knowledge mil jayegi. Headers web requests aur responses ke liye critical hai, isliye inhe dhyaan se seekhna important hai."
   ]
  },
  {
   "cell_type": "code",
   "execution_count": 1,
   "id": "bcee31ed-384d-4dd0-8144-97af9ac664a6",
   "metadata": {
    "tags": []
   },
   "outputs": [],
   "source": [
    "import requests\n",
    "from nest_asyncio import apply\n",
    "import uvicorn\n",
    "from fastapi import FastAPI, Header,Request,Response\n"
   ]
  },
  {
   "cell_type": "code",
   "execution_count": null,
   "id": "2b1e0ba0-61fa-42bf-96db-77dffe86158a",
   "metadata": {
    "tags": []
   },
   "outputs": [
    {
     "name": "stderr",
     "output_type": "stream",
     "text": [
      "INFO:     Started server process [52009]\n",
      "INFO:     Waiting for application startup.\n",
      "INFO:     Application startup complete.\n",
      "INFO:     Uvicorn running on http://127.0.0.1:4444 (Press CTRL+C to quit)\n"
     ]
    },
    {
     "name": "stdout",
     "output_type": "stream",
     "text": [
      "INFO:     127.0.0.1:36896 - \"GET /no_cache HTTP/1.1\" 200 OK\n",
      "INFO:     127.0.0.1:37656 - \"GET /cache HTTP/1.1\" 200 OK\n",
      "INFO:     127.0.0.1:40552 - \"GET /cache HTTP/1.1\" 200 OK\n",
      "INFO:     127.0.0.1:55484 - \"GET /no_cache HTTP/1.1\" 200 OK\n",
      "INFO:     127.0.0.1:42926 - \"GET /cache HTTP/1.1\" 200 OK\n",
      "INFO:     127.0.0.1:59116 - \"GET /no_cache HTTP/1.1\" 200 OK\n",
      "INFO:     127.0.0.1:59116 - \"GET /no_cache HTTP/1.1\" 200 OK\n",
      "INFO:     127.0.0.1:59116 - \"GET /no_cache HTTP/1.1\" 200 OK\n",
      "INFO:     127.0.0.1:59116 - \"GET /no_cache HTTP/1.1\" 200 OK\n",
      "INFO:     127.0.0.1:42022 - \"GET /no_cache HTTP/1.1\" 200 OK\n",
      "INFO:     127.0.0.1:42022 - \"GET /no_cache HTTP/1.1\" 200 OK\n",
      "INFO:     127.0.0.1:42022 - \"GET /no_cache HTTP/1.1\" 200 OK\n",
      "INFO:     127.0.0.1:52392 - \"GET /no_cache HTTP/1.1\" 200 OK\n"
     ]
    }
   ],
   "source": [
    "app = FastAPI()\n",
    "\n",
    "@app.get(\"/cache\")\n",
    "def cache():\n",
    "    headers = {\"Cache-Control\": \"public, max-age=3600\"}  \n",
    "    # Cache for 1 hour\n",
    "    return Response(content=\"This response can be cached by the client for 1 hour\", headers=headers)\n",
    "\n",
    "@app.get(\"/no_cache\")\n",
    "def no_cache():\n",
    "    headers = {\"Cache-Control\": \"no-store\"}\n",
    "    return Response(content=\"This response can be cached\", headers=headers)\n",
    "\n",
    "\n",
    "if __name__ == \"__main__\":\n",
    "    apply()\n",
    "    uvicorn.run(app,port=4444) "
   ]
  }
 ],
 "metadata": {
  "kernelspec": {
   "display_name": "Python 3 (ipykernel)",
   "language": "python",
   "name": "python3"
  },
  "language_info": {
   "codemirror_mode": {
    "name": "ipython",
    "version": 3
   },
   "file_extension": ".py",
   "mimetype": "text/x-python",
   "name": "python",
   "nbconvert_exporter": "python",
   "pygments_lexer": "ipython3",
   "version": "3.10.12"
  }
 },
 "nbformat": 4,
 "nbformat_minor": 5
}
