{
 "cells": [
  {
   "cell_type": "markdown",
   "id": "c565119a-46b3-4553-849f-749ed7ce56c3",
   "metadata": {},
   "source": [
    "<h1 style=\"text-align:center; color:#005bbd; font-size:30px; font-family:Sans-serif; font-style: oblique; text-shadow: 0 0 3px white, 0 0 1px Black;\">Headers</h1>"
   ]
  },
  {
   "cell_type": "markdown",
   "id": "c763aea9-9237-43a9-b903-bb306b244c0c",
   "metadata": {},
   "source": [
    "\n",
    "<div style=\"text-align:justify; color:black; font-size:20px; font-family:Sans-serif; font-style: oblique; text-shadow: 0 0 3px white, 0 0 1px black;\">\n",
    "Headers ek HTTP request ya response mein important metadata hote hain.<br>\n",
    "<ul>    \n",
    "Jab bhi hum kisi website par jaate hain ya koi API request bhejte hain, <br>toh hamara browser ya client ek HTTP request bhejta hai server par. <br><br>Isi tarah, server bhi hume jawab HTTP response ke roop mein bhejta hai.</div>\n"
   ]
  },
  {
   "cell_type": "markdown",
   "id": "6835868d-d15c-42f5-a7cd-9f862d36184c",
   "metadata": {},
   "source": [
    "<h1 style=\"text-align:center; color:#005bbd; font-size:30px; font-family:Sans-serif; font-style: oblique; text-shadow: 0 0 3px white, 0 0 1px Black;\">General Headers</h1>"
   ]
  },
  {
   "cell_type": "markdown",
   "id": "985cc138-94e9-4eaf-a80f-f4ff92de8bf9",
   "metadata": {},
   "source": [
    "<div style=\"text-align:justify; color:black; font-size:20px; font-family:Sans-serif; font-style: oblique; text-shadow: 0 0 3px white, 0 0 1px black;\">\n",
    "General Headers woh headers hote hain jo request/response ke overall transmission aur handling se related metadata provide karte hain.<br>Ye request/response ke actual content/body se directly related nahi hote.</div>\n",
    "\n"
   ]
  },
  {
   "cell_type": "markdown",
   "id": "8cfeae14-a36f-4932-bd06-a985e55a7f31",
   "metadata": {},
   "source": [
    " <div style=\"text-align:justify; color:black; font-size:20px; font-family:Sans-serif; font-style: oblique; text-shadow: 0 0 3px white, 0 0 1px black;\">   \n",
    "     <h1 style=\"text-align:left; color:brown; font-size:25px; font-family:Sans-serif; font-style: oblique; text-shadow: 0 0 3px white, 0 0 1px Black;\">Host</h1>\n",
    "    <ul>\n",
    "        <li>Ye header batata hai ki HTTP request kis host (domain naam) ke liye hai.</li>\n",
    "        <li>Host Header Sy Server ko pata chalta hai ki konsi website ke liye request hai,<br>kyunki ek server par kai websites host ho sakti hain.</li>\n",
    "    </ul>\n",
    "\n",
    "</div>"
   ]
  },
  {
   "cell_type": "code",
   "execution_count": 3,
   "id": "120e0ae4-311f-4b56-aa91-d4f41b4c7cf9",
   "metadata": {
    "tags": []
   },
   "outputs": [],
   "source": [
    "import requests\n",
    "from nest_asyncio import apply\n",
    "import uvicorn"
   ]
  },
  {
   "cell_type": "code",
   "execution_count": 4,
   "id": "7f9876c6-dff8-49c4-a1d9-4155713f0fb8",
   "metadata": {
    "tags": []
   },
   "outputs": [],
   "source": [
    "from fastapi import FastAPI, Header"
   ]
  },
  {
   "cell_type": "code",
   "execution_count": 4,
   "id": "580b6a1f-81f5-424a-819a-d85f5e613b63",
   "metadata": {
    "tags": []
   },
   "outputs": [],
   "source": [
    "app = FastAPI()\n",
    "\n",
    "@app.get(\"/\")\n",
    "def read_host(host: str = Header()):\n",
    "    return {\"Host\": host}\n",
    "\n",
    "if __name__ == \"__main__\":\n",
    "    apply()\n",
    "    uvicorn.run(app,port=4444)   "
   ]
  },
  {
   "cell_type": "code",
   "execution_count": 7,
   "id": "eb246e1d-3103-4a5a-a6ac-5b7e6ac97b1d",
   "metadata": {
    "tags": []
   },
   "outputs": [
    {
     "name": "stdout",
     "output_type": "stream",
     "text": [
      "{\"Host\":\"127.0.0.1:4444\"}\n"
     ]
    }
   ],
   "source": [
    "res = requests.get('http://127.0.0.1:4444')\n",
    "print(res.content.decode('utf-8'))"
   ]
  },
  {
   "cell_type": "markdown",
   "id": "11c5a2b5-f342-4534-aded-142bd66a6ece",
   "metadata": {},
   "source": [
    " <div style=\"text-align:justify; color:black; font-size:20px; font-family:Sans-serif; font-style: oblique; text-shadow: 0 0 3px white, 0 0 1px black;\">   \n",
    "     <h1 style=\"text-align:left; color:brown; font-size:25px; font-family:Sans-serif; font-style: oblique; text-shadow: 0 0 3px white, 0 0 1px Black;\">user-agent</h1>\n",
    "    <ul>\n",
    "        <li>Ye header batata hai ki request kaunse client/browser se aa rahi hai.</li>\n",
    "        <li>Is sy Server ko pata chalta hai ki kaun sa browser request kar raha hai, <br>taaki vo us browser ky hisaab sy content optimize kar sake.</li>\n",
    "    </ul>\n",
    "\n",
    "</div>"
   ]
  },
  {
   "cell_type": "code",
   "execution_count": null,
   "id": "1a61709d-fed3-4a6e-a86a-0228068f4b3d",
   "metadata": {},
   "outputs": [],
   "source": [
    "app = FastAPI()\n",
    "\n",
    "@app.get(\"/\")\n",
    "def read_host(user_agent: str = Header()):\n",
    "    return {\"user_agent\": user_agent}\n",
    "\n",
    "if __name__ == \"__main__\":\n",
    "    apply()\n",
    "    uvicorn.run(app,port=4444)   "
   ]
  },
  {
   "cell_type": "code",
   "execution_count": 29,
   "id": "fdb72074-99af-49fe-a35a-d3843b771355",
   "metadata": {
    "tags": []
   },
   "outputs": [
    {
     "name": "stdout",
     "output_type": "stream",
     "text": [
      "{\"user_agent\":\"python-requests/2.28.2\"}\n"
     ]
    }
   ],
   "source": [
    "res = requests.get('http://127.0.0.1:4444')\n",
    "print(res.content.decode('utf-8'))"
   ]
  },
  {
   "cell_type": "markdown",
   "id": "31d708f3-864e-448a-9356-e821d6640c57",
   "metadata": {},
   "source": [
    "<div style=\"text-align:justify; color:black; font-size:20px; font-family:Sans-serif; font-style: oblique; text-shadow: 0 0 3px white, 0 0 1px black;\">change user-agent in request</div>"
   ]
  },
  {
   "cell_type": "code",
   "execution_count": 12,
   "id": "89335ab0-7f18-4200-b6cc-2654f0bf6225",
   "metadata": {
    "tags": []
   },
   "outputs": [
    {
     "name": "stdout",
     "output_type": "stream",
     "text": [
      "{\"user_agent\":\"Mozilla/5.0 (X11; Linux x86_64; rv:109.0) Gecko/20100101 Firefox/117.0\"}\n"
     ]
    }
   ],
   "source": [
    "header = {\n",
    "    'user-agent' : \"Mozilla/5.0 (X11; Linux x86_64; rv:109.0) Gecko/20100101 Firefox/117.0\"\n",
    "}\n",
    "\n",
    "res = requests.get('http://127.0.0.1:4444',headers=header)\n",
    "print(res.content.decode('utf-8'))"
   ]
  },
  {
   "cell_type": "markdown",
   "id": "fda7c8db-a05c-4fc8-8014-d6c6bc4f34c0",
   "metadata": {},
   "source": [
    " <div style=\"text-align:justify; color:black; font-size:20px; font-family:Sans-serif; font-style: oblique; text-shadow: 0 0 3px white, 0 0 1px black;\">   \n",
    "     <h1 style=\"text-align:left; color:brown; font-size:25px; font-family:Sans-serif; font-style: oblique; text-shadow: 0 0 3px white, 0 0 1px Black;\">Date</h1>\n",
    "    <ul>\n",
    "        <li>Ye header batata hai ki request kab bheja gaya tha.</li>\n",
    "        <li>Ye server ko request timing ki information deta hai, aur caching ke liye bhi useful hai.</li>\n",
    "        <li>Note For Security Reason ki waja sy Date Header remove kr di gia hn <br><br>\n",
    "    But Response ka use kr ky Custom Header set kr sakhty hn</li>\n",
    "    </ul>\n",
    "\n",
    "</div>"
   ]
  },
  {
   "cell_type": "code",
   "execution_count": 5,
   "id": "03fb2bb8-556f-40de-a257-78603c5bb5a8",
   "metadata": {
    "tags": []
   },
   "outputs": [],
   "source": [
    "from fastapi import Response"
   ]
  },
  {
   "cell_type": "code",
   "execution_count": 25,
   "id": "82b5242b-bb93-4028-b258-c172862fb2a9",
   "metadata": {
    "tags": []
   },
   "outputs": [],
   "source": [
    "from datetime import datetime\n",
    "\n",
    "app = FastAPI()\n",
    "@app.get(\"/request-time\")\n",
    "\n",
    "def get_request_time(response: Response):\n",
    "    \n",
    "    response.headers[\"Server_Date\"] = datetime.utcnow().strftime('%a, %d %b %Y %H:%M:%S GMT')\n",
    "    \n",
    "    return {\"Request Time\": response.headers.get('Server_Date')}\n",
    "\n",
    "if __name__ == \"__main__\":\n",
    "    apply()\n",
    "    uvicorn.run(app,port=4444)   "
   ]
  },
  {
   "cell_type": "code",
   "execution_count": 42,
   "id": "94839169-c9b7-4d42-9fa6-fc5da34a0269",
   "metadata": {
    "tags": []
   },
   "outputs": [
    {
     "name": "stdout",
     "output_type": "stream",
     "text": [
      "{\"Request Time\":\"Tue, 04 Jun 2024 17:56:41 GMT\"}\n"
     ]
    }
   ],
   "source": [
    "res = requests.get('http://127.0.0.1:4444/request-time')\n",
    "print(res.content.decode('utf-8'))"
   ]
  },
  {
   "cell_type": "markdown",
   "id": "4d1315fa-3722-4d53-bc08-ee716275532c",
   "metadata": {},
   "source": [
    "<div style=\"text-align:justify; color:black; font-size:20px; font-family:Sans-serif; font-style: oblique; text-shadow: 0 0 3px white, 0 0 1px black;\">yaha 2 Headers hn date wala time Request wala hn <br>\n",
    "    Aur server_data wala custom header hy ye wo time hn jab request server ky pass gai hn\n",
    "</div>"
   ]
  },
  {
   "cell_type": "code",
   "execution_count": 46,
   "id": "b86db818-ef58-48ab-9708-d9c583ec5de0",
   "metadata": {
    "tags": []
   },
   "outputs": [
    {
     "data": {
      "text/plain": [
       "{'date': 'Tue, 04 Jun 2024 17:56:40 GMT', 'server': 'uvicorn', 'content-length': '48', 'content-type': 'application/json', 'server_date': 'Tue, 04 Jun 2024 17:56:41 GMT'}"
      ]
     },
     "execution_count": 46,
     "metadata": {},
     "output_type": "execute_result"
    }
   ],
   "source": [
    "res.headers"
   ]
  },
  {
   "cell_type": "code",
   "execution_count": null,
   "id": "a63d90a5-d0aa-49c0-9dd7-f3ce6e321923",
   "metadata": {},
   "outputs": [],
   "source": [
    "app = FastAPI()\n",
    "\n",
    "@app.get(\"/connection\")\n",
    "def get_via_headers(age: str = Response()):\n",
    "    return {\"connection\": age}\n",
    "\n",
    "if __name__ == \"__main__\":\n",
    "    apply()\n",
    "    uvicorn.run(app,port=4444) "
   ]
  },
  {
   "cell_type": "markdown",
   "id": "cf27ab50-566b-4691-a574-9800fe4c2898",
   "metadata": {},
   "source": [
    " <div style=\"text-align:justify; color:black; font-size:20px; font-family:Sans-serif; font-style: oblique; text-shadow: 0 0 3px white, 0 0 1px black;\">   \n",
    "     <h1 style=\"text-align:left; color:brown; font-size:25px; font-family:Sans-serif; font-style: oblique; text-shadow: 0 0 3px white, 0 0 1px Black;\">connection</h1>\n",
    "    <ul>\n",
    "        <li>Ye header batata hai ki client/server kya connection behaviour chahta hai.</li>\n",
    "        <li>is sy Server ko pata chalta hai ki kya connection ko banaye rakhna hai ya band kar dena hai </li>\n",
    "            <li>resource optimize karne mein madad milti hai.</li>\n",
    "    </ul>\n",
    "\n",
    "</div>"
   ]
  },
  {
   "cell_type": "code",
   "execution_count": 73,
   "id": "7389873d-7e25-4c2b-9c0d-92583d665809",
   "metadata": {
    "tags": []
   },
   "outputs": [
    {
     "name": "stdout",
     "output_type": "stream",
     "text": [
      "{\"connection\":\"keep-alive\"}\n"
     ]
    }
   ],
   "source": [
    "res = requests.get('http://127.0.0.1:4444/connection')\n",
    "print(res.content.decode('utf-8'))"
   ]
  },
  {
   "cell_type": "markdown",
   "id": "c5141e69-e741-4668-b00f-2ce8adec1b50",
   "metadata": {
    "tags": []
   },
   "source": [
    " <div style=\"text-align:justify; color:black; font-size:20px; font-family:Sans-serif; font-style: oblique; text-shadow: 0 0 3px white, 0 0 1px black;\">   \n",
    "     <h1 style=\"text-align:left; color:brown; font-size:25px; font-family:Sans-serif; font-style: oblique; text-shadow: 0 0 3px white, 0 0 1px Black;\">Cache-Control</h1>\n",
    "    <ul>\n",
    "        <li>Ye Caching ko control karne ke liye use hota hai</li>\n",
    "        <li>Server ka  load kam karny aur Performance imporve kai liye useful hn</li>\n",
    "            <li>Agar aap chahte hain ke reponse ko cache na kiya jaye to Cache-Control ka use kr sakhty hain</li><br>\n",
    "<ul><li>Values</li>\n",
    "<!----------------------------->\n",
    "    <hr>\n",
    "    <ul><li style=\"color:red;\">public</li>\n",
    "        <ul>Response ko kisi bhi cache (browser, proxy server, etc.) ke through cache kiya ja sakta hai.\n",
    "        <br>Agar aapka content kisi bhi client ke liye accessible hai aur frequently change nahi\n",
    "            hota.</ul>\n",
    "    </ul>\n",
    "    <hr>\n",
    "<!----------------------------->\n",
    "<!----------------------------->\n",
    "    <ul><li style=\"color:red;\">private</li>\n",
    "        <ul>Response sirf individual client ke liye cache kiya ja sakta hai, shared cache (proxy servers) ke\n",
    "            liye nahi.<br>Agar aapka content personalized hai aur sirf specific user ke liye hai.</ul>\n",
    "    </ul>\n",
    "    <hr>\n",
    "<!----------------------------->    \n",
    "<!----------------------------->\n",
    "    <ul><li style=\"color:red;\">no-cache</li>\n",
    "        <ul>Cache ko har baar response serve karne se pehle origin server se validate karna chahiye.\n",
    "        <br>Jab aapko ensure karna ho ke client ke paas latest version ho, lekin aap cache validation allow karte hain</ul>\n",
    "    </ul>\n",
    "<hr>\n",
    "<!----------------------------->    \n",
    "<!----------------------------->\n",
    "    <ul><li style=\"color:red;\">no-store</li>\n",
    "        <ul>Response ko bilkul bhi cache nahi kiya jaana chahiye, na client side na server side.\n",
    "            Highly sensitive data jese payment information jo cache nahi hona chahiye.</ul>\n",
    "    </ul>\n",
    "<hr>\n",
    "<!----------------------------->    \n",
    "<!----------------------------->\n",
    "    <ul><li style=\"color:red;\">max-age=3600  (3600 sec 1 hour)</li>\n",
    "        <ul>Response Specfied Seconds tak cache ho sakhta hn.<br>\n",
    "    Specific time duration ke liye cache karna.</ul>\n",
    "    </ul>\n",
    "<hr>\n",
    "<!----------------------------->\n",
    "<!----------------------------->\n",
    "    <ul><li style=\"color:red;\">s-maxage=3600  (3600 sec 1 hour)</li>\n",
    "        <ul>Response shared caches (proxy servers) ke liye specified seconds tak cache ho sakta hai, lekin individual clients ke liye nahi.<br>\n",
    "    Specific time duration ke liye shared caches ko control karna.</ul>\n",
    "    </ul>\n",
    "<hr>\n",
    "<!-----------------------------> \n",
    "<!----------------------------->\n",
    "    <ul><li style=\"color:red;\">must-revalidate</li>\n",
    "        <ul>Cache ko expired responses ko revalidate karna chahiye origin server ke sath.<br>\n",
    "        Jab aapko ensure karna ho ke expired responses ko bina revalidation ke serve nahi kiya jaye</ul>\n",
    "    </ul>\n",
    "<hr>\n",
    "<!----------------------------->\n",
    "<!----------------------------->\n",
    "    <ul><li style=\"color:red;\">proxy-revalidate</li>\n",
    "        <ul>Shared caches ko expired responses ko revalidate karna chahiye origin server ke sath.<br>\n",
    "            Shared caches ke liye revalidation ensure karna.</ul>\n",
    "    </ul>\n",
    "<hr>\n",
    "<!----------------------------->\n",
    "<!----------------------------->\n",
    "    <ul><li style=\"color:red;\">no-transform</li>\n",
    "        <ul>Cache ko response ko transform nahi karna chahiye (e.g., compress, convert).<br>\n",
    "        Agar aapko ensure karna ho ke response exactly jaisa server se send kiya gaya tha, waisa hi rahe</ul>\n",
    "    </ul>\n",
    "<hr>\n",
    "<!----------------------------->\n",
    "<!----------------------------->\n",
    "    <ul><li style=\"color:red;\">immutable</li>\n",
    "        <ul>Response ko cache ko validate nahi karna chahiye during its lifetime.\n",
    "            <br>Content jo kabhi change nahi hota during its cache lifetime, jaise versioned static assets (e.g., images, scripts).</ul>\n",
    "    </ul>\n",
    "<hr>\n",
    "<!----------------------------->\n",
    "        </ul>\n",
    "    </ul>\n",
    "\n",
    "</div>"
   ]
  },
  {
   "cell_type": "code",
   "execution_count": 22,
   "id": "d991b940-70e9-4526-88e5-4e7005ba6e60",
   "metadata": {
    "tags": []
   },
   "outputs": [],
   "source": [
    "app = FastAPI()\n",
    "\n",
    "# ------------------------------------------------------\n",
    "@app.get(\"/cache\")\n",
    "def cache():\n",
    "    headers = {\"Cache-Control\": \"public, max-age=3600\"}  \n",
    "    # Cache for 1 hour\n",
    "    return Response(content=\"This response can be cached by the client for 1 hour\", headers=headers)\n",
    "# ------------------------------------------------------\n",
    "\n",
    "\n",
    "# ------------------------------------------------------\n",
    "@app.get(\"/no_cache\")\n",
    "def no_cache():\n",
    "    headers = {\"Cache-Control\": \"no-store\"}\n",
    "    return Response(content=\"This response can be cached\", headers=headers)\n",
    "# ------------------------------------------------------\n",
    "\n",
    "\n",
    "if __name__ == \"__main__\":\n",
    "    apply()\n",
    "    uvicorn.run(app,port=4444) "
   ]
  },
  {
   "cell_type": "code",
   "execution_count": 28,
   "id": "96182826-2851-480d-8257-2201aa0ec5de",
   "metadata": {
    "tags": []
   },
   "outputs": [
    {
     "name": "stdout",
     "output_type": "stream",
     "text": [
      "This response can be cached\n",
      "{'date': 'Wed, 05 Jun 2024 08:38:05 GMT', 'server': 'uvicorn', 'cache-control': 'no-store', 'content-length': '27'}\n"
     ]
    }
   ],
   "source": [
    "res = requests.get('http://127.0.0.1:4444/no_cache')\n",
    "print(res.content.decode('utf-8'))\n",
    "print(res.headers)"
   ]
  },
  {
   "cell_type": "code",
   "execution_count": 29,
   "id": "17bd8120-8140-47d9-9463-d8f596d88773",
   "metadata": {
    "tags": []
   },
   "outputs": [
    {
     "name": "stdout",
     "output_type": "stream",
     "text": [
      "This response can be cached by the client for 1 hour\n",
      "{'date': 'Wed, 05 Jun 2024 08:38:13 GMT', 'server': 'uvicorn', 'cache-control': 'public, max-age=3600', 'content-length': '52'}\n"
     ]
    }
   ],
   "source": [
    "res = requests.get('http://127.0.0.1:4444/cache')\n",
    "print(res.content.decode('utf-8'))\n",
    "print(res.headers)"
   ]
  },
  {
   "cell_type": "markdown",
   "id": "7535fdb1-cc44-4e7e-9ed8-324b4efb90f5",
   "metadata": {},
   "source": [
    "<div style=\"text-align:justify; color:black; font-size:20px; font-family:Sans-serif; font-style: oblique; text-shadow: 0 0 3px white, 0 0 1px black;\">Check karny k lye Response Cache sy a raha hy ya server sy<br>\n",
    "cachecontrol library ka use kia ja raha hy\n",
    "</div>"
   ]
  },
  {
   "cell_type": "code",
   "execution_count": 62,
   "id": "edfd6a74-5ce3-4932-9c8b-af2973de4ab8",
   "metadata": {
    "tags": []
   },
   "outputs": [],
   "source": [
    "from cachecontrol import CacheControl\n",
    "from cachecontrol.caches.file_cache import FileCache\n",
    "session = requests.Session()\n",
    "cached_session =  CacheControl(session,cache=FileCache('.web_cache'))"
   ]
  },
  {
   "cell_type": "code",
   "execution_count": 63,
   "id": "55928173-444f-450b-9f53-b96081b23375",
   "metadata": {
    "tags": []
   },
   "outputs": [
    {
     "data": {
      "text/plain": [
       "False"
      ]
     },
     "execution_count": 63,
     "metadata": {},
     "output_type": "execute_result"
    }
   ],
   "source": [
    "response = cached_session.get('http://127.0.0.1:4444/no_cache')\n",
    "response.from_cache"
   ]
  },
  {
   "cell_type": "markdown",
   "id": "918f532a-592c-4dd8-80a4-573a33bf2abf",
   "metadata": {},
   "source": [
    "<div style=\"text-align:justify; color:black; font-size:20px; font-family:Sans-serif; font-style: oblique; text-shadow: 0 0 3px white, 0 0 1px black;\">no_cache ka False a raha hain means ye Server sy response a raha hn\n",
    "</div>"
   ]
  },
  {
   "cell_type": "code",
   "execution_count": 71,
   "id": "f81d380f-8e9f-40f2-9351-e382694332aa",
   "metadata": {
    "tags": []
   },
   "outputs": [
    {
     "data": {
      "text/plain": [
       "True"
      ]
     },
     "execution_count": 71,
     "metadata": {},
     "output_type": "execute_result"
    }
   ],
   "source": [
    "response = cached_session.get('http://127.0.0.1:4444/cache')\n",
    "response.from_cache"
   ]
  },
  {
   "cell_type": "markdown",
   "id": "19b95428-a3fe-41bc-84a6-b0e8839c424b",
   "metadata": {},
   "source": [
    "<div style=\"text-align:justify; color:black; font-size:20px; font-family:Sans-serif; font-style: oblique; text-shadow: 0 0 3px white, 0 0 1px black;\">iska Response Browser me Cache sy a raha hy server sy nahi\n",
    "</div>"
   ]
  },
  {
   "cell_type": "markdown",
   "id": "eac427eb-d8c5-494e-a536-2d66cbe76c28",
   "metadata": {},
   "source": [
    "<hr>\n",
    "<div style=\"text-align:justify; color:black; font-size:20px; font-family:Sans-serif; font-style: oblique; text-shadow: 0 0 3px white, 0 0 1px black;\">\n",
    "    Connection<br>\n",
    "    Content-Length<br>\n",
    "    Transfer-Encoding<br>\n",
    "    Upgrade<br>\n",
    "    Via<br>\n",
    "    Warning<br>\n",
    "    Host<br>\n",
    "    user-agent<br>\n",
    "    date\n",
    "    \n",
    "</div>"
   ]
  }
 ],
 "metadata": {
  "kernelspec": {
   "display_name": "Python 3 (ipykernel)",
   "language": "python",
   "name": "python3"
  },
  "language_info": {
   "codemirror_mode": {
    "name": "ipython",
    "version": 3
   },
   "file_extension": ".py",
   "mimetype": "text/x-python",
   "name": "python",
   "nbconvert_exporter": "python",
   "pygments_lexer": "ipython3",
   "version": "3.10.12"
  }
 },
 "nbformat": 4,
 "nbformat_minor": 5
}
